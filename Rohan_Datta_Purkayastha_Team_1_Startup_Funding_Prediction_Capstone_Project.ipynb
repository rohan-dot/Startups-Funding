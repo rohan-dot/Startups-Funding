{
  "nbformat": 4,
  "nbformat_minor": 0,
  "metadata": {
    "colab": {
      "name": "Rohan Datta Purkayastha - Team 1- Startup Funding Prediction - Capstone Project.ipynb",
      "provenance": [],
      "collapsed_sections": [],
      "include_colab_link": true
    },
    "kernelspec": {
      "display_name": "Python 3",
      "language": "python",
      "name": "python3"
    },
    "language_info": {
      "codemirror_mode": {
        "name": "ipython",
        "version": 3
      },
      "file_extension": ".py",
      "mimetype": "text/x-python",
      "name": "python",
      "nbconvert_exporter": "python",
      "pygments_lexer": "ipython3",
      "version": "3.6.6"
    },
    "accelerator": "TPU"
  },
  "cells": [
    {
      "cell_type": "markdown",
      "metadata": {
        "id": "view-in-github",
        "colab_type": "text"
      },
      "source": [
        "<a href=\"https://colab.research.google.com/github/rohan-dot/Startups-Funding/blob/main/Rohan_Datta_Purkayastha_Team_1_Startup_Funding_Prediction_Capstone_Project.ipynb\" target=\"_parent\"><img src=\"https://colab.research.google.com/assets/colab-badge.svg\" alt=\"Open In Colab\"/></a>"
      ]
    },
    {
      "cell_type": "markdown",
      "metadata": {
        "id": "tOGC-qoyhJeX"
      },
      "source": [
        "# <b><u> Project Title : Predict whether a startup will get funded in the next three months. </u></b>"
      ]
    },
    {
      "cell_type": "markdown",
      "metadata": {
        "id": "Y06xIdG26kRF"
      },
      "source": [
        "## <b> Problem Description </b>\n",
        "\n",
        "### There has been a staggering growth in investments in young age startups in the last 5 years. A lot of big VC firms are increasingly getting interested in the startup funding space. You are given a task to predict whether a startup will get a funding in the next three months using app traction data and startup details. \n",
        "\n",
        "### This funding can be either seed funding, Series A, Series B, so on and so forth. \n"
      ]
    },
    {
      "cell_type": "markdown",
      "metadata": {
        "id": "AlLxAtlziMbP"
      },
      "source": [
        "## <b> Data Description </b>\r\n",
        "\r\n",
        "### In the file, you have monthly data for the startup entities which contains information about various app traction performance.\r\n",
        "\r\n",
        "### <b> In the given data, you have the following variables:\r\n",
        "* ### UUID - Unique Identifier for a single startup entity\r\n",
        "* ### Month - Month for which the app data is available\r\n",
        "* ### Application category - The category to which an application belongs to\r\n",
        "* ### Avg Session Time - Average time of the session in app during the month\r\n",
        "* ### Total Session Time - Avg session time / user x Open rate = Total session time\r\n",
        "* ### Open_rate - No of times app has been opened by a user\r\n",
        "* ### Reach - % of devices having the app installed\r\n",
        "* ### Funding_ind - Indicator for a funded startup\r\n",
        "\r\n",
        "## <b>Following variables are only available for funded startups:</b>\r\n",
        "* ### Business models -  The business model of the startup                            \r\n",
        "* ### City - the city where the startup is based out of\r\n",
        "* ### Company Stage - the stage of the company\r\n",
        "* ### Feed name - \r\n",
        "* ### Founded year - The year in which the startup was founded\r\n",
        "* ### Latest funded date - The latest date in which the startup was funded\r\n",
        "* ### MAU - % of reach which opened the app in the given month( Monthly Active Users)\r\n",
        "* ### Overview - Overview of the startup\r\n",
        "* ### Practice Areas - \r\n",
        "* ### Region - Region where the startup operates\r\n",
        "* ### Total Funding - Total amount of funding till the month\r\n",
        "* ### Uninstall Rate - Rate of uninstall of applications.\r\n",
        "\r\n"
      ]
    },
    {
      "cell_type": "code",
      "metadata": {
        "colab": {
          "base_uri": "https://localhost:8080/"
        },
        "id": "PzO6J1ejf3Bi",
        "outputId": "a8fb5aaa-1259-4c26-d408-f4e005a548a0"
      },
      "source": [
        "from google.colab import drive\n",
        "drive.mount('/content/drive')"
      ],
      "execution_count": 1,
      "outputs": [
        {
          "output_type": "stream",
          "text": [
            "Mounted at /content/drive\n"
          ],
          "name": "stdout"
        }
      ]
    },
    {
      "cell_type": "code",
      "metadata": {
        "id": "9UsEVDJvgQFK"
      },
      "source": [
        "import pandas as pd\r\n",
        "import numpy as np\r\n",
        "import matplotlib.pyplot as plt\r\n",
        "import seaborn as sns"
      ],
      "execution_count": 2,
      "outputs": []
    },
    {
      "cell_type": "code",
      "metadata": {
        "id": "s8X1K_AGf3zq"
      },
      "source": [
        "df = pd.read_csv('/content/drive/MyDrive/Alma Submission/AlmaBetter/Cohort Aravali/Module 5/Week 1/Day 1/data_driven_investment_1.csv')"
      ],
      "execution_count": 3,
      "outputs": []
    },
    {
      "cell_type": "code",
      "metadata": {
        "colab": {
          "base_uri": "https://localhost:8080/",
          "height": 301
        },
        "id": "V3TZWkOfgfw7",
        "outputId": "18b98744-33c3-4a3c-89a5-9ff8e6c038d6"
      },
      "source": [
        "df.head()"
      ],
      "execution_count": 4,
      "outputs": [
        {
          "output_type": "execute_result",
          "data": {
            "text/html": [
              "<div>\n",
              "<style scoped>\n",
              "    .dataframe tbody tr th:only-of-type {\n",
              "        vertical-align: middle;\n",
              "    }\n",
              "\n",
              "    .dataframe tbody tr th {\n",
              "        vertical-align: top;\n",
              "    }\n",
              "\n",
              "    .dataframe thead th {\n",
              "        text-align: right;\n",
              "    }\n",
              "</style>\n",
              "<table border=\"1\" class=\"dataframe\">\n",
              "  <thead>\n",
              "    <tr style=\"text-align: right;\">\n",
              "      <th></th>\n",
              "      <th>UUID</th>\n",
              "      <th>month</th>\n",
              "      <th>Application Category</th>\n",
              "      <th>Avg_Session_Time</th>\n",
              "      <th>Business Models</th>\n",
              "      <th>City</th>\n",
              "      <th>Company Stage</th>\n",
              "      <th>Feed Name</th>\n",
              "      <th>Founded Year</th>\n",
              "      <th>Latest Funded Date</th>\n",
              "      <th>MAU</th>\n",
              "      <th>Open_Rate</th>\n",
              "      <th>Overview</th>\n",
              "      <th>Practice Areas</th>\n",
              "      <th>Reach</th>\n",
              "      <th>Region</th>\n",
              "      <th>Total Funding (USD)</th>\n",
              "      <th>Total_Session_Time</th>\n",
              "      <th>Uninstall_Rate</th>\n",
              "      <th>funding_ind</th>\n",
              "    </tr>\n",
              "  </thead>\n",
              "  <tbody>\n",
              "    <tr>\n",
              "      <th>0</th>\n",
              "      <td>c1ad38e2d357610c129657d870ede902e8abfcb9</td>\n",
              "      <td>20180801</td>\n",
              "      <td>Books &amp; Reference</td>\n",
              "      <td>NaN</td>\n",
              "      <td>NaN</td>\n",
              "      <td>NaN</td>\n",
              "      <td>NaN</td>\n",
              "      <td>NaN</td>\n",
              "      <td>NaN</td>\n",
              "      <td>NaN</td>\n",
              "      <td>NaN</td>\n",
              "      <td>NaN</td>\n",
              "      <td>NaN</td>\n",
              "      <td>NaN</td>\n",
              "      <td>0.042963</td>\n",
              "      <td>National</td>\n",
              "      <td>NaN</td>\n",
              "      <td>NaN</td>\n",
              "      <td>0.024443</td>\n",
              "      <td>0</td>\n",
              "    </tr>\n",
              "    <tr>\n",
              "      <th>1</th>\n",
              "      <td>d841e670d9191f896a0cbc75961920887b375756</td>\n",
              "      <td>20180801</td>\n",
              "      <td>Books &amp; Reference</td>\n",
              "      <td>NaN</td>\n",
              "      <td>NaN</td>\n",
              "      <td>NaN</td>\n",
              "      <td>NaN</td>\n",
              "      <td>NaN</td>\n",
              "      <td>NaN</td>\n",
              "      <td>NaN</td>\n",
              "      <td>NaN</td>\n",
              "      <td>NaN</td>\n",
              "      <td>NaN</td>\n",
              "      <td>NaN</td>\n",
              "      <td>0.003244</td>\n",
              "      <td>National</td>\n",
              "      <td>NaN</td>\n",
              "      <td>NaN</td>\n",
              "      <td>0.009828</td>\n",
              "      <td>0</td>\n",
              "    </tr>\n",
              "    <tr>\n",
              "      <th>2</th>\n",
              "      <td>0a59d138b3eaccd22b665eae70c756fef83ddb63</td>\n",
              "      <td>20180801</td>\n",
              "      <td>Finance</td>\n",
              "      <td>NaN</td>\n",
              "      <td>NaN</td>\n",
              "      <td>NaN</td>\n",
              "      <td>NaN</td>\n",
              "      <td>NaN</td>\n",
              "      <td>NaN</td>\n",
              "      <td>NaN</td>\n",
              "      <td>NaN</td>\n",
              "      <td>NaN</td>\n",
              "      <td>NaN</td>\n",
              "      <td>NaN</td>\n",
              "      <td>0.000161</td>\n",
              "      <td>National</td>\n",
              "      <td>NaN</td>\n",
              "      <td>NaN</td>\n",
              "      <td>0.235294</td>\n",
              "      <td>0</td>\n",
              "    </tr>\n",
              "    <tr>\n",
              "      <th>3</th>\n",
              "      <td>0a59d138b3eaccd22b665eae70c756fef83ddb63</td>\n",
              "      <td>20180801</td>\n",
              "      <td>Books &amp; Reference</td>\n",
              "      <td>NaN</td>\n",
              "      <td>NaN</td>\n",
              "      <td>NaN</td>\n",
              "      <td>NaN</td>\n",
              "      <td>NaN</td>\n",
              "      <td>NaN</td>\n",
              "      <td>NaN</td>\n",
              "      <td>NaN</td>\n",
              "      <td>NaN</td>\n",
              "      <td>NaN</td>\n",
              "      <td>NaN</td>\n",
              "      <td>0.000077</td>\n",
              "      <td>National</td>\n",
              "      <td>NaN</td>\n",
              "      <td>NaN</td>\n",
              "      <td>0.350000</td>\n",
              "      <td>0</td>\n",
              "    </tr>\n",
              "    <tr>\n",
              "      <th>4</th>\n",
              "      <td>df5fb9891f77df24a91d039f1817c6c4e79244ef</td>\n",
              "      <td>20180801</td>\n",
              "      <td>Productivity</td>\n",
              "      <td>NaN</td>\n",
              "      <td>NaN</td>\n",
              "      <td>NaN</td>\n",
              "      <td>NaN</td>\n",
              "      <td>NaN</td>\n",
              "      <td>NaN</td>\n",
              "      <td>NaN</td>\n",
              "      <td>NaN</td>\n",
              "      <td>NaN</td>\n",
              "      <td>NaN</td>\n",
              "      <td>NaN</td>\n",
              "      <td>0.000939</td>\n",
              "      <td>National</td>\n",
              "      <td>NaN</td>\n",
              "      <td>NaN</td>\n",
              "      <td>0.312500</td>\n",
              "      <td>0</td>\n",
              "    </tr>\n",
              "  </tbody>\n",
              "</table>\n",
              "</div>"
            ],
            "text/plain": [
              "                                       UUID  ...  funding_ind\n",
              "0  c1ad38e2d357610c129657d870ede902e8abfcb9  ...            0\n",
              "1  d841e670d9191f896a0cbc75961920887b375756  ...            0\n",
              "2  0a59d138b3eaccd22b665eae70c756fef83ddb63  ...            0\n",
              "3  0a59d138b3eaccd22b665eae70c756fef83ddb63  ...            0\n",
              "4  df5fb9891f77df24a91d039f1817c6c4e79244ef  ...            0\n",
              "\n",
              "[5 rows x 20 columns]"
            ]
          },
          "metadata": {
            "tags": []
          },
          "execution_count": 4
        }
      ]
    },
    {
      "cell_type": "code",
      "metadata": {
        "colab": {
          "base_uri": "https://localhost:8080/",
          "height": 682
        },
        "id": "a5g966x6giiz",
        "outputId": "308ff098-0347-4036-ad78-4722b89b55a1"
      },
      "source": [
        "import missingno as msno\r\n",
        "msno.matrix(df)"
      ],
      "execution_count": 5,
      "outputs": [
        {
          "output_type": "execute_result",
          "data": {
            "text/plain": [
              "<matplotlib.axes._subplots.AxesSubplot at 0x7f5eeec7b3c8>"
            ]
          },
          "metadata": {
            "tags": []
          },
          "execution_count": 5
        },
        {
          "output_type": "display_data",
          "data": {
            "image/png": "[encoded data removed]",
            "text/plain": [
              "<Figure size 1800x720 with 2 Axes>"
            ]
          },
          "metadata": {
            "tags": [],
            "needs_background": "light"
          }
        }
      ]
    },
    {
      "cell_type": "code",
      "metadata": {
        "id": "nsSdLN9HnFaT",
        "colab": {
          "base_uri": "https://localhost:8080/"
        },
        "outputId": "09768b06-3551-4841-b951-dddbc4e8dc2a"
      },
      "source": [
        "df.isnull().sum()"
      ],
      "execution_count": 6,
      "outputs": [
        {
          "output_type": "execute_result",
          "data": {
            "text/plain": [
              "UUID                       1482\n",
              "month                         0\n",
              "Application Category          0\n",
              "Avg_Session_Time         624443\n",
              "Business Models         1499761\n",
              "City                    1499768\n",
              "Company Stage           1499761\n",
              "Feed Name               1499761\n",
              "Founded Year            1499761\n",
              "Latest Funded Date      1499761\n",
              "MAU                     1384088\n",
              "Open_Rate                624460\n",
              "Overview                1499761\n",
              "Practice Areas          1499761\n",
              "Reach                    451300\n",
              "Region                        0\n",
              "Total Funding (USD)     1499920\n",
              "Total_Session_Time       624510\n",
              "Uninstall_Rate          1149906\n",
              "funding_ind                   0\n",
              "dtype: int64"
            ]
          },
          "metadata": {
            "tags": []
          },
          "execution_count": 6
        }
      ]
    },
    {
      "cell_type": "markdown",
      "metadata": {
        "id": "Pismw2nekSjL"
      },
      "source": [
        "# We see a lot of missing values"
      ]
    },
    {
      "cell_type": "code",
      "metadata": {
        "id": "lc5_ZX2OkM8Z",
        "colab": {
          "base_uri": "https://localhost:8080/"
        },
        "outputId": "fc196f72-485c-413d-9be1-be3ea5a04230"
      },
      "source": [
        "df['Business Models'].value_counts()"
      ],
      "execution_count": 7,
      "outputs": [
        {
          "output_type": "execute_result",
          "data": {
            "text/plain": [
              "Social Platforms > Interest Based > Education > Higher Education > Q&A Platforms\\nTest Preparation Tech > Digital Learning > Diversified > Self-Paced                                               232\n",
              "OTT Video > OTT Streaming Platforms > Video On Demand (VOD) > News                                                                                                                                  124\n",
              "K-12 EdTech > B2C Learning Solutions > School Curriculum > Multi Subject > Horizontal\\nTest Preparation Tech > Digital Learning > Diversified > Self-Paced\\nY Combinator Batches > 2020 > Winter    117\n",
              "Food & Beverage Products > Beverages > Juices and Dilutables > Juices > Cold-pressed                                                                                                                113\n",
              "Influencer E-Commerce > Live Video\\nVideo Commerce > Live Stream Commerce                                                                                                                           107\n",
              "                                                                                                                                                                                                   ... \n",
              "Payments > Enablers > Open Banking APIs\\nBanking Tech > Open Banking > Banking APIs                                                                                                                   1\n",
              "Alternative Lending > Online Lenders > Business Loans > Merchant Cash Advance > Direct Lender\\nConsumer and SME Loans > SME Loans > Working Capital Loans > Internet-First                            1\n",
              "K-12 EdTech > B2B2C Learning Solutions > School Curriculum > Multi Subject > Activity Based Learning > Games                                                                                          1\n",
              "Investment Tech > Wealth Management Platforms > Savings Platforms                                                                                                                                     1\n",
              "Online Health Information > Internet First Media > Diversified\\nVernacular Platforms > Healthcare > Information Portal                                                                                1\n",
              "Name: Business Models, Length: 293, dtype: int64"
            ]
          },
          "metadata": {
            "tags": []
          },
          "execution_count": 7
        }
      ]
    },
    {
      "cell_type": "code",
      "metadata": {
        "colab": {
          "base_uri": "https://localhost:8080/"
        },
        "id": "h6sBz3mAmRGU",
        "outputId": "a9e55cac-8c9e-4dba-c6db-cf7aa80536a5"
      },
      "source": [
        "df[~df['Business Models'].isna()]['City'].isnull().sum()"
      ],
      "execution_count": 8,
      "outputs": [
        {
          "output_type": "execute_result",
          "data": {
            "text/plain": [
              "7"
            ]
          },
          "metadata": {
            "tags": []
          },
          "execution_count": 8
        }
      ]
    },
    {
      "cell_type": "code",
      "metadata": {
        "colab": {
          "base_uri": "https://localhost:8080/",
          "height": 364
        },
        "id": "w150KP5zoIMQ",
        "outputId": "e9d9d581-0032-4fb8-a31f-fc831fe83be1"
      },
      "source": [
        "sns.countplot(df['funding_ind'])"
      ],
      "execution_count": 9,
      "outputs": [
        {
          "output_type": "stream",
          "text": [
            "/usr/local/lib/python3.6/dist-packages/seaborn/_decorators.py:43: FutureWarning: Pass the following variable as a keyword arg: x. From version 0.12, the only valid positional argument will be `data`, and passing other arguments without an explicit keyword will result in an error or misinterpretation.\n",
            "  FutureWarning\n"
          ],
          "name": "stderr"
        },
        {
          "output_type": "execute_result",
          "data": {
            "text/plain": [
              "<matplotlib.axes._subplots.AxesSubplot at 0x7f5ee63afd30>"
            ]
          },
          "metadata": {
            "tags": []
          },
          "execution_count": 9
        },
        {
          "output_type": "display_data",
          "data": {
            "image/png": "[encoded data removed]",
            "text/plain": [
              "<Figure size 432x288 with 1 Axes>"
            ]
          },
          "metadata": {
            "tags": [],
            "needs_background": "light"
          }
        }
      ]
    },
    {
      "cell_type": "code",
      "metadata": {
        "colab": {
          "base_uri": "https://localhost:8080/"
        },
        "id": "XeCuioFfrYDK",
        "outputId": "517afc25-7828-47bb-8cb7-dafec261ebad"
      },
      "source": [
        "df['funding_ind'].value_counts()"
      ],
      "execution_count": 10,
      "outputs": [
        {
          "output_type": "execute_result",
          "data": {
            "text/plain": [
              "0    1499761\n",
              "1       2414\n",
              "Name: funding_ind, dtype: int64"
            ]
          },
          "metadata": {
            "tags": []
          },
          "execution_count": 10
        }
      ]
    },
    {
      "cell_type": "code",
      "metadata": {
        "id": "lUt-cVcPsW5C",
        "colab": {
          "base_uri": "https://localhost:8080/"
        },
        "outputId": "d6ed284a-b389-4b62-ac5a-6abf9d23f298"
      },
      "source": [
        "df['Region'].value_counts()"
      ],
      "execution_count": 11,
      "outputs": [
        {
          "output_type": "execute_result",
          "data": {
            "text/plain": [
              "National    1502175\n",
              "Name: Region, dtype: int64"
            ]
          },
          "metadata": {
            "tags": []
          },
          "execution_count": 11
        }
      ]
    },
    {
      "cell_type": "code",
      "metadata": {
        "colab": {
          "base_uri": "https://localhost:8080/",
          "height": 363
        },
        "id": "BkP-Uputrhz4",
        "outputId": "18cde712-5518-489f-b9c8-39a2b9fa834e"
      },
      "source": [
        "sns.countplot(df['Region'])"
      ],
      "execution_count": 12,
      "outputs": [
        {
          "output_type": "stream",
          "text": [
            "/usr/local/lib/python3.6/dist-packages/seaborn/_decorators.py:43: FutureWarning: Pass the following variable as a keyword arg: x. From version 0.12, the only valid positional argument will be `data`, and passing other arguments without an explicit keyword will result in an error or misinterpretation.\n",
            "  FutureWarning\n"
          ],
          "name": "stderr"
        },
        {
          "output_type": "execute_result",
          "data": {
            "text/plain": [
              "<matplotlib.axes._subplots.AxesSubplot at 0x7f5ee34ed2b0>"
            ]
          },
          "metadata": {
            "tags": []
          },
          "execution_count": 12
        },
        {
          "output_type": "display_data",
          "data": {
            "image/png": "[encoded data removed]",
            "text/plain": [
              "<Figure size 432x288 with 1 Axes>"
            ]
          },
          "metadata": {
            "tags": [],
            "needs_background": "light"
          }
        }
      ]
    },
    {
      "cell_type": "markdown",
      "metadata": {
        "id": "Rnx4nj6cshwL"
      },
      "source": [
        "# So, Region column contains only a single value i.e National"
      ]
    },
    {
      "cell_type": "code",
      "metadata": {
        "id": "foBnTsaPoMPX"
      },
      "source": [
        "df.drop_duplicates(inplace = True)"
      ],
      "execution_count": 13,
      "outputs": []
    },
    {
      "cell_type": "code",
      "metadata": {
        "id": "UPR-JEIfsUfa"
      },
      "source": [
        "df.drop('Region', axis = 1, inplace = True)"
      ],
      "execution_count": 14,
      "outputs": []
    },
    {
      "cell_type": "code",
      "metadata": {
        "colab": {
          "base_uri": "https://localhost:8080/"
        },
        "id": "3kL7mFnv9K5t",
        "outputId": "6f65ccd9-0131-4e6a-a6f9-4be1450e88d5"
      },
      "source": [
        "df['month'].value_counts()"
      ],
      "execution_count": 15,
      "outputs": [
        {
          "output_type": "execute_result",
          "data": {
            "text/plain": [
              "20200301    248280\n",
              "20200401    233496\n",
              "20200601    157677\n",
              "20200501    149966\n",
              "20200201    104186\n",
              "20200101    102073\n",
              "20191201     96524\n",
              "20191101     82189\n",
              "20190901     16079\n",
              "20190801     16079\n",
              "20190701     16079\n",
              "20191001     16078\n",
              "20190601     15952\n",
              "20190501     15799\n",
              "20190401     15552\n",
              "20190301     15262\n",
              "20190201     14967\n",
              "20190101     14717\n",
              "20181201     14397\n",
              "20181101     14138\n",
              "20181001     13800\n",
              "20180901     13527\n",
              "20180801     13207\n",
              "20180701     12739\n",
              "Name: month, dtype: int64"
            ]
          },
          "metadata": {
            "tags": []
          },
          "execution_count": 15
        }
      ]
    },
    {
      "cell_type": "code",
      "metadata": {
        "colab": {
          "base_uri": "https://localhost:8080/",
          "height": 301
        },
        "id": "-60XlpSqHTIH",
        "outputId": "42c143a1-2fdb-41d4-9dd7-ebdb3d6bd91e"
      },
      "source": [
        "df.head()"
      ],
      "execution_count": 16,
      "outputs": [
        {
          "output_type": "execute_result",
          "data": {
            "text/html": [
              "<div>\n",
              "<style scoped>\n",
              "    .dataframe tbody tr th:only-of-type {\n",
              "        vertical-align: middle;\n",
              "    }\n",
              "\n",
              "    .dataframe tbody tr th {\n",
              "        vertical-align: top;\n",
              "    }\n",
              "\n",
              "    .dataframe thead th {\n",
              "        text-align: right;\n",
              "    }\n",
              "</style>\n",
              "<table border=\"1\" class=\"dataframe\">\n",
              "  <thead>\n",
              "    <tr style=\"text-align: right;\">\n",
              "      <th></th>\n",
              "      <th>UUID</th>\n",
              "      <th>month</th>\n",
              "      <th>Application Category</th>\n",
              "      <th>Avg_Session_Time</th>\n",
              "      <th>Business Models</th>\n",
              "      <th>City</th>\n",
              "      <th>Company Stage</th>\n",
              "      <th>Feed Name</th>\n",
              "      <th>Founded Year</th>\n",
              "      <th>Latest Funded Date</th>\n",
              "      <th>MAU</th>\n",
              "      <th>Open_Rate</th>\n",
              "      <th>Overview</th>\n",
              "      <th>Practice Areas</th>\n",
              "      <th>Reach</th>\n",
              "      <th>Total Funding (USD)</th>\n",
              "      <th>Total_Session_Time</th>\n",
              "      <th>Uninstall_Rate</th>\n",
              "      <th>funding_ind</th>\n",
              "    </tr>\n",
              "  </thead>\n",
              "  <tbody>\n",
              "    <tr>\n",
              "      <th>0</th>\n",
              "      <td>c1ad38e2d357610c129657d870ede902e8abfcb9</td>\n",
              "      <td>20180801</td>\n",
              "      <td>Books &amp; Reference</td>\n",
              "      <td>NaN</td>\n",
              "      <td>NaN</td>\n",
              "      <td>NaN</td>\n",
              "      <td>NaN</td>\n",
              "      <td>NaN</td>\n",
              "      <td>NaN</td>\n",
              "      <td>NaN</td>\n",
              "      <td>NaN</td>\n",
              "      <td>NaN</td>\n",
              "      <td>NaN</td>\n",
              "      <td>NaN</td>\n",
              "      <td>0.042963</td>\n",
              "      <td>NaN</td>\n",
              "      <td>NaN</td>\n",
              "      <td>0.024443</td>\n",
              "      <td>0</td>\n",
              "    </tr>\n",
              "    <tr>\n",
              "      <th>1</th>\n",
              "      <td>d841e670d9191f896a0cbc75961920887b375756</td>\n",
              "      <td>20180801</td>\n",
              "      <td>Books &amp; Reference</td>\n",
              "      <td>NaN</td>\n",
              "      <td>NaN</td>\n",
              "      <td>NaN</td>\n",
              "      <td>NaN</td>\n",
              "      <td>NaN</td>\n",
              "      <td>NaN</td>\n",
              "      <td>NaN</td>\n",
              "      <td>NaN</td>\n",
              "      <td>NaN</td>\n",
              "      <td>NaN</td>\n",
              "      <td>NaN</td>\n",
              "      <td>0.003244</td>\n",
              "      <td>NaN</td>\n",
              "      <td>NaN</td>\n",
              "      <td>0.009828</td>\n",
              "      <td>0</td>\n",
              "    </tr>\n",
              "    <tr>\n",
              "      <th>2</th>\n",
              "      <td>0a59d138b3eaccd22b665eae70c756fef83ddb63</td>\n",
              "      <td>20180801</td>\n",
              "      <td>Finance</td>\n",
              "      <td>NaN</td>\n",
              "      <td>NaN</td>\n",
              "      <td>NaN</td>\n",
              "      <td>NaN</td>\n",
              "      <td>NaN</td>\n",
              "      <td>NaN</td>\n",
              "      <td>NaN</td>\n",
              "      <td>NaN</td>\n",
              "      <td>NaN</td>\n",
              "      <td>NaN</td>\n",
              "      <td>NaN</td>\n",
              "      <td>0.000161</td>\n",
              "      <td>NaN</td>\n",
              "      <td>NaN</td>\n",
              "      <td>0.235294</td>\n",
              "      <td>0</td>\n",
              "    </tr>\n",
              "    <tr>\n",
              "      <th>3</th>\n",
              "      <td>0a59d138b3eaccd22b665eae70c756fef83ddb63</td>\n",
              "      <td>20180801</td>\n",
              "      <td>Books &amp; Reference</td>\n",
              "      <td>NaN</td>\n",
              "      <td>NaN</td>\n",
              "      <td>NaN</td>\n",
              "      <td>NaN</td>\n",
              "      <td>NaN</td>\n",
              "      <td>NaN</td>\n",
              "      <td>NaN</td>\n",
              "      <td>NaN</td>\n",
              "      <td>NaN</td>\n",
              "      <td>NaN</td>\n",
              "      <td>NaN</td>\n",
              "      <td>0.000077</td>\n",
              "      <td>NaN</td>\n",
              "      <td>NaN</td>\n",
              "      <td>0.350000</td>\n",
              "      <td>0</td>\n",
              "    </tr>\n",
              "    <tr>\n",
              "      <th>4</th>\n",
              "      <td>df5fb9891f77df24a91d039f1817c6c4e79244ef</td>\n",
              "      <td>20180801</td>\n",
              "      <td>Productivity</td>\n",
              "      <td>NaN</td>\n",
              "      <td>NaN</td>\n",
              "      <td>NaN</td>\n",
              "      <td>NaN</td>\n",
              "      <td>NaN</td>\n",
              "      <td>NaN</td>\n",
              "      <td>NaN</td>\n",
              "      <td>NaN</td>\n",
              "      <td>NaN</td>\n",
              "      <td>NaN</td>\n",
              "      <td>NaN</td>\n",
              "      <td>0.000939</td>\n",
              "      <td>NaN</td>\n",
              "      <td>NaN</td>\n",
              "      <td>0.312500</td>\n",
              "      <td>0</td>\n",
              "    </tr>\n",
              "  </tbody>\n",
              "</table>\n",
              "</div>"
            ],
            "text/plain": [
              "                                       UUID  ...  funding_ind\n",
              "0  c1ad38e2d357610c129657d870ede902e8abfcb9  ...            0\n",
              "1  d841e670d9191f896a0cbc75961920887b375756  ...            0\n",
              "2  0a59d138b3eaccd22b665eae70c756fef83ddb63  ...            0\n",
              "3  0a59d138b3eaccd22b665eae70c756fef83ddb63  ...            0\n",
              "4  df5fb9891f77df24a91d039f1817c6c4e79244ef  ...            0\n",
              "\n",
              "[5 rows x 19 columns]"
            ]
          },
          "metadata": {
            "tags": []
          },
          "execution_count": 16
        }
      ]
    },
    {
      "cell_type": "code",
      "metadata": {
        "colab": {
          "base_uri": "https://localhost:8080/",
          "height": 301
        },
        "id": "UtVYXv82HpaG",
        "outputId": "6bfd678b-f8a6-4454-a9b9-3b092b24f565"
      },
      "source": [
        "df.head()"
      ],
      "execution_count": 17,
      "outputs": [
        {
          "output_type": "execute_result",
          "data": {
            "text/html": [
              "<div>\n",
              "<style scoped>\n",
              "    .dataframe tbody tr th:only-of-type {\n",
              "        vertical-align: middle;\n",
              "    }\n",
              "\n",
              "    .dataframe tbody tr th {\n",
              "        vertical-align: top;\n",
              "    }\n",
              "\n",
              "    .dataframe thead th {\n",
              "        text-align: right;\n",
              "    }\n",
              "</style>\n",
              "<table border=\"1\" class=\"dataframe\">\n",
              "  <thead>\n",
              "    <tr style=\"text-align: right;\">\n",
              "      <th></th>\n",
              "      <th>UUID</th>\n",
              "      <th>month</th>\n",
              "      <th>Application Category</th>\n",
              "      <th>Avg_Session_Time</th>\n",
              "      <th>Business Models</th>\n",
              "      <th>City</th>\n",
              "      <th>Company Stage</th>\n",
              "      <th>Feed Name</th>\n",
              "      <th>Founded Year</th>\n",
              "      <th>Latest Funded Date</th>\n",
              "      <th>MAU</th>\n",
              "      <th>Open_Rate</th>\n",
              "      <th>Overview</th>\n",
              "      <th>Practice Areas</th>\n",
              "      <th>Reach</th>\n",
              "      <th>Total Funding (USD)</th>\n",
              "      <th>Total_Session_Time</th>\n",
              "      <th>Uninstall_Rate</th>\n",
              "      <th>funding_ind</th>\n",
              "    </tr>\n",
              "  </thead>\n",
              "  <tbody>\n",
              "    <tr>\n",
              "      <th>0</th>\n",
              "      <td>c1ad38e2d357610c129657d870ede902e8abfcb9</td>\n",
              "      <td>20180801</td>\n",
              "      <td>Books &amp; Reference</td>\n",
              "      <td>NaN</td>\n",
              "      <td>NaN</td>\n",
              "      <td>NaN</td>\n",
              "      <td>NaN</td>\n",
              "      <td>NaN</td>\n",
              "      <td>NaN</td>\n",
              "      <td>NaN</td>\n",
              "      <td>NaN</td>\n",
              "      <td>NaN</td>\n",
              "      <td>NaN</td>\n",
              "      <td>NaN</td>\n",
              "      <td>0.042963</td>\n",
              "      <td>NaN</td>\n",
              "      <td>NaN</td>\n",
              "      <td>0.024443</td>\n",
              "      <td>0</td>\n",
              "    </tr>\n",
              "    <tr>\n",
              "      <th>1</th>\n",
              "      <td>d841e670d9191f896a0cbc75961920887b375756</td>\n",
              "      <td>20180801</td>\n",
              "      <td>Books &amp; Reference</td>\n",
              "      <td>NaN</td>\n",
              "      <td>NaN</td>\n",
              "      <td>NaN</td>\n",
              "      <td>NaN</td>\n",
              "      <td>NaN</td>\n",
              "      <td>NaN</td>\n",
              "      <td>NaN</td>\n",
              "      <td>NaN</td>\n",
              "      <td>NaN</td>\n",
              "      <td>NaN</td>\n",
              "      <td>NaN</td>\n",
              "      <td>0.003244</td>\n",
              "      <td>NaN</td>\n",
              "      <td>NaN</td>\n",
              "      <td>0.009828</td>\n",
              "      <td>0</td>\n",
              "    </tr>\n",
              "    <tr>\n",
              "      <th>2</th>\n",
              "      <td>0a59d138b3eaccd22b665eae70c756fef83ddb63</td>\n",
              "      <td>20180801</td>\n",
              "      <td>Finance</td>\n",
              "      <td>NaN</td>\n",
              "      <td>NaN</td>\n",
              "      <td>NaN</td>\n",
              "      <td>NaN</td>\n",
              "      <td>NaN</td>\n",
              "      <td>NaN</td>\n",
              "      <td>NaN</td>\n",
              "      <td>NaN</td>\n",
              "      <td>NaN</td>\n",
              "      <td>NaN</td>\n",
              "      <td>NaN</td>\n",
              "      <td>0.000161</td>\n",
              "      <td>NaN</td>\n",
              "      <td>NaN</td>\n",
              "      <td>0.235294</td>\n",
              "      <td>0</td>\n",
              "    </tr>\n",
              "    <tr>\n",
              "      <th>3</th>\n",
              "      <td>0a59d138b3eaccd22b665eae70c756fef83ddb63</td>\n",
              "      <td>20180801</td>\n",
              "      <td>Books &amp; Reference</td>\n",
              "      <td>NaN</td>\n",
              "      <td>NaN</td>\n",
              "      <td>NaN</td>\n",
              "      <td>NaN</td>\n",
              "      <td>NaN</td>\n",
              "      <td>NaN</td>\n",
              "      <td>NaN</td>\n",
              "      <td>NaN</td>\n",
              "      <td>NaN</td>\n",
              "      <td>NaN</td>\n",
              "      <td>NaN</td>\n",
              "      <td>0.000077</td>\n",
              "      <td>NaN</td>\n",
              "      <td>NaN</td>\n",
              "      <td>0.350000</td>\n",
              "      <td>0</td>\n",
              "    </tr>\n",
              "    <tr>\n",
              "      <th>4</th>\n",
              "      <td>df5fb9891f77df24a91d039f1817c6c4e79244ef</td>\n",
              "      <td>20180801</td>\n",
              "      <td>Productivity</td>\n",
              "      <td>NaN</td>\n",
              "      <td>NaN</td>\n",
              "      <td>NaN</td>\n",
              "      <td>NaN</td>\n",
              "      <td>NaN</td>\n",
              "      <td>NaN</td>\n",
              "      <td>NaN</td>\n",
              "      <td>NaN</td>\n",
              "      <td>NaN</td>\n",
              "      <td>NaN</td>\n",
              "      <td>NaN</td>\n",
              "      <td>0.000939</td>\n",
              "      <td>NaN</td>\n",
              "      <td>NaN</td>\n",
              "      <td>0.312500</td>\n",
              "      <td>0</td>\n",
              "    </tr>\n",
              "  </tbody>\n",
              "</table>\n",
              "</div>"
            ],
            "text/plain": [
              "                                       UUID  ...  funding_ind\n",
              "0  c1ad38e2d357610c129657d870ede902e8abfcb9  ...            0\n",
              "1  d841e670d9191f896a0cbc75961920887b375756  ...            0\n",
              "2  0a59d138b3eaccd22b665eae70c756fef83ddb63  ...            0\n",
              "3  0a59d138b3eaccd22b665eae70c756fef83ddb63  ...            0\n",
              "4  df5fb9891f77df24a91d039f1817c6c4e79244ef  ...            0\n",
              "\n",
              "[5 rows x 19 columns]"
            ]
          },
          "metadata": {
            "tags": []
          },
          "execution_count": 17
        }
      ]
    },
    {
      "cell_type": "code",
      "metadata": {
        "colab": {
          "base_uri": "https://localhost:8080/"
        },
        "id": "LK98GCt_H5fT",
        "outputId": "28878e01-539a-4e43-fbfc-68a608180079"
      },
      "source": [
        "df.dtypes"
      ],
      "execution_count": 18,
      "outputs": [
        {
          "output_type": "execute_result",
          "data": {
            "text/plain": [
              "UUID                     object\n",
              "month                     int64\n",
              "Application Category     object\n",
              "Avg_Session_Time        float64\n",
              "Business Models          object\n",
              "City                     object\n",
              "Company Stage            object\n",
              "Feed Name                object\n",
              "Founded Year            float64\n",
              "Latest Funded Date       object\n",
              "MAU                     float64\n",
              "Open_Rate               float64\n",
              "Overview                 object\n",
              "Practice Areas           object\n",
              "Reach                   float64\n",
              "Total Funding (USD)     float64\n",
              "Total_Session_Time      float64\n",
              "Uninstall_Rate          float64\n",
              "funding_ind               int64\n",
              "dtype: object"
            ]
          },
          "metadata": {
            "tags": []
          },
          "execution_count": 18
        }
      ]
    },
    {
      "cell_type": "code",
      "metadata": {
        "id": "V38e1Xmy9RAr"
      },
      "source": [
        "# Assign Date column to Date(Year-Month) instead of (Year-Month-Day)\r\n",
        "# this column will be useful in analysis and visualization\r\n",
        "df['Month'] = df['month'].astype('string').apply(lambda x: (str(x)[4:6]))"
      ],
      "execution_count": 19,
      "outputs": []
    },
    {
      "cell_type": "code",
      "metadata": {
        "id": "rJMWMbq6HnW1"
      },
      "source": [
        "df['Month'] = df['Month'].astype('int')"
      ],
      "execution_count": 20,
      "outputs": []
    },
    {
      "cell_type": "code",
      "metadata": {
        "id": "qeO0rdZwQR3M"
      },
      "source": [
        "import datetime"
      ],
      "execution_count": 21,
      "outputs": []
    },
    {
      "cell_type": "code",
      "metadata": {
        "id": "e7V-TW_eQGZC"
      },
      "source": [
        "df['Month_Name'] = df['Month'].apply(lambda x: datetime.date(1900, x, 1).strftime('%b'))"
      ],
      "execution_count": 22,
      "outputs": []
    },
    {
      "cell_type": "code",
      "metadata": {
        "colab": {
          "base_uri": "https://localhost:8080/"
        },
        "id": "8EBmev2IQP4t",
        "outputId": "8de934aa-d9ba-4f6d-d5b6-dceb2be3e874"
      },
      "source": [
        "df['Month_Name']"
      ],
      "execution_count": 23,
      "outputs": [
        {
          "output_type": "execute_result",
          "data": {
            "text/plain": [
              "0          Aug\n",
              "1          Aug\n",
              "2          Aug\n",
              "3          Aug\n",
              "4          Aug\n",
              "          ... \n",
              "1502170    Jan\n",
              "1502171    Jan\n",
              "1502172    Jan\n",
              "1502173    Jan\n",
              "1502174    Jan\n",
              "Name: Month_Name, Length: 1412763, dtype: object"
            ]
          },
          "metadata": {
            "tags": []
          },
          "execution_count": 23
        }
      ]
    },
    {
      "cell_type": "code",
      "metadata": {
        "colab": {
          "base_uri": "https://localhost:8080/",
          "height": 407
        },
        "id": "ZVMhAZSjQjEi",
        "outputId": "20fa8db4-85cb-4d6b-f63b-ef3d0f055de1"
      },
      "source": [
        "plt.figure(figsize=(10,5))\r\n",
        "sns.countplot(df['Month_Name'])"
      ],
      "execution_count": 24,
      "outputs": [
        {
          "output_type": "stream",
          "text": [
            "/usr/local/lib/python3.6/dist-packages/seaborn/_decorators.py:43: FutureWarning: Pass the following variable as a keyword arg: x. From version 0.12, the only valid positional argument will be `data`, and passing other arguments without an explicit keyword will result in an error or misinterpretation.\n",
            "  FutureWarning\n"
          ],
          "name": "stderr"
        },
        {
          "output_type": "execute_result",
          "data": {
            "text/plain": [
              "<matplotlib.axes._subplots.AxesSubplot at 0x7f5ee3387f60>"
            ]
          },
          "metadata": {
            "tags": []
          },
          "execution_count": 24
        },
        {
          "output_type": "display_data",
          "data": {
            "image/png": "[encoded data removed]",
            "text/plain": [
              "<Figure size 720x360 with 1 Axes>"
            ]
          },
          "metadata": {
            "tags": [],
            "needs_background": "light"
          }
        }
      ]
    },
    {
      "cell_type": "markdown",
      "metadata": {
        "id": "mSBD7NPZQ_Xd"
      },
      "source": [
        "# We have app datas mostly from March month"
      ]
    },
    {
      "cell_type": "code",
      "metadata": {
        "id": "1XaY1tQD5fwi"
      },
      "source": [
        "def datetime(x):\r\n",
        "  import datetime\r\n",
        "  x=str(x)\r\n",
        "  a=int(x[0:4])\r\n",
        "  b=int(x[4:6])\r\n",
        "  c=int(x[6:])\r\n",
        "  \r\n",
        "\r\n",
        "  x = datetime.datetime(a, b, c)\r\n",
        "  x.strftime(\"%Y %b %d\")\r\n",
        "\r\n",
        "  return x"
      ],
      "execution_count": 25,
      "outputs": []
    },
    {
      "cell_type": "code",
      "metadata": {
        "id": "qa8mz2L06Plg"
      },
      "source": [
        "df['Month1']=df['month'].apply(lambda x:datetime(x))"
      ],
      "execution_count": 26,
      "outputs": []
    },
    {
      "cell_type": "code",
      "metadata": {
        "id": "7NQ9fX686bY7"
      },
      "source": [
        "df['user_created_at_year_month'] = df['Month1'].dt.strftime('%Y-%m')"
      ],
      "execution_count": 27,
      "outputs": []
    },
    {
      "cell_type": "code",
      "metadata": {
        "colab": {
          "base_uri": "https://localhost:8080/",
          "height": 334
        },
        "id": "GCb6cbIq6_Bh",
        "outputId": "7e01f7c0-b366-49aa-c020-9930f3fc00e5"
      },
      "source": [
        "df.head()"
      ],
      "execution_count": 28,
      "outputs": [
        {
          "output_type": "execute_result",
          "data": {
            "text/html": [
              "<div>\n",
              "<style scoped>\n",
              "    .dataframe tbody tr th:only-of-type {\n",
              "        vertical-align: middle;\n",
              "    }\n",
              "\n",
              "    .dataframe tbody tr th {\n",
              "        vertical-align: top;\n",
              "    }\n",
              "\n",
              "    .dataframe thead th {\n",
              "        text-align: right;\n",
              "    }\n",
              "</style>\n",
              "<table border=\"1\" class=\"dataframe\">\n",
              "  <thead>\n",
              "    <tr style=\"text-align: right;\">\n",
              "      <th></th>\n",
              "      <th>UUID</th>\n",
              "      <th>month</th>\n",
              "      <th>Application Category</th>\n",
              "      <th>Avg_Session_Time</th>\n",
              "      <th>Business Models</th>\n",
              "      <th>City</th>\n",
              "      <th>Company Stage</th>\n",
              "      <th>Feed Name</th>\n",
              "      <th>Founded Year</th>\n",
              "      <th>Latest Funded Date</th>\n",
              "      <th>MAU</th>\n",
              "      <th>Open_Rate</th>\n",
              "      <th>Overview</th>\n",
              "      <th>Practice Areas</th>\n",
              "      <th>Reach</th>\n",
              "      <th>Total Funding (USD)</th>\n",
              "      <th>Total_Session_Time</th>\n",
              "      <th>Uninstall_Rate</th>\n",
              "      <th>funding_ind</th>\n",
              "      <th>Month</th>\n",
              "      <th>Month_Name</th>\n",
              "      <th>Month1</th>\n",
              "      <th>user_created_at_year_month</th>\n",
              "    </tr>\n",
              "  </thead>\n",
              "  <tbody>\n",
              "    <tr>\n",
              "      <th>0</th>\n",
              "      <td>c1ad38e2d357610c129657d870ede902e8abfcb9</td>\n",
              "      <td>20180801</td>\n",
              "      <td>Books &amp; Reference</td>\n",
              "      <td>NaN</td>\n",
              "      <td>NaN</td>\n",
              "      <td>NaN</td>\n",
              "      <td>NaN</td>\n",
              "      <td>NaN</td>\n",
              "      <td>NaN</td>\n",
              "      <td>NaN</td>\n",
              "      <td>NaN</td>\n",
              "      <td>NaN</td>\n",
              "      <td>NaN</td>\n",
              "      <td>NaN</td>\n",
              "      <td>0.042963</td>\n",
              "      <td>NaN</td>\n",
              "      <td>NaN</td>\n",
              "      <td>0.024443</td>\n",
              "      <td>0</td>\n",
              "      <td>8</td>\n",
              "      <td>Aug</td>\n",
              "      <td>2018-08-01</td>\n",
              "      <td>2018-08</td>\n",
              "    </tr>\n",
              "    <tr>\n",
              "      <th>1</th>\n",
              "      <td>d841e670d9191f896a0cbc75961920887b375756</td>\n",
              "      <td>20180801</td>\n",
              "      <td>Books &amp; Reference</td>\n",
              "      <td>NaN</td>\n",
              "      <td>NaN</td>\n",
              "      <td>NaN</td>\n",
              "      <td>NaN</td>\n",
              "      <td>NaN</td>\n",
              "      <td>NaN</td>\n",
              "      <td>NaN</td>\n",
              "      <td>NaN</td>\n",
              "      <td>NaN</td>\n",
              "      <td>NaN</td>\n",
              "      <td>NaN</td>\n",
              "      <td>0.003244</td>\n",
              "      <td>NaN</td>\n",
              "      <td>NaN</td>\n",
              "      <td>0.009828</td>\n",
              "      <td>0</td>\n",
              "      <td>8</td>\n",
              "      <td>Aug</td>\n",
              "      <td>2018-08-01</td>\n",
              "      <td>2018-08</td>\n",
              "    </tr>\n",
              "    <tr>\n",
              "      <th>2</th>\n",
              "      <td>0a59d138b3eaccd22b665eae70c756fef83ddb63</td>\n",
              "      <td>20180801</td>\n",
              "      <td>Finance</td>\n",
              "      <td>NaN</td>\n",
              "      <td>NaN</td>\n",
              "      <td>NaN</td>\n",
              "      <td>NaN</td>\n",
              "      <td>NaN</td>\n",
              "      <td>NaN</td>\n",
              "      <td>NaN</td>\n",
              "      <td>NaN</td>\n",
              "      <td>NaN</td>\n",
              "      <td>NaN</td>\n",
              "      <td>NaN</td>\n",
              "      <td>0.000161</td>\n",
              "      <td>NaN</td>\n",
              "      <td>NaN</td>\n",
              "      <td>0.235294</td>\n",
              "      <td>0</td>\n",
              "      <td>8</td>\n",
              "      <td>Aug</td>\n",
              "      <td>2018-08-01</td>\n",
              "      <td>2018-08</td>\n",
              "    </tr>\n",
              "    <tr>\n",
              "      <th>3</th>\n",
              "      <td>0a59d138b3eaccd22b665eae70c756fef83ddb63</td>\n",
              "      <td>20180801</td>\n",
              "      <td>Books &amp; Reference</td>\n",
              "      <td>NaN</td>\n",
              "      <td>NaN</td>\n",
              "      <td>NaN</td>\n",
              "      <td>NaN</td>\n",
              "      <td>NaN</td>\n",
              "      <td>NaN</td>\n",
              "      <td>NaN</td>\n",
              "      <td>NaN</td>\n",
              "      <td>NaN</td>\n",
              "      <td>NaN</td>\n",
              "      <td>NaN</td>\n",
              "      <td>0.000077</td>\n",
              "      <td>NaN</td>\n",
              "      <td>NaN</td>\n",
              "      <td>0.350000</td>\n",
              "      <td>0</td>\n",
              "      <td>8</td>\n",
              "      <td>Aug</td>\n",
              "      <td>2018-08-01</td>\n",
              "      <td>2018-08</td>\n",
              "    </tr>\n",
              "    <tr>\n",
              "      <th>4</th>\n",
              "      <td>df5fb9891f77df24a91d039f1817c6c4e79244ef</td>\n",
              "      <td>20180801</td>\n",
              "      <td>Productivity</td>\n",
              "      <td>NaN</td>\n",
              "      <td>NaN</td>\n",
              "      <td>NaN</td>\n",
              "      <td>NaN</td>\n",
              "      <td>NaN</td>\n",
              "      <td>NaN</td>\n",
              "      <td>NaN</td>\n",
              "      <td>NaN</td>\n",
              "      <td>NaN</td>\n",
              "      <td>NaN</td>\n",
              "      <td>NaN</td>\n",
              "      <td>0.000939</td>\n",
              "      <td>NaN</td>\n",
              "      <td>NaN</td>\n",
              "      <td>0.312500</td>\n",
              "      <td>0</td>\n",
              "      <td>8</td>\n",
              "      <td>Aug</td>\n",
              "      <td>2018-08-01</td>\n",
              "      <td>2018-08</td>\n",
              "    </tr>\n",
              "  </tbody>\n",
              "</table>\n",
              "</div>"
            ],
            "text/plain": [
              "                                       UUID  ...  user_created_at_year_month\n",
              "0  c1ad38e2d357610c129657d870ede902e8abfcb9  ...                     2018-08\n",
              "1  d841e670d9191f896a0cbc75961920887b375756  ...                     2018-08\n",
              "2  0a59d138b3eaccd22b665eae70c756fef83ddb63  ...                     2018-08\n",
              "3  0a59d138b3eaccd22b665eae70c756fef83ddb63  ...                     2018-08\n",
              "4  df5fb9891f77df24a91d039f1817c6c4e79244ef  ...                     2018-08\n",
              "\n",
              "[5 rows x 23 columns]"
            ]
          },
          "metadata": {
            "tags": []
          },
          "execution_count": 28
        }
      ]
    },
    {
      "cell_type": "code",
      "metadata": {
        "id": "otGNDGB17HNz"
      },
      "source": [
        "df.drop(['month', 'Month_Name'], axis = 1, inplace = True)"
      ],
      "execution_count": 29,
      "outputs": []
    },
    {
      "cell_type": "code",
      "metadata": {
        "id": "fFi10rfPQoF0",
        "colab": {
          "base_uri": "https://localhost:8080/",
          "height": 343
        },
        "outputId": "9b1f9d36-1fc7-4832-9a01-381ee4f9890a"
      },
      "source": [
        "plt.figure(figsize=(30,5))\r\n",
        "sns.countplot(df['Application Category'])"
      ],
      "execution_count": 30,
      "outputs": [
        {
          "output_type": "stream",
          "text": [
            "/usr/local/lib/python3.6/dist-packages/seaborn/_decorators.py:43: FutureWarning: Pass the following variable as a keyword arg: x. From version 0.12, the only valid positional argument will be `data`, and passing other arguments without an explicit keyword will result in an error or misinterpretation.\n",
            "  FutureWarning\n"
          ],
          "name": "stderr"
        },
        {
          "output_type": "execute_result",
          "data": {
            "text/plain": [
              "<matplotlib.axes._subplots.AxesSubplot at 0x7f5edac3a2b0>"
            ]
          },
          "metadata": {
            "tags": []
          },
          "execution_count": 30
        },
        {
          "output_type": "display_data",
          "data": {
            "image/png": "[encoded data removed]",
            "text/plain": [
              "<Figure size 2160x360 with 1 Axes>"
            ]
          },
          "metadata": {
            "tags": [],
            "needs_background": "light"
          }
        }
      ]
    },
    {
      "cell_type": "code",
      "metadata": {
        "colab": {
          "base_uri": "https://localhost:8080/"
        },
        "id": "AAgS97WHSwlk",
        "outputId": "1aee1029-14c8-4d6c-e332-0b04181cebd4"
      },
      "source": [
        "df[~df['Avg_Session_Time'].isna()]['Avg_Session_Time']"
      ],
      "execution_count": 30,
      "outputs": [
        {
          "output_type": "execute_result",
          "data": {
            "text/plain": [
              "29180      0.948620\n",
              "29181      1.285343\n",
              "29182      2.742948\n",
              "29183      1.040757\n",
              "29184      0.531213\n",
              "             ...   \n",
              "1487446    0.522869\n",
              "1487447    0.374176\n",
              "1487448    0.940800\n",
              "1487449    0.361347\n",
              "1487450    1.346300\n",
              "Name: Avg_Session_Time, Length: 877732, dtype: float64"
            ]
          },
          "metadata": {
            "tags": []
          },
          "execution_count": 30
        }
      ]
    },
    {
      "cell_type": "code",
      "metadata": {
        "id": "t5XUyIK4RzRN",
        "colab": {
          "base_uri": "https://localhost:8080/",
          "height": 352
        },
        "outputId": "48212fd2-cc1c-4f61-dd03-c7323d641bea"
      },
      "source": [
        "plt.figure(figsize=(10,5))\r\n",
        "sns.kdeplot(df['Avg_Session_Time'].dropna())"
      ],
      "execution_count": 31,
      "outputs": [
        {
          "output_type": "execute_result",
          "data": {
            "text/plain": [
              "<matplotlib.axes._subplots.AxesSubplot at 0x7fbe91b06198>"
            ]
          },
          "metadata": {
            "tags": []
          },
          "execution_count": 31
        },
        {
          "output_type": "display_data",
          "data": {
            "image/png": "[encoded data removed]",
            "text/plain": [
              "<Figure size 720x360 with 1 Axes>"
            ]
          },
          "metadata": {
            "tags": [],
            "needs_background": "light"
          }
        }
      ]
    },
    {
      "cell_type": "code",
      "metadata": {
        "id": "DtLE5KDfSnoa",
        "colab": {
          "base_uri": "https://localhost:8080/"
        },
        "outputId": "bc7a7754-4503-4655-aaba-4822f82c43c5"
      },
      "source": [
        "df['Company Stage'].unique()"
      ],
      "execution_count": 32,
      "outputs": [
        {
          "output_type": "execute_result",
          "data": {
            "text/plain": [
              "array([nan, 'Series A', 'Seed', 'Series B', 'Series D', 'Series C',\n",
              "       'Series H', 'Acquired', 'Series E', 'Series I', 'Series F',\n",
              "       'Funded', 'Series G'], dtype=object)"
            ]
          },
          "metadata": {
            "tags": []
          },
          "execution_count": 32
        }
      ]
    },
    {
      "cell_type": "code",
      "metadata": {
        "colab": {
          "base_uri": "https://localhost:8080/",
          "height": 407
        },
        "id": "ukq8NQjWey1C",
        "outputId": "0b24bf58-c6db-43b5-8ccc-8866a3f85b85"
      },
      "source": [
        "plt.figure(figsize=(10,5))\r\n",
        "sns.countplot(df['Company Stage'].dropna())"
      ],
      "execution_count": 33,
      "outputs": [
        {
          "output_type": "stream",
          "text": [
            "/usr/local/lib/python3.6/dist-packages/seaborn/_decorators.py:43: FutureWarning: Pass the following variable as a keyword arg: x. From version 0.12, the only valid positional argument will be `data`, and passing other arguments without an explicit keyword will result in an error or misinterpretation.\n",
            "  FutureWarning\n"
          ],
          "name": "stderr"
        },
        {
          "output_type": "execute_result",
          "data": {
            "text/plain": [
              "<matplotlib.axes._subplots.AxesSubplot at 0x7fbe8b354e48>"
            ]
          },
          "metadata": {
            "tags": []
          },
          "execution_count": 33
        },
        {
          "output_type": "display_data",
          "data": {
            "image/png": "[encoded data removed]",
            "text/plain": [
              "<Figure size 720x360 with 1 Axes>"
            ]
          },
          "metadata": {
            "tags": [],
            "needs_background": "light"
          }
        }
      ]
    },
    {
      "cell_type": "code",
      "metadata": {
        "id": "fUBNMFZomXIV",
        "colab": {
          "base_uri": "https://localhost:8080/",
          "height": 575
        },
        "outputId": "c7becd4c-35dd-4402-a9ae-5d5ee246abad"
      },
      "source": [
        "plt.figure(figsize=(30,10))\r\n",
        "sns.countplot(df['City'].dropna())"
      ],
      "execution_count": 34,
      "outputs": [
        {
          "output_type": "stream",
          "text": [
            "/usr/local/lib/python3.6/dist-packages/seaborn/_decorators.py:43: FutureWarning: Pass the following variable as a keyword arg: x. From version 0.12, the only valid positional argument will be `data`, and passing other arguments without an explicit keyword will result in an error or misinterpretation.\n",
            "  FutureWarning\n"
          ],
          "name": "stderr"
        },
        {
          "output_type": "execute_result",
          "data": {
            "text/plain": [
              "<matplotlib.axes._subplots.AxesSubplot at 0x7fbe8a7ddf60>"
            ]
          },
          "metadata": {
            "tags": []
          },
          "execution_count": 34
        },
        {
          "output_type": "display_data",
          "data": {
            "image/png": "[encoded data removed]",
            "text/plain": [
              "<Figure size 2160x720 with 1 Axes>"
            ]
          },
          "metadata": {
            "tags": [],
            "needs_background": "light"
          }
        }
      ]
    },
    {
      "cell_type": "code",
      "metadata": {
        "id": "EQeFQo1-mzVq",
        "colab": {
          "base_uri": "https://localhost:8080/"
        },
        "outputId": "c8d8c2bf-51ae-4ec6-a4ba-1626f60a3f50"
      },
      "source": [
        "df['Feed Name'].unique()"
      ],
      "execution_count": 35,
      "outputs": [
        {
          "output_type": "execute_result",
          "data": {
            "text/plain": [
              "array([nan, 'Mom & Baby Care', 'Social Platforms', 'Investment Tech',\n",
              "       'Online Travel', 'HRTech\\nCross Border - India',\n",
              "       'Cybersecurity\\nPaaS\\nAI Infrastructure\\nInsurance IT',\n",
              "       'Alternative Lending\\nConsumer and SME Loans',\n",
              "       'Fitness & Wellness Tech\\nFood Tech\\nCross Border - India',\n",
              "       'Local Services\\nFitness & Wellness Tech',\n",
              "       'Payments\\nBanking Tech', 'Horizontal E-Commerce',\n",
              "       'Online Travel\\nRoad Transport Tech\\nOnline Rental\\nY Combinator Batches',\n",
              "       'Alternative Lending', 'Fitness & Wellness Tech',\n",
              "       'Mobile Gaming\\neSports', 'Higher Education Tech',\n",
              "       'Continued Learning', 'Second Hand Goods',\n",
              "       'Healthcare IT\\nEmployee Health IT',\n",
              "       'Social Platforms\\nOnline Event Ticketing\\nY Combinator Batches',\n",
              "       'Social Platforms\\nVernacular Platforms\\nRadio Tech\\nAxilor Ventures Batches',\n",
              "       'Disease Self Management\\nDiabetes',\n",
              "       'Internet First Media\\nY Combinator Batches',\n",
              "       'Music Tech\\nVernacular Platforms',\n",
              "       'Social Commerce\\nY Combinator Batches',\n",
              "       'Healthcare Booking Platforms\\nFitness & Wellness Tech',\n",
              "       'Auto E-Commerce & Content\\nSecond Hand Goods',\n",
              "       'Smart Homes\\nEnergy Efficiency Tech',\n",
              "       'Second Hand Goods\\nConsumer Electronics E-Commerce',\n",
              "       'Security & Surveillance Technology\\nConnected Vehicles\\nLogistics Tech',\n",
              "       'Local Services', 'Electric Vehicles',\n",
              "       'Alternative Lending\\nInvestment Tech',\n",
              "       'Online Grocery\\nLivestock Tech',\n",
              "       'Internet First Media\\nOTT Video',\n",
              "       'Vernacular Platforms\\nIn Store Retail Tech\\nFinance & Accounting Tech\\nY Combinator Batches',\n",
              "       'Local Services\\nSocial Platforms', 'Online Gifting',\n",
              "       'Fashion Tech', 'Road Transport Tech\\nOnline Rental',\n",
              "       'Remittance\\nForex Tech',\n",
              "       'Residential Real Estate Tech\\nCommercial Real Estate Tech',\n",
              "       'Food & Beverage Products', 'E-Commerce Enablers', 'Banking Tech',\n",
              "       'K-12 EdTech\\nTest Preparation Tech\\nSurge Batches', 'Food Tech',\n",
              "       'Sales Force Automation\\nField Force Automation\\nBanking Tech\\nInsurance IT\\nCross Border - India\\nPlug and Play Tech Center Batches',\n",
              "       'Internet First Insurance Platforms', 'Healthcare IT',\n",
              "       'Digital Publishing Platforms',\n",
              "       'B2B E-Commerce\\nOnline Grocery\\nCrop Tech\\nY Combinator Batches',\n",
              "       'Test Preparation Tech', 'Nutraceuticals',\n",
              "       'Disease Self Management\\nHealthcare IT\\nCIIE Batches',\n",
              "       'Vernacular Platforms\\nLanguage Learning\\nAxilor Ventures Batches',\n",
              "       'Alternative Lending\\nPayments', 'Online Grocery',\n",
              "       'Road Transport Tech\\nElectric Vehicles', 'Sports Tech',\n",
              "       'Healthcare Booking Platforms',\n",
              "       'Influencer E-Commerce\\nVideo Commerce',\n",
              "       'Music Tech\\nVernacular Platforms\\nRadio Tech',\n",
              "       'Online Travel\\nRoad Transport Tech\\nOnline Rental',\n",
              "       'Online Health Information\\nSocial Platforms\\nMom & Baby Care',\n",
              "       'Local Services\\nReligion Tech', 'Mobile Gaming', 'K-12 EdTech',\n",
              "       'Field Force Automation\\nLogistics Tech\\nE-Commerce Enablers\\nCross Border - India\\nPlug and Play Tech Center Batches',\n",
              "       'K-12 EdTech\\nTest Preparation Tech', 'Wedding Tech',\n",
              "       'Healthcare IT\\nCardiac and Vascular Disorders', 'Religion Tech',\n",
              "       'Road Transport Tech\\nOnline Rental\\nElectric Vehicles',\n",
              "       'Road Transport Tech', 'Cryptocurrencies',\n",
              "       'Sales Force Automation\\nMarketingTech\\nCustomer Success Management\\nCustomer Service Software',\n",
              "       'B2B E-Commerce\\nOnline Grocery', 'Payments',\n",
              "       'Commercial Real Estate Tech',\n",
              "       'MarketingTech\\nCustomer Service Software\\nCross Border - India',\n",
              "       'Coupons and Deals', 'Crop Tech',\n",
              "       'K-12 EdTech\\nTest Preparation Tech\\nY Combinator Batches',\n",
              "       'Internet First Media', 'In Store Retail Tech',\n",
              "       'Vernacular Platforms\\nContinued Learning',\n",
              "       'HRTech\\nEmployer Insurance\\nHealthcare IT\\nEmployee Health IT',\n",
              "       'Alternative Lending\\nCrop Tech',\n",
              "       'Beauty Tech\\nBeauty & Personal Care Products',\n",
              "       'Logistics Tech\\nFood Tech', 'Mobile App Studios', 'Beauty Tech',\n",
              "       'In Store Retail Tech\\nB2B E-Commerce\\nOnline Grocery',\n",
              "       'Subscription Commerce\\nOnline Grocery', 'Logistics Tech',\n",
              "       'HRTech\\nDisease Self Management\\nHealthcare IT\\nEmployee Health IT\\nY Combinator Batches',\n",
              "       'Residential Real Estate Tech',\n",
              "       'Healthcare Booking Platforms\\nHealthcare IT',\n",
              "       'Vernacular Platforms\\nDigital Publishing Platforms',\n",
              "       'Virtual Reality\\nOnline Travel',\n",
              "       'Online Rental\\nHome Improvements',\n",
              "       'Fitness & Wellness Tech\\nSurge Batches',\n",
              "       'Wearable Technology\\nIoT Applications\\nLivestock Tech',\n",
              "       'Sports Tech\\nSocial Platforms',\n",
              "       'Home Improvements\\nHome Furnishing Products',\n",
              "       'Vernacular Platforms\\nIn Store Retail Tech\\nFinance & Accounting Tech\\nY Combinator Batches\\nSurge Batches',\n",
              "       'Legal Tech', 'Home Improvements',\n",
              "       'Online Travel\\nRoad Transport Tech\\nY Combinator Batches',\n",
              "       'E-Commerce Enablers\\nB2B E-Commerce',\n",
              "       'Disease Self Management\\nHealthcare IT',\n",
              "       'Virtual Reality\\nAugmented Reality\\nOnline Travel',\n",
              "       'In Store Retail Tech\\nPayments\\nFood Tech',\n",
              "       'Mom & Baby Care\\nInternet First Media\\nDigital Publishing Platforms',\n",
              "       'Social Platforms\\nVernacular Platforms',\n",
              "       'HRTech\\nComputer Vision\\nCross Border - India',\n",
              "       'Social Platforms\\nFitness & Wellness Tech\\nY Combinator Batches',\n",
              "       'Online Travel\\nSocial Platforms', 'B2B E-Commerce\\nCrop Tech',\n",
              "       'Online Gifting\\nFinance & Accounting Tech',\n",
              "       'Alternative Lending\\nY Combinator Batches',\n",
              "       'HRTech\\nHealthcare IT\\nEmployee Health IT',\n",
              "       'Vernacular Platforms', 'Pharmacy IT', 'HRTech',\n",
              "       'Online Grocery\\nFood Service Chains',\n",
              "       'Online Travel\\nSocial Platforms\\nSurge Batches\\nExtreme Entrepreneurs Batches',\n",
              "       'OTT Video',\n",
              "       'Auto E-Commerce & Content\\nInternet First Insurance Platforms',\n",
              "       'Online Health Information',\n",
              "       'Social Platforms\\nTest Preparation Tech',\n",
              "       'B2B E-Commerce\\nAlternative Lending',\n",
              "       'B2B E-Commerce\\nOnline Grocery\\nCrop Tech',\n",
              "       'Logistics Tech\\nCross Border - India\\nPlug and Play Tech Center Batches',\n",
              "       'Food Tech\\nFacility Management Tech',\n",
              "       'Cybersecurity\\nHRTech\\nRegTech',\n",
              "       'Augmented Reality\\nMobile Gaming\\neSports',\n",
              "       'Loyalty Software\\nCoupons and Deals', 'Mobile Utility Tools',\n",
              "       'Investment Tech\\nY Combinator Batches',\n",
              "       'Vernacular Platforms\\nInternet First Media', 'MarketingTech',\n",
              "       'Customer Service Software\\nLocal Services\\nInternet First Insurance Platforms',\n",
              "       'Augmented Reality\\nMom & Baby Care\\nPre-K EdTech\\nK-12 EdTech',\n",
              "       'Healthcare Booking Platforms\\nHealthcare IT\\nCross Border - India',\n",
              "       'Vertical Business Intelligence\\nOnline Travel\\nAviation IT\\nHotel IT\\nCross Border - India',\n",
              "       'Augmented Reality\\nIn Store Retail Tech', 'Productivity Software',\n",
              "       'Chatbots\\nVernacular Platforms\\nE-Commerce Enablers\\nPayments',\n",
              "       'Matchmaking', 'Continued Learning\\nCorporate Learning',\n",
              "       'Vernacular Platforms\\nPre-K EdTech\\nLanguage Learning',\n",
              "       'Chatbots\\nSpeech and Voice Recognition\\nVernacular Platforms',\n",
              "       'Software Testing Tools\\nCross Border - India',\n",
              "       'Alternative Lending\\nHigher Education Tech\\nConsumer and SME Loans',\n",
              "       'Local Services\\nBeauty Tech',\n",
              "       'Fashion Tech\\nCross Border Commerce',\n",
              "       'Online Health Information\\nSocial Platforms\\nVernacular Platforms\\nMom & Baby Care\\nY Combinator Batches',\n",
              "       'Online Travel\\nFinance & Accounting Tech',\n",
              "       'Vernacular Platforms\\nBook Tech', 'Loyalty Software\\nFood Tech',\n",
              "       'Social Platforms\\nSocial Commerce',\n",
              "       'Online Travel\\nAxilor Ventures Batches',\n",
              "       'Road Transport Tech\\nOnline Rental\\nLogistics Tech\\nE-Commerce Logistics\\nElectric Vehicles',\n",
              "       'Freelancer IT\\nAlternative Lending\\nPayments\\nAxilor Ventures Batches',\n",
              "       'Vernacular Platforms\\nInternet First Media\\nY Combinator Batches',\n",
              "       'Residential Real Estate Tech\\nCross Border - India',\n",
              "       'Healthcare Booking Platforms\\nHealthcare IT\\nEmployee Health IT',\n",
              "       'Online Health Information\\nVernacular Platforms',\n",
              "       'Consumer Robotics\\nK-12 EdTech', 'Mom & Baby Care\\nPre-K EdTech',\n",
              "       'GovTech',\n",
              "       'Horizontal E-Commerce\\nInfluencer E-Commerce\\nVideo Commerce\\nSurge Batches',\n",
              "       'Healthcare IT\\nContinued Learning\\nContinuing Education Chains',\n",
              "       'Speech and Voice Recognition\\nLanguage Learning',\n",
              "       'MarketingTech\\nFood Tech\\nCross Border - India',\n",
              "       'Security & Surveillance Technology',\n",
              "       'Pre-K EdTech\\nExtreme Entrepreneurs Batches',\n",
              "       'Finance & Accounting Tech\\nAxilor Ventures Batches'], dtype=object)"
            ]
          },
          "metadata": {
            "tags": []
          },
          "execution_count": 35
        }
      ]
    },
    {
      "cell_type": "code",
      "metadata": {
        "id": "HIU_cSjqn3WR",
        "colab": {
          "base_uri": "https://localhost:8080/"
        },
        "outputId": "0135f763-8b69-490a-a42b-df217d941635"
      },
      "source": [
        "df['Business Models'].unique()"
      ],
      "execution_count": 36,
      "outputs": [
        {
          "output_type": "execute_result",
          "data": {
            "text/plain": [
              "array([nan, 'Mom & Baby Care > Parenting > Community',\n",
              "       'Social Platforms > Women',\n",
              "       'Investment Tech > Online Trading Platforms > Public Market Funds > Mutual Funds',\n",
              "       'Online Travel > Transportation > Train > Online Agency',\n",
              "       'HRTech > HRMS > Suite > Enterprise\\nCross Border - India > Enterprise > Enterprise Apps > HR Tech > HRMS',\n",
              "       'Cybersecurity > Anti Fraud > Financial Fraud > Payment Fraud\\nPaaS > Technology Platform > Artificial Intelligence\\nAI Infrastructure > Machine Intelligence Systems > Workbenches\\nInsurance IT > Insurance Policy Solutions > Insurance Software Suite > Diversified',\n",
              "       'Alternative Lending > Online Lenders > Consumer Loans > Personal Loans > Marketplace\\nConsumer and SME Loans > Consumer Loans > Personal Loans > Internet-First',\n",
              "       'Fitness & Wellness Tech > Physical Fitness > Fitness and Diet Training Apps > Fitness & Nutrition > Personalized Coaching > Expert-Led\\nFood Tech > Technology Enablers > Nutritionists > Meal Planning\\nCross Border - India > Healthcare',\n",
              "       'Local Services > Personal Wellness Services > Fitness & Training > Fitness Centers > Marketplace > Subscription\\nFitness & Wellness Tech > Physical Fitness > Fitness Centers > Marketplaces > Membership Pass',\n",
              "       'Payments > Business Payments > Agent Based Payments\\nBanking Tech > Correspondent Banking > Enablers',\n",
              "       'Investment Tech > Online Trading Platforms > Stocks > Regular Trading > Brokers > Discount',\n",
              "       'Horizontal E-Commerce > Marketplace',\n",
              "       'Online Travel > Transportation > Car > Rental > Own Fleet > Station Based\\nRoad Transport Tech > Self Drive Rentals > Car > Own Fleet > Station-Based\\nOnline Rental > Vehicles > Cars > P2P\\nY Combinator Batches > 2016 > Summer',\n",
              "       'Alternative Lending > Lead Generation Platforms > Loan Comparison Platforms > Consumer Loans > Diversified',\n",
              "       'Fitness & Wellness Tech > Physical Fitness > Tracking and Monitoring > Activity Trackers > Wearable Devices > Wristwear',\n",
              "       'Mobile Gaming > Game Publishers\\neSports > League Organizers',\n",
              "       'Higher Education Tech > Admissions Support for Students > Scholarships > Discovery',\n",
              "       'Continued Learning > Professional > Online Learning > Multi Disciplinary > Online Tutoring',\n",
              "       'Second Hand Goods > Multi Category > Listings',\n",
              "       'Healthcare IT > Employer > Population Health Management\\nEmployee Health IT > Healthcare Benefits Administration > Benefits Marketplace',\n",
              "       'Alternative Lending > Online Lenders > Consumer Loans > Diversified > Marketplace',\n",
              "       'Social Platforms > Horizontal > Social Maps\\nOnline Event Ticketing > Multicategory > Marketplace > Home Hosted Events\\nY Combinator Batches > 2019 > Winter',\n",
              "       'Social Platforms > Horizontal > Audio Sharing\\nVernacular Platforms > On-Demand-Streaming Platforms > Audio Streaming > Podcasts\\nRadio Tech > Internet Radio & Podcast > Streaming > Podcast > Network\\nAxilor Ventures Batches > 2018 > Winter',\n",
              "       'Disease Self Management > Diabetes > Monitoring > Glucose > Device\\nDiabetes > Medical Devices > Monitoring Devices > On Demand > Invasive',\n",
              "       'Alternative Lending > Online Lenders > Consumer Loans > Personal Loans > Marketplace > P2P',\n",
              "       'Internet First Media > News Portals > Aggregators > Audio\\nY Combinator Batches > 2019 > Summer',\n",
              "       'Music Tech > Streaming > On Demand > Regional Music > Indian\\nVernacular Platforms > On-Demand-Streaming Platforms > Audio Streaming > Music',\n",
              "       'Social Commerce > Reselling Platforms > Diversified\\nY Combinator Batches > 2016 > Summer',\n",
              "       'Healthcare Booking Platforms > Pharmacies > Drugs > Diversified\\nFitness & Wellness Tech > Commerce > Supplements > Retail',\n",
              "       'Auto E-Commerce & Content > Second Hand Vehicles > Multi Category > Listings\\nSecond Hand Goods > Auto > Horizontal > B2C > Listings',\n",
              "       'Alternative Lending > Online Lenders > Business Loans > Diversified > Direct Lender\\nConsumer and SME Loans > SME Loans > Term Loans',\n",
              "       'Smart Homes > Home Appliances > Smart Fans > Internet First Brands\\nEnergy Efficiency Tech > Thermal Products > HVAC > Smart Fans',\n",
              "       'Second Hand Goods > Electronics > Outright Buy > Buy-back only\\nConsumer Electronics E-Commerce > Second Hand > Multi Category > Outright Buy',\n",
              "       'Security & Surveillance Technology > Location Tracking > Vehicle Tracking\\nConnected Vehicles > Vehicle Telematics > Consumer Telematics > Vehicle Tracking\\nLogistics Tech > Freight > Trucking > Technology enablers > Fleet Management > Fleet Tracking',\n",
              "       'Local Services > Multi Services > Own Fleet',\n",
              "       'Electric Vehicles > Automaker > Two Wheelers > Multi Category Two Wheelers',\n",
              "       'Alternative Lending > Online Lenders > Consumer Loans > Personal Loans > Marketplace\\nInvestment Tech > Wealth Management Platforms > Expense Management > Expenses Aggregation > Account Linked',\n",
              "       'Online Grocery > B2C Ecommerce > Meat and Seafood > Retailer > Meat\\nLivestock Tech > ECommerce > Farm Produce > B2C > Retailer > Meat',\n",
              "       'Internet First Media > News Portals > Publishers > Global > Viral\\nOTT Video > Multi Channel Networks (MCN)',\n",
              "       'Vernacular Platforms > Bookkeeping Software\\nIn Store Retail Tech > Store Operations Management > Billing and Accounting > Kirana Stores\\nFinance & Accounting Tech > Accounting Solutions > Record to Report > Bookkeeping > Small Businesses\\nY Combinator Batches > 2018 > Summer',\n",
              "       'Local Services > Multi Services > Listings > Local Businesses\\nSocial Platforms > Interest Based',\n",
              "       'Online Gifting > Personalized Celebrity Video Shout Outs',\n",
              "       'Fashion Tech > B2C Commerce > Apparel > Ethnic Wear > Women > Retailer',\n",
              "       'Road Transport Tech > Self Drive Rentals > Motorized Two-Wheeler > Own-Fleet > Station-Based\\nOnline Rental > Vehicles > Motorbikes > B2C > Station Based',\n",
              "       'Remittance > Internet First Platforms > P2P Remittance > Banking Channels\\nForex Tech > Foreign Currency Services > Diversified',\n",
              "       'Residential Real Estate Tech > Listings > P2P\\nCommercial Real Estate Tech > Listings',\n",
              "       'Food & Beverage Products > Beverages > Juices and Dilutables > Juices > Cold-pressed',\n",
              "       'E-Commerce Enablers > Shopping Cart > Proprietary > Web',\n",
              "       'Road Transport Tech > Self Drive Rentals > Motorized Two-Wheeler > Own-Fleet > Free-Float\\nOnline Rental > Vehicles > Motorbikes > B2C > Free Float',\n",
              "       'Banking Tech > Internet First Banks > Through Bank Partnerships > Retail Banking',\n",
              "       'Local Services > Personal Wellness Services > Fitness & Training > Fitness Centers > Marketplace > Pay-As-You-Go\\nFitness & Wellness Tech > Physical Fitness > Fitness Centers > Marketplaces > Subscription',\n",
              "       'K-12 EdTech > B2C Learning Solutions > School Curriculum > Multi Subject > Online Courses\\nTest Preparation Tech > Digital Learning > Diversified > Doubts clearance\\nSurge Batches > 2019 > Surge 01',\n",
              "       'Food Tech > Food Discovery and Ordering > Dine Out > Reservation and Ordering > Table Booking > Restaurants',\n",
              "       'Online Travel > Accommodation > Hotel > Aggregator',\n",
              "       'Sales Force Automation > Productivity Tools > Virtual Assistant\\nField Force Automation > Multi-Industry > Applications > Sales > Field sales productivity > Virtual Assistant\\nBanking Tech > CRM\\nInsurance IT > Corporate Functions > Sales & Marketing\\nCross Border - India > Enterprise > Enterprise Apps > Sales Force Automation\\nPlug and Play Tech Center Batches > Insurtech > Batch 4',\n",
              "       'Internet First Insurance Platforms > Internet First Insurers > Diversified',\n",
              "       'Healthcare IT > Provider > Hospital Information Systems > Standalone EMR',\n",
              "       'Digital Publishing Platforms > Storytelling Platforms > Poetry',\n",
              "       'Food Tech > Internet First Restaurant > OnDemand',\n",
              "       'B2B E-Commerce > Food & Beverages > Groceries > Farm Products > Marketplace\\nOnline Grocery > B2B Ecommerce > Farm Produce > Multi-Category > Marketplace\\nCrop Tech > ECommerce > Farm Produce > B2B > Fruits and Vegetables > Marketplace\\nY Combinator Batches > 2016 > Winter',\n",
              "       'Test Preparation Tech > Digital Learning > Undergraduate > Medical > Self-Paced',\n",
              "       'Alternative Lending > Lead Generation Platforms > Loan Comparison Platforms > Diversified',\n",
              "       'Nutraceuticals > Dietary Supplements',\n",
              "       'Disease Self Management > Personal Health Records\\nHealthcare IT > Horizontal > Collaboration Platforms > Middleware > Hospital Information System\\nCIIE Batches > 2018',\n",
              "       'Vernacular Platforms > Education > Language Learning\\nLanguage Learning > B2C Learning Solutions > Courses > Self Paced > Horizontal\\nAxilor Ventures Batches > 2017 > Summer',\n",
              "       'Alternative Lending > Online Lenders > Consumer Loans > Personal Credit Lines > Marketplace\\nPayments > Consumer Payments > Payment Cards > Credit Cards > General Purpose > Personal Line of Credit',\n",
              "       'Online Grocery > B2C Ecommerce > Multi Category > Marketplace > Own Delivery Fleet',\n",
              "       'Road Transport Tech > Ride Hailing > Three-Wheelers > Electric\\nElectric Vehicles > Vehicle as a Service > Three Wheelers',\n",
              "       'Food Tech > Technology Enablers > Restaurants > POS',\n",
              "       'Healthcare IT > Provider > Administrative Solutions > Materials Management > Procurement > Dental Supplies',\n",
              "       'Alternative Lending > Online Lenders > Consumer Loans > Personal Loans > Marketplace',\n",
              "       'Sports Tech > Booking Platforms > Horizontal > Multi Sports',\n",
              "       'Test Preparation Tech > Digital Learning > Government Services > Self-Paced',\n",
              "       'Online Travel > Holiday Packages > Marketplace',\n",
              "       'Healthcare Booking Platforms > Doctors > Telemedicine > Teleconsultation > Diversified',\n",
              "       'Internet First Insurance Platforms > Internet First Insurers > Health > Usage-based',\n",
              "       'Influencer E-Commerce > Live Video\\nVideo Commerce > Live Stream Commerce',\n",
              "       'Music Tech > Streaming > Internet Radio > Aggregators\\nVernacular Platforms > On-Demand-Streaming Platforms > Audio Streaming > Podcasts\\nRadio Tech > Internet Radio & Podcast > Streaming > Podcast > Network > Regional > Indian',\n",
              "       'Online Travel > Transportation > Car > Rental > Own Fleet > Station Based\\nRoad Transport Tech > Self Drive Rentals > Car > Own Fleet > Station-Based\\nOnline Rental > Vehicles > Cars > B2C > Station Based',\n",
              "       'Mom & Baby Care > Commerce > Multi Category > Internet First Brand',\n",
              "       'Alternative Lending > Online Lenders > Diversified > Marketplace',\n",
              "       'Online Health Information > Social Platforms > Patient Networks > Women Health\\nSocial Platforms > Interest Based > Health and Wellness > Women Health > Pregnancy and Parenting\\nMom & Baby Care > Parenting > Community',\n",
              "       'Alternative Lending > Online Lenders > Consumer Loans > Micro Loans > Marketplace',\n",
              "       'Investment Tech > Wealth Management Platforms > Financial Planners and Advisors',\n",
              "       'Local Services > Astrology\\nReligion Tech > Ecommerce > Services > Astrology',\n",
              "       'Payments > Enablers > Open Banking APIs\\nBanking Tech > Open Banking > Aggregation APIs',\n",
              "       'Mobile Gaming > Game Developers > Casual > Casino',\n",
              "       'K-12 EdTech > Tech for Teachers > Student Assessment',\n",
              "       'Field Force Automation > Logistics\\nLogistics Tech > Freight > Multimodal > Technology Enablers\\nE-Commerce Enablers > Backend > End-to-End Logistics\\nCross Border - India > Enterprise > Industry Verticals > Logistics\\nPlug and Play Tech Center Batches > Supply Chain > Batch 4',\n",
              "       'Healthcare IT > Provider > Administrative Solutions > Materials Management > Procurement > Generic',\n",
              "       'Alternative Lending > Online Lenders > Business Loans > Merchant Cash Advance > Direct Lender\\nConsumer and SME Loans > SME Loans > Working Capital Loans > Internet-First',\n",
              "       'K-12 EdTech > B2C Learning Solutions > School Curriculum > Multi Subject > Online Tutoring\\nTest Preparation Tech > Digital Learning > Undergraduate > General Admission Tests > Instructor-Led',\n",
              "       'Wedding Tech > Planning > Vendor Services > Horizontal > Listing',\n",
              "       'Healthcare IT > Value Based Care > Remote Monitoring > Hardware > Cardiology > Tele ECG\\nCardiac and Vascular Disorders > Medical Devices > Screening Devices > Cardiac Diagnostic > Electrodiagnostic Testing (ECG) > Clinic Based',\n",
              "       'K-12 EdTech > B2C Learning Solutions > School Curriculum > Multi Subject > Activity Based Learning > Games',\n",
              "       'Payments > Enablers > Open Banking APIs\\nBanking Tech > Open Banking > Banking APIs',\n",
              "       'K-12 EdTech > New Age Tuition Centers',\n",
              "       'Religion Tech > Ecommerce > Products',\n",
              "       'Online Grocery > B2C Ecommerce > Multi Category > Marketplace > Drop Shipping',\n",
              "       'Road Transport Tech > Self Drive Rentals > Bicycles > Own-Fleet > Station-Based > Electric\\nOnline Rental > Vehicles > Bicycles > B2C > Station Based\\nElectric Vehicles > Vehicle as a Service > Bicycles > Station Based',\n",
              "       'Road Transport Tech > Ride Hailing > Motorized Two-Wheelers',\n",
              "       'HRTech > HRMS > Employee Onboarding\\nCross Border - India > Enterprise > Enterprise Apps > HR Tech > HRMS > Onboarding',\n",
              "       'Cryptocurrencies > Financial Services > Investment Industry > Online Trading Platforms > Algo Trading',\n",
              "       'Sales Force Automation > CRM > Enterprise Suite > Multi-Industry\\nMarketingTech > Suite\\nCustomer Success Management > Suite\\nCustomer Service Software > Suite',\n",
              "       'B2B E-Commerce > Food & Beverages > Groceries > Farm Products > E-Distributor\\nOnline Grocery > B2B Ecommerce > Multi-Category > E-Distributor',\n",
              "       'K-12 EdTech > B2B2C Learning Solutions > School Curriculum > Multi Subject > Online Tutoring',\n",
              "       'Payments > Business Payments > POS Payments > POS Payment Terminal',\n",
              "       'Commercial Real Estate Tech > CoWorking > Managed',\n",
              "       'Online Grocery > B2C Ecommerce > Multi Category > Retailer > Own Delivery Fleet',\n",
              "       'Electric Vehicles > Vehicle as a Service > Bicycles > Station Based',\n",
              "       'Fashion Tech > B2C Commerce > Accessories > Jewellery > Internet-first brands > Precious',\n",
              "       'MarketingTech > Omnichannel Marketing\\nCustomer Service Software > Call Center > Agent Productivity\\nCross Border - India > Enterprise > Enterprise Apps > Marketing Tech',\n",
              "       'Alternative Lending > Online Lenders > Diversified > Direct Lender\\nConsumer and SME Loans > SME Loans > Working Capital Loans',\n",
              "       'Auto E-Commerce & Content > Second Hand Vehicles > Cars > Listings\\nSecond Hand Goods > Auto > Cars > B2C > Listings',\n",
              "       'Coupons and Deals > Rewards & Cashback > Online > Horizontal',\n",
              "       'Crop Tech > Post Harvest Management > Traceability',\n",
              "       'Alternative Lending > Consumer Debt Management > Credit Score Management > Credit Score Check',\n",
              "       'K-12 EdTech > B2C Learning Solutions > School Curriculum > Multi Subject > Horizontal\\nTest Preparation Tech > Digital Learning > Diversified > Self-Paced\\nY Combinator Batches > 2020 > Winter',\n",
              "       'Internet First Media > News Portals > Aggregators > Summaries',\n",
              "       'In Store Retail Tech > Retail Store Aggregator',\n",
              "       'Fashion Tech > B2C Commerce > Multi Category > Internet First Brand > Conventional Fabrics > Women',\n",
              "       'Payments > Business Payments > Reward Points Payments',\n",
              "       'Internet First Insurance Platforms > Insurance Comparison Platforms > Diversified > Rural Focused',\n",
              "       'Vernacular Platforms > Education > Continuous Learning > Programming\\nContinued Learning > Professional > Online Learning > IT Education > Diversified > Online Courses',\n",
              "       'HRTech > Benefits Administration > Benefits Marketplace\\nEmployer Insurance > Benefits Marketplace\\nHealthcare IT > Employer > Benefits Administration\\nEmployee Health IT > Healthcare Benefits Administration > Benefits Marketplace',\n",
              "       'K-12 EdTech > School IT > Learning Management System',\n",
              "       'Healthcare Booking Platforms > Pharmacies > Drugs > Diversified',\n",
              "       'Online Travel > Horizontal > Metasearch',\n",
              "       'Alternative Lending > Online Lenders > Consumer Loans > Farm Loans > Marketplace\\nCrop Tech > Finance > Loans',\n",
              "       'Beauty Tech > Ecommerce > Multi Category > Organic > Internet First Brand\\nBeauty & Personal Care Products > Multi Category > Natural > Internet First Brand',\n",
              "       'Logistics Tech > Parcel > Hyperlocal > B2C > Food\\nFood Tech > Technology Enablers > Restaurants > Analytics',\n",
              "       'Mobile App Studios > Horizontal',\n",
              "       'Beauty Tech > Ecommerce > Multi Category > Full Range > Retail',\n",
              "       'In Store Retail Tech > Informal Distribution > Marketplace\\nB2B E-Commerce > Food & Beverages > Groceries > Processed Products > Marketplace\\nOnline Grocery > B2B Ecommerce > Packaged Food Products > Marketplace',\n",
              "       'Subscription Commerce > Food & Beverages > Grocery\\nOnline Grocery > B2C Ecommerce > Multi Category > Retailer > Subscription > Daily Needs',\n",
              "       'Continued Learning > Professional > Online Learning > Multi Disciplinary > Online Courses',\n",
              "       'Logistics Tech > Freight > Trucking > Light Cargo',\n",
              "       'HRTech > Benefits Administration > Employee Wellness\\nDisease Self Management > Diabetes\\nHealthcare IT > Employer > Wellness Platform\\nEmployee Health IT > Tech Enabled Services > Physical Fitness\\nY Combinator Batches > 2020 > Winter',\n",
              "       'Residential Real Estate Tech > CoLiving > Marketplace > Student Accommodation',\n",
              "       'Healthcare Booking Platforms > Medical Procedures > Listing > Price Comparison\\nHealthcare IT > Provider > Administrative Solutions > Hospital Operations > Appointment Management > Appointment Booking',\n",
              "       'Alternative Lending > Online Lenders > Consumer Loans > Micro Loans > Direct Lender > For College Students',\n",
              "       'Vernacular Platforms > Digital Media Platforms > Self-publishing Platforms\\nDigital Publishing Platforms > Storytelling Platforms > Horizontal > Vernacular',\n",
              "       'Crop Tech > ECommerce > Retail Enablers',\n",
              "       'Virtual Reality > Applications > Tourism > Online\\nOnline Travel > Guidebooks > Tours & Activities > Local Attractions > VR',\n",
              "       'Healthcare IT > Provider > Hospital Information Systems > PM & EHR Platforms > Generic',\n",
              "       'Online Rental > Furniture and Appliances > Multi Category\\nHome Improvements > Rental > Multi Category',\n",
              "       'Residential Real Estate Tech > Home Rentals > Marketplace',\n",
              "       'Fitness & Wellness Tech > Physical Fitness > Fitness and Diet Training Apps > Fitness > Apps > Training\\nSurge Batches > 2019 > Surge 02',\n",
              "       'Wearable Technology > Pet Wearables > Cattle Monitoring\\nIoT Applications > Industry Specific > Agriculture > Livestock\\nLivestock Tech > Livestock Management Software > Cattle',\n",
              "       'Healthcare IT > Employer > Social Networks\\nEmployee Health IT > Tech Enabled Services > Physical Fitness > Online Community',\n",
              "       'Logistics Tech > Parcel > Hyperlocal Delivery > B2C > Food\\nFood Tech > Food Discovery and Ordering > Restaurant Aggregator > Platform Delivered',\n",
              "       'Payments > Business Payments > Agent Based Payments',\n",
              "       'Sports Tech > Social Network > Fans > Multi Sports\\nSocial Platforms > Interest Based > Sports > Fans > Multi Sports',\n",
              "       'Home Improvements > B2C Commerce > Horizontal > Internet First Brand\\nHome Furnishing Products > Multi-Category > Internet First Brand',\n",
              "       'Vernacular Platforms > Bookkeeping Software\\nIn Store Retail Tech > Store Operations Management > Billing and Accounting > Kirana Stores\\nFinance & Accounting Tech > Accounting Solutions > Record to Report > Bookkeeping > Small Businesses\\nY Combinator Batches > 2019 > Summer\\nSurge Batches > 2019 > Surge 01',\n",
              "       'Legal Tech > Legal Marketplace > Lawyers',\n",
              "       'Fashion Tech > B2C Commerce > Accessories > Jewellery > Internet-first brands > Fast Fashion',\n",
              "       'Home Improvements > B2C Commerce > Furniture > Marketplace > Customized',\n",
              "       'Online Travel > Transportation > Bus > Aggregator\\nRoad Transport Tech > Mass Transit > Bus > Intercity > Aggregator\\nY Combinator Batches > 2016 > Summer',\n",
              "       'E-Commerce Enablers > Suite\\nB2B E-Commerce > Horizontal > Marketplace',\n",
              "       'Fitness & Wellness Tech > Physical Fitness > Fitness Centers > Tech Heavy Fitness Centers',\n",
              "       'Logistics Tech > Ecommerce Logistics > End to End Delivery Services > Own Fleet',\n",
              "       'Disease Self Management > Gastroenterology > Monitoring > Diet Management > Diseases > Diversified > App\\nHealthcare IT > Value Based Care > Patient Engagement > Digital Therapeutics > Chronic',\n",
              "       'Coupons and Deals > Rewards & Cashback > O2O > Horizontal > Mobile',\n",
              "       'Investment Tech > Wealth Management Platforms > Robo Advisors > Horizontal',\n",
              "       'Virtual Reality > Applications > Tourism > Online\\nAugmented Reality > Applications > Travel & Tourism\\nOnline Travel > Guidebooks > Horizontal > VR',\n",
              "       'Healthcare Booking Platforms > Diagnostics > Marketplaces',\n",
              "       'Healthcare Booking Platforms > Diversified',\n",
              "       'In Store Retail Tech > Payments > POS\\nPayments > Business Payments > Diversified\\nFood Tech > Technology Enablers > Restaurants > POS',\n",
              "       'Mom & Baby Care > Parenting > Content > Blog\\nInternet First Media > Lifestyle > Thematic > Parenting\\nDigital Publishing Platforms > Blogging > Parenting',\n",
              "       'Residential Real Estate Tech > Home Rentals > Managed',\n",
              "       'Social Platforms > Horizontal > Photo and Video Sharing\\nVernacular Platforms > Social Media Platforms > Communities',\n",
              "       'HRTech > Applicant Tracking System > Assessment Platform > Interviewing Platform > Video\\nComputer Vision > Industry Agnostic Applications > Human Resources\\nCross Border - India > Enterprise > Enterprise Apps > HR Tech > Recruitment > Video Interview',\n",
              "       'Social Platforms > Interest Based > Fitness\\nFitness & Wellness Tech > Physical Fitness > Social Platforms\\nY Combinator Batches > 2020 > Winter',\n",
              "       'Online Travel > Social Platforms > Travelogue\\nSocial Platforms > Interest Based > Travel',\n",
              "       'B2B E-Commerce > Agriculture > E-Distributor\\nCrop Tech > ECommerce > Farm Inputs > Multi Category > Retailer > Content Driven',\n",
              "       'Online Gifting > Ecommerce > Gift Cards > Retail > Digital\\nFinance & Accounting Tech > Payroll Management > Employee Benefits Management',\n",
              "       'Payments > Consumer Payments > Wallets',\n",
              "       'Alternative Lending > Online Lenders > Consumer Loans > Diversified > Marketplace\\nY Combinator Batches > 2017 > Winter',\n",
              "       'HRTech > Benefits Administration > Employee Wellness > Fitness Challenges\\nHealthcare IT > Employer > Employee Engagement > Physical Fitness > Coaching\\nEmployee Health IT > Tech Enabled Services > Physical Fitness',\n",
              "       'Crop Tech > Farming as a Service > Tech Enabled Services',\n",
              "       'Vernacular Platforms > Digital Media Platforms > Online Publishers',\n",
              "       'Alternative Lending > Online Lenders > Business Loans > Diversified > Direct Lender',\n",
              "       'Banking Tech > Internet First Banks > Through Bank Partnerships > Business Banking',\n",
              "       'Pharmacy IT > Pharmacy Management Systems',\n",
              "       'Investment Tech > Online Trading Platforms > Forex > Algo Trading > DIY',\n",
              "       'HRTech > Job Board > Pre-Assessed Candidates',\n",
              "       'Auto E-Commerce & Content > Second Hand Vehicles > Multi Category > Marketplace\\nSecond Hand Goods > Auto > Horizontal > B2C > Marketplace',\n",
              "       'Internet First Insurance Platforms > Insurance Comparison Platforms > Diversified',\n",
              "       'Alternative Lending > Online Lenders > Consumer Loans > Education Financing > Loans > Marketplace',\n",
              "       'Online Grocery > Smart Vending Machine > Food > Fresh Meals\\nFood Service Chains > Vending Machines',\n",
              "       'Online Travel > Social Platforms > Travelogue\\nSocial Platforms > Horizontal > Video Sharing > Short Videos\\nSurge Batches > 2019 > Surge 02\\nExtreme Entrepreneurs Batches > 2018',\n",
              "       'OTT Video > OTT Streaming Platforms > Video On Demand (VOD) > News',\n",
              "       'Mobile Gaming > Gaming Platforms > Distribution',\n",
              "       'B2B E-Commerce > Agriculture > Marketplace\\nCrop Tech > ECommerce > Farm Inputs > Multi Category > Retailer',\n",
              "       'Alternative Lending > Online Lenders > Business Loans > Diversified > Marketplace\\nConsumer and SME Loans > SME Loans > Working Capital Loans > Internet-First',\n",
              "       'HRTech > Job Board > Blue Collar',\n",
              "       'Auto E-Commerce & Content > Insurance > Internet First Insurer\\nInternet First Insurance Platforms > Internet First Insurers > Diversified',\n",
              "       'Online Health Information > Internet First Media > Health and Wellness',\n",
              "       'Social Platforms > Interest Based > Education > Higher Education > Q&A Platforms\\nTest Preparation Tech > Digital Learning > Diversified > Self-Paced',\n",
              "       'B2B E-Commerce > Virtual Assets > Marketplace\\nAlternative Lending > Online Lenders > Consumer Loans > Point of Sale Financing > Marketplace',\n",
              "       'Alternative Lending > Lead Generation Platforms > Loan Comparison Platforms > Consumer Loans > Diversified\\nPayments > Consumer Payments > Credit Card Comparison Platforms',\n",
              "       'Payments > Enablers > White Label Solutions > Payment Cards > Prepaid Cards',\n",
              "       'Auto E-Commerce & Content > Second Hand Vehicles > Motorcycles > Marketplace\\nSecond Hand Goods > Auto > Bikes > P2P > Marketplace',\n",
              "       'B2B E-Commerce > Food & Beverages > Groceries > Farm Products > E-Distributor\\nOnline Grocery > B2B Ecommerce > Farm Produce > Fruits and Vegetables > E-Distributor\\nCrop Tech > ECommerce > Farm Produce > B2B > Fruits and Vegetables > E Distributor',\n",
              "       'Sports Tech > Fantasy Sports > Online Platforms > Multi Sports',\n",
              "       'Logistics Tech > Ecommerce Logistics > Last Mile',\n",
              "       'Logistics Tech > Parcel > Technology Enablers > Delivery Management > Last Mile\\nCross Border - India > Enterprise > Enterprise Apps > Field Force Automation\\nPlug and Play Tech Center Batches > Supply Chain > Batch 3',\n",
              "       'Online Grocery > B2C Ecommerce > Multi Category > Marketplace > Outsourced Delivery',\n",
              "       'Food Tech > Catering > Office Focused > Cafeteria Management\\nFacility Management Tech > Office Management > Cafeteria Management',\n",
              "       'Cybersecurity > IAM > Customer IAM > Customer Identity Verification\\nHRTech > Applicant Tracking System > Background Check\\nRegTech > KYC',\n",
              "       'Alternative Lending > Online Lenders > Diversified > Direct Lender\\nConsumer and SME Loans > Diversified > Internet-First',\n",
              "       'Augmented Reality > Applications > Entertainment\\nMobile Gaming > Game Developers > Casual > Multi Genre\\neSports > League Organizers',\n",
              "       'Loyalty Software > Coalition Loyalty > Multi Industry > CheckIn based rewards\\nCoupons and Deals > Rewards & Cashback > O2O > Horizontal',\n",
              "       'Investment Tech > Online Trading Platforms > Research Platforms > Stocks > Trading Signals > Technical Analysis',\n",
              "       'Mobile Utility Tools > Personalization > Keyboard',\n",
              "       'Investment Tech > Online Trading Platforms > Public Market Funds > Mutual Funds\\nY Combinator Batches > 2018 > Winter',\n",
              "       'Vernacular Platforms > News Aggregators > Textual Content > Curated Content\\nInternet First Media > News Portals > Aggregators > Summaries',\n",
              "       'MarketingTech > Referral and Advocacy Marketing > Referral Marketing',\n",
              "       'Customer Service Software > After Sales Service\\nLocal Services > Electronics Repair\\nInternet First Insurance Platforms > Internet First Insurers > P&C > Consumer Electronics',\n",
              "       'Augmented Reality > Applications > Education > Kids Learning > STEM Learning\\nMom & Baby Care > Education > Digital Learning > Gamified Platform\\nPre-K EdTech > B2B2C Learning Solutions > AR VR Based\\nK-12 EdTech > B2B2C Learning Solutions > School Curriculum > Multi Subject > Activity Based Learning > AR and VR',\n",
              "       'Healthcare Booking Platforms > Diversified\\nHealthcare IT > Provider > Hospital Information Systems > PM & EHR Platforms > Generic\\nCross Border - India > Healthcare',\n",
              "       'Vertical Business Intelligence > Industry Specific > Travel\\nOnline Travel > Technology Enablers > Suite\\nAviation IT > Finance and Accounting > Revenue Management > Price Analytics\\nHotel IT > Pricing Engine > Hotel\\nCross Border - India > Enterprise > Industry Verticals > Travel & Hospitality',\n",
              "       'Augmented Reality > Applications > Retail > Fashion\\nIn Store Retail Tech > Customer Experience Management > Virtual Trial > Jewellery > AR Based',\n",
              "       'Investment Tech > Online Trading Platforms > Stocks > Thematic Investments',\n",
              "       'Productivity Software > Document Storage',\n",
              "       'Chatbots > Personal Assistants > Finance Assistants > Payments\\nVernacular Platforms > Conversational AI > Virtual Assistants\\nE-Commerce Enablers > Tools > Distributed Commerce > Shopping Assistants\\nPayments > Consumer Payments > Vertical Payments > Bill Payments > Utility Bills',\n",
              "       'K-12 EdTech > B2C Learning Solutions > School Curriculum > Multi Subject > Horizontal\\nTest Preparation Tech > Digital Learning > Diversified > Self-Paced',\n",
              "       'Logistics Tech > Freight > Trucking > Heavy Cargo > Marketplace',\n",
              "       'Matchmaking > Dating > Profile matching > Personality Based > Questionnaire Driven',\n",
              "       'Continued Learning > Professional > Online Learning > Multi Disciplinary > Online Courses\\nCorporate Learning > Learning Platforms > Functional Skills > Courses',\n",
              "       'K-12 EdTech > B2C Learning Solutions > School Curriculum > Multi Subject > Online Tutoring > Subscription\\nTest Preparation Tech > Digital Learning > Diversified > Instructor-Led',\n",
              "       'Vernacular Platforms > Education > Language Learning\\nPre-K EdTech > B2C Learning Solutions > Games > Language Learning > English\\nLanguage Learning > B2C Learning Solutions > Educational Resources > English > Gamified',\n",
              "       'Residential Real Estate Tech > CoLiving > Managed',\n",
              "       'Healthcare Booking Platforms > Doctors > Telemedicine > Teleconsultation > Women Health > PCOS',\n",
              "       'Mom & Baby Care > Commerce > Multi Category > Flash Sales',\n",
              "       'Alternative Lending > Online Lenders > Consumer Loans > Diversified > Marketplace > P2P',\n",
              "       'Commercial Real Estate Tech > Ondemand Marketplace > Shared Office > Membership Pass',\n",
              "       'Chatbots > Industry Agnostic > Customer Support > Voice Based\\nSpeech and Voice Recognition > Applications > Customer Engagement\\nVernacular Platforms > Conversational AI > Virtual Assistants',\n",
              "       'Software Testing Tools > Automated Testing Tools\\nCross Border - India > Enterprise > Enterprise Infra > DevTools',\n",
              "       'Road Transport Tech > Ride Hailing > Cars > Taxi > Intracity > Aggregator > Electric\\nElectric Vehicles > Vehicle as a Service > Cars > Ride Hailing',\n",
              "       'Alternative Lending > Online Lenders > Consumer Loans > Education Financing > Loans > Direct Lender\\nHigher Education Tech > Admissions Support for Students > Loans\\nConsumer and SME Loans > Consumer Loans > Education Loans',\n",
              "       'Local Services > Personal Wellness Services > Beauty > Appointment Booking > Parlour Booking\\nBeauty Tech > Beauty Services > Appointment Booking > Salon Booking > Asset-Light Salons',\n",
              "       'Local Services > Multi Services > Marketplace',\n",
              "       'Fashion Tech > B2C Commerce > Multi Category > Inventory-led > Cross Border > Non-Luxury\\nCross Border Commerce > Fashion > Horizontal > Retailer',\n",
              "       'Road Transport Tech > Fleet Management > Fleet Tracking',\n",
              "       'Online Health Information > Social Platforms > Patient Networks > Women Health > Pregnancy and Parenting\\nSocial Platforms > Interest Based > Health and Wellness > Women Health\\nVernacular Platforms > Social Media Platforms > Social Networks\\nMom & Baby Care > Parenting > Community > Expert Advice\\nY Combinator Batches > 2017 > Winter',\n",
              "       'Online Travel > Corporate Travel > Expense Management\\nFinance & Accounting Tech > Accounting Solutions > Procure to Pay > Travel & Expense > Expense Approval',\n",
              "       'Vernacular Platforms > Digital Media Platforms > Self-publishing Platforms\\nBook Tech > Self Publishing Platforms > Books',\n",
              "       'Loyalty Software > Standalone Loyalty > Hospitality\\nFood Tech > Technology Enablers > Restaurants > Online Ordering Solutions',\n",
              "       'Social Platforms > Interest Based > Wishlist\\nSocial Commerce > Community Based Shopping Platforms > Diversified',\n",
              "       'Online Travel > Accommodation > Hotel > Online Agency > Time-based > Hourly\\nAxilor Ventures Batches > 2019 > Summer',\n",
              "       'K-12 EdTech > Tech for Teachers > Student Assessment > Grading',\n",
              "       'Payments > Business Payments > Bill Payments',\n",
              "       'Road Transport Tech > Self Drive Rentals > Motorized Two-Wheeler > Marketplace > B2C\\nOnline Rental > Vehicles > Multi-Category > B2C',\n",
              "       'Internet First Media > Business and Finance > Social Impact',\n",
              "       'Road Transport Tech > Ride Hailing > Motorized Two-Wheelers\\nOnline Rental > Vehicles > Motorbikes > B2C > Station Based\\nLogistics Tech > Ecommerce Logistics > Last Mile > Electric Vehicle Fleet\\nE-Commerce Logistics > Last Mile > Electric Vehicles\\nElectric Vehicles > Vehicle as a Service > Multi Category Vehicles > Station Based > For Delivery Professionals',\n",
              "       'HRTech > Job Board > Industry Specific > Multi Industry',\n",
              "       'Alternative Lending > Online Lenders > Consumer Loans > Point of Sale Financing > Marketplace',\n",
              "       'Test Preparation Tech > Digital Learning > Diversified > Instructor-Led',\n",
              "       'Freelancer IT > Financial Solutions > Lending Solutions > Credit Card\\nAlternative Lending > Online Lenders > Consumer Loans > Payday Loans > Marketplace\\nPayments > Consumer Payments > Vertical Payments > Toll Payments > FASTag\\nAxilor Ventures Batches > 2018 > Winter',\n",
              "       'Healthcare Booking Platforms > Diagnostics > Marketplaces > Pathology',\n",
              "       'Online Travel > Horizontal > Online Agency',\n",
              "       'Horizontal E-Commerce > Retailer',\n",
              "       'Vernacular Platforms > Digital Media Platforms > Online Publishers\\nInternet First Media > News Portals > Publishers > Regional > Freelance Journalists\\nY Combinator Batches > 2019 > Summer',\n",
              "       'Test Preparation Tech > Digital Learning > Diversified > Doubts clearance',\n",
              "       'Fashion Tech > B2C Commerce > Accessories > Eyewear > Inventory-led > Retailer',\n",
              "       'Internet First Insurance Platforms > Internet First Insurers > P&C > Consumer Electronics',\n",
              "       'Alternative Lending > Online Lenders > Consumer Loans > Asset Backed Loans > Gold > Marketplace',\n",
              "       'Second Hand Goods > Electronics > Outright Buy > Refurbisher',\n",
              "       'Residential Real Estate Tech > Online Brokers\\nCross Border - India > Enterprise > Industry Verticals > SMBs',\n",
              "       'Healthcare Booking Platforms > Doctors > Telemedicine > Teleconsultation > Diversified\\nHealthcare IT > Employer > Healthcare Services > Telemedicine\\nEmployee Health IT > Tech Enabled Services > Teleconsultation',\n",
              "       'Online Health Information > Internet First Media > Diversified\\nVernacular Platforms > Healthcare > Information Portal',\n",
              "       'K-12 EdTech > B2B2C Learning Solutions > School Curriculum > Multi Subject > Activity Based Learning > Games',\n",
              "       'K-12 EdTech > Career Guidance',\n",
              "       'Consumer Robotics > Educational > Kids Learning > DIY\\nK-12 EdTech > B2C Learning Solutions > Robotics > DIY Kits',\n",
              "       'K-12 EdTech > B2C Learning Solutions > Diversified > Online Tutoring',\n",
              "       'Mom & Baby Care > Education > Content\\nPre-K EdTech > B2C Learning Solutions > DIY Kits',\n",
              "       'GovTech > Civic Engagement > Government Schemes Information',\n",
              "       'Horizontal E-Commerce > Store Aggregator > Video Shopping\\nInfluencer E-Commerce > Live Video\\nVideo Commerce > Live Stream Commerce\\nSurge Batches > 2019 > Surge 01',\n",
              "       'K-12 EdTech > School IT > Admin Solutions > Parent Teacher Communication',\n",
              "       'Healthcare IT > Provider > Administrative Solutions > HR > Learning & Development > Medical Schools\\nContinued Learning > Professional > Online Learning > Healthcare > Diversified > Online Courses\\nContinuing Education Chains > Individuals > Healthcare',\n",
              "       'K-12 EdTech > B2B2C Learning Solutions > School Curriculum > Multi Subject > Activity Based Learning > Games > Adaptive',\n",
              "       'Smart Homes > Home Automation Controllers > Smart Switches and Plugs > Switches > Retrofit Smart Switches\\nEnergy Efficiency Tech > Power Management Devices > Smart Switches and Plugs',\n",
              "       'Speech and Voice Recognition > Applications > Education > Language Learning\\nLanguage Learning > B2C Learning Solutions > Courses > Self Paced > English > Chatbot and AI Based',\n",
              "       'MarketingTech > Industry Specific Marketing > Food > Restaurants\\nFood Tech > Technology Enablers > Restaurants > Online Ordering Solutions\\nCross Border - India > Enterprise > Industry Verticals > SMBs',\n",
              "       'Food Tech > Food Discovery and Ordering > Restaurant Aggregator > Restaurant Delivered',\n",
              "       'Investment Tech > Wealth Management Platforms > Savings Platforms',\n",
              "       'Social Platforms > Interest Based > Education > K-12\\nTest Preparation Tech > Learning Communities',\n",
              "       'Security & Surveillance Technology > PIAM > PACS > Integrated Platform',\n",
              "       'Pre-K EdTech > B2C Learning Solutions > Digital Storybooks\\nExtreme Entrepreneurs Batches > 2018',\n",
              "       'Healthcare IT > Value Based Care > Patient Engagement > Communications > Telehealth',\n",
              "       'Finance & Accounting Tech > Accounting Solutions > Procure to Pay > Suite\\nAxilor Ventures Batches > 2018 > Summer'],\n",
              "      dtype=object)"
            ]
          },
          "metadata": {
            "tags": []
          },
          "execution_count": 36
        }
      ]
    },
    {
      "cell_type": "markdown",
      "metadata": {
        "id": "stWptpTwogdV"
      },
      "source": [
        "# Business models and feed name are similar feature which are explaining the type of business."
      ]
    },
    {
      "cell_type": "code",
      "metadata": {
        "id": "EQcMRXhAoIMB",
        "colab": {
          "base_uri": "https://localhost:8080/"
        },
        "outputId": "63ac1d8b-91fb-4f4e-eb47-061d0a2f2ab2"
      },
      "source": [
        "df['Founded Year'].unique()"
      ],
      "execution_count": 37,
      "outputs": [
        {
          "output_type": "execute_result",
          "data": {
            "text/plain": [
              "array([  nan, 2017., 2013., 2016., 2014., 1995., 2012., 2015., 2008.,\n",
              "       2018., 2000., 2011., 2007., 2010., 2009., 2019., 1984., 2020.,\n",
              "       2006., 1983., 2004.])"
            ]
          },
          "metadata": {
            "tags": []
          },
          "execution_count": 37
        }
      ]
    },
    {
      "cell_type": "code",
      "metadata": {
        "colab": {
          "base_uri": "https://localhost:8080/"
        },
        "id": "XrxcVhEarvdv",
        "outputId": "7e47a532-a2ca-4d47-87f8-bcd375034dcc"
      },
      "source": [
        "df['Founded Year'].dtype"
      ],
      "execution_count": 38,
      "outputs": [
        {
          "output_type": "execute_result",
          "data": {
            "text/plain": [
              "dtype('float64')"
            ]
          },
          "metadata": {
            "tags": []
          },
          "execution_count": 38
        }
      ]
    },
    {
      "cell_type": "code",
      "metadata": {
        "id": "IiMBR-FVr1Bp",
        "colab": {
          "base_uri": "https://localhost:8080/",
          "height": 566
        },
        "outputId": "5bdbdae9-aebb-4bc5-a8f3-f2dc2b231aa2"
      },
      "source": [
        "plt.figure(figsize=(30,10))\r\n",
        "sns.countplot(df['Founded Year'].dropna())"
      ],
      "execution_count": 39,
      "outputs": [
        {
          "output_type": "stream",
          "text": [
            "/usr/local/lib/python3.6/dist-packages/seaborn/_decorators.py:43: FutureWarning: Pass the following variable as a keyword arg: x. From version 0.12, the only valid positional argument will be `data`, and passing other arguments without an explicit keyword will result in an error or misinterpretation.\n",
            "  FutureWarning\n"
          ],
          "name": "stderr"
        },
        {
          "output_type": "execute_result",
          "data": {
            "text/plain": [
              "<matplotlib.axes._subplots.AxesSubplot at 0x7fbe8a78cbe0>"
            ]
          },
          "metadata": {
            "tags": []
          },
          "execution_count": 39
        },
        {
          "output_type": "display_data",
          "data": {
            "image/png": "[encoded data removed]",
            "text/plain": [
              "<Figure size 2160x720 with 1 Axes>"
            ]
          },
          "metadata": {
            "tags": [],
            "needs_background": "light"
          }
        }
      ]
    },
    {
      "cell_type": "code",
      "metadata": {
        "id": "2sU-qCmjr_5O"
      },
      "source": [
        "funded_df = df[df['funding_ind']==1]\r\n",
        "not_funded_df = df[df['funding_ind']==0]"
      ],
      "execution_count": 40,
      "outputs": []
    },
    {
      "cell_type": "code",
      "metadata": {
        "id": "FOVqlh3istRS",
        "colab": {
          "base_uri": "https://localhost:8080/",
          "height": 742
        },
        "outputId": "f5053ba2-31bc-4aaa-f579-b99fd7399b03"
      },
      "source": [
        "import missingno as msno\r\n",
        "msno.matrix(funded_df)"
      ],
      "execution_count": 41,
      "outputs": [
        {
          "output_type": "execute_result",
          "data": {
            "text/plain": [
              "<matplotlib.axes._subplots.AxesSubplot at 0x7fbe8a5d8550>"
            ]
          },
          "metadata": {
            "tags": []
          },
          "execution_count": 41
        },
        {
          "output_type": "display_data",
          "data": {
            "image/png": "[encoded data removed]",
            "text/plain": [
              "<Figure size 1800x720 with 2 Axes>"
            ]
          },
          "metadata": {
            "tags": [],
            "needs_background": "light"
          }
        }
      ]
    },
    {
      "cell_type": "code",
      "metadata": {
        "colab": {
          "base_uri": "https://localhost:8080/",
          "height": 724
        },
        "id": "pSceuSThzpXa",
        "outputId": "2dec497e-2d05-4625-b297-7cae5e87fa68"
      },
      "source": [
        "import missingno as msno\r\n",
        "msno.matrix(not_funded_df)"
      ],
      "execution_count": 42,
      "outputs": [
        {
          "output_type": "execute_result",
          "data": {
            "text/plain": [
              "<matplotlib.axes._subplots.AxesSubplot at 0x7fbe8a53d8d0>"
            ]
          },
          "metadata": {
            "tags": []
          },
          "execution_count": 42
        },
        {
          "output_type": "display_data",
          "data": {
            "image/png": "[encoded data removed]",
            "text/plain": [
              "<Figure size 1800x720 with 2 Axes>"
            ]
          },
          "metadata": {
            "tags": [],
            "needs_background": "light"
          }
        }
      ]
    },
    {
      "cell_type": "code",
      "metadata": {
        "id": "BF_0MleUs1UY",
        "colab": {
          "base_uri": "https://localhost:8080/",
          "height": 660
        },
        "outputId": "93a522d4-96e9-482a-a44f-fcaa32956126"
      },
      "source": [
        "not_funded_df[~not_funded_df['Uninstall_Rate'].isna()]"
      ],
      "execution_count": 43,
      "outputs": [
        {
          "output_type": "execute_result",
          "data": {
            "text/html": [
              "<div>\n",
              "<style scoped>\n",
              "    .dataframe tbody tr th:only-of-type {\n",
              "        vertical-align: middle;\n",
              "    }\n",
              "\n",
              "    .dataframe tbody tr th {\n",
              "        vertical-align: top;\n",
              "    }\n",
              "\n",
              "    .dataframe thead th {\n",
              "        text-align: right;\n",
              "    }\n",
              "</style>\n",
              "<table border=\"1\" class=\"dataframe\">\n",
              "  <thead>\n",
              "    <tr style=\"text-align: right;\">\n",
              "      <th></th>\n",
              "      <th>UUID</th>\n",
              "      <th>Application Category</th>\n",
              "      <th>Avg_Session_Time</th>\n",
              "      <th>Business Models</th>\n",
              "      <th>City</th>\n",
              "      <th>Company Stage</th>\n",
              "      <th>Feed Name</th>\n",
              "      <th>Founded Year</th>\n",
              "      <th>Latest Funded Date</th>\n",
              "      <th>MAU</th>\n",
              "      <th>Open_Rate</th>\n",
              "      <th>Overview</th>\n",
              "      <th>Practice Areas</th>\n",
              "      <th>Reach</th>\n",
              "      <th>Total Funding (USD)</th>\n",
              "      <th>Total_Session_Time</th>\n",
              "      <th>Uninstall_Rate</th>\n",
              "      <th>funding_ind</th>\n",
              "      <th>Month</th>\n",
              "      <th>Month1</th>\n",
              "      <th>user_created_at_year_month</th>\n",
              "    </tr>\n",
              "  </thead>\n",
              "  <tbody>\n",
              "    <tr>\n",
              "      <th>0</th>\n",
              "      <td>c1ad38e2d357610c129657d870ede902e8abfcb9</td>\n",
              "      <td>Books &amp; Reference</td>\n",
              "      <td>NaN</td>\n",
              "      <td>NaN</td>\n",
              "      <td>NaN</td>\n",
              "      <td>NaN</td>\n",
              "      <td>NaN</td>\n",
              "      <td>NaN</td>\n",
              "      <td>NaN</td>\n",
              "      <td>NaN</td>\n",
              "      <td>NaN</td>\n",
              "      <td>NaN</td>\n",
              "      <td>NaN</td>\n",
              "      <td>0.042963</td>\n",
              "      <td>NaN</td>\n",
              "      <td>NaN</td>\n",
              "      <td>0.024443</td>\n",
              "      <td>0</td>\n",
              "      <td>8</td>\n",
              "      <td>2018-08-01</td>\n",
              "      <td>2018-08</td>\n",
              "    </tr>\n",
              "    <tr>\n",
              "      <th>1</th>\n",
              "      <td>d841e670d9191f896a0cbc75961920887b375756</td>\n",
              "      <td>Books &amp; Reference</td>\n",
              "      <td>NaN</td>\n",
              "      <td>NaN</td>\n",
              "      <td>NaN</td>\n",
              "      <td>NaN</td>\n",
              "      <td>NaN</td>\n",
              "      <td>NaN</td>\n",
              "      <td>NaN</td>\n",
              "      <td>NaN</td>\n",
              "      <td>NaN</td>\n",
              "      <td>NaN</td>\n",
              "      <td>NaN</td>\n",
              "      <td>0.003244</td>\n",
              "      <td>NaN</td>\n",
              "      <td>NaN</td>\n",
              "      <td>0.009828</td>\n",
              "      <td>0</td>\n",
              "      <td>8</td>\n",
              "      <td>2018-08-01</td>\n",
              "      <td>2018-08</td>\n",
              "    </tr>\n",
              "    <tr>\n",
              "      <th>2</th>\n",
              "      <td>0a59d138b3eaccd22b665eae70c756fef83ddb63</td>\n",
              "      <td>Finance</td>\n",
              "      <td>NaN</td>\n",
              "      <td>NaN</td>\n",
              "      <td>NaN</td>\n",
              "      <td>NaN</td>\n",
              "      <td>NaN</td>\n",
              "      <td>NaN</td>\n",
              "      <td>NaN</td>\n",
              "      <td>NaN</td>\n",
              "      <td>NaN</td>\n",
              "      <td>NaN</td>\n",
              "      <td>NaN</td>\n",
              "      <td>0.000161</td>\n",
              "      <td>NaN</td>\n",
              "      <td>NaN</td>\n",
              "      <td>0.235294</td>\n",
              "      <td>0</td>\n",
              "      <td>8</td>\n",
              "      <td>2018-08-01</td>\n",
              "      <td>2018-08</td>\n",
              "    </tr>\n",
              "    <tr>\n",
              "      <th>3</th>\n",
              "      <td>0a59d138b3eaccd22b665eae70c756fef83ddb63</td>\n",
              "      <td>Books &amp; Reference</td>\n",
              "      <td>NaN</td>\n",
              "      <td>NaN</td>\n",
              "      <td>NaN</td>\n",
              "      <td>NaN</td>\n",
              "      <td>NaN</td>\n",
              "      <td>NaN</td>\n",
              "      <td>NaN</td>\n",
              "      <td>NaN</td>\n",
              "      <td>NaN</td>\n",
              "      <td>NaN</td>\n",
              "      <td>NaN</td>\n",
              "      <td>0.000077</td>\n",
              "      <td>NaN</td>\n",
              "      <td>NaN</td>\n",
              "      <td>0.350000</td>\n",
              "      <td>0</td>\n",
              "      <td>8</td>\n",
              "      <td>2018-08-01</td>\n",
              "      <td>2018-08</td>\n",
              "    </tr>\n",
              "    <tr>\n",
              "      <th>4</th>\n",
              "      <td>df5fb9891f77df24a91d039f1817c6c4e79244ef</td>\n",
              "      <td>Productivity</td>\n",
              "      <td>NaN</td>\n",
              "      <td>NaN</td>\n",
              "      <td>NaN</td>\n",
              "      <td>NaN</td>\n",
              "      <td>NaN</td>\n",
              "      <td>NaN</td>\n",
              "      <td>NaN</td>\n",
              "      <td>NaN</td>\n",
              "      <td>NaN</td>\n",
              "      <td>NaN</td>\n",
              "      <td>NaN</td>\n",
              "      <td>0.000939</td>\n",
              "      <td>NaN</td>\n",
              "      <td>NaN</td>\n",
              "      <td>0.312500</td>\n",
              "      <td>0</td>\n",
              "      <td>8</td>\n",
              "      <td>2018-08-01</td>\n",
              "      <td>2018-08</td>\n",
              "    </tr>\n",
              "    <tr>\n",
              "      <th>...</th>\n",
              "      <td>...</td>\n",
              "      <td>...</td>\n",
              "      <td>...</td>\n",
              "      <td>...</td>\n",
              "      <td>...</td>\n",
              "      <td>...</td>\n",
              "      <td>...</td>\n",
              "      <td>...</td>\n",
              "      <td>...</td>\n",
              "      <td>...</td>\n",
              "      <td>...</td>\n",
              "      <td>...</td>\n",
              "      <td>...</td>\n",
              "      <td>...</td>\n",
              "      <td>...</td>\n",
              "      <td>...</td>\n",
              "      <td>...</td>\n",
              "      <td>...</td>\n",
              "      <td>...</td>\n",
              "      <td>...</td>\n",
              "      <td>...</td>\n",
              "    </tr>\n",
              "    <tr>\n",
              "      <th>1502170</th>\n",
              "      <td>edea27844070caa246be7a15b4127b8f9f4f9bc5</td>\n",
              "      <td>Action</td>\n",
              "      <td>NaN</td>\n",
              "      <td>NaN</td>\n",
              "      <td>NaN</td>\n",
              "      <td>NaN</td>\n",
              "      <td>NaN</td>\n",
              "      <td>NaN</td>\n",
              "      <td>NaN</td>\n",
              "      <td>NaN</td>\n",
              "      <td>NaN</td>\n",
              "      <td>NaN</td>\n",
              "      <td>NaN</td>\n",
              "      <td>NaN</td>\n",
              "      <td>NaN</td>\n",
              "      <td>NaN</td>\n",
              "      <td>1.000000</td>\n",
              "      <td>0</td>\n",
              "      <td>1</td>\n",
              "      <td>2019-01-01</td>\n",
              "      <td>2019-01</td>\n",
              "    </tr>\n",
              "    <tr>\n",
              "      <th>1502171</th>\n",
              "      <td>90b4546ebf64e49398e76af33073e8d97e66ecf9</td>\n",
              "      <td>Video Players &amp; Editors</td>\n",
              "      <td>NaN</td>\n",
              "      <td>NaN</td>\n",
              "      <td>NaN</td>\n",
              "      <td>NaN</td>\n",
              "      <td>NaN</td>\n",
              "      <td>NaN</td>\n",
              "      <td>NaN</td>\n",
              "      <td>NaN</td>\n",
              "      <td>NaN</td>\n",
              "      <td>NaN</td>\n",
              "      <td>NaN</td>\n",
              "      <td>NaN</td>\n",
              "      <td>NaN</td>\n",
              "      <td>NaN</td>\n",
              "      <td>0.000000</td>\n",
              "      <td>0</td>\n",
              "      <td>1</td>\n",
              "      <td>2019-01-01</td>\n",
              "      <td>2019-01</td>\n",
              "    </tr>\n",
              "    <tr>\n",
              "      <th>1502172</th>\n",
              "      <td>53ad9d220cb359aef863b9dab2de3e5ce65ef6e1</td>\n",
              "      <td>Action</td>\n",
              "      <td>NaN</td>\n",
              "      <td>NaN</td>\n",
              "      <td>NaN</td>\n",
              "      <td>NaN</td>\n",
              "      <td>NaN</td>\n",
              "      <td>NaN</td>\n",
              "      <td>NaN</td>\n",
              "      <td>NaN</td>\n",
              "      <td>NaN</td>\n",
              "      <td>NaN</td>\n",
              "      <td>NaN</td>\n",
              "      <td>NaN</td>\n",
              "      <td>NaN</td>\n",
              "      <td>NaN</td>\n",
              "      <td>1.000000</td>\n",
              "      <td>0</td>\n",
              "      <td>1</td>\n",
              "      <td>2019-01-01</td>\n",
              "      <td>2019-01</td>\n",
              "    </tr>\n",
              "    <tr>\n",
              "      <th>1502173</th>\n",
              "      <td>83016b735683928472e8043a51e5f9932e79db09</td>\n",
              "      <td>Tools</td>\n",
              "      <td>NaN</td>\n",
              "      <td>NaN</td>\n",
              "      <td>NaN</td>\n",
              "      <td>NaN</td>\n",
              "      <td>NaN</td>\n",
              "      <td>NaN</td>\n",
              "      <td>NaN</td>\n",
              "      <td>NaN</td>\n",
              "      <td>NaN</td>\n",
              "      <td>NaN</td>\n",
              "      <td>NaN</td>\n",
              "      <td>NaN</td>\n",
              "      <td>NaN</td>\n",
              "      <td>NaN</td>\n",
              "      <td>0.000000</td>\n",
              "      <td>0</td>\n",
              "      <td>1</td>\n",
              "      <td>2019-01-01</td>\n",
              "      <td>2019-01</td>\n",
              "    </tr>\n",
              "    <tr>\n",
              "      <th>1502174</th>\n",
              "      <td>6ae4d289b337fc39e2e0981a5deaf1be88caee18</td>\n",
              "      <td>Video Players &amp; Editors</td>\n",
              "      <td>NaN</td>\n",
              "      <td>NaN</td>\n",
              "      <td>NaN</td>\n",
              "      <td>NaN</td>\n",
              "      <td>NaN</td>\n",
              "      <td>NaN</td>\n",
              "      <td>NaN</td>\n",
              "      <td>NaN</td>\n",
              "      <td>NaN</td>\n",
              "      <td>NaN</td>\n",
              "      <td>NaN</td>\n",
              "      <td>NaN</td>\n",
              "      <td>NaN</td>\n",
              "      <td>NaN</td>\n",
              "      <td>1.000000</td>\n",
              "      <td>0</td>\n",
              "      <td>1</td>\n",
              "      <td>2019-01-01</td>\n",
              "      <td>2019-01</td>\n",
              "    </tr>\n",
              "  </tbody>\n",
              "</table>\n",
              "<p>351296 rows × 21 columns</p>\n",
              "</div>"
            ],
            "text/plain": [
              "                                             UUID  ... user_created_at_year_month\n",
              "0        c1ad38e2d357610c129657d870ede902e8abfcb9  ...                    2018-08\n",
              "1        d841e670d9191f896a0cbc75961920887b375756  ...                    2018-08\n",
              "2        0a59d138b3eaccd22b665eae70c756fef83ddb63  ...                    2018-08\n",
              "3        0a59d138b3eaccd22b665eae70c756fef83ddb63  ...                    2018-08\n",
              "4        df5fb9891f77df24a91d039f1817c6c4e79244ef  ...                    2018-08\n",
              "...                                           ...  ...                        ...\n",
              "1502170  edea27844070caa246be7a15b4127b8f9f4f9bc5  ...                    2019-01\n",
              "1502171  90b4546ebf64e49398e76af33073e8d97e66ecf9  ...                    2019-01\n",
              "1502172  53ad9d220cb359aef863b9dab2de3e5ce65ef6e1  ...                    2019-01\n",
              "1502173  83016b735683928472e8043a51e5f9932e79db09  ...                    2019-01\n",
              "1502174  6ae4d289b337fc39e2e0981a5deaf1be88caee18  ...                    2019-01\n",
              "\n",
              "[351296 rows x 21 columns]"
            ]
          },
          "metadata": {
            "tags": []
          },
          "execution_count": 43
        }
      ]
    },
    {
      "cell_type": "code",
      "metadata": {
        "id": "K5amYr5r2MXy",
        "colab": {
          "base_uri": "https://localhost:8080/"
        },
        "outputId": "e35d3a73-1c06-45d2-e6ba-07d94b35666c"
      },
      "source": [
        "len(not_funded_df)"
      ],
      "execution_count": 44,
      "outputs": [
        {
          "output_type": "execute_result",
          "data": {
            "text/plain": [
              "1410459"
            ]
          },
          "metadata": {
            "tags": []
          },
          "execution_count": 44
        }
      ]
    },
    {
      "cell_type": "code",
      "metadata": {
        "id": "oLq1N1p31xsj",
        "colab": {
          "base_uri": "https://localhost:8080/"
        },
        "outputId": "30cdd3f8-0e51-4f45-ed6d-86eea4d664fa"
      },
      "source": [
        "not_funded_df.isnull().sum()"
      ],
      "execution_count": 45,
      "outputs": [
        {
          "output_type": "execute_result",
          "data": {
            "text/plain": [
              "UUID                              969\n",
              "Application Category                0\n",
              "Avg_Session_Time               534293\n",
              "Business Models               1410459\n",
              "City                          1410459\n",
              "Company Stage                 1410459\n",
              "Feed Name                     1410459\n",
              "Founded Year                  1410459\n",
              "Latest Funded Date            1410459\n",
              "MAU                           1292780\n",
              "Open_Rate                      534310\n",
              "Overview                      1410459\n",
              "Practice Areas                1410459\n",
              "Reach                          450556\n",
              "Total Funding (USD)           1410459\n",
              "Total_Session_Time             534360\n",
              "Uninstall_Rate                1059163\n",
              "funding_ind                         0\n",
              "Month                               0\n",
              "Month1                              0\n",
              "user_created_at_year_month          0\n",
              "dtype: int64"
            ]
          },
          "metadata": {
            "tags": []
          },
          "execution_count": 45
        }
      ]
    },
    {
      "cell_type": "code",
      "metadata": {
        "id": "WVhKgiiwyES6",
        "colab": {
          "base_uri": "https://localhost:8080/"
        },
        "outputId": "63f4299d-e96e-4c00-ee1b-835e3610a477"
      },
      "source": [
        "not_funded_df.drop(['Business Models',\r\n",
        "'City',\r\n",
        "'Company Stage','Feed Name',\r\n",
        "'Founded Year',\r\n",
        "'Latest Funded Date',\r\n",
        "'MAU',\r\n",
        "'Overview',\r\n",
        "'Practice Areas','Total Funding (USD)'\r\n",
        "], axis = 1, inplace = True)"
      ],
      "execution_count": 46,
      "outputs": [
        {
          "output_type": "stream",
          "text": [
            "/usr/local/lib/python3.6/dist-packages/pandas/core/frame.py:4174: SettingWithCopyWarning: \n",
            "A value is trying to be set on a copy of a slice from a DataFrame\n",
            "\n",
            "See the caveats in the documentation: https://pandas.pydata.org/pandas-docs/stable/user_guide/indexing.html#returning-a-view-versus-a-copy\n",
            "  errors=errors,\n"
          ],
          "name": "stderr"
        }
      ]
    },
    {
      "cell_type": "code",
      "metadata": {
        "id": "rvvpkKPq3xQ9",
        "colab": {
          "base_uri": "https://localhost:8080/",
          "height": 724
        },
        "outputId": "6aef0d1c-af54-4d92-8cdd-e708bfe1bac4"
      },
      "source": [
        "import missingno as msno\r\n",
        "msno.matrix(not_funded_df)"
      ],
      "execution_count": 47,
      "outputs": [
        {
          "output_type": "execute_result",
          "data": {
            "text/plain": [
              "<matplotlib.axes._subplots.AxesSubplot at 0x7fbe876d8748>"
            ]
          },
          "metadata": {
            "tags": []
          },
          "execution_count": 47
        },
        {
          "output_type": "display_data",
          "data": {
            "image/png": "[encoded data removed]",
            "text/plain": [
              "<Figure size 1800x720 with 2 Axes>"
            ]
          },
          "metadata": {
            "tags": [],
            "needs_background": "light"
          }
        }
      ]
    },
    {
      "cell_type": "code",
      "metadata": {
        "colab": {
          "base_uri": "https://localhost:8080/",
          "height": 334
        },
        "id": "Y9LiGP7sjTV_",
        "outputId": "9a69ede5-33d2-415f-f110-169ac4f51bde"
      },
      "source": [
        "df.head()"
      ],
      "execution_count": 48,
      "outputs": [
        {
          "output_type": "execute_result",
          "data": {
            "text/html": [
              "<div>\n",
              "<style scoped>\n",
              "    .dataframe tbody tr th:only-of-type {\n",
              "        vertical-align: middle;\n",
              "    }\n",
              "\n",
              "    .dataframe tbody tr th {\n",
              "        vertical-align: top;\n",
              "    }\n",
              "\n",
              "    .dataframe thead th {\n",
              "        text-align: right;\n",
              "    }\n",
              "</style>\n",
              "<table border=\"1\" class=\"dataframe\">\n",
              "  <thead>\n",
              "    <tr style=\"text-align: right;\">\n",
              "      <th></th>\n",
              "      <th>UUID</th>\n",
              "      <th>Application Category</th>\n",
              "      <th>Avg_Session_Time</th>\n",
              "      <th>Business Models</th>\n",
              "      <th>City</th>\n",
              "      <th>Company Stage</th>\n",
              "      <th>Feed Name</th>\n",
              "      <th>Founded Year</th>\n",
              "      <th>Latest Funded Date</th>\n",
              "      <th>MAU</th>\n",
              "      <th>Open_Rate</th>\n",
              "      <th>Overview</th>\n",
              "      <th>Practice Areas</th>\n",
              "      <th>Reach</th>\n",
              "      <th>Total Funding (USD)</th>\n",
              "      <th>Total_Session_Time</th>\n",
              "      <th>Uninstall_Rate</th>\n",
              "      <th>funding_ind</th>\n",
              "      <th>Month</th>\n",
              "      <th>Month1</th>\n",
              "      <th>user_created_at_year_month</th>\n",
              "    </tr>\n",
              "  </thead>\n",
              "  <tbody>\n",
              "    <tr>\n",
              "      <th>0</th>\n",
              "      <td>c1ad38e2d357610c129657d870ede902e8abfcb9</td>\n",
              "      <td>Books &amp; Reference</td>\n",
              "      <td>NaN</td>\n",
              "      <td>NaN</td>\n",
              "      <td>NaN</td>\n",
              "      <td>NaN</td>\n",
              "      <td>NaN</td>\n",
              "      <td>NaN</td>\n",
              "      <td>NaN</td>\n",
              "      <td>NaN</td>\n",
              "      <td>NaN</td>\n",
              "      <td>NaN</td>\n",
              "      <td>NaN</td>\n",
              "      <td>0.042963</td>\n",
              "      <td>NaN</td>\n",
              "      <td>NaN</td>\n",
              "      <td>0.024443</td>\n",
              "      <td>0</td>\n",
              "      <td>8</td>\n",
              "      <td>2018-08-01</td>\n",
              "      <td>2018-08</td>\n",
              "    </tr>\n",
              "    <tr>\n",
              "      <th>1</th>\n",
              "      <td>d841e670d9191f896a0cbc75961920887b375756</td>\n",
              "      <td>Books &amp; Reference</td>\n",
              "      <td>NaN</td>\n",
              "      <td>NaN</td>\n",
              "      <td>NaN</td>\n",
              "      <td>NaN</td>\n",
              "      <td>NaN</td>\n",
              "      <td>NaN</td>\n",
              "      <td>NaN</td>\n",
              "      <td>NaN</td>\n",
              "      <td>NaN</td>\n",
              "      <td>NaN</td>\n",
              "      <td>NaN</td>\n",
              "      <td>0.003244</td>\n",
              "      <td>NaN</td>\n",
              "      <td>NaN</td>\n",
              "      <td>0.009828</td>\n",
              "      <td>0</td>\n",
              "      <td>8</td>\n",
              "      <td>2018-08-01</td>\n",
              "      <td>2018-08</td>\n",
              "    </tr>\n",
              "    <tr>\n",
              "      <th>2</th>\n",
              "      <td>0a59d138b3eaccd22b665eae70c756fef83ddb63</td>\n",
              "      <td>Finance</td>\n",
              "      <td>NaN</td>\n",
              "      <td>NaN</td>\n",
              "      <td>NaN</td>\n",
              "      <td>NaN</td>\n",
              "      <td>NaN</td>\n",
              "      <td>NaN</td>\n",
              "      <td>NaN</td>\n",
              "      <td>NaN</td>\n",
              "      <td>NaN</td>\n",
              "      <td>NaN</td>\n",
              "      <td>NaN</td>\n",
              "      <td>0.000161</td>\n",
              "      <td>NaN</td>\n",
              "      <td>NaN</td>\n",
              "      <td>0.235294</td>\n",
              "      <td>0</td>\n",
              "      <td>8</td>\n",
              "      <td>2018-08-01</td>\n",
              "      <td>2018-08</td>\n",
              "    </tr>\n",
              "    <tr>\n",
              "      <th>3</th>\n",
              "      <td>0a59d138b3eaccd22b665eae70c756fef83ddb63</td>\n",
              "      <td>Books &amp; Reference</td>\n",
              "      <td>NaN</td>\n",
              "      <td>NaN</td>\n",
              "      <td>NaN</td>\n",
              "      <td>NaN</td>\n",
              "      <td>NaN</td>\n",
              "      <td>NaN</td>\n",
              "      <td>NaN</td>\n",
              "      <td>NaN</td>\n",
              "      <td>NaN</td>\n",
              "      <td>NaN</td>\n",
              "      <td>NaN</td>\n",
              "      <td>0.000077</td>\n",
              "      <td>NaN</td>\n",
              "      <td>NaN</td>\n",
              "      <td>0.350000</td>\n",
              "      <td>0</td>\n",
              "      <td>8</td>\n",
              "      <td>2018-08-01</td>\n",
              "      <td>2018-08</td>\n",
              "    </tr>\n",
              "    <tr>\n",
              "      <th>4</th>\n",
              "      <td>df5fb9891f77df24a91d039f1817c6c4e79244ef</td>\n",
              "      <td>Productivity</td>\n",
              "      <td>NaN</td>\n",
              "      <td>NaN</td>\n",
              "      <td>NaN</td>\n",
              "      <td>NaN</td>\n",
              "      <td>NaN</td>\n",
              "      <td>NaN</td>\n",
              "      <td>NaN</td>\n",
              "      <td>NaN</td>\n",
              "      <td>NaN</td>\n",
              "      <td>NaN</td>\n",
              "      <td>NaN</td>\n",
              "      <td>0.000939</td>\n",
              "      <td>NaN</td>\n",
              "      <td>NaN</td>\n",
              "      <td>0.312500</td>\n",
              "      <td>0</td>\n",
              "      <td>8</td>\n",
              "      <td>2018-08-01</td>\n",
              "      <td>2018-08</td>\n",
              "    </tr>\n",
              "  </tbody>\n",
              "</table>\n",
              "</div>"
            ],
            "text/plain": [
              "                                       UUID  ... user_created_at_year_month\n",
              "0  c1ad38e2d357610c129657d870ede902e8abfcb9  ...                    2018-08\n",
              "1  d841e670d9191f896a0cbc75961920887b375756  ...                    2018-08\n",
              "2  0a59d138b3eaccd22b665eae70c756fef83ddb63  ...                    2018-08\n",
              "3  0a59d138b3eaccd22b665eae70c756fef83ddb63  ...                    2018-08\n",
              "4  df5fb9891f77df24a91d039f1817c6c4e79244ef  ...                    2018-08\n",
              "\n",
              "[5 rows x 21 columns]"
            ]
          },
          "metadata": {
            "tags": []
          },
          "execution_count": 48
        }
      ]
    },
    {
      "cell_type": "markdown",
      "metadata": {
        "id": "NHaepTSrkWMj"
      },
      "source": [
        "# Lets analyse for a single startup"
      ]
    },
    {
      "cell_type": "code",
      "metadata": {
        "colab": {
          "base_uri": "https://localhost:8080/",
          "height": 567
        },
        "id": "bBL52OYkkkFx",
        "outputId": "00c775d0-df3f-44e7-98cb-832a9fd6a66a"
      },
      "source": [
        "funded_df.head()"
      ],
      "execution_count": 49,
      "outputs": [
        {
          "output_type": "execute_result",
          "data": {
            "text/html": [
              "<div>\n",
              "<style scoped>\n",
              "    .dataframe tbody tr th:only-of-type {\n",
              "        vertical-align: middle;\n",
              "    }\n",
              "\n",
              "    .dataframe tbody tr th {\n",
              "        vertical-align: top;\n",
              "    }\n",
              "\n",
              "    .dataframe thead th {\n",
              "        text-align: right;\n",
              "    }\n",
              "</style>\n",
              "<table border=\"1\" class=\"dataframe\">\n",
              "  <thead>\n",
              "    <tr style=\"text-align: right;\">\n",
              "      <th></th>\n",
              "      <th>UUID</th>\n",
              "      <th>Application Category</th>\n",
              "      <th>Avg_Session_Time</th>\n",
              "      <th>Business Models</th>\n",
              "      <th>City</th>\n",
              "      <th>Company Stage</th>\n",
              "      <th>Feed Name</th>\n",
              "      <th>Founded Year</th>\n",
              "      <th>Latest Funded Date</th>\n",
              "      <th>MAU</th>\n",
              "      <th>Open_Rate</th>\n",
              "      <th>Overview</th>\n",
              "      <th>Practice Areas</th>\n",
              "      <th>Reach</th>\n",
              "      <th>Total Funding (USD)</th>\n",
              "      <th>Total_Session_Time</th>\n",
              "      <th>Uninstall_Rate</th>\n",
              "      <th>funding_ind</th>\n",
              "      <th>Month</th>\n",
              "      <th>Month1</th>\n",
              "      <th>user_created_at_year_month</th>\n",
              "    </tr>\n",
              "  </thead>\n",
              "  <tbody>\n",
              "    <tr>\n",
              "      <th>147</th>\n",
              "      <td>0de5c3fb8362718a71754d77061259c809266dd1</td>\n",
              "      <td>Parenting</td>\n",
              "      <td>NaN</td>\n",
              "      <td>Mom &amp; Baby Care &gt; Parenting &gt; Community</td>\n",
              "      <td>Mumbai</td>\n",
              "      <td>Series A</td>\n",
              "      <td>Mom &amp; Baby Care</td>\n",
              "      <td>2017.0</td>\n",
              "      <td>2018-09-10</td>\n",
              "      <td>NaN</td>\n",
              "      <td>NaN</td>\n",
              "      <td>Online parenting platform for pregnancy and ch...</td>\n",
              "      <td>Retail</td>\n",
              "      <td>0.000192</td>\n",
              "      <td>4087427.0</td>\n",
              "      <td>NaN</td>\n",
              "      <td>0.250000</td>\n",
              "      <td>1</td>\n",
              "      <td>8</td>\n",
              "      <td>2018-08-01</td>\n",
              "      <td>2018-08</td>\n",
              "    </tr>\n",
              "    <tr>\n",
              "      <th>212</th>\n",
              "      <td>1579dd1ed49a18f4f7520a91721c6e435f7c588e</td>\n",
              "      <td>Social</td>\n",
              "      <td>NaN</td>\n",
              "      <td>Social Platforms &gt; Women</td>\n",
              "      <td>Delhi</td>\n",
              "      <td>Series A</td>\n",
              "      <td>Social Platforms</td>\n",
              "      <td>2013.0</td>\n",
              "      <td>2018-09-19</td>\n",
              "      <td>NaN</td>\n",
              "      <td>NaN</td>\n",
              "      <td>Web and mobile app based community for women</td>\n",
              "      <td>Consumer\\nMedia &amp; Entertainment</td>\n",
              "      <td>0.000703</td>\n",
              "      <td>4473029.0</td>\n",
              "      <td>NaN</td>\n",
              "      <td>0.274336</td>\n",
              "      <td>1</td>\n",
              "      <td>8</td>\n",
              "      <td>2018-08-01</td>\n",
              "      <td>2018-08</td>\n",
              "    </tr>\n",
              "    <tr>\n",
              "      <th>2324</th>\n",
              "      <td>cae68bf26bf59549fac77ec044954f939ab28c28</td>\n",
              "      <td>Finance</td>\n",
              "      <td>NaN</td>\n",
              "      <td>Investment Tech &gt; Online Trading Platforms &gt; P...</td>\n",
              "      <td>Mumbai</td>\n",
              "      <td>Seed</td>\n",
              "      <td>Investment Tech</td>\n",
              "      <td>2016.0</td>\n",
              "      <td>2018-11-19</td>\n",
              "      <td>NaN</td>\n",
              "      <td>NaN</td>\n",
              "      <td>Online platform focused on mutual fund investm...</td>\n",
              "      <td>FinTech</td>\n",
              "      <td>0.000155</td>\n",
              "      <td>1220353.0</td>\n",
              "      <td>NaN</td>\n",
              "      <td>0.333333</td>\n",
              "      <td>1</td>\n",
              "      <td>8</td>\n",
              "      <td>2018-08-01</td>\n",
              "      <td>2018-08</td>\n",
              "    </tr>\n",
              "    <tr>\n",
              "      <th>2624</th>\n",
              "      <td>9d17e60de4c6bb504d258872b6cc0bffd09de171</td>\n",
              "      <td>Travel &amp; Local</td>\n",
              "      <td>NaN</td>\n",
              "      <td>Online Travel &gt; Transportation &gt; Train &gt; Onlin...</td>\n",
              "      <td>Bangalore</td>\n",
              "      <td>Seed</td>\n",
              "      <td>Online Travel</td>\n",
              "      <td>2014.0</td>\n",
              "      <td>2018-11-01</td>\n",
              "      <td>NaN</td>\n",
              "      <td>NaN</td>\n",
              "      <td>Online platform to book train tickets in India</td>\n",
              "      <td>Consumer\\nTravel and Hospitality Tech</td>\n",
              "      <td>0.995227</td>\n",
              "      <td>1156045.0</td>\n",
              "      <td>NaN</td>\n",
              "      <td>NaN</td>\n",
              "      <td>1</td>\n",
              "      <td>8</td>\n",
              "      <td>2018-08-01</td>\n",
              "      <td>2018-08</td>\n",
              "    </tr>\n",
              "    <tr>\n",
              "      <th>3374</th>\n",
              "      <td>7c3e0d6bec30478fb1e04249ac2e13016cf9c8db</td>\n",
              "      <td>Business</td>\n",
              "      <td>NaN</td>\n",
              "      <td>HRTech &gt; HRMS &gt; Suite &gt; Enterprise\\nCross Bord...</td>\n",
              "      <td>Gurgaon</td>\n",
              "      <td>Seed</td>\n",
              "      <td>HRTech\\nCross Border - India</td>\n",
              "      <td>1995.0</td>\n",
              "      <td>2018-10-01</td>\n",
              "      <td>NaN</td>\n",
              "      <td>NaN</td>\n",
              "      <td>SaaS based Human Resource Management</td>\n",
              "      <td>Enterprise Applications\\nGeo - India Tech</td>\n",
              "      <td>0.000161</td>\n",
              "      <td>34444.0</td>\n",
              "      <td>NaN</td>\n",
              "      <td>0.100000</td>\n",
              "      <td>1</td>\n",
              "      <td>8</td>\n",
              "      <td>2018-08-01</td>\n",
              "      <td>2018-08</td>\n",
              "    </tr>\n",
              "  </tbody>\n",
              "</table>\n",
              "</div>"
            ],
            "text/plain": [
              "                                          UUID  ... user_created_at_year_month\n",
              "147   0de5c3fb8362718a71754d77061259c809266dd1  ...                    2018-08\n",
              "212   1579dd1ed49a18f4f7520a91721c6e435f7c588e  ...                    2018-08\n",
              "2324  cae68bf26bf59549fac77ec044954f939ab28c28  ...                    2018-08\n",
              "2624  9d17e60de4c6bb504d258872b6cc0bffd09de171  ...                    2018-08\n",
              "3374  7c3e0d6bec30478fb1e04249ac2e13016cf9c8db  ...                    2018-08\n",
              "\n",
              "[5 rows x 21 columns]"
            ]
          },
          "metadata": {
            "tags": []
          },
          "execution_count": 49
        }
      ]
    },
    {
      "cell_type": "code",
      "metadata": {
        "colab": {
          "base_uri": "https://localhost:8080/",
          "height": 1000
        },
        "id": "lEMfm9thlPOE",
        "outputId": "e20b4049-0761-42ad-dde0-dcd2e8021135"
      },
      "source": [
        "df[df['UUID']=='0de5c3fb8362718a71754d77061259c809266dd1'].sort_values('Month1')"
      ],
      "execution_count": 50,
      "outputs": [
        {
          "output_type": "execute_result",
          "data": {
            "text/html": [
              "<div>\n",
              "<style scoped>\n",
              "    .dataframe tbody tr th:only-of-type {\n",
              "        vertical-align: middle;\n",
              "    }\n",
              "\n",
              "    .dataframe tbody tr th {\n",
              "        vertical-align: top;\n",
              "    }\n",
              "\n",
              "    .dataframe thead th {\n",
              "        text-align: right;\n",
              "    }\n",
              "</style>\n",
              "<table border=\"1\" class=\"dataframe\">\n",
              "  <thead>\n",
              "    <tr style=\"text-align: right;\">\n",
              "      <th></th>\n",
              "      <th>UUID</th>\n",
              "      <th>Application Category</th>\n",
              "      <th>Avg_Session_Time</th>\n",
              "      <th>Business Models</th>\n",
              "      <th>City</th>\n",
              "      <th>Company Stage</th>\n",
              "      <th>Feed Name</th>\n",
              "      <th>Founded Year</th>\n",
              "      <th>Latest Funded Date</th>\n",
              "      <th>MAU</th>\n",
              "      <th>Open_Rate</th>\n",
              "      <th>Overview</th>\n",
              "      <th>Practice Areas</th>\n",
              "      <th>Reach</th>\n",
              "      <th>Total Funding (USD)</th>\n",
              "      <th>Total_Session_Time</th>\n",
              "      <th>Uninstall_Rate</th>\n",
              "      <th>funding_ind</th>\n",
              "      <th>Month</th>\n",
              "      <th>Month1</th>\n",
              "      <th>user_created_at_year_month</th>\n",
              "    </tr>\n",
              "  </thead>\n",
              "  <tbody>\n",
              "    <tr>\n",
              "      <th>792227</th>\n",
              "      <td>0de5c3fb8362718a71754d77061259c809266dd1</td>\n",
              "      <td>Parenting</td>\n",
              "      <td>NaN</td>\n",
              "      <td>Mom &amp; Baby Care &gt; Parenting &gt; Community</td>\n",
              "      <td>Mumbai</td>\n",
              "      <td>Series A</td>\n",
              "      <td>Mom &amp; Baby Care</td>\n",
              "      <td>2017.0</td>\n",
              "      <td>2018-09-10</td>\n",
              "      <td>NaN</td>\n",
              "      <td>NaN</td>\n",
              "      <td>Online parenting platform for pregnancy and ch...</td>\n",
              "      <td>Retail</td>\n",
              "      <td>0.000224</td>\n",
              "      <td>4087427.0</td>\n",
              "      <td>NaN</td>\n",
              "      <td>0.078947</td>\n",
              "      <td>1</td>\n",
              "      <td>7</td>\n",
              "      <td>2018-07-01</td>\n",
              "      <td>2018-07</td>\n",
              "    </tr>\n",
              "    <tr>\n",
              "      <th>147</th>\n",
              "      <td>0de5c3fb8362718a71754d77061259c809266dd1</td>\n",
              "      <td>Parenting</td>\n",
              "      <td>NaN</td>\n",
              "      <td>Mom &amp; Baby Care &gt; Parenting &gt; Community</td>\n",
              "      <td>Mumbai</td>\n",
              "      <td>Series A</td>\n",
              "      <td>Mom &amp; Baby Care</td>\n",
              "      <td>2017.0</td>\n",
              "      <td>2018-09-10</td>\n",
              "      <td>NaN</td>\n",
              "      <td>NaN</td>\n",
              "      <td>Online parenting platform for pregnancy and ch...</td>\n",
              "      <td>Retail</td>\n",
              "      <td>0.000192</td>\n",
              "      <td>4087427.0</td>\n",
              "      <td>NaN</td>\n",
              "      <td>0.250000</td>\n",
              "      <td>1</td>\n",
              "      <td>8</td>\n",
              "      <td>2018-08-01</td>\n",
              "      <td>2018-08</td>\n",
              "    </tr>\n",
              "    <tr>\n",
              "      <th>716058</th>\n",
              "      <td>0de5c3fb8362718a71754d77061259c809266dd1</td>\n",
              "      <td>Parenting</td>\n",
              "      <td>NaN</td>\n",
              "      <td>NaN</td>\n",
              "      <td>NaN</td>\n",
              "      <td>NaN</td>\n",
              "      <td>NaN</td>\n",
              "      <td>NaN</td>\n",
              "      <td>NaN</td>\n",
              "      <td>NaN</td>\n",
              "      <td>NaN</td>\n",
              "      <td>NaN</td>\n",
              "      <td>NaN</td>\n",
              "      <td>0.000278</td>\n",
              "      <td>NaN</td>\n",
              "      <td>NaN</td>\n",
              "      <td>0.158730</td>\n",
              "      <td>0</td>\n",
              "      <td>9</td>\n",
              "      <td>2018-09-01</td>\n",
              "      <td>2018-09</td>\n",
              "    </tr>\n",
              "    <tr>\n",
              "      <th>805002</th>\n",
              "      <td>0de5c3fb8362718a71754d77061259c809266dd1</td>\n",
              "      <td>Parenting</td>\n",
              "      <td>NaN</td>\n",
              "      <td>NaN</td>\n",
              "      <td>NaN</td>\n",
              "      <td>NaN</td>\n",
              "      <td>NaN</td>\n",
              "      <td>NaN</td>\n",
              "      <td>NaN</td>\n",
              "      <td>NaN</td>\n",
              "      <td>NaN</td>\n",
              "      <td>NaN</td>\n",
              "      <td>NaN</td>\n",
              "      <td>0.000864</td>\n",
              "      <td>NaN</td>\n",
              "      <td>NaN</td>\n",
              "      <td>0.127451</td>\n",
              "      <td>0</td>\n",
              "      <td>10</td>\n",
              "      <td>2018-10-01</td>\n",
              "      <td>2018-10</td>\n",
              "    </tr>\n",
              "    <tr>\n",
              "      <th>818813</th>\n",
              "      <td>0de5c3fb8362718a71754d77061259c809266dd1</td>\n",
              "      <td>Parenting</td>\n",
              "      <td>NaN</td>\n",
              "      <td>NaN</td>\n",
              "      <td>NaN</td>\n",
              "      <td>NaN</td>\n",
              "      <td>NaN</td>\n",
              "      <td>NaN</td>\n",
              "      <td>NaN</td>\n",
              "      <td>NaN</td>\n",
              "      <td>NaN</td>\n",
              "      <td>NaN</td>\n",
              "      <td>NaN</td>\n",
              "      <td>0.001118</td>\n",
              "      <td>NaN</td>\n",
              "      <td>NaN</td>\n",
              "      <td>0.389899</td>\n",
              "      <td>0</td>\n",
              "      <td>11</td>\n",
              "      <td>2018-11-01</td>\n",
              "      <td>2018-11</td>\n",
              "    </tr>\n",
              "    <tr>\n",
              "      <th>745678</th>\n",
              "      <td>0de5c3fb8362718a71754d77061259c809266dd1</td>\n",
              "      <td>Parenting</td>\n",
              "      <td>NaN</td>\n",
              "      <td>NaN</td>\n",
              "      <td>NaN</td>\n",
              "      <td>NaN</td>\n",
              "      <td>NaN</td>\n",
              "      <td>NaN</td>\n",
              "      <td>NaN</td>\n",
              "      <td>NaN</td>\n",
              "      <td>NaN</td>\n",
              "      <td>NaN</td>\n",
              "      <td>NaN</td>\n",
              "      <td>0.001189</td>\n",
              "      <td>NaN</td>\n",
              "      <td>NaN</td>\n",
              "      <td>0.426136</td>\n",
              "      <td>0</td>\n",
              "      <td>12</td>\n",
              "      <td>2018-12-01</td>\n",
              "      <td>2018-12</td>\n",
              "    </tr>\n",
              "    <tr>\n",
              "      <th>1487611</th>\n",
              "      <td>0de5c3fb8362718a71754d77061259c809266dd1</td>\n",
              "      <td>Parenting</td>\n",
              "      <td>NaN</td>\n",
              "      <td>NaN</td>\n",
              "      <td>NaN</td>\n",
              "      <td>NaN</td>\n",
              "      <td>NaN</td>\n",
              "      <td>NaN</td>\n",
              "      <td>NaN</td>\n",
              "      <td>NaN</td>\n",
              "      <td>NaN</td>\n",
              "      <td>NaN</td>\n",
              "      <td>NaN</td>\n",
              "      <td>0.001187</td>\n",
              "      <td>NaN</td>\n",
              "      <td>NaN</td>\n",
              "      <td>0.203057</td>\n",
              "      <td>0</td>\n",
              "      <td>1</td>\n",
              "      <td>2019-01-01</td>\n",
              "      <td>2019-01</td>\n",
              "    </tr>\n",
              "    <tr>\n",
              "      <th>417724</th>\n",
              "      <td>0de5c3fb8362718a71754d77061259c809266dd1</td>\n",
              "      <td>Parenting</td>\n",
              "      <td>NaN</td>\n",
              "      <td>NaN</td>\n",
              "      <td>NaN</td>\n",
              "      <td>NaN</td>\n",
              "      <td>NaN</td>\n",
              "      <td>NaN</td>\n",
              "      <td>NaN</td>\n",
              "      <td>NaN</td>\n",
              "      <td>NaN</td>\n",
              "      <td>NaN</td>\n",
              "      <td>NaN</td>\n",
              "      <td>0.001225</td>\n",
              "      <td>NaN</td>\n",
              "      <td>NaN</td>\n",
              "      <td>0.289246</td>\n",
              "      <td>0</td>\n",
              "      <td>2</td>\n",
              "      <td>2019-02-01</td>\n",
              "      <td>2019-02</td>\n",
              "    </tr>\n",
              "    <tr>\n",
              "      <th>536884</th>\n",
              "      <td>0de5c3fb8362718a71754d77061259c809266dd1</td>\n",
              "      <td>Parenting</td>\n",
              "      <td>NaN</td>\n",
              "      <td>NaN</td>\n",
              "      <td>NaN</td>\n",
              "      <td>NaN</td>\n",
              "      <td>NaN</td>\n",
              "      <td>NaN</td>\n",
              "      <td>NaN</td>\n",
              "      <td>NaN</td>\n",
              "      <td>NaN</td>\n",
              "      <td>NaN</td>\n",
              "      <td>NaN</td>\n",
              "      <td>0.001013</td>\n",
              "      <td>NaN</td>\n",
              "      <td>NaN</td>\n",
              "      <td>0.234491</td>\n",
              "      <td>0</td>\n",
              "      <td>3</td>\n",
              "      <td>2019-03-01</td>\n",
              "      <td>2019-03</td>\n",
              "    </tr>\n",
              "    <tr>\n",
              "      <th>1104799</th>\n",
              "      <td>0de5c3fb8362718a71754d77061259c809266dd1</td>\n",
              "      <td>Parenting</td>\n",
              "      <td>NaN</td>\n",
              "      <td>NaN</td>\n",
              "      <td>NaN</td>\n",
              "      <td>NaN</td>\n",
              "      <td>NaN</td>\n",
              "      <td>NaN</td>\n",
              "      <td>NaN</td>\n",
              "      <td>NaN</td>\n",
              "      <td>NaN</td>\n",
              "      <td>NaN</td>\n",
              "      <td>NaN</td>\n",
              "      <td>0.000965</td>\n",
              "      <td>NaN</td>\n",
              "      <td>NaN</td>\n",
              "      <td>0.212963</td>\n",
              "      <td>0</td>\n",
              "      <td>4</td>\n",
              "      <td>2019-04-01</td>\n",
              "      <td>2019-04</td>\n",
              "    </tr>\n",
              "    <tr>\n",
              "      <th>1389629</th>\n",
              "      <td>0de5c3fb8362718a71754d77061259c809266dd1</td>\n",
              "      <td>Parenting</td>\n",
              "      <td>NaN</td>\n",
              "      <td>NaN</td>\n",
              "      <td>NaN</td>\n",
              "      <td>NaN</td>\n",
              "      <td>NaN</td>\n",
              "      <td>NaN</td>\n",
              "      <td>NaN</td>\n",
              "      <td>NaN</td>\n",
              "      <td>NaN</td>\n",
              "      <td>NaN</td>\n",
              "      <td>NaN</td>\n",
              "      <td>0.000943</td>\n",
              "      <td>NaN</td>\n",
              "      <td>NaN</td>\n",
              "      <td>0.222841</td>\n",
              "      <td>0</td>\n",
              "      <td>5</td>\n",
              "      <td>2019-05-01</td>\n",
              "      <td>2019-05</td>\n",
              "    </tr>\n",
              "    <tr>\n",
              "      <th>13390</th>\n",
              "      <td>0de5c3fb8362718a71754d77061259c809266dd1</td>\n",
              "      <td>Parenting</td>\n",
              "      <td>NaN</td>\n",
              "      <td>NaN</td>\n",
              "      <td>NaN</td>\n",
              "      <td>NaN</td>\n",
              "      <td>NaN</td>\n",
              "      <td>NaN</td>\n",
              "      <td>NaN</td>\n",
              "      <td>NaN</td>\n",
              "      <td>NaN</td>\n",
              "      <td>NaN</td>\n",
              "      <td>NaN</td>\n",
              "      <td>0.000899</td>\n",
              "      <td>NaN</td>\n",
              "      <td>NaN</td>\n",
              "      <td>0.207989</td>\n",
              "      <td>0</td>\n",
              "      <td>6</td>\n",
              "      <td>2019-06-01</td>\n",
              "      <td>2019-06</td>\n",
              "    </tr>\n",
              "    <tr>\n",
              "      <th>729616</th>\n",
              "      <td>0de5c3fb8362718a71754d77061259c809266dd1</td>\n",
              "      <td>Parenting</td>\n",
              "      <td>NaN</td>\n",
              "      <td>NaN</td>\n",
              "      <td>NaN</td>\n",
              "      <td>NaN</td>\n",
              "      <td>NaN</td>\n",
              "      <td>NaN</td>\n",
              "      <td>NaN</td>\n",
              "      <td>NaN</td>\n",
              "      <td>NaN</td>\n",
              "      <td>NaN</td>\n",
              "      <td>NaN</td>\n",
              "      <td>0.000879</td>\n",
              "      <td>NaN</td>\n",
              "      <td>NaN</td>\n",
              "      <td>0.236111</td>\n",
              "      <td>0</td>\n",
              "      <td>7</td>\n",
              "      <td>2019-07-01</td>\n",
              "      <td>2019-07</td>\n",
              "    </tr>\n",
              "    <tr>\n",
              "      <th>760098</th>\n",
              "      <td>0de5c3fb8362718a71754d77061259c809266dd1</td>\n",
              "      <td>Parenting</td>\n",
              "      <td>NaN</td>\n",
              "      <td>NaN</td>\n",
              "      <td>NaN</td>\n",
              "      <td>NaN</td>\n",
              "      <td>NaN</td>\n",
              "      <td>NaN</td>\n",
              "      <td>NaN</td>\n",
              "      <td>NaN</td>\n",
              "      <td>NaN</td>\n",
              "      <td>NaN</td>\n",
              "      <td>NaN</td>\n",
              "      <td>0.000820</td>\n",
              "      <td>NaN</td>\n",
              "      <td>NaN</td>\n",
              "      <td>0.229974</td>\n",
              "      <td>0</td>\n",
              "      <td>8</td>\n",
              "      <td>2019-08-01</td>\n",
              "      <td>2019-08</td>\n",
              "    </tr>\n",
              "    <tr>\n",
              "      <th>776178</th>\n",
              "      <td>0de5c3fb8362718a71754d77061259c809266dd1</td>\n",
              "      <td>Parenting</td>\n",
              "      <td>NaN</td>\n",
              "      <td>NaN</td>\n",
              "      <td>NaN</td>\n",
              "      <td>NaN</td>\n",
              "      <td>NaN</td>\n",
              "      <td>NaN</td>\n",
              "      <td>NaN</td>\n",
              "      <td>NaN</td>\n",
              "      <td>NaN</td>\n",
              "      <td>NaN</td>\n",
              "      <td>NaN</td>\n",
              "      <td>0.000751</td>\n",
              "      <td>NaN</td>\n",
              "      <td>NaN</td>\n",
              "      <td>0.188953</td>\n",
              "      <td>0</td>\n",
              "      <td>9</td>\n",
              "      <td>2019-09-01</td>\n",
              "      <td>2019-09</td>\n",
              "    </tr>\n",
              "    <tr>\n",
              "      <th>832970</th>\n",
              "      <td>0de5c3fb8362718a71754d77061259c809266dd1</td>\n",
              "      <td>Parenting</td>\n",
              "      <td>NaN</td>\n",
              "      <td>NaN</td>\n",
              "      <td>NaN</td>\n",
              "      <td>NaN</td>\n",
              "      <td>NaN</td>\n",
              "      <td>NaN</td>\n",
              "      <td>NaN</td>\n",
              "      <td>NaN</td>\n",
              "      <td>NaN</td>\n",
              "      <td>NaN</td>\n",
              "      <td>NaN</td>\n",
              "      <td>0.000714</td>\n",
              "      <td>NaN</td>\n",
              "      <td>NaN</td>\n",
              "      <td>0.198847</td>\n",
              "      <td>0</td>\n",
              "      <td>10</td>\n",
              "      <td>2019-10-01</td>\n",
              "      <td>2019-10</td>\n",
              "    </tr>\n",
              "    <tr>\n",
              "      <th>1405436</th>\n",
              "      <td>0de5c3fb8362718a71754d77061259c809266dd1</td>\n",
              "      <td>Parenting</td>\n",
              "      <td>1.526148</td>\n",
              "      <td>NaN</td>\n",
              "      <td>NaN</td>\n",
              "      <td>NaN</td>\n",
              "      <td>NaN</td>\n",
              "      <td>NaN</td>\n",
              "      <td>NaN</td>\n",
              "      <td>0.567976</td>\n",
              "      <td>2.709864</td>\n",
              "      <td>NaN</td>\n",
              "      <td>NaN</td>\n",
              "      <td>0.000739</td>\n",
              "      <td>NaN</td>\n",
              "      <td>4.180550</td>\n",
              "      <td>0.169051</td>\n",
              "      <td>0</td>\n",
              "      <td>11</td>\n",
              "      <td>2019-11-01</td>\n",
              "      <td>2019-11</td>\n",
              "    </tr>\n",
              "    <tr>\n",
              "      <th>29349</th>\n",
              "      <td>0de5c3fb8362718a71754d77061259c809266dd1</td>\n",
              "      <td>Parenting</td>\n",
              "      <td>1.542494</td>\n",
              "      <td>NaN</td>\n",
              "      <td>NaN</td>\n",
              "      <td>NaN</td>\n",
              "      <td>NaN</td>\n",
              "      <td>NaN</td>\n",
              "      <td>NaN</td>\n",
              "      <td>0.558333</td>\n",
              "      <td>3.819501</td>\n",
              "      <td>NaN</td>\n",
              "      <td>NaN</td>\n",
              "      <td>0.000576</td>\n",
              "      <td>NaN</td>\n",
              "      <td>6.197355</td>\n",
              "      <td>0.162416</td>\n",
              "      <td>0</td>\n",
              "      <td>12</td>\n",
              "      <td>2019-12-01</td>\n",
              "      <td>2019-12</td>\n",
              "    </tr>\n",
              "    <tr>\n",
              "      <th>849050</th>\n",
              "      <td>0de5c3fb8362718a71754d77061259c809266dd1</td>\n",
              "      <td>Parenting</td>\n",
              "      <td>1.468243</td>\n",
              "      <td>NaN</td>\n",
              "      <td>NaN</td>\n",
              "      <td>NaN</td>\n",
              "      <td>NaN</td>\n",
              "      <td>NaN</td>\n",
              "      <td>NaN</td>\n",
              "      <td>0.497835</td>\n",
              "      <td>2.476687</td>\n",
              "      <td>NaN</td>\n",
              "      <td>NaN</td>\n",
              "      <td>0.000493</td>\n",
              "      <td>NaN</td>\n",
              "      <td>3.628003</td>\n",
              "      <td>0.124304</td>\n",
              "      <td>0</td>\n",
              "      <td>1</td>\n",
              "      <td>2020-01-01</td>\n",
              "      <td>2020-01</td>\n",
              "    </tr>\n",
              "    <tr>\n",
              "      <th>432707</th>\n",
              "      <td>0de5c3fb8362718a71754d77061259c809266dd1</td>\n",
              "      <td>Parenting</td>\n",
              "      <td>1.313062</td>\n",
              "      <td>NaN</td>\n",
              "      <td>NaN</td>\n",
              "      <td>NaN</td>\n",
              "      <td>NaN</td>\n",
              "      <td>NaN</td>\n",
              "      <td>NaN</td>\n",
              "      <td>0.451923</td>\n",
              "      <td>2.757973</td>\n",
              "      <td>NaN</td>\n",
              "      <td>NaN</td>\n",
              "      <td>0.000416</td>\n",
              "      <td>NaN</td>\n",
              "      <td>3.657806</td>\n",
              "      <td>0.092213</td>\n",
              "      <td>0</td>\n",
              "      <td>2</td>\n",
              "      <td>2020-02-01</td>\n",
              "      <td>2020-02</td>\n",
              "    </tr>\n",
              "    <tr>\n",
              "      <th>129562</th>\n",
              "      <td>0de5c3fb8362718a71754d77061259c809266dd1</td>\n",
              "      <td>Parenting</td>\n",
              "      <td>1.306324</td>\n",
              "      <td>NaN</td>\n",
              "      <td>NaN</td>\n",
              "      <td>NaN</td>\n",
              "      <td>NaN</td>\n",
              "      <td>NaN</td>\n",
              "      <td>NaN</td>\n",
              "      <td>0.266667</td>\n",
              "      <td>2.202426</td>\n",
              "      <td>NaN</td>\n",
              "      <td>NaN</td>\n",
              "      <td>0.000317</td>\n",
              "      <td>NaN</td>\n",
              "      <td>2.850983</td>\n",
              "      <td>0.113333</td>\n",
              "      <td>0</td>\n",
              "      <td>3</td>\n",
              "      <td>2020-03-01</td>\n",
              "      <td>2020-03</td>\n",
              "    </tr>\n",
              "    <tr>\n",
              "      <th>1123700</th>\n",
              "      <td>0de5c3fb8362718a71754d77061259c809266dd1</td>\n",
              "      <td>Parenting</td>\n",
              "      <td>1.184179</td>\n",
              "      <td>NaN</td>\n",
              "      <td>NaN</td>\n",
              "      <td>NaN</td>\n",
              "      <td>NaN</td>\n",
              "      <td>NaN</td>\n",
              "      <td>NaN</td>\n",
              "      <td>0.469697</td>\n",
              "      <td>2.557143</td>\n",
              "      <td>NaN</td>\n",
              "      <td>NaN</td>\n",
              "      <td>0.000186</td>\n",
              "      <td>NaN</td>\n",
              "      <td>3.093547</td>\n",
              "      <td>0.097473</td>\n",
              "      <td>0</td>\n",
              "      <td>4</td>\n",
              "      <td>2020-04-01</td>\n",
              "      <td>2020-04</td>\n",
              "    </tr>\n",
              "    <tr>\n",
              "      <th>952047</th>\n",
              "      <td>0de5c3fb8362718a71754d77061259c809266dd1</td>\n",
              "      <td>Parenting</td>\n",
              "      <td>1.204655</td>\n",
              "      <td>NaN</td>\n",
              "      <td>NaN</td>\n",
              "      <td>NaN</td>\n",
              "      <td>NaN</td>\n",
              "      <td>NaN</td>\n",
              "      <td>NaN</td>\n",
              "      <td>0.471429</td>\n",
              "      <td>3.291601</td>\n",
              "      <td>NaN</td>\n",
              "      <td>NaN</td>\n",
              "      <td>0.000317</td>\n",
              "      <td>NaN</td>\n",
              "      <td>4.089295</td>\n",
              "      <td>0.103604</td>\n",
              "      <td>0</td>\n",
              "      <td>5</td>\n",
              "      <td>2020-05-01</td>\n",
              "      <td>2020-05</td>\n",
              "    </tr>\n",
              "    <tr>\n",
              "      <th>553328</th>\n",
              "      <td>0de5c3fb8362718a71754d77061259c809266dd1</td>\n",
              "      <td>Parenting</td>\n",
              "      <td>1.339234</td>\n",
              "      <td>NaN</td>\n",
              "      <td>NaN</td>\n",
              "      <td>NaN</td>\n",
              "      <td>NaN</td>\n",
              "      <td>NaN</td>\n",
              "      <td>NaN</td>\n",
              "      <td>0.492147</td>\n",
              "      <td>2.772866</td>\n",
              "      <td>NaN</td>\n",
              "      <td>NaN</td>\n",
              "      <td>0.000313</td>\n",
              "      <td>NaN</td>\n",
              "      <td>3.717699</td>\n",
              "      <td>0.070000</td>\n",
              "      <td>0</td>\n",
              "      <td>6</td>\n",
              "      <td>2020-06-01</td>\n",
              "      <td>2020-06</td>\n",
              "    </tr>\n",
              "  </tbody>\n",
              "</table>\n",
              "</div>"
            ],
            "text/plain": [
              "                                             UUID  ... user_created_at_year_month\n",
              "792227   0de5c3fb8362718a71754d77061259c809266dd1  ...                    2018-07\n",
              "147      0de5c3fb8362718a71754d77061259c809266dd1  ...                    2018-08\n",
              "716058   0de5c3fb8362718a71754d77061259c809266dd1  ...                    2018-09\n",
              "805002   0de5c3fb8362718a71754d77061259c809266dd1  ...                    2018-10\n",
              "818813   0de5c3fb8362718a71754d77061259c809266dd1  ...                    2018-11\n",
              "745678   0de5c3fb8362718a71754d77061259c809266dd1  ...                    2018-12\n",
              "1487611  0de5c3fb8362718a71754d77061259c809266dd1  ...                    2019-01\n",
              "417724   0de5c3fb8362718a71754d77061259c809266dd1  ...                    2019-02\n",
              "536884   0de5c3fb8362718a71754d77061259c809266dd1  ...                    2019-03\n",
              "1104799  0de5c3fb8362718a71754d77061259c809266dd1  ...                    2019-04\n",
              "1389629  0de5c3fb8362718a71754d77061259c809266dd1  ...                    2019-05\n",
              "13390    0de5c3fb8362718a71754d77061259c809266dd1  ...                    2019-06\n",
              "729616   0de5c3fb8362718a71754d77061259c809266dd1  ...                    2019-07\n",
              "760098   0de5c3fb8362718a71754d77061259c809266dd1  ...                    2019-08\n",
              "776178   0de5c3fb8362718a71754d77061259c809266dd1  ...                    2019-09\n",
              "832970   0de5c3fb8362718a71754d77061259c809266dd1  ...                    2019-10\n",
              "1405436  0de5c3fb8362718a71754d77061259c809266dd1  ...                    2019-11\n",
              "29349    0de5c3fb8362718a71754d77061259c809266dd1  ...                    2019-12\n",
              "849050   0de5c3fb8362718a71754d77061259c809266dd1  ...                    2020-01\n",
              "432707   0de5c3fb8362718a71754d77061259c809266dd1  ...                    2020-02\n",
              "129562   0de5c3fb8362718a71754d77061259c809266dd1  ...                    2020-03\n",
              "1123700  0de5c3fb8362718a71754d77061259c809266dd1  ...                    2020-04\n",
              "952047   0de5c3fb8362718a71754d77061259c809266dd1  ...                    2020-05\n",
              "553328   0de5c3fb8362718a71754d77061259c809266dd1  ...                    2020-06\n",
              "\n",
              "[24 rows x 21 columns]"
            ]
          },
          "metadata": {
            "tags": []
          },
          "execution_count": 50
        }
      ]
    },
    {
      "cell_type": "code",
      "metadata": {
        "colab": {
          "base_uri": "https://localhost:8080/"
        },
        "id": "CRSz5scmmRVE",
        "outputId": "ff0c0dc8-0cda-4087-a703-c6e5a4dfc69d"
      },
      "source": [
        "len(df[df['UUID']=='0de5c3fb8362718a71754d77061259c809266dd1'].sort_values('Month1'))"
      ],
      "execution_count": 51,
      "outputs": [
        {
          "output_type": "execute_result",
          "data": {
            "text/plain": [
              "24"
            ]
          },
          "metadata": {
            "tags": []
          },
          "execution_count": 51
        }
      ]
    },
    {
      "cell_type": "code",
      "metadata": {
        "colab": {
          "base_uri": "https://localhost:8080/"
        },
        "id": "zmkFS4yMnDQW",
        "outputId": "db6f0e9f-c800-4c8c-e549-471a475ead67"
      },
      "source": [
        "startup_info_df = df.groupby('UUID')['funding_ind','Reach','Uninstall_Rate'].sum().reset_index().rename(columns = {'funding_ind':'total_funding_ind','Reach':'total_Reach','uninstall_Rate':'total_Uninstall_Rate'})"
      ],
      "execution_count": 52,
      "outputs": [
        {
          "output_type": "stream",
          "text": [
            "/usr/local/lib/python3.6/dist-packages/ipykernel_launcher.py:1: FutureWarning: Indexing with multiple keys (implicitly converted to a tuple of keys) will be deprecated, use a list instead.\n",
            "  \"\"\"Entry point for launching an IPython kernel.\n"
          ],
          "name": "stderr"
        }
      ]
    },
    {
      "cell_type": "code",
      "metadata": {
        "colab": {
          "base_uri": "https://localhost:8080/",
          "height": 406
        },
        "id": "Q8CJtWdpZsH_",
        "outputId": "199dd2a4-8218-45ce-fe2d-c14d82a1bc51"
      },
      "source": [
        "startup_info_df[startup_info_df['total_funding_ind']==0]"
      ],
      "execution_count": 53,
      "outputs": [
        {
          "output_type": "execute_result",
          "data": {
            "text/html": [
              "<div>\n",
              "<style scoped>\n",
              "    .dataframe tbody tr th:only-of-type {\n",
              "        vertical-align: middle;\n",
              "    }\n",
              "\n",
              "    .dataframe tbody tr th {\n",
              "        vertical-align: top;\n",
              "    }\n",
              "\n",
              "    .dataframe thead th {\n",
              "        text-align: right;\n",
              "    }\n",
              "</style>\n",
              "<table border=\"1\" class=\"dataframe\">\n",
              "  <thead>\n",
              "    <tr style=\"text-align: right;\">\n",
              "      <th></th>\n",
              "      <th>UUID</th>\n",
              "      <th>total_funding_ind</th>\n",
              "      <th>total_Reach</th>\n",
              "      <th>Uninstall_Rate</th>\n",
              "    </tr>\n",
              "  </thead>\n",
              "  <tbody>\n",
              "    <tr>\n",
              "      <th>0</th>\n",
              "      <td>000066f130e3b972364c505c805e2cddee68816d</td>\n",
              "      <td>0</td>\n",
              "      <td>5.388807e-06</td>\n",
              "      <td>0.00000</td>\n",
              "    </tr>\n",
              "    <tr>\n",
              "      <th>1</th>\n",
              "      <td>0000c4128bc8bb7dbfbc68f2afec85f485dbcc6b</td>\n",
              "      <td>0</td>\n",
              "      <td>3.022203e-07</td>\n",
              "      <td>0.00000</td>\n",
              "    </tr>\n",
              "    <tr>\n",
              "      <th>2</th>\n",
              "      <td>0000d19d56df9df1f266fc1fd245a37ff27fb1f3</td>\n",
              "      <td>0</td>\n",
              "      <td>2.859197e-05</td>\n",
              "      <td>0.00000</td>\n",
              "    </tr>\n",
              "    <tr>\n",
              "      <th>3</th>\n",
              "      <td>000127cbe70aeeab81734b68f409176bd1f1fde8</td>\n",
              "      <td>0</td>\n",
              "      <td>4.994291e-07</td>\n",
              "      <td>0.00000</td>\n",
              "    </tr>\n",
              "    <tr>\n",
              "      <th>4</th>\n",
              "      <td>00017d2a013dc43f0e34de1be4beca443713ec80</td>\n",
              "      <td>0</td>\n",
              "      <td>1.972088e-07</td>\n",
              "      <td>0.00000</td>\n",
              "    </tr>\n",
              "    <tr>\n",
              "      <th>...</th>\n",
              "      <td>...</td>\n",
              "      <td>...</td>\n",
              "      <td>...</td>\n",
              "      <td>...</td>\n",
              "    </tr>\n",
              "    <tr>\n",
              "      <th>147736</th>\n",
              "      <td>fffe942f59aaf6d4a4119f1538cda1e4e69e9d8d</td>\n",
              "      <td>0</td>\n",
              "      <td>6.387665e-06</td>\n",
              "      <td>0.00000</td>\n",
              "    </tr>\n",
              "    <tr>\n",
              "      <th>147737</th>\n",
              "      <td>ffff383fa0831aa6d2c5d9257194d0d89841422d</td>\n",
              "      <td>0</td>\n",
              "      <td>3.378347e-05</td>\n",
              "      <td>0.00000</td>\n",
              "    </tr>\n",
              "    <tr>\n",
              "      <th>147738</th>\n",
              "      <td>ffff67b9dfc65a5f1f146d681497a933998c2256</td>\n",
              "      <td>0</td>\n",
              "      <td>5.246441e-03</td>\n",
              "      <td>0.89541</td>\n",
              "    </tr>\n",
              "    <tr>\n",
              "      <th>147739</th>\n",
              "      <td>ffff74dbc24df592b6355be32f5a71adeefb3b48</td>\n",
              "      <td>0</td>\n",
              "      <td>1.208881e-06</td>\n",
              "      <td>0.00000</td>\n",
              "    </tr>\n",
              "    <tr>\n",
              "      <th>147740</th>\n",
              "      <td>ffff99e9bacd6d34b2823a0bac8b3e137d3b35ac</td>\n",
              "      <td>0</td>\n",
              "      <td>4.994291e-07</td>\n",
              "      <td>0.00000</td>\n",
              "    </tr>\n",
              "  </tbody>\n",
              "</table>\n",
              "<p>147215 rows × 4 columns</p>\n",
              "</div>"
            ],
            "text/plain": [
              "                                            UUID  ...  Uninstall_Rate\n",
              "0       000066f130e3b972364c505c805e2cddee68816d  ...         0.00000\n",
              "1       0000c4128bc8bb7dbfbc68f2afec85f485dbcc6b  ...         0.00000\n",
              "2       0000d19d56df9df1f266fc1fd245a37ff27fb1f3  ...         0.00000\n",
              "3       000127cbe70aeeab81734b68f409176bd1f1fde8  ...         0.00000\n",
              "4       00017d2a013dc43f0e34de1be4beca443713ec80  ...         0.00000\n",
              "...                                          ...  ...             ...\n",
              "147736  fffe942f59aaf6d4a4119f1538cda1e4e69e9d8d  ...         0.00000\n",
              "147737  ffff383fa0831aa6d2c5d9257194d0d89841422d  ...         0.00000\n",
              "147738  ffff67b9dfc65a5f1f146d681497a933998c2256  ...         0.89541\n",
              "147739  ffff74dbc24df592b6355be32f5a71adeefb3b48  ...         0.00000\n",
              "147740  ffff99e9bacd6d34b2823a0bac8b3e137d3b35ac  ...         0.00000\n",
              "\n",
              "[147215 rows x 4 columns]"
            ]
          },
          "metadata": {
            "tags": []
          },
          "execution_count": 53
        }
      ]
    },
    {
      "cell_type": "code",
      "metadata": {
        "colab": {
          "base_uri": "https://localhost:8080/",
          "height": 406
        },
        "id": "GG9RKYutpbKh",
        "outputId": "5426619f-6c0e-4b20-c0c3-73ba0bead7a1"
      },
      "source": [
        "startup_info_df[startup_info_df['total_funding_ind']!=0].sort_values('total_funding_ind')"
      ],
      "execution_count": 54,
      "outputs": [
        {
          "output_type": "execute_result",
          "data": {
            "text/html": [
              "<div>\n",
              "<style scoped>\n",
              "    .dataframe tbody tr th:only-of-type {\n",
              "        vertical-align: middle;\n",
              "    }\n",
              "\n",
              "    .dataframe tbody tr th {\n",
              "        vertical-align: top;\n",
              "    }\n",
              "\n",
              "    .dataframe thead th {\n",
              "        text-align: right;\n",
              "    }\n",
              "</style>\n",
              "<table border=\"1\" class=\"dataframe\">\n",
              "  <thead>\n",
              "    <tr style=\"text-align: right;\">\n",
              "      <th></th>\n",
              "      <th>UUID</th>\n",
              "      <th>total_funding_ind</th>\n",
              "      <th>total_Reach</th>\n",
              "      <th>Uninstall_Rate</th>\n",
              "    </tr>\n",
              "  </thead>\n",
              "  <tbody>\n",
              "    <tr>\n",
              "      <th>147197</th>\n",
              "      <td>ff0e12c5ef5043e6dc8af2da006c45a918db9e79</td>\n",
              "      <td>1</td>\n",
              "      <td>3.215744e-03</td>\n",
              "      <td>5.005545</td>\n",
              "    </tr>\n",
              "    <tr>\n",
              "      <th>44987</th>\n",
              "      <td>4e46a6a3c536b63b67f5816c231b88a02c032f1c</td>\n",
              "      <td>1</td>\n",
              "      <td>2.734135e-05</td>\n",
              "      <td>0.000000</td>\n",
              "    </tr>\n",
              "    <tr>\n",
              "      <th>46497</th>\n",
              "      <td>50cdf7305b42ba4ffe94c7b482c7cbdd40963d69</td>\n",
              "      <td>1</td>\n",
              "      <td>9.975964e-06</td>\n",
              "      <td>0.000000</td>\n",
              "    </tr>\n",
              "    <tr>\n",
              "      <th>47785</th>\n",
              "      <td>52ee00cc6372077bcd4908da66fb2685cf22ed59</td>\n",
              "      <td>1</td>\n",
              "      <td>1.461693e-02</td>\n",
              "      <td>2.070117</td>\n",
              "    </tr>\n",
              "    <tr>\n",
              "      <th>49326</th>\n",
              "      <td>5597229475ccce5a3910ddfd4e392358aa5a6ee2</td>\n",
              "      <td>1</td>\n",
              "      <td>1.972088e-07</td>\n",
              "      <td>0.000000</td>\n",
              "    </tr>\n",
              "    <tr>\n",
              "      <th>...</th>\n",
              "      <td>...</td>\n",
              "      <td>...</td>\n",
              "      <td>...</td>\n",
              "      <td>...</td>\n",
              "    </tr>\n",
              "    <tr>\n",
              "      <th>35755</th>\n",
              "      <td>3e1f5f7fc1b9a26705ceb2639724a095778a4a31</td>\n",
              "      <td>43</td>\n",
              "      <td>6.894472e-04</td>\n",
              "      <td>0.000000</td>\n",
              "    </tr>\n",
              "    <tr>\n",
              "      <th>99762</th>\n",
              "      <td>ad2d8839fe42dbe607420f282eeaa37443357064</td>\n",
              "      <td>50</td>\n",
              "      <td>5.851945e-04</td>\n",
              "      <td>0.000000</td>\n",
              "    </tr>\n",
              "    <tr>\n",
              "      <th>30390</th>\n",
              "      <td>34fb5fdd67d01b62867cd3496b1a73f0b8ae82a0</td>\n",
              "      <td>63</td>\n",
              "      <td>3.358232e-03</td>\n",
              "      <td>11.835856</td>\n",
              "    </tr>\n",
              "    <tr>\n",
              "      <th>135684</th>\n",
              "      <td>eb4744e148c3ff8682cf6b1cc804cde4e6129de0</td>\n",
              "      <td>99</td>\n",
              "      <td>1.191711e-03</td>\n",
              "      <td>0.000000</td>\n",
              "    </tr>\n",
              "    <tr>\n",
              "      <th>130192</th>\n",
              "      <td>e1e00691667ef2640f2aa7bcc867cda73cd31f15</td>\n",
              "      <td>113</td>\n",
              "      <td>3.501968e-02</td>\n",
              "      <td>45.085884</td>\n",
              "    </tr>\n",
              "  </tbody>\n",
              "</table>\n",
              "<p>526 rows × 4 columns</p>\n",
              "</div>"
            ],
            "text/plain": [
              "                                            UUID  ...  Uninstall_Rate\n",
              "147197  ff0e12c5ef5043e6dc8af2da006c45a918db9e79  ...        5.005545\n",
              "44987   4e46a6a3c536b63b67f5816c231b88a02c032f1c  ...        0.000000\n",
              "46497   50cdf7305b42ba4ffe94c7b482c7cbdd40963d69  ...        0.000000\n",
              "47785   52ee00cc6372077bcd4908da66fb2685cf22ed59  ...        2.070117\n",
              "49326   5597229475ccce5a3910ddfd4e392358aa5a6ee2  ...        0.000000\n",
              "...                                          ...  ...             ...\n",
              "35755   3e1f5f7fc1b9a26705ceb2639724a095778a4a31  ...        0.000000\n",
              "99762   ad2d8839fe42dbe607420f282eeaa37443357064  ...        0.000000\n",
              "30390   34fb5fdd67d01b62867cd3496b1a73f0b8ae82a0  ...       11.835856\n",
              "135684  eb4744e148c3ff8682cf6b1cc804cde4e6129de0  ...        0.000000\n",
              "130192  e1e00691667ef2640f2aa7bcc867cda73cd31f15  ...       45.085884\n",
              "\n",
              "[526 rows x 4 columns]"
            ]
          },
          "metadata": {
            "tags": []
          },
          "execution_count": 54
        }
      ]
    },
    {
      "cell_type": "code",
      "metadata": {
        "id": "7xulFQdVkGQc"
      },
      "source": [
        "# Startup which never got funded\r\n",
        "never_funded_startup = '000066f130e3b972364c505c805e2cddee68816d'\r\n",
        "# Startup which got funded for only one time\r\n",
        "funded_startup_1 = 'ff0e12c5ef5043e6dc8af2da006c45a918db9e79'\r\n",
        "# Startup which got funded for 63 times\r\n",
        "funded_startup_63 = '34fb5fdd67d01b62867cd3496b1a73f0b8ae82a0'\r\n"
      ],
      "execution_count": 55,
      "outputs": []
    },
    {
      "cell_type": "code",
      "metadata": {
        "id": "GZ4rOF7ba1JR"
      },
      "source": [
        "never_funded_startup_df = df[df['UUID']==never_funded_startup]\r\n",
        "funded_startup_1_df = df[df['UUID']==funded_startup_1]\r\n",
        "funded_startup_63_df = df[df['UUID']==funded_startup_63]"
      ],
      "execution_count": 56,
      "outputs": []
    },
    {
      "cell_type": "code",
      "metadata": {
        "colab": {
          "base_uri": "https://localhost:8080/",
          "height": 352
        },
        "id": "XWh2lILc_XWI",
        "outputId": "2855519a-1f4e-4b7e-f1fb-47d3e7c22312"
      },
      "source": [
        "sns.lineplot(never_funded_startup_df['Month1'], never_funded_startup_df['funding_ind'])"
      ],
      "execution_count": 57,
      "outputs": [
        {
          "output_type": "stream",
          "text": [
            "/usr/local/lib/python3.6/dist-packages/seaborn/_decorators.py:43: FutureWarning: Pass the following variables as keyword args: x, y. From version 0.12, the only valid positional argument will be `data`, and passing other arguments without an explicit keyword will result in an error or misinterpretation.\n",
            "  FutureWarning\n"
          ],
          "name": "stderr"
        },
        {
          "output_type": "execute_result",
          "data": {
            "text/plain": [
              "<matplotlib.axes._subplots.AxesSubplot at 0x7fbe8a44aa20>"
            ]
          },
          "metadata": {
            "tags": []
          },
          "execution_count": 57
        },
        {
          "output_type": "display_data",
          "data": {
            "image/png": "[encoded data removed]",
            "text/plain": [
              "<Figure size 432x288 with 1 Axes>"
            ]
          },
          "metadata": {
            "tags": [],
            "needs_background": "light"
          }
        }
      ]
    },
    {
      "cell_type": "code",
      "metadata": {
        "colab": {
          "base_uri": "https://localhost:8080/",
          "height": 363
        },
        "id": "SYD0kAXF-Jc1",
        "outputId": "e2ed2d4c-ce68-4824-b9b1-5f8cfe689543"
      },
      "source": [
        "sns.lineplot(never_funded_startup_df['Month1'], never_funded_startup_df['Reach'])"
      ],
      "execution_count": 58,
      "outputs": [
        {
          "output_type": "stream",
          "text": [
            "/usr/local/lib/python3.6/dist-packages/seaborn/_decorators.py:43: FutureWarning: Pass the following variables as keyword args: x, y. From version 0.12, the only valid positional argument will be `data`, and passing other arguments without an explicit keyword will result in an error or misinterpretation.\n",
            "  FutureWarning\n"
          ],
          "name": "stderr"
        },
        {
          "output_type": "execute_result",
          "data": {
            "text/plain": [
              "<matplotlib.axes._subplots.AxesSubplot at 0x7fbe877a9978>"
            ]
          },
          "metadata": {
            "tags": []
          },
          "execution_count": 58
        },
        {
          "output_type": "display_data",
          "data": {
            "image/png": "[encoded data removed]",
            "text/plain": [
              "<Figure size 432x288 with 1 Axes>"
            ]
          },
          "metadata": {
            "tags": [],
            "needs_background": "light"
          }
        }
      ]
    },
    {
      "cell_type": "code",
      "metadata": {
        "colab": {
          "base_uri": "https://localhost:8080/",
          "height": 352
        },
        "id": "zP0RmCJj_A4n",
        "outputId": "89759c7f-8886-4598-b14e-2cef60b61575"
      },
      "source": [
        "sns.lineplot(never_funded_startup_df['Month1'], never_funded_startup_df['Uninstall_Rate'])"
      ],
      "execution_count": 59,
      "outputs": [
        {
          "output_type": "stream",
          "text": [
            "/usr/local/lib/python3.6/dist-packages/seaborn/_decorators.py:43: FutureWarning: Pass the following variables as keyword args: x, y. From version 0.12, the only valid positional argument will be `data`, and passing other arguments without an explicit keyword will result in an error or misinterpretation.\n",
            "  FutureWarning\n"
          ],
          "name": "stderr"
        },
        {
          "output_type": "execute_result",
          "data": {
            "text/plain": [
              "<matplotlib.axes._subplots.AxesSubplot at 0x7fbe877d37b8>"
            ]
          },
          "metadata": {
            "tags": []
          },
          "execution_count": 59
        },
        {
          "output_type": "display_data",
          "data": {
            "image/png": "[encoded data removed]",
            "text/plain": [
              "<Figure size 432x288 with 1 Axes>"
            ]
          },
          "metadata": {
            "tags": [],
            "needs_background": "light"
          }
        }
      ]
    },
    {
      "cell_type": "code",
      "metadata": {
        "colab": {
          "base_uri": "https://localhost:8080/",
          "height": 352
        },
        "id": "2IHuuewWbQug",
        "outputId": "26d50d57-1439-4f20-ca51-eea6877bdd61"
      },
      "source": [
        "sns.lineplot(funded_startup_1_df['Month1'], funded_startup_1_df['funding_ind'])"
      ],
      "execution_count": 60,
      "outputs": [
        {
          "output_type": "stream",
          "text": [
            "/usr/local/lib/python3.6/dist-packages/seaborn/_decorators.py:43: FutureWarning: Pass the following variables as keyword args: x, y. From version 0.12, the only valid positional argument will be `data`, and passing other arguments without an explicit keyword will result in an error or misinterpretation.\n",
            "  FutureWarning\n"
          ],
          "name": "stderr"
        },
        {
          "output_type": "execute_result",
          "data": {
            "text/plain": [
              "<matplotlib.axes._subplots.AxesSubplot at 0x7fbe8a829240>"
            ]
          },
          "metadata": {
            "tags": []
          },
          "execution_count": 60
        },
        {
          "output_type": "display_data",
          "data": {
            "image/png": "[encoded data removed]",
            "text/plain": [
              "<Figure size 432x288 with 1 Axes>"
            ]
          },
          "metadata": {
            "tags": [],
            "needs_background": "light"
          }
        }
      ]
    },
    {
      "cell_type": "code",
      "metadata": {
        "colab": {
          "base_uri": "https://localhost:8080/",
          "height": 352
        },
        "id": "Ze-ccCjtbucP",
        "outputId": "a28f2df1-e8df-4bb1-aa82-4ba7bbc32811"
      },
      "source": [
        "sns.lineplot(funded_startup_1_df['Month1'], funded_startup_1_df['Reach'])"
      ],
      "execution_count": 61,
      "outputs": [
        {
          "output_type": "stream",
          "text": [
            "/usr/local/lib/python3.6/dist-packages/seaborn/_decorators.py:43: FutureWarning: Pass the following variables as keyword args: x, y. From version 0.12, the only valid positional argument will be `data`, and passing other arguments without an explicit keyword will result in an error or misinterpretation.\n",
            "  FutureWarning\n"
          ],
          "name": "stderr"
        },
        {
          "output_type": "execute_result",
          "data": {
            "text/plain": [
              "<matplotlib.axes._subplots.AxesSubplot at 0x7fbe8a6e78d0>"
            ]
          },
          "metadata": {
            "tags": []
          },
          "execution_count": 61
        },
        {
          "output_type": "display_data",
          "data": {
            "image/png": "[encoded data removed]",
            "text/plain": [
              "<Figure size 432x288 with 1 Axes>"
            ]
          },
          "metadata": {
            "tags": [],
            "needs_background": "light"
          }
        }
      ]
    },
    {
      "cell_type": "code",
      "metadata": {
        "colab": {
          "base_uri": "https://localhost:8080/",
          "height": 352
        },
        "id": "N2yRf4UBb5yJ",
        "outputId": "243cc32c-593f-4052-a669-0ed7fcbe8cc9"
      },
      "source": [
        "sns.lineplot(funded_startup_1_df['Month1'], funded_startup_1_df['Uninstall_Rate'])"
      ],
      "execution_count": 62,
      "outputs": [
        {
          "output_type": "stream",
          "text": [
            "/usr/local/lib/python3.6/dist-packages/seaborn/_decorators.py:43: FutureWarning: Pass the following variables as keyword args: x, y. From version 0.12, the only valid positional argument will be `data`, and passing other arguments without an explicit keyword will result in an error or misinterpretation.\n",
            "  FutureWarning\n"
          ],
          "name": "stderr"
        },
        {
          "output_type": "execute_result",
          "data": {
            "text/plain": [
              "<matplotlib.axes._subplots.AxesSubplot at 0x7fbe8a7ed9b0>"
            ]
          },
          "metadata": {
            "tags": []
          },
          "execution_count": 62
        },
        {
          "output_type": "display_data",
          "data": {
            "image/png": "[encoded data removed]",
            "text/plain": [
              "<Figure size 432x288 with 1 Axes>"
            ]
          },
          "metadata": {
            "tags": [],
            "needs_background": "light"
          }
        }
      ]
    },
    {
      "cell_type": "code",
      "metadata": {
        "colab": {
          "base_uri": "https://localhost:8080/",
          "height": 352
        },
        "id": "GRtnV8Qa9qqd",
        "outputId": "c2427625-6d70-481e-8429-1e03c47c6980"
      },
      "source": [
        "sns.lineplot(funded_startup_63_df['Month1'], funded_startup_63_df['funding_ind'])"
      ],
      "execution_count": 63,
      "outputs": [
        {
          "output_type": "stream",
          "text": [
            "/usr/local/lib/python3.6/dist-packages/seaborn/_decorators.py:43: FutureWarning: Pass the following variables as keyword args: x, y. From version 0.12, the only valid positional argument will be `data`, and passing other arguments without an explicit keyword will result in an error or misinterpretation.\n",
            "  FutureWarning\n"
          ],
          "name": "stderr"
        },
        {
          "output_type": "execute_result",
          "data": {
            "text/plain": [
              "<matplotlib.axes._subplots.AxesSubplot at 0x7fbe8a2f3630>"
            ]
          },
          "metadata": {
            "tags": []
          },
          "execution_count": 63
        },
        {
          "output_type": "display_data",
          "data": {
            "image/png": "[encoded data removed]",
            "text/plain": [
              "<Figure size 432x288 with 1 Axes>"
            ]
          },
          "metadata": {
            "tags": [],
            "needs_background": "light"
          }
        }
      ]
    },
    {
      "cell_type": "code",
      "metadata": {
        "colab": {
          "base_uri": "https://localhost:8080/",
          "height": 352
        },
        "id": "oLb5lXIZ9e7E",
        "outputId": "0434e41f-dd1c-4fef-b17d-9343e3743a9f"
      },
      "source": [
        "sns.lineplot(funded_startup_63_df['Month1'], funded_startup_63_df['Reach'])"
      ],
      "execution_count": 64,
      "outputs": [
        {
          "output_type": "stream",
          "text": [
            "/usr/local/lib/python3.6/dist-packages/seaborn/_decorators.py:43: FutureWarning: Pass the following variables as keyword args: x, y. From version 0.12, the only valid positional argument will be `data`, and passing other arguments without an explicit keyword will result in an error or misinterpretation.\n",
            "  FutureWarning\n"
          ],
          "name": "stderr"
        },
        {
          "output_type": "execute_result",
          "data": {
            "text/plain": [
              "<matplotlib.axes._subplots.AxesSubplot at 0x7fbe8a293d68>"
            ]
          },
          "metadata": {
            "tags": []
          },
          "execution_count": 64
        },
        {
          "output_type": "display_data",
          "data": {
            "image/png": "[encoded data removed]",
            "text/plain": [
              "<Figure size 432x288 with 1 Axes>"
            ]
          },
          "metadata": {
            "tags": [],
            "needs_background": "light"
          }
        }
      ]
    },
    {
      "cell_type": "code",
      "metadata": {
        "colab": {
          "base_uri": "https://localhost:8080/",
          "height": 352
        },
        "id": "QGKVMTPe94kw",
        "outputId": "80082785-0e56-43e9-bea7-37e7ff152207"
      },
      "source": [
        "sns.lineplot(funded_startup_63_df['Month1'], funded_startup_63_df['Uninstall_Rate'])"
      ],
      "execution_count": 65,
      "outputs": [
        {
          "output_type": "stream",
          "text": [
            "/usr/local/lib/python3.6/dist-packages/seaborn/_decorators.py:43: FutureWarning: Pass the following variables as keyword args: x, y. From version 0.12, the only valid positional argument will be `data`, and passing other arguments without an explicit keyword will result in an error or misinterpretation.\n",
            "  FutureWarning\n"
          ],
          "name": "stderr"
        },
        {
          "output_type": "execute_result",
          "data": {
            "text/plain": [
              "<matplotlib.axes._subplots.AxesSubplot at 0x7fbe8a2024a8>"
            ]
          },
          "metadata": {
            "tags": []
          },
          "execution_count": 65
        },
        {
          "output_type": "display_data",
          "data": {
            "image/png": "[encoded data removed]",
            "text/plain": [
              "<Figure size 432x288 with 1 Axes>"
            ]
          },
          "metadata": {
            "tags": [],
            "needs_background": "light"
          }
        }
      ]
    },
    {
      "cell_type": "code",
      "metadata": {
        "colab": {
          "base_uri": "https://localhost:8080/",
          "height": 241
        },
        "id": "U9afnNQsckUn",
        "outputId": "7d528c32-cbca-4ce3-db16-e1d6910cd178"
      },
      "source": [
        "df[df['UUID']==never_funded_startup]"
      ],
      "execution_count": 66,
      "outputs": [
        {
          "output_type": "execute_result",
          "data": {
            "text/html": [
              "<div>\n",
              "<style scoped>\n",
              "    .dataframe tbody tr th:only-of-type {\n",
              "        vertical-align: middle;\n",
              "    }\n",
              "\n",
              "    .dataframe tbody tr th {\n",
              "        vertical-align: top;\n",
              "    }\n",
              "\n",
              "    .dataframe thead th {\n",
              "        text-align: right;\n",
              "    }\n",
              "</style>\n",
              "<table border=\"1\" class=\"dataframe\">\n",
              "  <thead>\n",
              "    <tr style=\"text-align: right;\">\n",
              "      <th></th>\n",
              "      <th>UUID</th>\n",
              "      <th>Application Category</th>\n",
              "      <th>Avg_Session_Time</th>\n",
              "      <th>Business Models</th>\n",
              "      <th>City</th>\n",
              "      <th>Company Stage</th>\n",
              "      <th>Feed Name</th>\n",
              "      <th>Founded Year</th>\n",
              "      <th>Latest Funded Date</th>\n",
              "      <th>MAU</th>\n",
              "      <th>Open_Rate</th>\n",
              "      <th>Overview</th>\n",
              "      <th>Practice Areas</th>\n",
              "      <th>Reach</th>\n",
              "      <th>Total Funding (USD)</th>\n",
              "      <th>Total_Session_Time</th>\n",
              "      <th>Uninstall_Rate</th>\n",
              "      <th>funding_ind</th>\n",
              "      <th>Month</th>\n",
              "      <th>Month1</th>\n",
              "      <th>user_created_at_year_month</th>\n",
              "    </tr>\n",
              "  </thead>\n",
              "  <tbody>\n",
              "    <tr>\n",
              "      <th>276060</th>\n",
              "      <td>000066f130e3b972364c505c805e2cddee68816d</td>\n",
              "      <td>Business</td>\n",
              "      <td>NaN</td>\n",
              "      <td>NaN</td>\n",
              "      <td>NaN</td>\n",
              "      <td>NaN</td>\n",
              "      <td>NaN</td>\n",
              "      <td>NaN</td>\n",
              "      <td>NaN</td>\n",
              "      <td>NaN</td>\n",
              "      <td>NaN</td>\n",
              "      <td>NaN</td>\n",
              "      <td>NaN</td>\n",
              "      <td>1.972088e-07</td>\n",
              "      <td>NaN</td>\n",
              "      <td>NaN</td>\n",
              "      <td>NaN</td>\n",
              "      <td>0</td>\n",
              "      <td>3</td>\n",
              "      <td>2020-03-01</td>\n",
              "      <td>2020-03</td>\n",
              "    </tr>\n",
              "    <tr>\n",
              "      <th>611818</th>\n",
              "      <td>000066f130e3b972364c505c805e2cddee68816d</td>\n",
              "      <td>Business</td>\n",
              "      <td>NaN</td>\n",
              "      <td>NaN</td>\n",
              "      <td>NaN</td>\n",
              "      <td>NaN</td>\n",
              "      <td>NaN</td>\n",
              "      <td>NaN</td>\n",
              "      <td>NaN</td>\n",
              "      <td>NaN</td>\n",
              "      <td>NaN</td>\n",
              "      <td>NaN</td>\n",
              "      <td>NaN</td>\n",
              "      <td>4.889378e-06</td>\n",
              "      <td>NaN</td>\n",
              "      <td>NaN</td>\n",
              "      <td>NaN</td>\n",
              "      <td>0</td>\n",
              "      <td>6</td>\n",
              "      <td>2020-06-01</td>\n",
              "      <td>2020-06</td>\n",
              "    </tr>\n",
              "    <tr>\n",
              "      <th>1257143</th>\n",
              "      <td>000066f130e3b972364c505c805e2cddee68816d</td>\n",
              "      <td>Business</td>\n",
              "      <td>NaN</td>\n",
              "      <td>NaN</td>\n",
              "      <td>NaN</td>\n",
              "      <td>NaN</td>\n",
              "      <td>NaN</td>\n",
              "      <td>NaN</td>\n",
              "      <td>NaN</td>\n",
              "      <td>NaN</td>\n",
              "      <td>NaN</td>\n",
              "      <td>NaN</td>\n",
              "      <td>NaN</td>\n",
              "      <td>3.022203e-07</td>\n",
              "      <td>NaN</td>\n",
              "      <td>NaN</td>\n",
              "      <td>NaN</td>\n",
              "      <td>0</td>\n",
              "      <td>4</td>\n",
              "      <td>2020-04-01</td>\n",
              "      <td>2020-04</td>\n",
              "    </tr>\n",
              "  </tbody>\n",
              "</table>\n",
              "</div>"
            ],
            "text/plain": [
              "                                             UUID  ... user_created_at_year_month\n",
              "276060   000066f130e3b972364c505c805e2cddee68816d  ...                    2020-03\n",
              "611818   000066f130e3b972364c505c805e2cddee68816d  ...                    2020-06\n",
              "1257143  000066f130e3b972364c505c805e2cddee68816d  ...                    2020-04\n",
              "\n",
              "[3 rows x 21 columns]"
            ]
          },
          "metadata": {
            "tags": []
          },
          "execution_count": 66
        }
      ]
    },
    {
      "cell_type": "code",
      "metadata": {
        "colab": {
          "base_uri": "https://localhost:8080/",
          "height": 1000
        },
        "id": "adLjfnINnHnm",
        "outputId": "3c2ae7cc-dd3c-4823-9d13-13f561409140"
      },
      "source": [
        "df[df['UUID']==funded_startup_1]"
      ],
      "execution_count": 67,
      "outputs": [
        {
          "output_type": "execute_result",
          "data": {
            "text/html": [
              "<div>\n",
              "<style scoped>\n",
              "    .dataframe tbody tr th:only-of-type {\n",
              "        vertical-align: middle;\n",
              "    }\n",
              "\n",
              "    .dataframe tbody tr th {\n",
              "        vertical-align: top;\n",
              "    }\n",
              "\n",
              "    .dataframe thead th {\n",
              "        text-align: right;\n",
              "    }\n",
              "</style>\n",
              "<table border=\"1\" class=\"dataframe\">\n",
              "  <thead>\n",
              "    <tr style=\"text-align: right;\">\n",
              "      <th></th>\n",
              "      <th>UUID</th>\n",
              "      <th>Application Category</th>\n",
              "      <th>Avg_Session_Time</th>\n",
              "      <th>Business Models</th>\n",
              "      <th>City</th>\n",
              "      <th>Company Stage</th>\n",
              "      <th>Feed Name</th>\n",
              "      <th>Founded Year</th>\n",
              "      <th>Latest Funded Date</th>\n",
              "      <th>MAU</th>\n",
              "      <th>Open_Rate</th>\n",
              "      <th>Overview</th>\n",
              "      <th>Practice Areas</th>\n",
              "      <th>Reach</th>\n",
              "      <th>Total Funding (USD)</th>\n",
              "      <th>Total_Session_Time</th>\n",
              "      <th>Uninstall_Rate</th>\n",
              "      <th>funding_ind</th>\n",
              "      <th>Month</th>\n",
              "      <th>Month1</th>\n",
              "      <th>user_created_at_year_month</th>\n",
              "    </tr>\n",
              "  </thead>\n",
              "  <tbody>\n",
              "    <tr>\n",
              "      <th>6363</th>\n",
              "      <td>ff0e12c5ef5043e6dc8af2da006c45a918db9e79</td>\n",
              "      <td>Shopping</td>\n",
              "      <td>NaN</td>\n",
              "      <td>NaN</td>\n",
              "      <td>NaN</td>\n",
              "      <td>NaN</td>\n",
              "      <td>NaN</td>\n",
              "      <td>NaN</td>\n",
              "      <td>NaN</td>\n",
              "      <td>NaN</td>\n",
              "      <td>NaN</td>\n",
              "      <td>NaN</td>\n",
              "      <td>NaN</td>\n",
              "      <td>0.000026</td>\n",
              "      <td>NaN</td>\n",
              "      <td>NaN</td>\n",
              "      <td>0.142857</td>\n",
              "      <td>0</td>\n",
              "      <td>8</td>\n",
              "      <td>2018-08-01</td>\n",
              "      <td>2018-08</td>\n",
              "    </tr>\n",
              "    <tr>\n",
              "      <th>20909</th>\n",
              "      <td>ff0e12c5ef5043e6dc8af2da006c45a918db9e79</td>\n",
              "      <td>Shopping</td>\n",
              "      <td>NaN</td>\n",
              "      <td>NaN</td>\n",
              "      <td>NaN</td>\n",
              "      <td>NaN</td>\n",
              "      <td>NaN</td>\n",
              "      <td>NaN</td>\n",
              "      <td>NaN</td>\n",
              "      <td>NaN</td>\n",
              "      <td>NaN</td>\n",
              "      <td>NaN</td>\n",
              "      <td>NaN</td>\n",
              "      <td>0.000052</td>\n",
              "      <td>NaN</td>\n",
              "      <td>NaN</td>\n",
              "      <td>0.147059</td>\n",
              "      <td>0</td>\n",
              "      <td>6</td>\n",
              "      <td>2019-06-01</td>\n",
              "      <td>2019-06</td>\n",
              "    </tr>\n",
              "    <tr>\n",
              "      <th>36928</th>\n",
              "      <td>ff0e12c5ef5043e6dc8af2da006c45a918db9e79</td>\n",
              "      <td>Shopping</td>\n",
              "      <td>1.348429</td>\n",
              "      <td>NaN</td>\n",
              "      <td>NaN</td>\n",
              "      <td>NaN</td>\n",
              "      <td>NaN</td>\n",
              "      <td>NaN</td>\n",
              "      <td>NaN</td>\n",
              "      <td>0.584906</td>\n",
              "      <td>2.905983</td>\n",
              "      <td>NaN</td>\n",
              "      <td>NaN</td>\n",
              "      <td>0.000283</td>\n",
              "      <td>NaN</td>\n",
              "      <td>4.178491</td>\n",
              "      <td>0.203187</td>\n",
              "      <td>0</td>\n",
              "      <td>12</td>\n",
              "      <td>2019-12-01</td>\n",
              "      <td>2019-12</td>\n",
              "    </tr>\n",
              "    <tr>\n",
              "      <th>267096</th>\n",
              "      <td>ff0e12c5ef5043e6dc8af2da006c45a918db9e79</td>\n",
              "      <td>Shopping</td>\n",
              "      <td>1.715670</td>\n",
              "      <td>NaN</td>\n",
              "      <td>NaN</td>\n",
              "      <td>NaN</td>\n",
              "      <td>NaN</td>\n",
              "      <td>NaN</td>\n",
              "      <td>NaN</td>\n",
              "      <td>0.023810</td>\n",
              "      <td>2.684062</td>\n",
              "      <td>NaN</td>\n",
              "      <td>NaN</td>\n",
              "      <td>0.000300</td>\n",
              "      <td>NaN</td>\n",
              "      <td>4.381783</td>\n",
              "      <td>0.170799</td>\n",
              "      <td>0</td>\n",
              "      <td>3</td>\n",
              "      <td>2020-03-01</td>\n",
              "      <td>2020-03</td>\n",
              "    </tr>\n",
              "    <tr>\n",
              "      <th>424799</th>\n",
              "      <td>ff0e12c5ef5043e6dc8af2da006c45a918db9e79</td>\n",
              "      <td>Shopping</td>\n",
              "      <td>NaN</td>\n",
              "      <td>NaN</td>\n",
              "      <td>NaN</td>\n",
              "      <td>NaN</td>\n",
              "      <td>NaN</td>\n",
              "      <td>NaN</td>\n",
              "      <td>NaN</td>\n",
              "      <td>NaN</td>\n",
              "      <td>NaN</td>\n",
              "      <td>NaN</td>\n",
              "      <td>NaN</td>\n",
              "      <td>0.000034</td>\n",
              "      <td>NaN</td>\n",
              "      <td>NaN</td>\n",
              "      <td>0.296296</td>\n",
              "      <td>0</td>\n",
              "      <td>2</td>\n",
              "      <td>2019-02-01</td>\n",
              "      <td>2019-02</td>\n",
              "    </tr>\n",
              "    <tr>\n",
              "      <th>440286</th>\n",
              "      <td>ff0e12c5ef5043e6dc8af2da006c45a918db9e79</td>\n",
              "      <td>Shopping</td>\n",
              "      <td>1.529866</td>\n",
              "      <td>NaN</td>\n",
              "      <td>NaN</td>\n",
              "      <td>NaN</td>\n",
              "      <td>NaN</td>\n",
              "      <td>NaN</td>\n",
              "      <td>NaN</td>\n",
              "      <td>0.338462</td>\n",
              "      <td>2.393411</td>\n",
              "      <td>NaN</td>\n",
              "      <td>NaN</td>\n",
              "      <td>0.000300</td>\n",
              "      <td>NaN</td>\n",
              "      <td>3.207804</td>\n",
              "      <td>0.215054</td>\n",
              "      <td>0</td>\n",
              "      <td>2</td>\n",
              "      <td>2020-02-01</td>\n",
              "      <td>2020-02</td>\n",
              "    </tr>\n",
              "    <tr>\n",
              "      <th>544082</th>\n",
              "      <td>ff0e12c5ef5043e6dc8af2da006c45a918db9e79</td>\n",
              "      <td>Shopping</td>\n",
              "      <td>NaN</td>\n",
              "      <td>NaN</td>\n",
              "      <td>NaN</td>\n",
              "      <td>NaN</td>\n",
              "      <td>NaN</td>\n",
              "      <td>NaN</td>\n",
              "      <td>NaN</td>\n",
              "      <td>NaN</td>\n",
              "      <td>NaN</td>\n",
              "      <td>NaN</td>\n",
              "      <td>NaN</td>\n",
              "      <td>0.000038</td>\n",
              "      <td>NaN</td>\n",
              "      <td>NaN</td>\n",
              "      <td>0.066667</td>\n",
              "      <td>0</td>\n",
              "      <td>3</td>\n",
              "      <td>2019-03-01</td>\n",
              "      <td>2019-03</td>\n",
              "    </tr>\n",
              "    <tr>\n",
              "      <th>607968</th>\n",
              "      <td>ff0e12c5ef5043e6dc8af2da006c45a918db9e79</td>\n",
              "      <td>Shopping</td>\n",
              "      <td>1.176330</td>\n",
              "      <td>Fashion Tech &gt; B2C Commerce &gt; Accessories &gt; Je...</td>\n",
              "      <td>Bangalore</td>\n",
              "      <td>Series C</td>\n",
              "      <td>Fashion Tech</td>\n",
              "      <td>2015.0</td>\n",
              "      <td>2020-09-23</td>\n",
              "      <td>0.298507</td>\n",
              "      <td>2.298246</td>\n",
              "      <td>Internet-first brand of jewelry</td>\n",
              "      <td>Consumer\\nRetail</td>\n",
              "      <td>0.000181</td>\n",
              "      <td>47422120.0</td>\n",
              "      <td>3.171058</td>\n",
              "      <td>0.154321</td>\n",
              "      <td>1</td>\n",
              "      <td>6</td>\n",
              "      <td>2020-06-01</td>\n",
              "      <td>2020-06</td>\n",
              "    </tr>\n",
              "    <tr>\n",
              "      <th>722433</th>\n",
              "      <td>ff0e12c5ef5043e6dc8af2da006c45a918db9e79</td>\n",
              "      <td>Shopping</td>\n",
              "      <td>NaN</td>\n",
              "      <td>NaN</td>\n",
              "      <td>NaN</td>\n",
              "      <td>NaN</td>\n",
              "      <td>NaN</td>\n",
              "      <td>NaN</td>\n",
              "      <td>NaN</td>\n",
              "      <td>NaN</td>\n",
              "      <td>NaN</td>\n",
              "      <td>NaN</td>\n",
              "      <td>NaN</td>\n",
              "      <td>0.000022</td>\n",
              "      <td>NaN</td>\n",
              "      <td>NaN</td>\n",
              "      <td>0.200000</td>\n",
              "      <td>0</td>\n",
              "      <td>9</td>\n",
              "      <td>2018-09-01</td>\n",
              "      <td>2018-09</td>\n",
              "    </tr>\n",
              "    <tr>\n",
              "      <th>737195</th>\n",
              "      <td>ff0e12c5ef5043e6dc8af2da006c45a918db9e79</td>\n",
              "      <td>Shopping</td>\n",
              "      <td>NaN</td>\n",
              "      <td>NaN</td>\n",
              "      <td>NaN</td>\n",
              "      <td>NaN</td>\n",
              "      <td>NaN</td>\n",
              "      <td>NaN</td>\n",
              "      <td>NaN</td>\n",
              "      <td>NaN</td>\n",
              "      <td>NaN</td>\n",
              "      <td>NaN</td>\n",
              "      <td>NaN</td>\n",
              "      <td>0.000069</td>\n",
              "      <td>NaN</td>\n",
              "      <td>NaN</td>\n",
              "      <td>0.225000</td>\n",
              "      <td>0</td>\n",
              "      <td>7</td>\n",
              "      <td>2019-07-01</td>\n",
              "      <td>2019-07</td>\n",
              "    </tr>\n",
              "    <tr>\n",
              "      <th>752458</th>\n",
              "      <td>ff0e12c5ef5043e6dc8af2da006c45a918db9e79</td>\n",
              "      <td>Shopping</td>\n",
              "      <td>NaN</td>\n",
              "      <td>NaN</td>\n",
              "      <td>NaN</td>\n",
              "      <td>NaN</td>\n",
              "      <td>NaN</td>\n",
              "      <td>NaN</td>\n",
              "      <td>NaN</td>\n",
              "      <td>NaN</td>\n",
              "      <td>NaN</td>\n",
              "      <td>NaN</td>\n",
              "      <td>NaN</td>\n",
              "      <td>0.000029</td>\n",
              "      <td>NaN</td>\n",
              "      <td>NaN</td>\n",
              "      <td>0.444444</td>\n",
              "      <td>0</td>\n",
              "      <td>12</td>\n",
              "      <td>2018-12-01</td>\n",
              "      <td>2018-12</td>\n",
              "    </tr>\n",
              "    <tr>\n",
              "      <th>767677</th>\n",
              "      <td>ff0e12c5ef5043e6dc8af2da006c45a918db9e79</td>\n",
              "      <td>Shopping</td>\n",
              "      <td>NaN</td>\n",
              "      <td>NaN</td>\n",
              "      <td>NaN</td>\n",
              "      <td>NaN</td>\n",
              "      <td>NaN</td>\n",
              "      <td>NaN</td>\n",
              "      <td>NaN</td>\n",
              "      <td>NaN</td>\n",
              "      <td>NaN</td>\n",
              "      <td>NaN</td>\n",
              "      <td>NaN</td>\n",
              "      <td>0.000128</td>\n",
              "      <td>NaN</td>\n",
              "      <td>NaN</td>\n",
              "      <td>0.161290</td>\n",
              "      <td>0</td>\n",
              "      <td>8</td>\n",
              "      <td>2019-08-01</td>\n",
              "      <td>2019-08</td>\n",
              "    </tr>\n",
              "    <tr>\n",
              "      <th>783757</th>\n",
              "      <td>ff0e12c5ef5043e6dc8af2da006c45a918db9e79</td>\n",
              "      <td>Shopping</td>\n",
              "      <td>NaN</td>\n",
              "      <td>NaN</td>\n",
              "      <td>NaN</td>\n",
              "      <td>NaN</td>\n",
              "      <td>NaN</td>\n",
              "      <td>NaN</td>\n",
              "      <td>NaN</td>\n",
              "      <td>NaN</td>\n",
              "      <td>NaN</td>\n",
              "      <td>NaN</td>\n",
              "      <td>NaN</td>\n",
              "      <td>0.000188</td>\n",
              "      <td>NaN</td>\n",
              "      <td>NaN</td>\n",
              "      <td>0.267717</td>\n",
              "      <td>0</td>\n",
              "      <td>9</td>\n",
              "      <td>2019-09-01</td>\n",
              "      <td>2019-09</td>\n",
              "    </tr>\n",
              "    <tr>\n",
              "      <th>798234</th>\n",
              "      <td>ff0e12c5ef5043e6dc8af2da006c45a918db9e79</td>\n",
              "      <td>Shopping</td>\n",
              "      <td>NaN</td>\n",
              "      <td>NaN</td>\n",
              "      <td>NaN</td>\n",
              "      <td>NaN</td>\n",
              "      <td>NaN</td>\n",
              "      <td>NaN</td>\n",
              "      <td>NaN</td>\n",
              "      <td>NaN</td>\n",
              "      <td>NaN</td>\n",
              "      <td>NaN</td>\n",
              "      <td>NaN</td>\n",
              "      <td>0.000024</td>\n",
              "      <td>NaN</td>\n",
              "      <td>NaN</td>\n",
              "      <td>0.333333</td>\n",
              "      <td>0</td>\n",
              "      <td>7</td>\n",
              "      <td>2018-07-01</td>\n",
              "      <td>2018-07</td>\n",
              "    </tr>\n",
              "    <tr>\n",
              "      <th>811503</th>\n",
              "      <td>ff0e12c5ef5043e6dc8af2da006c45a918db9e79</td>\n",
              "      <td>Shopping</td>\n",
              "      <td>NaN</td>\n",
              "      <td>NaN</td>\n",
              "      <td>NaN</td>\n",
              "      <td>NaN</td>\n",
              "      <td>NaN</td>\n",
              "      <td>NaN</td>\n",
              "      <td>NaN</td>\n",
              "      <td>NaN</td>\n",
              "      <td>NaN</td>\n",
              "      <td>NaN</td>\n",
              "      <td>NaN</td>\n",
              "      <td>0.000027</td>\n",
              "      <td>NaN</td>\n",
              "      <td>NaN</td>\n",
              "      <td>0.000000</td>\n",
              "      <td>0</td>\n",
              "      <td>10</td>\n",
              "      <td>2018-10-01</td>\n",
              "      <td>2018-10</td>\n",
              "    </tr>\n",
              "    <tr>\n",
              "      <th>825482</th>\n",
              "      <td>ff0e12c5ef5043e6dc8af2da006c45a918db9e79</td>\n",
              "      <td>Shopping</td>\n",
              "      <td>NaN</td>\n",
              "      <td>NaN</td>\n",
              "      <td>NaN</td>\n",
              "      <td>NaN</td>\n",
              "      <td>NaN</td>\n",
              "      <td>NaN</td>\n",
              "      <td>NaN</td>\n",
              "      <td>NaN</td>\n",
              "      <td>NaN</td>\n",
              "      <td>NaN</td>\n",
              "      <td>NaN</td>\n",
              "      <td>0.000029</td>\n",
              "      <td>NaN</td>\n",
              "      <td>NaN</td>\n",
              "      <td>0.266667</td>\n",
              "      <td>0</td>\n",
              "      <td>11</td>\n",
              "      <td>2018-11-01</td>\n",
              "      <td>2018-11</td>\n",
              "    </tr>\n",
              "    <tr>\n",
              "      <th>840549</th>\n",
              "      <td>ff0e12c5ef5043e6dc8af2da006c45a918db9e79</td>\n",
              "      <td>Shopping</td>\n",
              "      <td>NaN</td>\n",
              "      <td>NaN</td>\n",
              "      <td>NaN</td>\n",
              "      <td>NaN</td>\n",
              "      <td>NaN</td>\n",
              "      <td>NaN</td>\n",
              "      <td>NaN</td>\n",
              "      <td>NaN</td>\n",
              "      <td>NaN</td>\n",
              "      <td>NaN</td>\n",
              "      <td>NaN</td>\n",
              "      <td>0.000196</td>\n",
              "      <td>NaN</td>\n",
              "      <td>NaN</td>\n",
              "      <td>0.252747</td>\n",
              "      <td>0</td>\n",
              "      <td>10</td>\n",
              "      <td>2019-10-01</td>\n",
              "      <td>2019-10</td>\n",
              "    </tr>\n",
              "    <tr>\n",
              "      <th>856655</th>\n",
              "      <td>ff0e12c5ef5043e6dc8af2da006c45a918db9e79</td>\n",
              "      <td>Shopping</td>\n",
              "      <td>1.343321</td>\n",
              "      <td>NaN</td>\n",
              "      <td>NaN</td>\n",
              "      <td>NaN</td>\n",
              "      <td>NaN</td>\n",
              "      <td>NaN</td>\n",
              "      <td>NaN</td>\n",
              "      <td>0.552239</td>\n",
              "      <td>2.668301</td>\n",
              "      <td>NaN</td>\n",
              "      <td>NaN</td>\n",
              "      <td>0.000294</td>\n",
              "      <td>NaN</td>\n",
              "      <td>3.442314</td>\n",
              "      <td>0.257353</td>\n",
              "      <td>0</td>\n",
              "      <td>1</td>\n",
              "      <td>2020-01-01</td>\n",
              "      <td>2020-01</td>\n",
              "    </tr>\n",
              "    <tr>\n",
              "      <th>993760</th>\n",
              "      <td>ff0e12c5ef5043e6dc8af2da006c45a918db9e79</td>\n",
              "      <td>Shopping</td>\n",
              "      <td>0.985841</td>\n",
              "      <td>NaN</td>\n",
              "      <td>NaN</td>\n",
              "      <td>NaN</td>\n",
              "      <td>NaN</td>\n",
              "      <td>NaN</td>\n",
              "      <td>NaN</td>\n",
              "      <td>0.150943</td>\n",
              "      <td>2.941176</td>\n",
              "      <td>NaN</td>\n",
              "      <td>NaN</td>\n",
              "      <td>0.000409</td>\n",
              "      <td>NaN</td>\n",
              "      <td>4.363449</td>\n",
              "      <td>0.168950</td>\n",
              "      <td>0</td>\n",
              "      <td>5</td>\n",
              "      <td>2020-05-01</td>\n",
              "      <td>2020-05</td>\n",
              "    </tr>\n",
              "    <tr>\n",
              "      <th>1112140</th>\n",
              "      <td>ff0e12c5ef5043e6dc8af2da006c45a918db9e79</td>\n",
              "      <td>Shopping</td>\n",
              "      <td>NaN</td>\n",
              "      <td>NaN</td>\n",
              "      <td>NaN</td>\n",
              "      <td>NaN</td>\n",
              "      <td>NaN</td>\n",
              "      <td>NaN</td>\n",
              "      <td>NaN</td>\n",
              "      <td>NaN</td>\n",
              "      <td>NaN</td>\n",
              "      <td>NaN</td>\n",
              "      <td>NaN</td>\n",
              "      <td>0.000061</td>\n",
              "      <td>NaN</td>\n",
              "      <td>NaN</td>\n",
              "      <td>0.043478</td>\n",
              "      <td>0</td>\n",
              "      <td>4</td>\n",
              "      <td>2019-04-01</td>\n",
              "      <td>2019-04</td>\n",
              "    </tr>\n",
              "    <tr>\n",
              "      <th>1248848</th>\n",
              "      <td>ff0e12c5ef5043e6dc8af2da006c45a918db9e79</td>\n",
              "      <td>Shopping</td>\n",
              "      <td>0.759481</td>\n",
              "      <td>NaN</td>\n",
              "      <td>NaN</td>\n",
              "      <td>NaN</td>\n",
              "      <td>NaN</td>\n",
              "      <td>NaN</td>\n",
              "      <td>NaN</td>\n",
              "      <td>0.216667</td>\n",
              "      <td>2.047619</td>\n",
              "      <td>NaN</td>\n",
              "      <td>NaN</td>\n",
              "      <td>0.000206</td>\n",
              "      <td>NaN</td>\n",
              "      <td>1.957781</td>\n",
              "      <td>0.239892</td>\n",
              "      <td>0</td>\n",
              "      <td>4</td>\n",
              "      <td>2020-04-01</td>\n",
              "      <td>2020-04</td>\n",
              "    </tr>\n",
              "    <tr>\n",
              "      <th>1397076</th>\n",
              "      <td>ff0e12c5ef5043e6dc8af2da006c45a918db9e79</td>\n",
              "      <td>Shopping</td>\n",
              "      <td>NaN</td>\n",
              "      <td>NaN</td>\n",
              "      <td>NaN</td>\n",
              "      <td>NaN</td>\n",
              "      <td>NaN</td>\n",
              "      <td>NaN</td>\n",
              "      <td>NaN</td>\n",
              "      <td>NaN</td>\n",
              "      <td>NaN</td>\n",
              "      <td>NaN</td>\n",
              "      <td>NaN</td>\n",
              "      <td>0.000048</td>\n",
              "      <td>NaN</td>\n",
              "      <td>NaN</td>\n",
              "      <td>0.307692</td>\n",
              "      <td>0</td>\n",
              "      <td>5</td>\n",
              "      <td>2019-05-01</td>\n",
              "      <td>2019-05</td>\n",
              "    </tr>\n",
              "    <tr>\n",
              "      <th>1413015</th>\n",
              "      <td>ff0e12c5ef5043e6dc8af2da006c45a918db9e79</td>\n",
              "      <td>Shopping</td>\n",
              "      <td>1.708700</td>\n",
              "      <td>NaN</td>\n",
              "      <td>NaN</td>\n",
              "      <td>NaN</td>\n",
              "      <td>NaN</td>\n",
              "      <td>NaN</td>\n",
              "      <td>NaN</td>\n",
              "      <td>0.250000</td>\n",
              "      <td>1.966667</td>\n",
              "      <td>NaN</td>\n",
              "      <td>NaN</td>\n",
              "      <td>0.000236</td>\n",
              "      <td>NaN</td>\n",
              "      <td>3.472465</td>\n",
              "      <td>0.240741</td>\n",
              "      <td>0</td>\n",
              "      <td>11</td>\n",
              "      <td>2019-11-01</td>\n",
              "      <td>2019-11</td>\n",
              "    </tr>\n",
              "    <tr>\n",
              "      <th>1494560</th>\n",
              "      <td>ff0e12c5ef5043e6dc8af2da006c45a918db9e79</td>\n",
              "      <td>Shopping</td>\n",
              "      <td>NaN</td>\n",
              "      <td>NaN</td>\n",
              "      <td>NaN</td>\n",
              "      <td>NaN</td>\n",
              "      <td>NaN</td>\n",
              "      <td>NaN</td>\n",
              "      <td>NaN</td>\n",
              "      <td>NaN</td>\n",
              "      <td>NaN</td>\n",
              "      <td>NaN</td>\n",
              "      <td>NaN</td>\n",
              "      <td>0.000036</td>\n",
              "      <td>NaN</td>\n",
              "      <td>NaN</td>\n",
              "      <td>0.200000</td>\n",
              "      <td>0</td>\n",
              "      <td>1</td>\n",
              "      <td>2019-01-01</td>\n",
              "      <td>2019-01</td>\n",
              "    </tr>\n",
              "  </tbody>\n",
              "</table>\n",
              "</div>"
            ],
            "text/plain": [
              "                                             UUID  ... user_created_at_year_month\n",
              "6363     ff0e12c5ef5043e6dc8af2da006c45a918db9e79  ...                    2018-08\n",
              "20909    ff0e12c5ef5043e6dc8af2da006c45a918db9e79  ...                    2019-06\n",
              "36928    ff0e12c5ef5043e6dc8af2da006c45a918db9e79  ...                    2019-12\n",
              "267096   ff0e12c5ef5043e6dc8af2da006c45a918db9e79  ...                    2020-03\n",
              "424799   ff0e12c5ef5043e6dc8af2da006c45a918db9e79  ...                    2019-02\n",
              "440286   ff0e12c5ef5043e6dc8af2da006c45a918db9e79  ...                    2020-02\n",
              "544082   ff0e12c5ef5043e6dc8af2da006c45a918db9e79  ...                    2019-03\n",
              "607968   ff0e12c5ef5043e6dc8af2da006c45a918db9e79  ...                    2020-06\n",
              "722433   ff0e12c5ef5043e6dc8af2da006c45a918db9e79  ...                    2018-09\n",
              "737195   ff0e12c5ef5043e6dc8af2da006c45a918db9e79  ...                    2019-07\n",
              "752458   ff0e12c5ef5043e6dc8af2da006c45a918db9e79  ...                    2018-12\n",
              "767677   ff0e12c5ef5043e6dc8af2da006c45a918db9e79  ...                    2019-08\n",
              "783757   ff0e12c5ef5043e6dc8af2da006c45a918db9e79  ...                    2019-09\n",
              "798234   ff0e12c5ef5043e6dc8af2da006c45a918db9e79  ...                    2018-07\n",
              "811503   ff0e12c5ef5043e6dc8af2da006c45a918db9e79  ...                    2018-10\n",
              "825482   ff0e12c5ef5043e6dc8af2da006c45a918db9e79  ...                    2018-11\n",
              "840549   ff0e12c5ef5043e6dc8af2da006c45a918db9e79  ...                    2019-10\n",
              "856655   ff0e12c5ef5043e6dc8af2da006c45a918db9e79  ...                    2020-01\n",
              "993760   ff0e12c5ef5043e6dc8af2da006c45a918db9e79  ...                    2020-05\n",
              "1112140  ff0e12c5ef5043e6dc8af2da006c45a918db9e79  ...                    2019-04\n",
              "1248848  ff0e12c5ef5043e6dc8af2da006c45a918db9e79  ...                    2020-04\n",
              "1397076  ff0e12c5ef5043e6dc8af2da006c45a918db9e79  ...                    2019-05\n",
              "1413015  ff0e12c5ef5043e6dc8af2da006c45a918db9e79  ...                    2019-11\n",
              "1494560  ff0e12c5ef5043e6dc8af2da006c45a918db9e79  ...                    2019-01\n",
              "\n",
              "[24 rows x 21 columns]"
            ]
          },
          "metadata": {
            "tags": []
          },
          "execution_count": 67
        }
      ]
    },
    {
      "cell_type": "code",
      "metadata": {
        "colab": {
          "base_uri": "https://localhost:8080/",
          "height": 826
        },
        "id": "B8A3mWD9rlgn",
        "outputId": "908e245c-f0f5-420d-aa5c-8558fca152fa"
      },
      "source": [
        "df[df['UUID']==funded_startup_63]"
      ],
      "execution_count": 68,
      "outputs": [
        {
          "output_type": "execute_result",
          "data": {
            "text/html": [
              "<div>\n",
              "<style scoped>\n",
              "    .dataframe tbody tr th:only-of-type {\n",
              "        vertical-align: middle;\n",
              "    }\n",
              "\n",
              "    .dataframe tbody tr th {\n",
              "        vertical-align: top;\n",
              "    }\n",
              "\n",
              "    .dataframe thead th {\n",
              "        text-align: right;\n",
              "    }\n",
              "</style>\n",
              "<table border=\"1\" class=\"dataframe\">\n",
              "  <thead>\n",
              "    <tr style=\"text-align: right;\">\n",
              "      <th></th>\n",
              "      <th>UUID</th>\n",
              "      <th>Application Category</th>\n",
              "      <th>Avg_Session_Time</th>\n",
              "      <th>Business Models</th>\n",
              "      <th>City</th>\n",
              "      <th>Company Stage</th>\n",
              "      <th>Feed Name</th>\n",
              "      <th>Founded Year</th>\n",
              "      <th>Latest Funded Date</th>\n",
              "      <th>MAU</th>\n",
              "      <th>Open_Rate</th>\n",
              "      <th>Overview</th>\n",
              "      <th>Practice Areas</th>\n",
              "      <th>Reach</th>\n",
              "      <th>Total Funding (USD)</th>\n",
              "      <th>Total_Session_Time</th>\n",
              "      <th>Uninstall_Rate</th>\n",
              "      <th>funding_ind</th>\n",
              "      <th>Month</th>\n",
              "      <th>Month1</th>\n",
              "      <th>user_created_at_year_month</th>\n",
              "    </tr>\n",
              "  </thead>\n",
              "  <tbody>\n",
              "    <tr>\n",
              "      <th>10318</th>\n",
              "      <td>34fb5fdd67d01b62867cd3496b1a73f0b8ae82a0</td>\n",
              "      <td>Travel &amp; Local</td>\n",
              "      <td>NaN</td>\n",
              "      <td>NaN</td>\n",
              "      <td>NaN</td>\n",
              "      <td>NaN</td>\n",
              "      <td>NaN</td>\n",
              "      <td>NaN</td>\n",
              "      <td>NaN</td>\n",
              "      <td>NaN</td>\n",
              "      <td>NaN</td>\n",
              "      <td>NaN</td>\n",
              "      <td>NaN</td>\n",
              "      <td>0.000182</td>\n",
              "      <td>NaN</td>\n",
              "      <td>NaN</td>\n",
              "      <td>0.473684</td>\n",
              "      <td>0</td>\n",
              "      <td>8</td>\n",
              "      <td>2018-08-01</td>\n",
              "      <td>2018-08</td>\n",
              "    </tr>\n",
              "    <tr>\n",
              "      <th>25680</th>\n",
              "      <td>34fb5fdd67d01b62867cd3496b1a73f0b8ae82a0</td>\n",
              "      <td>Travel &amp; Local</td>\n",
              "      <td>NaN</td>\n",
              "      <td>NaN</td>\n",
              "      <td>NaN</td>\n",
              "      <td>NaN</td>\n",
              "      <td>NaN</td>\n",
              "      <td>NaN</td>\n",
              "      <td>NaN</td>\n",
              "      <td>NaN</td>\n",
              "      <td>NaN</td>\n",
              "      <td>NaN</td>\n",
              "      <td>NaN</td>\n",
              "      <td>0.000114</td>\n",
              "      <td>NaN</td>\n",
              "      <td>NaN</td>\n",
              "      <td>0.568966</td>\n",
              "      <td>0</td>\n",
              "      <td>6</td>\n",
              "      <td>2019-06-01</td>\n",
              "      <td>2019-06</td>\n",
              "    </tr>\n",
              "    <tr>\n",
              "      <th>41734</th>\n",
              "      <td>34fb5fdd67d01b62867cd3496b1a73f0b8ae82a0</td>\n",
              "      <td>Travel &amp; Local</td>\n",
              "      <td>2.633072</td>\n",
              "      <td>Internet First Insurance Platforms &gt; Internet ...</td>\n",
              "      <td>Delhi</td>\n",
              "      <td>Seed</td>\n",
              "      <td>Internet First Insurance Platforms</td>\n",
              "      <td>2019.0</td>\n",
              "      <td>2020-03-26</td>\n",
              "      <td>0.775</td>\n",
              "      <td>4.559550</td>\n",
              "      <td>Usage-based health insurance platform for indi...</td>\n",
              "      <td>FinTech\\nInsurTech</td>\n",
              "      <td>0.000069</td>\n",
              "      <td>805895.0</td>\n",
              "      <td>11.674347</td>\n",
              "      <td>0.494382</td>\n",
              "      <td>1</td>\n",
              "      <td>12</td>\n",
              "      <td>2019-12-01</td>\n",
              "      <td>2019-12</td>\n",
              "    </tr>\n",
              "    <tr>\n",
              "      <th>107678</th>\n",
              "      <td>34fb5fdd67d01b62867cd3496b1a73f0b8ae82a0</td>\n",
              "      <td>Weather</td>\n",
              "      <td>1.498761</td>\n",
              "      <td>Internet First Insurance Platforms &gt; Internet ...</td>\n",
              "      <td>Delhi</td>\n",
              "      <td>Seed</td>\n",
              "      <td>Internet First Insurance Platforms</td>\n",
              "      <td>2019.0</td>\n",
              "      <td>2020-03-26</td>\n",
              "      <td>NaN</td>\n",
              "      <td>3.730539</td>\n",
              "      <td>Usage-based health insurance platform for indi...</td>\n",
              "      <td>FinTech\\nInsurTech</td>\n",
              "      <td>NaN</td>\n",
              "      <td>805895.0</td>\n",
              "      <td>4.308760</td>\n",
              "      <td>NaN</td>\n",
              "      <td>1</td>\n",
              "      <td>12</td>\n",
              "      <td>2019-12-01</td>\n",
              "      <td>2019-12</td>\n",
              "    </tr>\n",
              "    <tr>\n",
              "      <th>107679</th>\n",
              "      <td>34fb5fdd67d01b62867cd3496b1a73f0b8ae82a0</td>\n",
              "      <td>Simulation</td>\n",
              "      <td>1.019566</td>\n",
              "      <td>Internet First Insurance Platforms &gt; Internet ...</td>\n",
              "      <td>Delhi</td>\n",
              "      <td>Seed</td>\n",
              "      <td>Internet First Insurance Platforms</td>\n",
              "      <td>2019.0</td>\n",
              "      <td>2020-03-26</td>\n",
              "      <td>NaN</td>\n",
              "      <td>2.943820</td>\n",
              "      <td>Usage-based health insurance platform for indi...</td>\n",
              "      <td>FinTech\\nInsurTech</td>\n",
              "      <td>NaN</td>\n",
              "      <td>805895.0</td>\n",
              "      <td>2.533949</td>\n",
              "      <td>NaN</td>\n",
              "      <td>1</td>\n",
              "      <td>12</td>\n",
              "      <td>2019-12-01</td>\n",
              "      <td>2019-12</td>\n",
              "    </tr>\n",
              "    <tr>\n",
              "      <th>...</th>\n",
              "      <td>...</td>\n",
              "      <td>...</td>\n",
              "      <td>...</td>\n",
              "      <td>...</td>\n",
              "      <td>...</td>\n",
              "      <td>...</td>\n",
              "      <td>...</td>\n",
              "      <td>...</td>\n",
              "      <td>...</td>\n",
              "      <td>...</td>\n",
              "      <td>...</td>\n",
              "      <td>...</td>\n",
              "      <td>...</td>\n",
              "      <td>...</td>\n",
              "      <td>...</td>\n",
              "      <td>...</td>\n",
              "      <td>...</td>\n",
              "      <td>...</td>\n",
              "      <td>...</td>\n",
              "      <td>...</td>\n",
              "      <td>...</td>\n",
              "    </tr>\n",
              "    <tr>\n",
              "      <th>1472619</th>\n",
              "      <td>34fb5fdd67d01b62867cd3496b1a73f0b8ae82a0</td>\n",
              "      <td>Action</td>\n",
              "      <td>3.418208</td>\n",
              "      <td>NaN</td>\n",
              "      <td>NaN</td>\n",
              "      <td>NaN</td>\n",
              "      <td>NaN</td>\n",
              "      <td>NaN</td>\n",
              "      <td>NaN</td>\n",
              "      <td>NaN</td>\n",
              "      <td>2.000000</td>\n",
              "      <td>NaN</td>\n",
              "      <td>NaN</td>\n",
              "      <td>NaN</td>\n",
              "      <td>NaN</td>\n",
              "      <td>6.836417</td>\n",
              "      <td>NaN</td>\n",
              "      <td>0</td>\n",
              "      <td>11</td>\n",
              "      <td>2019-11-01</td>\n",
              "      <td>2019-11</td>\n",
              "    </tr>\n",
              "    <tr>\n",
              "      <th>1472620</th>\n",
              "      <td>34fb5fdd67d01b62867cd3496b1a73f0b8ae82a0</td>\n",
              "      <td>Lifestyle</td>\n",
              "      <td>5.364403</td>\n",
              "      <td>NaN</td>\n",
              "      <td>NaN</td>\n",
              "      <td>NaN</td>\n",
              "      <td>NaN</td>\n",
              "      <td>NaN</td>\n",
              "      <td>NaN</td>\n",
              "      <td>NaN</td>\n",
              "      <td>2.666667</td>\n",
              "      <td>NaN</td>\n",
              "      <td>NaN</td>\n",
              "      <td>NaN</td>\n",
              "      <td>NaN</td>\n",
              "      <td>14.696428</td>\n",
              "      <td>NaN</td>\n",
              "      <td>0</td>\n",
              "      <td>11</td>\n",
              "      <td>2019-11-01</td>\n",
              "      <td>2019-11</td>\n",
              "    </tr>\n",
              "    <tr>\n",
              "      <th>1472622</th>\n",
              "      <td>34fb5fdd67d01b62867cd3496b1a73f0b8ae82a0</td>\n",
              "      <td>Weather</td>\n",
              "      <td>1.437786</td>\n",
              "      <td>NaN</td>\n",
              "      <td>NaN</td>\n",
              "      <td>NaN</td>\n",
              "      <td>NaN</td>\n",
              "      <td>NaN</td>\n",
              "      <td>NaN</td>\n",
              "      <td>NaN</td>\n",
              "      <td>2.714286</td>\n",
              "      <td>NaN</td>\n",
              "      <td>NaN</td>\n",
              "      <td>NaN</td>\n",
              "      <td>NaN</td>\n",
              "      <td>3.404093</td>\n",
              "      <td>NaN</td>\n",
              "      <td>0</td>\n",
              "      <td>11</td>\n",
              "      <td>2019-11-01</td>\n",
              "      <td>2019-11</td>\n",
              "    </tr>\n",
              "    <tr>\n",
              "      <th>1472624</th>\n",
              "      <td>34fb5fdd67d01b62867cd3496b1a73f0b8ae82a0</td>\n",
              "      <td>Travel &amp; Local</td>\n",
              "      <td>6.153594</td>\n",
              "      <td>NaN</td>\n",
              "      <td>NaN</td>\n",
              "      <td>NaN</td>\n",
              "      <td>NaN</td>\n",
              "      <td>NaN</td>\n",
              "      <td>NaN</td>\n",
              "      <td>NaN</td>\n",
              "      <td>3.000000</td>\n",
              "      <td>NaN</td>\n",
              "      <td>NaN</td>\n",
              "      <td>NaN</td>\n",
              "      <td>NaN</td>\n",
              "      <td>18.460783</td>\n",
              "      <td>NaN</td>\n",
              "      <td>0</td>\n",
              "      <td>11</td>\n",
              "      <td>2019-11-01</td>\n",
              "      <td>2019-11</td>\n",
              "    </tr>\n",
              "    <tr>\n",
              "      <th>1498950</th>\n",
              "      <td>34fb5fdd67d01b62867cd3496b1a73f0b8ae82a0</td>\n",
              "      <td>Travel &amp; Local</td>\n",
              "      <td>NaN</td>\n",
              "      <td>NaN</td>\n",
              "      <td>NaN</td>\n",
              "      <td>NaN</td>\n",
              "      <td>NaN</td>\n",
              "      <td>NaN</td>\n",
              "      <td>NaN</td>\n",
              "      <td>NaN</td>\n",
              "      <td>NaN</td>\n",
              "      <td>NaN</td>\n",
              "      <td>NaN</td>\n",
              "      <td>0.000141</td>\n",
              "      <td>NaN</td>\n",
              "      <td>NaN</td>\n",
              "      <td>0.511364</td>\n",
              "      <td>0</td>\n",
              "      <td>1</td>\n",
              "      <td>2019-01-01</td>\n",
              "      <td>2019-01</td>\n",
              "    </tr>\n",
              "  </tbody>\n",
              "</table>\n",
              "<p>194 rows × 21 columns</p>\n",
              "</div>"
            ],
            "text/plain": [
              "                                             UUID  ... user_created_at_year_month\n",
              "10318    34fb5fdd67d01b62867cd3496b1a73f0b8ae82a0  ...                    2018-08\n",
              "25680    34fb5fdd67d01b62867cd3496b1a73f0b8ae82a0  ...                    2019-06\n",
              "41734    34fb5fdd67d01b62867cd3496b1a73f0b8ae82a0  ...                    2019-12\n",
              "107678   34fb5fdd67d01b62867cd3496b1a73f0b8ae82a0  ...                    2019-12\n",
              "107679   34fb5fdd67d01b62867cd3496b1a73f0b8ae82a0  ...                    2019-12\n",
              "...                                           ...  ...                        ...\n",
              "1472619  34fb5fdd67d01b62867cd3496b1a73f0b8ae82a0  ...                    2019-11\n",
              "1472620  34fb5fdd67d01b62867cd3496b1a73f0b8ae82a0  ...                    2019-11\n",
              "1472622  34fb5fdd67d01b62867cd3496b1a73f0b8ae82a0  ...                    2019-11\n",
              "1472624  34fb5fdd67d01b62867cd3496b1a73f0b8ae82a0  ...                    2019-11\n",
              "1498950  34fb5fdd67d01b62867cd3496b1a73f0b8ae82a0  ...                    2019-01\n",
              "\n",
              "[194 rows x 21 columns]"
            ]
          },
          "metadata": {
            "tags": []
          },
          "execution_count": 68
        }
      ]
    },
    {
      "cell_type": "code",
      "metadata": {
        "id": "m3zF8K8FbapK"
      },
      "source": [
        "startup_df.head()"
      ],
      "execution_count": null,
      "outputs": []
    },
    {
      "cell_type": "code",
      "metadata": {
        "colab": {
          "base_uri": "https://localhost:8080/",
          "height": 327
        },
        "id": "AMM5khnVKjip",
        "outputId": "aceec4b3-a9f7-40c4-8e5d-9a8dceb872dc"
      },
      "source": [
        "funded_df[funded_df['UUID']=='0de5c3fb8362718a71754d77061259c809266dd1']"
      ],
      "execution_count": null,
      "outputs": [
        {
          "output_type": "execute_result",
          "data": {
            "text/html": [
              "<div>\n",
              "<style scoped>\n",
              "    .dataframe tbody tr th:only-of-type {\n",
              "        vertical-align: middle;\n",
              "    }\n",
              "\n",
              "    .dataframe tbody tr th {\n",
              "        vertical-align: top;\n",
              "    }\n",
              "\n",
              "    .dataframe thead th {\n",
              "        text-align: right;\n",
              "    }\n",
              "</style>\n",
              "<table border=\"1\" class=\"dataframe\">\n",
              "  <thead>\n",
              "    <tr style=\"text-align: right;\">\n",
              "      <th></th>\n",
              "      <th>UUID</th>\n",
              "      <th>Application Category</th>\n",
              "      <th>Avg_Session_Time</th>\n",
              "      <th>Business Models</th>\n",
              "      <th>City</th>\n",
              "      <th>Company Stage</th>\n",
              "      <th>Feed Name</th>\n",
              "      <th>Founded Year</th>\n",
              "      <th>Latest Funded Date</th>\n",
              "      <th>MAU</th>\n",
              "      <th>Open_Rate</th>\n",
              "      <th>Overview</th>\n",
              "      <th>Practice Areas</th>\n",
              "      <th>Reach</th>\n",
              "      <th>Total Funding (USD)</th>\n",
              "      <th>Total_Session_Time</th>\n",
              "      <th>Uninstall_Rate</th>\n",
              "      <th>funding_ind</th>\n",
              "      <th>Month</th>\n",
              "      <th>Month1</th>\n",
              "      <th>user_created_at_year_month</th>\n",
              "    </tr>\n",
              "  </thead>\n",
              "  <tbody>\n",
              "    <tr>\n",
              "      <th>147</th>\n",
              "      <td>0de5c3fb8362718a71754d77061259c809266dd1</td>\n",
              "      <td>Parenting</td>\n",
              "      <td>NaN</td>\n",
              "      <td>Mom &amp; Baby Care &gt; Parenting &gt; Community</td>\n",
              "      <td>Mumbai</td>\n",
              "      <td>Series A</td>\n",
              "      <td>Mom &amp; Baby Care</td>\n",
              "      <td>2017.0</td>\n",
              "      <td>2018-09-10</td>\n",
              "      <td>NaN</td>\n",
              "      <td>NaN</td>\n",
              "      <td>Online parenting platform for pregnancy and ch...</td>\n",
              "      <td>Retail</td>\n",
              "      <td>0.000192</td>\n",
              "      <td>4087427.0</td>\n",
              "      <td>NaN</td>\n",
              "      <td>0.250000</td>\n",
              "      <td>1</td>\n",
              "      <td>8</td>\n",
              "      <td>2018-08-01</td>\n",
              "      <td>2018-08</td>\n",
              "    </tr>\n",
              "    <tr>\n",
              "      <th>792227</th>\n",
              "      <td>0de5c3fb8362718a71754d77061259c809266dd1</td>\n",
              "      <td>Parenting</td>\n",
              "      <td>NaN</td>\n",
              "      <td>Mom &amp; Baby Care &gt; Parenting &gt; Community</td>\n",
              "      <td>Mumbai</td>\n",
              "      <td>Series A</td>\n",
              "      <td>Mom &amp; Baby Care</td>\n",
              "      <td>2017.0</td>\n",
              "      <td>2018-09-10</td>\n",
              "      <td>NaN</td>\n",
              "      <td>NaN</td>\n",
              "      <td>Online parenting platform for pregnancy and ch...</td>\n",
              "      <td>Retail</td>\n",
              "      <td>0.000224</td>\n",
              "      <td>4087427.0</td>\n",
              "      <td>NaN</td>\n",
              "      <td>0.078947</td>\n",
              "      <td>1</td>\n",
              "      <td>7</td>\n",
              "      <td>2018-07-01</td>\n",
              "      <td>2018-07</td>\n",
              "    </tr>\n",
              "  </tbody>\n",
              "</table>\n",
              "</div>"
            ],
            "text/plain": [
              "                                            UUID  ... user_created_at_year_month\n",
              "147     0de5c3fb8362718a71754d77061259c809266dd1  ...                    2018-08\n",
              "792227  0de5c3fb8362718a71754d77061259c809266dd1  ...                    2018-07\n",
              "\n",
              "[2 rows x 21 columns]"
            ]
          },
          "metadata": {
            "tags": []
          },
          "execution_count": 131
        }
      ]
    },
    {
      "cell_type": "code",
      "metadata": {
        "id": "QbR5gPkAz13k",
        "colab": {
          "base_uri": "https://localhost:8080/",
          "height": 1000
        },
        "outputId": "26763d74-a514-4753-f3c3-1de6eb10404a"
      },
      "source": [
        "df.groupby('UUID', as_index = False).agg(list)"
      ],
      "execution_count": 74,
      "outputs": [
        {
          "output_type": "execute_result",
          "data": {
            "text/html": [
              "<div>\n",
              "<style scoped>\n",
              "    .dataframe tbody tr th:only-of-type {\n",
              "        vertical-align: middle;\n",
              "    }\n",
              "\n",
              "    .dataframe tbody tr th {\n",
              "        vertical-align: top;\n",
              "    }\n",
              "\n",
              "    .dataframe thead th {\n",
              "        text-align: right;\n",
              "    }\n",
              "</style>\n",
              "<table border=\"1\" class=\"dataframe\">\n",
              "  <thead>\n",
              "    <tr style=\"text-align: right;\">\n",
              "      <th></th>\n",
              "      <th>UUID</th>\n",
              "      <th>Application Category</th>\n",
              "      <th>Avg_Session_Time</th>\n",
              "      <th>Business Models</th>\n",
              "      <th>City</th>\n",
              "      <th>Company Stage</th>\n",
              "      <th>Feed Name</th>\n",
              "      <th>Founded Year</th>\n",
              "      <th>Latest Funded Date</th>\n",
              "      <th>MAU</th>\n",
              "      <th>Open_Rate</th>\n",
              "      <th>Overview</th>\n",
              "      <th>Practice Areas</th>\n",
              "      <th>Reach</th>\n",
              "      <th>Total Funding (USD)</th>\n",
              "      <th>Total_Session_Time</th>\n",
              "      <th>Uninstall_Rate</th>\n",
              "      <th>funding_ind</th>\n",
              "      <th>Month</th>\n",
              "      <th>Month1</th>\n",
              "      <th>user_created_at_year_month</th>\n",
              "    </tr>\n",
              "  </thead>\n",
              "  <tbody>\n",
              "    <tr>\n",
              "      <th>0</th>\n",
              "      <td>000066f130e3b972364c505c805e2cddee68816d</td>\n",
              "      <td>[Business, Business, Business]</td>\n",
              "      <td>[nan, nan, nan]</td>\n",
              "      <td>[nan, nan, nan]</td>\n",
              "      <td>[nan, nan, nan]</td>\n",
              "      <td>[nan, nan, nan]</td>\n",
              "      <td>[nan, nan, nan]</td>\n",
              "      <td>[nan, nan, nan]</td>\n",
              "      <td>[nan, nan, nan]</td>\n",
              "      <td>[nan, nan, nan]</td>\n",
              "      <td>[nan, nan, nan]</td>\n",
              "      <td>[nan, nan, nan]</td>\n",
              "      <td>[nan, nan, nan]</td>\n",
              "      <td>[1.9720882462160069e-07, 4.8893778266715565e-0...</td>\n",
              "      <td>[nan, nan, nan]</td>\n",
              "      <td>[nan, nan, nan]</td>\n",
              "      <td>[nan, nan, nan]</td>\n",
              "      <td>[0, 0, 0]</td>\n",
              "      <td>[3, 6, 4]</td>\n",
              "      <td>[2020-03-01 00:00:00, 2020-06-01 00:00:00, 202...</td>\n",
              "      <td>[2020-03, 2020-06, 2020-04]</td>\n",
              "    </tr>\n",
              "    <tr>\n",
              "      <th>1</th>\n",
              "      <td>0000c4128bc8bb7dbfbc68f2afec85f485dbcc6b</td>\n",
              "      <td>[Finance]</td>\n",
              "      <td>[nan]</td>\n",
              "      <td>[nan]</td>\n",
              "      <td>[nan]</td>\n",
              "      <td>[nan]</td>\n",
              "      <td>[nan]</td>\n",
              "      <td>[nan]</td>\n",
              "      <td>[nan]</td>\n",
              "      <td>[nan]</td>\n",
              "      <td>[nan]</td>\n",
              "      <td>[nan]</td>\n",
              "      <td>[nan]</td>\n",
              "      <td>[3.022202611485277e-07]</td>\n",
              "      <td>[nan]</td>\n",
              "      <td>[nan]</td>\n",
              "      <td>[nan]</td>\n",
              "      <td>[0]</td>\n",
              "      <td>[4]</td>\n",
              "      <td>[2020-04-01 00:00:00]</td>\n",
              "      <td>[2020-04]</td>\n",
              "    </tr>\n",
              "    <tr>\n",
              "      <th>2</th>\n",
              "      <td>0000d19d56df9df1f266fc1fd245a37ff27fb1f3</td>\n",
              "      <td>[Social, Social, Social, Social, Social]</td>\n",
              "      <td>[nan, 1.4710444444444446, 0.4866, nan, nan]</td>\n",
              "      <td>[nan, nan, nan, nan, nan]</td>\n",
              "      <td>[nan, nan, nan, nan, nan]</td>\n",
              "      <td>[nan, nan, nan, nan, nan]</td>\n",
              "      <td>[nan, nan, nan, nan, nan]</td>\n",
              "      <td>[nan, nan, nan, nan, nan]</td>\n",
              "      <td>[nan, nan, nan, nan, nan]</td>\n",
              "      <td>[nan, nan, nan, nan, nan]</td>\n",
              "      <td>[nan, 3.0, 1.0, nan, nan]</td>\n",
              "      <td>[nan, nan, nan, nan, nan]</td>\n",
              "      <td>[nan, nan, nan, nan, nan]</td>\n",
              "      <td>[2.3665058954592075e-06, nan, 4.88937782667155...</td>\n",
              "      <td>[nan, nan, nan, nan, nan]</td>\n",
              "      <td>[nan, 4.413133333333334, 0.4866, nan, nan]</td>\n",
              "      <td>[nan, nan, nan, nan, nan]</td>\n",
              "      <td>[0, 0, 0, 0, 0]</td>\n",
              "      <td>[3, 2, 6, 5, 4]</td>\n",
              "      <td>[2020-03-01 00:00:00, 2020-02-01 00:00:00, 202...</td>\n",
              "      <td>[2020-03, 2020-02, 2020-06, 2020-05, 2020-04]</td>\n",
              "    </tr>\n",
              "    <tr>\n",
              "      <th>3</th>\n",
              "      <td>000127cbe70aeeab81734b68f409176bd1f1fde8</td>\n",
              "      <td>[Personalization, Personalization, Personaliza...</td>\n",
              "      <td>[0.1902, 0.3642166666666667, nan]</td>\n",
              "      <td>[nan, nan, nan]</td>\n",
              "      <td>[nan, nan, nan]</td>\n",
              "      <td>[nan, nan, nan]</td>\n",
              "      <td>[nan, nan, nan]</td>\n",
              "      <td>[nan, nan, nan]</td>\n",
              "      <td>[nan, nan, nan]</td>\n",
              "      <td>[nan, nan, nan]</td>\n",
              "      <td>[2.0, 1.0, nan]</td>\n",
              "      <td>[nan, nan, nan]</td>\n",
              "      <td>[nan, nan, nan]</td>\n",
              "      <td>[1.9720882462160069e-07, nan, 3.02220261148527...</td>\n",
              "      <td>[nan, nan, nan]</td>\n",
              "      <td>[0.3804, 0.3642166666666667, nan]</td>\n",
              "      <td>[nan, nan, nan]</td>\n",
              "      <td>[0, 0, 0]</td>\n",
              "      <td>[3, 5, 4]</td>\n",
              "      <td>[2020-03-01 00:00:00, 2020-05-01 00:00:00, 202...</td>\n",
              "      <td>[2020-03, 2020-05, 2020-04]</td>\n",
              "    </tr>\n",
              "    <tr>\n",
              "      <th>4</th>\n",
              "      <td>00017d2a013dc43f0e34de1be4beca443713ec80</td>\n",
              "      <td>[Shopping]</td>\n",
              "      <td>[nan]</td>\n",
              "      <td>[nan]</td>\n",
              "      <td>[nan]</td>\n",
              "      <td>[nan]</td>\n",
              "      <td>[nan]</td>\n",
              "      <td>[nan]</td>\n",
              "      <td>[nan]</td>\n",
              "      <td>[nan]</td>\n",
              "      <td>[nan]</td>\n",
              "      <td>[nan]</td>\n",
              "      <td>[nan]</td>\n",
              "      <td>[1.9720882462160069e-07]</td>\n",
              "      <td>[nan]</td>\n",
              "      <td>[nan]</td>\n",
              "      <td>[nan]</td>\n",
              "      <td>[0]</td>\n",
              "      <td>[3]</td>\n",
              "      <td>[2020-03-01 00:00:00]</td>\n",
              "      <td>[2020-03]</td>\n",
              "    </tr>\n",
              "    <tr>\n",
              "      <th>...</th>\n",
              "      <td>...</td>\n",
              "      <td>...</td>\n",
              "      <td>...</td>\n",
              "      <td>...</td>\n",
              "      <td>...</td>\n",
              "      <td>...</td>\n",
              "      <td>...</td>\n",
              "      <td>...</td>\n",
              "      <td>...</td>\n",
              "      <td>...</td>\n",
              "      <td>...</td>\n",
              "      <td>...</td>\n",
              "      <td>...</td>\n",
              "      <td>...</td>\n",
              "      <td>...</td>\n",
              "      <td>...</td>\n",
              "      <td>...</td>\n",
              "      <td>...</td>\n",
              "      <td>...</td>\n",
              "      <td>...</td>\n",
              "      <td>...</td>\n",
              "    </tr>\n",
              "    <tr>\n",
              "      <th>147736</th>\n",
              "      <td>fffe942f59aaf6d4a4119f1538cda1e4e69e9d8d</td>\n",
              "      <td>[Tools, Tools, Tools, Tools, Tools]</td>\n",
              "      <td>[0.3578083333333332, nan, 0.2699, 0.5518333333...</td>\n",
              "      <td>[nan, nan, nan, nan, nan]</td>\n",
              "      <td>[nan, nan, nan, nan, nan]</td>\n",
              "      <td>[nan, nan, nan, nan, nan]</td>\n",
              "      <td>[nan, nan, nan, nan, nan]</td>\n",
              "      <td>[nan, nan, nan, nan, nan]</td>\n",
              "      <td>[nan, nan, nan, nan, nan]</td>\n",
              "      <td>[nan, nan, nan, nan, nan]</td>\n",
              "      <td>[2.0, nan, 1.0, 1.0, 2.0]</td>\n",
              "      <td>[nan, nan, nan, nan, nan]</td>\n",
              "      <td>[nan, nan, nan, nan, nan]</td>\n",
              "      <td>[nan, 5.916264738648019e-07, 4.889377826671556...</td>\n",
              "      <td>[nan, nan, nan, nan, nan]</td>\n",
              "      <td>[0.7156166666666669, nan, 0.2699, 0.5518333333...</td>\n",
              "      <td>[nan, nan, nan, nan, nan]</td>\n",
              "      <td>[0, 0, 0, 0, 0]</td>\n",
              "      <td>[12, 3, 6, 5, 4]</td>\n",
              "      <td>[2019-12-01 00:00:00, 2020-03-01 00:00:00, 202...</td>\n",
              "      <td>[2019-12, 2020-03, 2020-06, 2020-05, 2020-04]</td>\n",
              "    </tr>\n",
              "    <tr>\n",
              "      <th>147737</th>\n",
              "      <td>ffff383fa0831aa6d2c5d9257194d0d89841422d</td>\n",
              "      <td>[Card, Card, Card, Card, Card, Card, Card, Car...</td>\n",
              "      <td>[13.552092152777774, 2.9301666666666666, nan, ...</td>\n",
              "      <td>[nan, nan, nan, nan, nan, nan, nan, nan, nan, ...</td>\n",
              "      <td>[nan, nan, nan, nan, nan, nan, nan, nan, nan, ...</td>\n",
              "      <td>[nan, nan, nan, nan, nan, nan, nan, nan, nan, ...</td>\n",
              "      <td>[nan, nan, nan, nan, nan, nan, nan, nan, nan, ...</td>\n",
              "      <td>[nan, nan, nan, nan, nan, nan, nan, nan, nan, ...</td>\n",
              "      <td>[nan, nan, nan, nan, nan, nan, nan, nan, nan, ...</td>\n",
              "      <td>[nan, nan, nan, nan, nan, nan, nan, nan, nan, ...</td>\n",
              "      <td>[2.55, 1.0, nan, 1.3205128205128205, 2.0327868...</td>\n",
              "      <td>[nan, nan, nan, nan, nan, nan, nan, nan, nan, ...</td>\n",
              "      <td>[nan, nan, nan, nan, nan, nan, nan, nan, nan, ...</td>\n",
              "      <td>[5.916264738648019e-07, 5.916264738648019e-07,...</td>\n",
              "      <td>[nan, nan, nan, nan, nan, nan, nan, nan, nan, ...</td>\n",
              "      <td>[34.25681208333334, 2.9301666666666666, nan, 1...</td>\n",
              "      <td>[nan, nan, nan, nan, nan, nan, nan, nan, nan, ...</td>\n",
              "      <td>[0, 0, 0, 0, 0, 0, 0, 0, 0, 0, 0, 0, 0, 0, 0, ...</td>\n",
              "      <td>[3, 3, 3, 3, 3, 2, 2, 6, 6, 6, 1, 1, 5, 5, 5, ...</td>\n",
              "      <td>[2020-03-01 00:00:00, 2020-03-01 00:00:00, 202...</td>\n",
              "      <td>[2020-03, 2020-03, 2020-03, 2020-03, 2020-03, ...</td>\n",
              "    </tr>\n",
              "    <tr>\n",
              "      <th>147738</th>\n",
              "      <td>ffff67b9dfc65a5f1f146d681497a933998c2256</td>\n",
              "      <td>[Books &amp; Reference, Books &amp; Reference, Books &amp;...</td>\n",
              "      <td>[nan, nan, 2.9324171052631565, 0.9682599999999...</td>\n",
              "      <td>[nan, nan, nan, nan, nan, nan, nan, nan, nan, ...</td>\n",
              "      <td>[nan, nan, nan, nan, nan, nan, nan, nan, nan, ...</td>\n",
              "      <td>[nan, nan, nan, nan, nan, nan, nan, nan, nan, ...</td>\n",
              "      <td>[nan, nan, nan, nan, nan, nan, nan, nan, nan, ...</td>\n",
              "      <td>[nan, nan, nan, nan, nan, nan, nan, nan, nan, ...</td>\n",
              "      <td>[nan, nan, nan, nan, nan, nan, nan, nan, nan, ...</td>\n",
              "      <td>[nan, nan, 0.6666666666666666, nan, nan, nan, ...</td>\n",
              "      <td>[nan, nan, 1.263157894736842, 1.86138613861386...</td>\n",
              "      <td>[nan, nan, nan, nan, nan, nan, nan, nan, nan, ...</td>\n",
              "      <td>[nan, nan, nan, nan, nan, nan, nan, nan, nan, ...</td>\n",
              "      <td>[0.00019169329073482429, 0.0002023642225350000...</td>\n",
              "      <td>[nan, nan, nan, nan, nan, nan, nan, nan, nan, ...</td>\n",
              "      <td>[nan, nan, 2.9620815789473665, 2.2359747524752...</td>\n",
              "      <td>[0.0625, 0.031055900621117963, 0.0081300813008...</td>\n",
              "      <td>[0, 0, 0, 0, 0, 0, 0, 0, 0, 0, 0, 0, 0, 0, 0, ...</td>\n",
              "      <td>[8, 6, 12, 12, 12, 3, 3, 3, 3, 3, 3, 3, 3, 2, ...</td>\n",
              "      <td>[2018-08-01 00:00:00, 2019-06-01 00:00:00, 201...</td>\n",
              "      <td>[2018-08, 2019-06, 2019-12, 2019-12, 2019-12, ...</td>\n",
              "    </tr>\n",
              "    <tr>\n",
              "      <th>147739</th>\n",
              "      <td>ffff74dbc24df592b6355be32f5a71adeefb3b48</td>\n",
              "      <td>[Finance, Finance]</td>\n",
              "      <td>[nan, nan]</td>\n",
              "      <td>[nan, nan]</td>\n",
              "      <td>[nan, nan]</td>\n",
              "      <td>[nan, nan]</td>\n",
              "      <td>[nan, nan]</td>\n",
              "      <td>[nan, nan]</td>\n",
              "      <td>[nan, nan]</td>\n",
              "      <td>[nan, nan]</td>\n",
              "      <td>[nan, nan]</td>\n",
              "      <td>[nan, nan]</td>\n",
              "      <td>[nan, nan]</td>\n",
              "      <td>[3.022202611485277e-07, 9.066607834455828e-07]</td>\n",
              "      <td>[nan, nan]</td>\n",
              "      <td>[nan, nan]</td>\n",
              "      <td>[nan, nan]</td>\n",
              "      <td>[0, 0]</td>\n",
              "      <td>[4, 4]</td>\n",
              "      <td>[2020-04-01 00:00:00, 2020-04-01 00:00:00]</td>\n",
              "      <td>[2020-04, 2020-04]</td>\n",
              "    </tr>\n",
              "    <tr>\n",
              "      <th>147740</th>\n",
              "      <td>ffff99e9bacd6d34b2823a0bac8b3e137d3b35ac</td>\n",
              "      <td>[Casual, Casual, Casual]</td>\n",
              "      <td>[nan, 0.062116666666666674, nan]</td>\n",
              "      <td>[nan, nan, nan]</td>\n",
              "      <td>[nan, nan, nan]</td>\n",
              "      <td>[nan, nan, nan]</td>\n",
              "      <td>[nan, nan, nan]</td>\n",
              "      <td>[nan, nan, nan]</td>\n",
              "      <td>[nan, nan, nan]</td>\n",
              "      <td>[nan, nan, nan]</td>\n",
              "      <td>[nan, 1.0, nan]</td>\n",
              "      <td>[nan, nan, nan]</td>\n",
              "      <td>[nan, nan, nan]</td>\n",
              "      <td>[1.9720882462160069e-07, nan, 3.02220261148527...</td>\n",
              "      <td>[nan, nan, nan]</td>\n",
              "      <td>[nan, 0.062116666666666674, nan]</td>\n",
              "      <td>[nan, nan, nan]</td>\n",
              "      <td>[0, 0, 0]</td>\n",
              "      <td>[3, 2, 4]</td>\n",
              "      <td>[2020-03-01 00:00:00, 2020-02-01 00:00:00, 202...</td>\n",
              "      <td>[2020-03, 2020-02, 2020-04]</td>\n",
              "    </tr>\n",
              "  </tbody>\n",
              "</table>\n",
              "<p>147741 rows × 21 columns</p>\n",
              "</div>"
            ],
            "text/plain": [
              "                                            UUID  ...                         user_created_at_year_month\n",
              "0       000066f130e3b972364c505c805e2cddee68816d  ...                        [2020-03, 2020-06, 2020-04]\n",
              "1       0000c4128bc8bb7dbfbc68f2afec85f485dbcc6b  ...                                          [2020-04]\n",
              "2       0000d19d56df9df1f266fc1fd245a37ff27fb1f3  ...      [2020-03, 2020-02, 2020-06, 2020-05, 2020-04]\n",
              "3       000127cbe70aeeab81734b68f409176bd1f1fde8  ...                        [2020-03, 2020-05, 2020-04]\n",
              "4       00017d2a013dc43f0e34de1be4beca443713ec80  ...                                          [2020-03]\n",
              "...                                          ...  ...                                                ...\n",
              "147736  fffe942f59aaf6d4a4119f1538cda1e4e69e9d8d  ...      [2019-12, 2020-03, 2020-06, 2020-05, 2020-04]\n",
              "147737  ffff383fa0831aa6d2c5d9257194d0d89841422d  ...  [2020-03, 2020-03, 2020-03, 2020-03, 2020-03, ...\n",
              "147738  ffff67b9dfc65a5f1f146d681497a933998c2256  ...  [2018-08, 2019-06, 2019-12, 2019-12, 2019-12, ...\n",
              "147739  ffff74dbc24df592b6355be32f5a71adeefb3b48  ...                                 [2020-04, 2020-04]\n",
              "147740  ffff99e9bacd6d34b2823a0bac8b3e137d3b35ac  ...                        [2020-03, 2020-02, 2020-04]\n",
              "\n",
              "[147741 rows x 21 columns]"
            ]
          },
          "metadata": {
            "tags": []
          },
          "execution_count": 74
        }
      ]
    },
    {
      "cell_type": "code",
      "metadata": {
        "colab": {
          "base_uri": "https://localhost:8080/",
          "height": 334
        },
        "id": "HGhVERzd6Hx_",
        "outputId": "b184bdea-78ea-4d47-9d90-ab9b76d853d8"
      },
      "source": [
        "df[~df['Avg_Session_Time'].isna()].head()"
      ],
      "execution_count": 80,
      "outputs": [
        {
          "output_type": "execute_result",
          "data": {
            "text/html": [
              "<div>\n",
              "<style scoped>\n",
              "    .dataframe tbody tr th:only-of-type {\n",
              "        vertical-align: middle;\n",
              "    }\n",
              "\n",
              "    .dataframe tbody tr th {\n",
              "        vertical-align: top;\n",
              "    }\n",
              "\n",
              "    .dataframe thead th {\n",
              "        text-align: right;\n",
              "    }\n",
              "</style>\n",
              "<table border=\"1\" class=\"dataframe\">\n",
              "  <thead>\n",
              "    <tr style=\"text-align: right;\">\n",
              "      <th></th>\n",
              "      <th>UUID</th>\n",
              "      <th>Application Category</th>\n",
              "      <th>Avg_Session_Time</th>\n",
              "      <th>Business Models</th>\n",
              "      <th>City</th>\n",
              "      <th>Company Stage</th>\n",
              "      <th>Feed Name</th>\n",
              "      <th>Founded Year</th>\n",
              "      <th>Latest Funded Date</th>\n",
              "      <th>MAU</th>\n",
              "      <th>Open_Rate</th>\n",
              "      <th>Overview</th>\n",
              "      <th>Practice Areas</th>\n",
              "      <th>Reach</th>\n",
              "      <th>Total Funding (USD)</th>\n",
              "      <th>Total_Session_Time</th>\n",
              "      <th>Uninstall_Rate</th>\n",
              "      <th>funding_ind</th>\n",
              "      <th>Month</th>\n",
              "      <th>Month1</th>\n",
              "      <th>user_created_at_year_month</th>\n",
              "    </tr>\n",
              "  </thead>\n",
              "  <tbody>\n",
              "    <tr>\n",
              "      <th>29180</th>\n",
              "      <td>c1ad38e2d357610c129657d870ede902e8abfcb9</td>\n",
              "      <td>Books &amp; Reference</td>\n",
              "      <td>0.948620</td>\n",
              "      <td>NaN</td>\n",
              "      <td>NaN</td>\n",
              "      <td>NaN</td>\n",
              "      <td>NaN</td>\n",
              "      <td>NaN</td>\n",
              "      <td>NaN</td>\n",
              "      <td>0.645337</td>\n",
              "      <td>2.892748</td>\n",
              "      <td>NaN</td>\n",
              "      <td>NaN</td>\n",
              "      <td>0.020573</td>\n",
              "      <td>NaN</td>\n",
              "      <td>2.747994</td>\n",
              "      <td>0.027411</td>\n",
              "      <td>0</td>\n",
              "      <td>12</td>\n",
              "      <td>2019-12-01</td>\n",
              "      <td>2019-12</td>\n",
              "    </tr>\n",
              "    <tr>\n",
              "      <th>29181</th>\n",
              "      <td>d841e670d9191f896a0cbc75961920887b375756</td>\n",
              "      <td>Books &amp; Reference</td>\n",
              "      <td>1.285343</td>\n",
              "      <td>NaN</td>\n",
              "      <td>NaN</td>\n",
              "      <td>NaN</td>\n",
              "      <td>NaN</td>\n",
              "      <td>NaN</td>\n",
              "      <td>NaN</td>\n",
              "      <td>0.470199</td>\n",
              "      <td>3.580697</td>\n",
              "      <td>NaN</td>\n",
              "      <td>NaN</td>\n",
              "      <td>0.004869</td>\n",
              "      <td>NaN</td>\n",
              "      <td>4.121214</td>\n",
              "      <td>0.017159</td>\n",
              "      <td>0</td>\n",
              "      <td>12</td>\n",
              "      <td>2019-12-01</td>\n",
              "      <td>2019-12</td>\n",
              "    </tr>\n",
              "    <tr>\n",
              "      <th>29182</th>\n",
              "      <td>0a59d138b3eaccd22b665eae70c756fef83ddb63</td>\n",
              "      <td>Finance</td>\n",
              "      <td>2.742948</td>\n",
              "      <td>NaN</td>\n",
              "      <td>NaN</td>\n",
              "      <td>NaN</td>\n",
              "      <td>NaN</td>\n",
              "      <td>NaN</td>\n",
              "      <td>NaN</td>\n",
              "      <td>0.111111</td>\n",
              "      <td>1.914286</td>\n",
              "      <td>NaN</td>\n",
              "      <td>NaN</td>\n",
              "      <td>0.000082</td>\n",
              "      <td>NaN</td>\n",
              "      <td>7.232086</td>\n",
              "      <td>0.108911</td>\n",
              "      <td>0</td>\n",
              "      <td>12</td>\n",
              "      <td>2019-12-01</td>\n",
              "      <td>2019-12</td>\n",
              "    </tr>\n",
              "    <tr>\n",
              "      <th>29183</th>\n",
              "      <td>0a59d138b3eaccd22b665eae70c756fef83ddb63</td>\n",
              "      <td>Books &amp; Reference</td>\n",
              "      <td>1.040757</td>\n",
              "      <td>NaN</td>\n",
              "      <td>NaN</td>\n",
              "      <td>NaN</td>\n",
              "      <td>NaN</td>\n",
              "      <td>NaN</td>\n",
              "      <td>NaN</td>\n",
              "      <td>0.117647</td>\n",
              "      <td>22.712329</td>\n",
              "      <td>NaN</td>\n",
              "      <td>NaN</td>\n",
              "      <td>0.000030</td>\n",
              "      <td>NaN</td>\n",
              "      <td>22.515724</td>\n",
              "      <td>0.030303</td>\n",
              "      <td>0</td>\n",
              "      <td>12</td>\n",
              "      <td>2019-12-01</td>\n",
              "      <td>2019-12</td>\n",
              "    </tr>\n",
              "    <tr>\n",
              "      <th>29184</th>\n",
              "      <td>df5fb9891f77df24a91d039f1817c6c4e79244ef</td>\n",
              "      <td>Productivity</td>\n",
              "      <td>0.531213</td>\n",
              "      <td>NaN</td>\n",
              "      <td>NaN</td>\n",
              "      <td>NaN</td>\n",
              "      <td>NaN</td>\n",
              "      <td>NaN</td>\n",
              "      <td>NaN</td>\n",
              "      <td>0.517625</td>\n",
              "      <td>3.305187</td>\n",
              "      <td>NaN</td>\n",
              "      <td>NaN</td>\n",
              "      <td>0.001717</td>\n",
              "      <td>NaN</td>\n",
              "      <td>1.768690</td>\n",
              "      <td>0.286079</td>\n",
              "      <td>0</td>\n",
              "      <td>12</td>\n",
              "      <td>2019-12-01</td>\n",
              "      <td>2019-12</td>\n",
              "    </tr>\n",
              "  </tbody>\n",
              "</table>\n",
              "</div>"
            ],
            "text/plain": [
              "                                           UUID  ... user_created_at_year_month\n",
              "29180  c1ad38e2d357610c129657d870ede902e8abfcb9  ...                    2019-12\n",
              "29181  d841e670d9191f896a0cbc75961920887b375756  ...                    2019-12\n",
              "29182  0a59d138b3eaccd22b665eae70c756fef83ddb63  ...                    2019-12\n",
              "29183  0a59d138b3eaccd22b665eae70c756fef83ddb63  ...                    2019-12\n",
              "29184  df5fb9891f77df24a91d039f1817c6c4e79244ef  ...                    2019-12\n",
              "\n",
              "[5 rows x 21 columns]"
            ]
          },
          "metadata": {
            "tags": []
          },
          "execution_count": 80
        }
      ]
    },
    {
      "cell_type": "code",
      "metadata": {
        "colab": {
          "base_uri": "https://localhost:8080/"
        },
        "id": "rSsK9Nkzh-4D",
        "outputId": "b7bff8db-7280-4d7e-ef47-07440e1c48b0"
      },
      "source": [
        "df[df['Application Category']=='Books & Reference']['Avg_Session_Time'].value_counts()"
      ],
      "execution_count": 79,
      "outputs": [
        {
          "output_type": "execute_result",
          "data": {
            "text/plain": [
              "0.397567    3\n",
              "0.019050    3\n",
              "0.614050    3\n",
              "0.302000    3\n",
              "0.015083    3\n",
              "           ..\n",
              "0.019850    1\n",
              "3.466288    1\n",
              "2.508906    1\n",
              "1.752496    1\n",
              "1.027643    1\n",
              "Name: Avg_Session_Time, Length: 42001, dtype: int64"
            ]
          },
          "metadata": {
            "tags": []
          },
          "execution_count": 79
        }
      ]
    },
    {
      "cell_type": "markdown",
      "metadata": {
        "id": "noA0JOBtM18V"
      },
      "source": [
        "# Missing Value Imputation"
      ]
    },
    {
      "cell_type": "code",
      "metadata": {
        "colab": {
          "base_uri": "https://localhost:8080/"
        },
        "id": "BZ2al6YlNbxp",
        "outputId": "4d08d2ee-f93c-48a4-d5cf-65ad4e4786e0"
      },
      "source": [
        "df['Latest Funded Date'].isnull().sum()"
      ],
      "execution_count": 31,
      "outputs": [
        {
          "output_type": "execute_result",
          "data": {
            "text/plain": [
              "1410459"
            ]
          },
          "metadata": {
            "tags": []
          },
          "execution_count": 31
        }
      ]
    },
    {
      "cell_type": "code",
      "metadata": {
        "colab": {
          "base_uri": "https://localhost:8080/",
          "height": 334
        },
        "id": "Z-Q5wXIconos",
        "outputId": "4143a173-9beb-49e1-98e2-d94227fcc790"
      },
      "source": [
        "df.head()"
      ],
      "execution_count": 36,
      "outputs": [
        {
          "output_type": "execute_result",
          "data": {
            "text/html": [
              "<div>\n",
              "<style scoped>\n",
              "    .dataframe tbody tr th:only-of-type {\n",
              "        vertical-align: middle;\n",
              "    }\n",
              "\n",
              "    .dataframe tbody tr th {\n",
              "        vertical-align: top;\n",
              "    }\n",
              "\n",
              "    .dataframe thead th {\n",
              "        text-align: right;\n",
              "    }\n",
              "</style>\n",
              "<table border=\"1\" class=\"dataframe\">\n",
              "  <thead>\n",
              "    <tr style=\"text-align: right;\">\n",
              "      <th></th>\n",
              "      <th>UUID</th>\n",
              "      <th>Application Category</th>\n",
              "      <th>Avg_Session_Time</th>\n",
              "      <th>Business Models</th>\n",
              "      <th>City</th>\n",
              "      <th>Company Stage</th>\n",
              "      <th>Feed Name</th>\n",
              "      <th>Founded Year</th>\n",
              "      <th>Latest Funded Date</th>\n",
              "      <th>MAU</th>\n",
              "      <th>Open_Rate</th>\n",
              "      <th>Overview</th>\n",
              "      <th>Practice Areas</th>\n",
              "      <th>Reach</th>\n",
              "      <th>Total Funding (USD)</th>\n",
              "      <th>Total_Session_Time</th>\n",
              "      <th>Uninstall_Rate</th>\n",
              "      <th>funding_ind</th>\n",
              "      <th>Month</th>\n",
              "      <th>Month1</th>\n",
              "      <th>user_created_at_year_month</th>\n",
              "    </tr>\n",
              "  </thead>\n",
              "  <tbody>\n",
              "    <tr>\n",
              "      <th>0</th>\n",
              "      <td>c1ad38e2d357610c129657d870ede902e8abfcb9</td>\n",
              "      <td>Books &amp; Reference</td>\n",
              "      <td>NaN</td>\n",
              "      <td>NaN</td>\n",
              "      <td>NaN</td>\n",
              "      <td>NaN</td>\n",
              "      <td>NaN</td>\n",
              "      <td>NaN</td>\n",
              "      <td>NaN</td>\n",
              "      <td>NaN</td>\n",
              "      <td>NaN</td>\n",
              "      <td>NaN</td>\n",
              "      <td>NaN</td>\n",
              "      <td>0.042963</td>\n",
              "      <td>NaN</td>\n",
              "      <td>NaN</td>\n",
              "      <td>0.024443</td>\n",
              "      <td>0</td>\n",
              "      <td>8</td>\n",
              "      <td>2018-08-01</td>\n",
              "      <td>2018-08</td>\n",
              "    </tr>\n",
              "    <tr>\n",
              "      <th>1</th>\n",
              "      <td>d841e670d9191f896a0cbc75961920887b375756</td>\n",
              "      <td>Books &amp; Reference</td>\n",
              "      <td>NaN</td>\n",
              "      <td>NaN</td>\n",
              "      <td>NaN</td>\n",
              "      <td>NaN</td>\n",
              "      <td>NaN</td>\n",
              "      <td>NaN</td>\n",
              "      <td>NaN</td>\n",
              "      <td>NaN</td>\n",
              "      <td>NaN</td>\n",
              "      <td>NaN</td>\n",
              "      <td>NaN</td>\n",
              "      <td>0.003244</td>\n",
              "      <td>NaN</td>\n",
              "      <td>NaN</td>\n",
              "      <td>0.009828</td>\n",
              "      <td>0</td>\n",
              "      <td>8</td>\n",
              "      <td>2018-08-01</td>\n",
              "      <td>2018-08</td>\n",
              "    </tr>\n",
              "    <tr>\n",
              "      <th>2</th>\n",
              "      <td>0a59d138b3eaccd22b665eae70c756fef83ddb63</td>\n",
              "      <td>Finance</td>\n",
              "      <td>NaN</td>\n",
              "      <td>NaN</td>\n",
              "      <td>NaN</td>\n",
              "      <td>NaN</td>\n",
              "      <td>NaN</td>\n",
              "      <td>NaN</td>\n",
              "      <td>NaN</td>\n",
              "      <td>NaN</td>\n",
              "      <td>NaN</td>\n",
              "      <td>NaN</td>\n",
              "      <td>NaN</td>\n",
              "      <td>0.000161</td>\n",
              "      <td>NaN</td>\n",
              "      <td>NaN</td>\n",
              "      <td>0.235294</td>\n",
              "      <td>0</td>\n",
              "      <td>8</td>\n",
              "      <td>2018-08-01</td>\n",
              "      <td>2018-08</td>\n",
              "    </tr>\n",
              "    <tr>\n",
              "      <th>3</th>\n",
              "      <td>0a59d138b3eaccd22b665eae70c756fef83ddb63</td>\n",
              "      <td>Books &amp; Reference</td>\n",
              "      <td>NaN</td>\n",
              "      <td>NaN</td>\n",
              "      <td>NaN</td>\n",
              "      <td>NaN</td>\n",
              "      <td>NaN</td>\n",
              "      <td>NaN</td>\n",
              "      <td>NaN</td>\n",
              "      <td>NaN</td>\n",
              "      <td>NaN</td>\n",
              "      <td>NaN</td>\n",
              "      <td>NaN</td>\n",
              "      <td>0.000077</td>\n",
              "      <td>NaN</td>\n",
              "      <td>NaN</td>\n",
              "      <td>0.350000</td>\n",
              "      <td>0</td>\n",
              "      <td>8</td>\n",
              "      <td>2018-08-01</td>\n",
              "      <td>2018-08</td>\n",
              "    </tr>\n",
              "    <tr>\n",
              "      <th>4</th>\n",
              "      <td>df5fb9891f77df24a91d039f1817c6c4e79244ef</td>\n",
              "      <td>Productivity</td>\n",
              "      <td>NaN</td>\n",
              "      <td>NaN</td>\n",
              "      <td>NaN</td>\n",
              "      <td>NaN</td>\n",
              "      <td>NaN</td>\n",
              "      <td>NaN</td>\n",
              "      <td>NaN</td>\n",
              "      <td>NaN</td>\n",
              "      <td>NaN</td>\n",
              "      <td>NaN</td>\n",
              "      <td>NaN</td>\n",
              "      <td>0.000939</td>\n",
              "      <td>NaN</td>\n",
              "      <td>NaN</td>\n",
              "      <td>0.312500</td>\n",
              "      <td>0</td>\n",
              "      <td>8</td>\n",
              "      <td>2018-08-01</td>\n",
              "      <td>2018-08</td>\n",
              "    </tr>\n",
              "  </tbody>\n",
              "</table>\n",
              "</div>"
            ],
            "text/plain": [
              "                                       UUID  ... user_created_at_year_month\n",
              "0  c1ad38e2d357610c129657d870ede902e8abfcb9  ...                    2018-08\n",
              "1  d841e670d9191f896a0cbc75961920887b375756  ...                    2018-08\n",
              "2  0a59d138b3eaccd22b665eae70c756fef83ddb63  ...                    2018-08\n",
              "3  0a59d138b3eaccd22b665eae70c756fef83ddb63  ...                    2018-08\n",
              "4  df5fb9891f77df24a91d039f1817c6c4e79244ef  ...                    2018-08\n",
              "\n",
              "[5 rows x 21 columns]"
            ]
          },
          "metadata": {
            "tags": []
          },
          "execution_count": 36
        }
      ]
    },
    {
      "cell_type": "code",
      "metadata": {
        "colab": {
          "base_uri": "https://localhost:8080/"
        },
        "id": "yWMKs0ecNisS",
        "outputId": "610323ae-0c23-4171-f401-07ed1f5baa10"
      },
      "source": [
        "df.shape"
      ],
      "execution_count": 32,
      "outputs": [
        {
          "output_type": "execute_result",
          "data": {
            "text/plain": [
              "(1412763, 21)"
            ]
          },
          "metadata": {
            "tags": []
          },
          "execution_count": 32
        }
      ]
    },
    {
      "cell_type": "code",
      "metadata": {
        "id": "hndl5RhQM66n"
      },
      "source": [
        "columns = ['UUID','Avg_Session_Time','Total_Session_Time','MAU','Open_Rate', 'Uninstall_Rate','Reach','funding_ind']"
      ],
      "execution_count": 47,
      "outputs": []
    },
    {
      "cell_type": "code",
      "metadata": {
        "id": "ewpSpRzINqa6"
      },
      "source": [
        "clean_df = df.copy()"
      ],
      "execution_count": 48,
      "outputs": []
    },
    {
      "cell_type": "code",
      "metadata": {
        "id": "W1mibl2LuZzK"
      },
      "source": [
        "clean_df.index = clean_df['Month1']\r\n",
        "del clean_df['Month1']"
      ],
      "execution_count": 49,
      "outputs": []
    },
    {
      "cell_type": "code",
      "metadata": {
        "id": "3E11ayo7usZ_"
      },
      "source": [
        "clean_df = clean_df[columns]"
      ],
      "execution_count": 50,
      "outputs": []
    },
    {
      "cell_type": "code",
      "metadata": {
        "colab": {
          "base_uri": "https://localhost:8080/",
          "height": 227
        },
        "id": "IAjRm7BSwqgg",
        "outputId": "7875e376-ba23-4f35-c62b-c76a37f961fc"
      },
      "source": [
        "clean_df.head()"
      ],
      "execution_count": 51,
      "outputs": [
        {
          "output_type": "execute_result",
          "data": {
            "text/html": [
              "<div>\n",
              "<style scoped>\n",
              "    .dataframe tbody tr th:only-of-type {\n",
              "        vertical-align: middle;\n",
              "    }\n",
              "\n",
              "    .dataframe tbody tr th {\n",
              "        vertical-align: top;\n",
              "    }\n",
              "\n",
              "    .dataframe thead th {\n",
              "        text-align: right;\n",
              "    }\n",
              "</style>\n",
              "<table border=\"1\" class=\"dataframe\">\n",
              "  <thead>\n",
              "    <tr style=\"text-align: right;\">\n",
              "      <th></th>\n",
              "      <th>UUID</th>\n",
              "      <th>Avg_Session_Time</th>\n",
              "      <th>Total_Session_Time</th>\n",
              "      <th>MAU</th>\n",
              "      <th>Open_Rate</th>\n",
              "      <th>Uninstall_Rate</th>\n",
              "      <th>Reach</th>\n",
              "      <th>funding_ind</th>\n",
              "    </tr>\n",
              "    <tr>\n",
              "      <th>Month1</th>\n",
              "      <th></th>\n",
              "      <th></th>\n",
              "      <th></th>\n",
              "      <th></th>\n",
              "      <th></th>\n",
              "      <th></th>\n",
              "      <th></th>\n",
              "      <th></th>\n",
              "    </tr>\n",
              "  </thead>\n",
              "  <tbody>\n",
              "    <tr>\n",
              "      <th>2018-08-01</th>\n",
              "      <td>c1ad38e2d357610c129657d870ede902e8abfcb9</td>\n",
              "      <td>NaN</td>\n",
              "      <td>NaN</td>\n",
              "      <td>NaN</td>\n",
              "      <td>NaN</td>\n",
              "      <td>0.024443</td>\n",
              "      <td>0.042963</td>\n",
              "      <td>0</td>\n",
              "    </tr>\n",
              "    <tr>\n",
              "      <th>2018-08-01</th>\n",
              "      <td>d841e670d9191f896a0cbc75961920887b375756</td>\n",
              "      <td>NaN</td>\n",
              "      <td>NaN</td>\n",
              "      <td>NaN</td>\n",
              "      <td>NaN</td>\n",
              "      <td>0.009828</td>\n",
              "      <td>0.003244</td>\n",
              "      <td>0</td>\n",
              "    </tr>\n",
              "    <tr>\n",
              "      <th>2018-08-01</th>\n",
              "      <td>0a59d138b3eaccd22b665eae70c756fef83ddb63</td>\n",
              "      <td>NaN</td>\n",
              "      <td>NaN</td>\n",
              "      <td>NaN</td>\n",
              "      <td>NaN</td>\n",
              "      <td>0.235294</td>\n",
              "      <td>0.000161</td>\n",
              "      <td>0</td>\n",
              "    </tr>\n",
              "    <tr>\n",
              "      <th>2018-08-01</th>\n",
              "      <td>0a59d138b3eaccd22b665eae70c756fef83ddb63</td>\n",
              "      <td>NaN</td>\n",
              "      <td>NaN</td>\n",
              "      <td>NaN</td>\n",
              "      <td>NaN</td>\n",
              "      <td>0.350000</td>\n",
              "      <td>0.000077</td>\n",
              "      <td>0</td>\n",
              "    </tr>\n",
              "    <tr>\n",
              "      <th>2018-08-01</th>\n",
              "      <td>df5fb9891f77df24a91d039f1817c6c4e79244ef</td>\n",
              "      <td>NaN</td>\n",
              "      <td>NaN</td>\n",
              "      <td>NaN</td>\n",
              "      <td>NaN</td>\n",
              "      <td>0.312500</td>\n",
              "      <td>0.000939</td>\n",
              "      <td>0</td>\n",
              "    </tr>\n",
              "  </tbody>\n",
              "</table>\n",
              "</div>"
            ],
            "text/plain": [
              "                                                UUID  ...  funding_ind\n",
              "Month1                                                ...             \n",
              "2018-08-01  c1ad38e2d357610c129657d870ede902e8abfcb9  ...            0\n",
              "2018-08-01  d841e670d9191f896a0cbc75961920887b375756  ...            0\n",
              "2018-08-01  0a59d138b3eaccd22b665eae70c756fef83ddb63  ...            0\n",
              "2018-08-01  0a59d138b3eaccd22b665eae70c756fef83ddb63  ...            0\n",
              "2018-08-01  df5fb9891f77df24a91d039f1817c6c4e79244ef  ...            0\n",
              "\n",
              "[5 rows x 8 columns]"
            ]
          },
          "metadata": {
            "tags": []
          },
          "execution_count": 51
        }
      ]
    },
    {
      "cell_type": "code",
      "metadata": {
        "colab": {
          "base_uri": "https://localhost:8080/"
        },
        "id": "FxHt0I9byvVr",
        "outputId": "ff93d36e-4b84-42fd-e521-318637240643"
      },
      "source": [
        "clean_df['UUID'].value_counts()"
      ],
      "execution_count": 55,
      "outputs": [
        {
          "output_type": "execute_result",
          "data": {
            "text/plain": [
              "4e5ad248d207eaf680153dbbf3b2f5bdf3fa6f27    2654\n",
              "a8febb4b767f83022235f3f34a2241ed1e13db2f    1670\n",
              "061d769832ed6fa2e6f5f7923348f7f074e6aa91    1529\n",
              "ec1cd22193eda5ec91905247ea3079ae84e2dd30    1224\n",
              "03fb932e41ef68f1df45e0b20f326de05ebd438c    1086\n",
              "                                            ... \n",
              "8773ad3febc2106bfe562185a5d14f5491a5f8f7       1\n",
              "be52b4de7c76b416a3d23d7c305fbf4811db4247       1\n",
              "bf65078de52b49fbe68359b1e9940049beeba8c4       1\n",
              "ac08d1ed9faa9b831dc3886899a600eec4a9db66       1\n",
              "1c608a7453c22f25e2a1f8884c519e233c9749d9       1\n",
              "Name: UUID, Length: 147741, dtype: int64"
            ]
          },
          "metadata": {
            "tags": []
          },
          "execution_count": 55
        }
      ]
    },
    {
      "cell_type": "markdown",
      "metadata": {
        "id": "rqetAYj5zWWB"
      },
      "source": [
        "# Let's remove those startup that has less than 3 count frequency"
      ]
    },
    {
      "cell_type": "code",
      "metadata": {
        "id": "viN8cQiOy68x"
      },
      "source": [
        "counts = clean_df['UUID'].value_counts()\r\n",
        "\r\n",
        "clean_df = clean_df[~clean_df['UUID'].isin(counts[counts < 5].index)]"
      ],
      "execution_count": 57,
      "outputs": []
    },
    {
      "cell_type": "code",
      "metadata": {
        "colab": {
          "base_uri": "https://localhost:8080/"
        },
        "id": "PfVgM7VG0bnB",
        "outputId": "201fdd16-01ab-44db-e0bb-3d384997ba81"
      },
      "source": [
        "clean_df['UUID'].value_counts()"
      ],
      "execution_count": 58,
      "outputs": [
        {
          "output_type": "execute_result",
          "data": {
            "text/plain": [
              "4e5ad248d207eaf680153dbbf3b2f5bdf3fa6f27    2654\n",
              "a8febb4b767f83022235f3f34a2241ed1e13db2f    1670\n",
              "061d769832ed6fa2e6f5f7923348f7f074e6aa91    1529\n",
              "ec1cd22193eda5ec91905247ea3079ae84e2dd30    1224\n",
              "03fb932e41ef68f1df45e0b20f326de05ebd438c    1086\n",
              "                                            ... \n",
              "a1cf0d918d6a0940a3c545dc34dadb521f93b7c9       5\n",
              "6ded9e9c8bb9e884623e93673b8dfc1cd38941dd       5\n",
              "f33d01b38d004ca281bcc3159bc914de7f2ffc88       5\n",
              "b5d63996cfb147544d3e8b2fc10a66fe0fbcfeeb       5\n",
              "6f0ebe49f7237f9f814b62317c5c3390f252ca99       5\n",
              "Name: UUID, Length: 62811, dtype: int64"
            ]
          },
          "metadata": {
            "tags": []
          },
          "execution_count": 58
        }
      ]
    },
    {
      "cell_type": "markdown",
      "metadata": {
        "id": "TLw4FNzlxD3o"
      },
      "source": [
        "# Interpolation"
      ]
    },
    {
      "cell_type": "code",
      "metadata": {
        "colab": {
          "base_uri": "https://localhost:8080/",
          "height": 387
        },
        "id": "7iD0USdaxOEx",
        "outputId": "747a03d0-9ddc-4fd0-aa9d-35ac0d040424"
      },
      "source": [
        "clean_df_interpolation = clean_df.groupby('UUID').resample('M').mean()"
      ],
      "execution_count": 52,
      "outputs": [
        {
          "output_type": "error",
          "ename": "KeyboardInterrupt",
          "evalue": "ignored",
          "traceback": [
            "\u001b[0;31m---------------------------------------------------------------------------\u001b[0m",
            "\u001b[0;31mKeyboardInterrupt\u001b[0m                         Traceback (most recent call last)",
            "\u001b[0;32m<ipython-input-52-e2e85d7076c1>\u001b[0m in \u001b[0;36m<module>\u001b[0;34m()\u001b[0m\n\u001b[0;32m----> 1\u001b[0;31m \u001b[0mclean_df_interpolation\u001b[0m \u001b[0;34m=\u001b[0m \u001b[0mclean_df\u001b[0m\u001b[0;34m.\u001b[0m\u001b[0mgroupby\u001b[0m\u001b[0;34m(\u001b[0m\u001b[0;34m'UUID'\u001b[0m\u001b[0;34m)\u001b[0m\u001b[0;34m.\u001b[0m\u001b[0mresample\u001b[0m\u001b[0;34m(\u001b[0m\u001b[0;34m'M'\u001b[0m\u001b[0;34m)\u001b[0m\u001b[0;34m.\u001b[0m\u001b[0mmean\u001b[0m\u001b[0;34m(\u001b[0m\u001b[0;34m)\u001b[0m\u001b[0;34m\u001b[0m\u001b[0;34m\u001b[0m\u001b[0m\n\u001b[0m",
            "\u001b[0;32m/usr/local/lib/python3.6/dist-packages/pandas/core/resample.py\u001b[0m in \u001b[0;36mg\u001b[0;34m(self, _method, *args, **kwargs)\u001b[0m\n\u001b[1;32m    935\u001b[0m     \u001b[0;32mdef\u001b[0m \u001b[0mg\u001b[0m\u001b[0;34m(\u001b[0m\u001b[0mself\u001b[0m\u001b[0;34m,\u001b[0m \u001b[0m_method\u001b[0m\u001b[0;34m=\u001b[0m\u001b[0mmethod\u001b[0m\u001b[0;34m,\u001b[0m \u001b[0;34m*\u001b[0m\u001b[0margs\u001b[0m\u001b[0;34m,\u001b[0m \u001b[0;34m**\u001b[0m\u001b[0mkwargs\u001b[0m\u001b[0;34m)\u001b[0m\u001b[0;34m:\u001b[0m\u001b[0;34m\u001b[0m\u001b[0;34m\u001b[0m\u001b[0m\n\u001b[1;32m    936\u001b[0m         \u001b[0mnv\u001b[0m\u001b[0;34m.\u001b[0m\u001b[0mvalidate_resampler_func\u001b[0m\u001b[0;34m(\u001b[0m\u001b[0m_method\u001b[0m\u001b[0;34m,\u001b[0m \u001b[0margs\u001b[0m\u001b[0;34m,\u001b[0m \u001b[0mkwargs\u001b[0m\u001b[0;34m)\u001b[0m\u001b[0;34m\u001b[0m\u001b[0;34m\u001b[0m\u001b[0m\n\u001b[0;32m--> 937\u001b[0;31m         \u001b[0;32mreturn\u001b[0m \u001b[0mself\u001b[0m\u001b[0;34m.\u001b[0m\u001b[0m_downsample\u001b[0m\u001b[0;34m(\u001b[0m\u001b[0m_method\u001b[0m\u001b[0;34m)\u001b[0m\u001b[0;34m\u001b[0m\u001b[0;34m\u001b[0m\u001b[0m\n\u001b[0m\u001b[1;32m    938\u001b[0m \u001b[0;34m\u001b[0m\u001b[0m\n\u001b[1;32m    939\u001b[0m     \u001b[0mg\u001b[0m\u001b[0;34m.\u001b[0m\u001b[0m__doc__\u001b[0m \u001b[0;34m=\u001b[0m \u001b[0mgetattr\u001b[0m\u001b[0;34m(\u001b[0m\u001b[0mGroupBy\u001b[0m\u001b[0;34m,\u001b[0m \u001b[0mmethod\u001b[0m\u001b[0;34m)\u001b[0m\u001b[0;34m.\u001b[0m\u001b[0m__doc__\u001b[0m\u001b[0;34m\u001b[0m\u001b[0;34m\u001b[0m\u001b[0m\n",
            "\u001b[0;32m/usr/local/lib/python3.6/dist-packages/pandas/core/resample.py\u001b[0m in \u001b[0;36m_apply\u001b[0;34m(self, f, grouper, *args, **kwargs)\u001b[0m\n\u001b[1;32m    990\u001b[0m             \u001b[0;32mreturn\u001b[0m \u001b[0mx\u001b[0m\u001b[0;34m.\u001b[0m\u001b[0mapply\u001b[0m\u001b[0;34m(\u001b[0m\u001b[0mf\u001b[0m\u001b[0;34m,\u001b[0m \u001b[0;34m*\u001b[0m\u001b[0margs\u001b[0m\u001b[0;34m,\u001b[0m \u001b[0;34m**\u001b[0m\u001b[0mkwargs\u001b[0m\u001b[0;34m)\u001b[0m\u001b[0;34m\u001b[0m\u001b[0;34m\u001b[0m\u001b[0m\n\u001b[1;32m    991\u001b[0m \u001b[0;34m\u001b[0m\u001b[0m\n\u001b[0;32m--> 992\u001b[0;31m         \u001b[0mresult\u001b[0m \u001b[0;34m=\u001b[0m \u001b[0mself\u001b[0m\u001b[0;34m.\u001b[0m\u001b[0m_groupby\u001b[0m\u001b[0;34m.\u001b[0m\u001b[0mapply\u001b[0m\u001b[0;34m(\u001b[0m\u001b[0mfunc\u001b[0m\u001b[0;34m)\u001b[0m\u001b[0;34m\u001b[0m\u001b[0;34m\u001b[0m\u001b[0m\n\u001b[0m\u001b[1;32m    993\u001b[0m         \u001b[0;32mreturn\u001b[0m \u001b[0mself\u001b[0m\u001b[0;34m.\u001b[0m\u001b[0m_wrap_result\u001b[0m\u001b[0;34m(\u001b[0m\u001b[0mresult\u001b[0m\u001b[0;34m)\u001b[0m\u001b[0;34m\u001b[0m\u001b[0;34m\u001b[0m\u001b[0m\n\u001b[1;32m    994\u001b[0m \u001b[0;34m\u001b[0m\u001b[0m\n",
            "\u001b[0;32m/usr/local/lib/python3.6/dist-packages/pandas/core/groupby/groupby.py\u001b[0m in \u001b[0;36mapply\u001b[0;34m(self, func, *args, **kwargs)\u001b[0m\n\u001b[1;32m    857\u001b[0m         \u001b[0;32mwith\u001b[0m \u001b[0moption_context\u001b[0m\u001b[0;34m(\u001b[0m\u001b[0;34m\"mode.chained_assignment\"\u001b[0m\u001b[0;34m,\u001b[0m \u001b[0;32mNone\u001b[0m\u001b[0;34m)\u001b[0m\u001b[0;34m:\u001b[0m\u001b[0;34m\u001b[0m\u001b[0;34m\u001b[0m\u001b[0m\n\u001b[1;32m    858\u001b[0m             \u001b[0;32mtry\u001b[0m\u001b[0;34m:\u001b[0m\u001b[0;34m\u001b[0m\u001b[0;34m\u001b[0m\u001b[0m\n\u001b[0;32m--> 859\u001b[0;31m                 \u001b[0mresult\u001b[0m \u001b[0;34m=\u001b[0m \u001b[0mself\u001b[0m\u001b[0;34m.\u001b[0m\u001b[0m_python_apply_general\u001b[0m\u001b[0;34m(\u001b[0m\u001b[0mf\u001b[0m\u001b[0;34m,\u001b[0m \u001b[0mself\u001b[0m\u001b[0;34m.\u001b[0m\u001b[0m_selected_obj\u001b[0m\u001b[0;34m)\u001b[0m\u001b[0;34m\u001b[0m\u001b[0;34m\u001b[0m\u001b[0m\n\u001b[0m\u001b[1;32m    860\u001b[0m             \u001b[0;32mexcept\u001b[0m \u001b[0mTypeError\u001b[0m\u001b[0;34m:\u001b[0m\u001b[0;34m\u001b[0m\u001b[0;34m\u001b[0m\u001b[0m\n\u001b[1;32m    861\u001b[0m                 \u001b[0;31m# gh-20949\u001b[0m\u001b[0;34m\u001b[0m\u001b[0;34m\u001b[0m\u001b[0;34m\u001b[0m\u001b[0m\n",
            "\u001b[0;32m/usr/local/lib/python3.6/dist-packages/pandas/core/groupby/groupby.py\u001b[0m in \u001b[0;36m_python_apply_general\u001b[0;34m(self, f, data)\u001b[0m\n\u001b[1;32m    890\u001b[0m             \u001b[0mdata\u001b[0m \u001b[0mafter\u001b[0m \u001b[0mapplying\u001b[0m \u001b[0mf\u001b[0m\u001b[0;34m\u001b[0m\u001b[0;34m\u001b[0m\u001b[0m\n\u001b[1;32m    891\u001b[0m         \"\"\"\n\u001b[0;32m--> 892\u001b[0;31m         \u001b[0mkeys\u001b[0m\u001b[0;34m,\u001b[0m \u001b[0mvalues\u001b[0m\u001b[0;34m,\u001b[0m \u001b[0mmutated\u001b[0m \u001b[0;34m=\u001b[0m \u001b[0mself\u001b[0m\u001b[0;34m.\u001b[0m\u001b[0mgrouper\u001b[0m\u001b[0;34m.\u001b[0m\u001b[0mapply\u001b[0m\u001b[0;34m(\u001b[0m\u001b[0mf\u001b[0m\u001b[0;34m,\u001b[0m \u001b[0mdata\u001b[0m\u001b[0;34m,\u001b[0m \u001b[0mself\u001b[0m\u001b[0;34m.\u001b[0m\u001b[0maxis\u001b[0m\u001b[0;34m)\u001b[0m\u001b[0;34m\u001b[0m\u001b[0;34m\u001b[0m\u001b[0m\n\u001b[0m\u001b[1;32m    893\u001b[0m \u001b[0;34m\u001b[0m\u001b[0m\n\u001b[1;32m    894\u001b[0m         return self._wrap_applied_output(\n",
            "\u001b[0;32m/usr/local/lib/python3.6/dist-packages/pandas/core/groupby/ops.py\u001b[0m in \u001b[0;36mapply\u001b[0;34m(self, f, data, axis)\u001b[0m\n\u001b[1;32m    184\u001b[0m         ):\n\u001b[1;32m    185\u001b[0m             \u001b[0;32mtry\u001b[0m\u001b[0;34m:\u001b[0m\u001b[0;34m\u001b[0m\u001b[0;34m\u001b[0m\u001b[0m\n\u001b[0;32m--> 186\u001b[0;31m                 \u001b[0mresult_values\u001b[0m\u001b[0;34m,\u001b[0m \u001b[0mmutated\u001b[0m \u001b[0;34m=\u001b[0m \u001b[0msplitter\u001b[0m\u001b[0;34m.\u001b[0m\u001b[0mfast_apply\u001b[0m\u001b[0;34m(\u001b[0m\u001b[0mf\u001b[0m\u001b[0;34m,\u001b[0m \u001b[0msdata\u001b[0m\u001b[0;34m,\u001b[0m \u001b[0mgroup_keys\u001b[0m\u001b[0;34m)\u001b[0m\u001b[0;34m\u001b[0m\u001b[0;34m\u001b[0m\u001b[0m\n\u001b[0m\u001b[1;32m    187\u001b[0m \u001b[0;34m\u001b[0m\u001b[0m\n\u001b[1;32m    188\u001b[0m             \u001b[0;32mexcept\u001b[0m \u001b[0mlibreduction\u001b[0m\u001b[0;34m.\u001b[0m\u001b[0mInvalidApply\u001b[0m \u001b[0;32mas\u001b[0m \u001b[0merr\u001b[0m\u001b[0;34m:\u001b[0m\u001b[0;34m\u001b[0m\u001b[0;34m\u001b[0m\u001b[0m\n",
            "\u001b[0;32m/usr/local/lib/python3.6/dist-packages/pandas/core/groupby/ops.py\u001b[0m in \u001b[0;36mfast_apply\u001b[0;34m(self, f, sdata, names)\u001b[0m\n\u001b[1;32m    971\u001b[0m         \u001b[0;31m# must return keys::list, values::list, mutated::bool\u001b[0m\u001b[0;34m\u001b[0m\u001b[0;34m\u001b[0m\u001b[0;34m\u001b[0m\u001b[0m\n\u001b[1;32m    972\u001b[0m         \u001b[0mstarts\u001b[0m\u001b[0;34m,\u001b[0m \u001b[0mends\u001b[0m \u001b[0;34m=\u001b[0m \u001b[0mlib\u001b[0m\u001b[0;34m.\u001b[0m\u001b[0mgenerate_slices\u001b[0m\u001b[0;34m(\u001b[0m\u001b[0mself\u001b[0m\u001b[0;34m.\u001b[0m\u001b[0mslabels\u001b[0m\u001b[0;34m,\u001b[0m \u001b[0mself\u001b[0m\u001b[0;34m.\u001b[0m\u001b[0mngroups\u001b[0m\u001b[0;34m)\u001b[0m\u001b[0;34m\u001b[0m\u001b[0;34m\u001b[0m\u001b[0m\n\u001b[0;32m--> 973\u001b[0;31m         \u001b[0;32mreturn\u001b[0m \u001b[0mlibreduction\u001b[0m\u001b[0;34m.\u001b[0m\u001b[0mapply_frame_axis0\u001b[0m\u001b[0;34m(\u001b[0m\u001b[0msdata\u001b[0m\u001b[0;34m,\u001b[0m \u001b[0mf\u001b[0m\u001b[0;34m,\u001b[0m \u001b[0mnames\u001b[0m\u001b[0;34m,\u001b[0m \u001b[0mstarts\u001b[0m\u001b[0;34m,\u001b[0m \u001b[0mends\u001b[0m\u001b[0;34m)\u001b[0m\u001b[0;34m\u001b[0m\u001b[0;34m\u001b[0m\u001b[0m\n\u001b[0m\u001b[1;32m    974\u001b[0m \u001b[0;34m\u001b[0m\u001b[0m\n\u001b[1;32m    975\u001b[0m     \u001b[0;32mdef\u001b[0m \u001b[0m_chop\u001b[0m\u001b[0;34m(\u001b[0m\u001b[0mself\u001b[0m\u001b[0;34m,\u001b[0m \u001b[0msdata\u001b[0m\u001b[0;34m:\u001b[0m \u001b[0mDataFrame\u001b[0m\u001b[0;34m,\u001b[0m \u001b[0mslice_obj\u001b[0m\u001b[0;34m:\u001b[0m \u001b[0mslice\u001b[0m\u001b[0;34m)\u001b[0m \u001b[0;34m->\u001b[0m \u001b[0mDataFrame\u001b[0m\u001b[0;34m:\u001b[0m\u001b[0;34m\u001b[0m\u001b[0;34m\u001b[0m\u001b[0m\n",
            "\u001b[0;32mpandas/_libs/reduction.pyx\u001b[0m in \u001b[0;36mpandas._libs.reduction.apply_frame_axis0\u001b[0;34m()\u001b[0m\n",
            "\u001b[0;32m/usr/local/lib/python3.6/dist-packages/pandas/core/resample.py\u001b[0m in \u001b[0;36mfunc\u001b[0;34m(x)\u001b[0m\n\u001b[1;32m    986\u001b[0m \u001b[0;34m\u001b[0m\u001b[0m\n\u001b[1;32m    987\u001b[0m             \u001b[0;32mif\u001b[0m \u001b[0misinstance\u001b[0m\u001b[0;34m(\u001b[0m\u001b[0mf\u001b[0m\u001b[0;34m,\u001b[0m \u001b[0mstr\u001b[0m\u001b[0;34m)\u001b[0m\u001b[0;34m:\u001b[0m\u001b[0;34m\u001b[0m\u001b[0;34m\u001b[0m\u001b[0m\n\u001b[0;32m--> 988\u001b[0;31m                 \u001b[0;32mreturn\u001b[0m \u001b[0mgetattr\u001b[0m\u001b[0;34m(\u001b[0m\u001b[0mx\u001b[0m\u001b[0;34m,\u001b[0m \u001b[0mf\u001b[0m\u001b[0;34m)\u001b[0m\u001b[0;34m(\u001b[0m\u001b[0;34m**\u001b[0m\u001b[0mkwargs\u001b[0m\u001b[0;34m)\u001b[0m\u001b[0;34m\u001b[0m\u001b[0;34m\u001b[0m\u001b[0m\n\u001b[0m\u001b[1;32m    989\u001b[0m \u001b[0;34m\u001b[0m\u001b[0m\n\u001b[1;32m    990\u001b[0m             \u001b[0;32mreturn\u001b[0m \u001b[0mx\u001b[0m\u001b[0;34m.\u001b[0m\u001b[0mapply\u001b[0m\u001b[0;34m(\u001b[0m\u001b[0mf\u001b[0m\u001b[0;34m,\u001b[0m \u001b[0;34m*\u001b[0m\u001b[0margs\u001b[0m\u001b[0;34m,\u001b[0m \u001b[0;34m**\u001b[0m\u001b[0mkwargs\u001b[0m\u001b[0;34m)\u001b[0m\u001b[0;34m\u001b[0m\u001b[0;34m\u001b[0m\u001b[0m\n",
            "\u001b[0;32m/usr/local/lib/python3.6/dist-packages/pandas/core/resample.py\u001b[0m in \u001b[0;36mg\u001b[0;34m(self, _method, *args, **kwargs)\u001b[0m\n\u001b[1;32m    935\u001b[0m     \u001b[0;32mdef\u001b[0m \u001b[0mg\u001b[0m\u001b[0;34m(\u001b[0m\u001b[0mself\u001b[0m\u001b[0;34m,\u001b[0m \u001b[0m_method\u001b[0m\u001b[0;34m=\u001b[0m\u001b[0mmethod\u001b[0m\u001b[0;34m,\u001b[0m \u001b[0;34m*\u001b[0m\u001b[0margs\u001b[0m\u001b[0;34m,\u001b[0m \u001b[0;34m**\u001b[0m\u001b[0mkwargs\u001b[0m\u001b[0;34m)\u001b[0m\u001b[0;34m:\u001b[0m\u001b[0;34m\u001b[0m\u001b[0;34m\u001b[0m\u001b[0m\n\u001b[1;32m    936\u001b[0m         \u001b[0mnv\u001b[0m\u001b[0;34m.\u001b[0m\u001b[0mvalidate_resampler_func\u001b[0m\u001b[0;34m(\u001b[0m\u001b[0m_method\u001b[0m\u001b[0;34m,\u001b[0m \u001b[0margs\u001b[0m\u001b[0;34m,\u001b[0m \u001b[0mkwargs\u001b[0m\u001b[0;34m)\u001b[0m\u001b[0;34m\u001b[0m\u001b[0;34m\u001b[0m\u001b[0m\n\u001b[0;32m--> 937\u001b[0;31m         \u001b[0;32mreturn\u001b[0m \u001b[0mself\u001b[0m\u001b[0;34m.\u001b[0m\u001b[0m_downsample\u001b[0m\u001b[0;34m(\u001b[0m\u001b[0m_method\u001b[0m\u001b[0;34m)\u001b[0m\u001b[0;34m\u001b[0m\u001b[0;34m\u001b[0m\u001b[0m\n\u001b[0m\u001b[1;32m    938\u001b[0m \u001b[0;34m\u001b[0m\u001b[0m\n\u001b[1;32m    939\u001b[0m     \u001b[0mg\u001b[0m\u001b[0;34m.\u001b[0m\u001b[0m__doc__\u001b[0m \u001b[0;34m=\u001b[0m \u001b[0mgetattr\u001b[0m\u001b[0;34m(\u001b[0m\u001b[0mGroupBy\u001b[0m\u001b[0;34m,\u001b[0m \u001b[0mmethod\u001b[0m\u001b[0;34m)\u001b[0m\u001b[0;34m.\u001b[0m\u001b[0m__doc__\u001b[0m\u001b[0;34m\u001b[0m\u001b[0;34m\u001b[0m\u001b[0m\n",
            "\u001b[0;32m/usr/local/lib/python3.6/dist-packages/pandas/core/resample.py\u001b[0m in \u001b[0;36m_downsample\u001b[0;34m(self, how, **kwargs)\u001b[0m\n\u001b[1;32m   1032\u001b[0m \u001b[0;34m\u001b[0m\u001b[0m\n\u001b[1;32m   1033\u001b[0m         \u001b[0;31m# do we have a regular frequency\u001b[0m\u001b[0;34m\u001b[0m\u001b[0;34m\u001b[0m\u001b[0;34m\u001b[0m\u001b[0m\n\u001b[0;32m-> 1034\u001b[0;31m         \u001b[0;32mif\u001b[0m \u001b[0max\u001b[0m\u001b[0;34m.\u001b[0m\u001b[0mfreq\u001b[0m \u001b[0;32mis\u001b[0m \u001b[0;32mnot\u001b[0m \u001b[0;32mNone\u001b[0m \u001b[0;32mor\u001b[0m \u001b[0max\u001b[0m\u001b[0;34m.\u001b[0m\u001b[0minferred_freq\u001b[0m \u001b[0;32mis\u001b[0m \u001b[0;32mnot\u001b[0m \u001b[0;32mNone\u001b[0m\u001b[0;34m:\u001b[0m\u001b[0;34m\u001b[0m\u001b[0;34m\u001b[0m\u001b[0m\n\u001b[0m\u001b[1;32m   1035\u001b[0m \u001b[0;34m\u001b[0m\u001b[0m\n\u001b[1;32m   1036\u001b[0m             \u001b[0;32mif\u001b[0m \u001b[0mlen\u001b[0m\u001b[0;34m(\u001b[0m\u001b[0mself\u001b[0m\u001b[0;34m.\u001b[0m\u001b[0mgrouper\u001b[0m\u001b[0;34m.\u001b[0m\u001b[0mbinlabels\u001b[0m\u001b[0;34m)\u001b[0m \u001b[0;34m>\u001b[0m \u001b[0mlen\u001b[0m\u001b[0;34m(\u001b[0m\u001b[0max\u001b[0m\u001b[0;34m)\u001b[0m \u001b[0;32mand\u001b[0m \u001b[0mhow\u001b[0m \u001b[0;32mis\u001b[0m \u001b[0;32mNone\u001b[0m\u001b[0;34m:\u001b[0m\u001b[0;34m\u001b[0m\u001b[0;34m\u001b[0m\u001b[0m\n",
            "\u001b[0;32mpandas/_libs/properties.pyx\u001b[0m in \u001b[0;36mpandas._libs.properties.CachedProperty.__get__\u001b[0;34m()\u001b[0m\n",
            "\u001b[0;32m/usr/local/lib/python3.6/dist-packages/pandas/core/indexes/extension.py\u001b[0m in \u001b[0;36mcached\u001b[0;34m(self)\u001b[0m\n\u001b[1;32m     43\u001b[0m \u001b[0;34m\u001b[0m\u001b[0m\n\u001b[1;32m     44\u001b[0m             \u001b[0;32mdef\u001b[0m \u001b[0mcached\u001b[0m\u001b[0;34m(\u001b[0m\u001b[0mself\u001b[0m\u001b[0;34m)\u001b[0m\u001b[0;34m:\u001b[0m\u001b[0;34m\u001b[0m\u001b[0;34m\u001b[0m\u001b[0m\n\u001b[0;32m---> 45\u001b[0;31m                 \u001b[0;32mreturn\u001b[0m \u001b[0mgetattr\u001b[0m\u001b[0;34m(\u001b[0m\u001b[0mself\u001b[0m\u001b[0;34m.\u001b[0m\u001b[0m_data\u001b[0m\u001b[0;34m,\u001b[0m \u001b[0mname\u001b[0m\u001b[0;34m)\u001b[0m\u001b[0;34m\u001b[0m\u001b[0;34m\u001b[0m\u001b[0m\n\u001b[0m\u001b[1;32m     46\u001b[0m \u001b[0;34m\u001b[0m\u001b[0m\n\u001b[1;32m     47\u001b[0m             \u001b[0mcached\u001b[0m\u001b[0;34m.\u001b[0m\u001b[0m__name__\u001b[0m \u001b[0;34m=\u001b[0m \u001b[0mname\u001b[0m\u001b[0;34m\u001b[0m\u001b[0;34m\u001b[0m\u001b[0m\n",
            "\u001b[0;32m/usr/local/lib/python3.6/dist-packages/pandas/core/arrays/datetimelike.py\u001b[0m in \u001b[0;36minferred_freq\u001b[0;34m(self)\u001b[0m\n\u001b[1;32m   1114\u001b[0m             \u001b[0;32mreturn\u001b[0m \u001b[0;32mNone\u001b[0m\u001b[0;34m\u001b[0m\u001b[0;34m\u001b[0m\u001b[0m\n\u001b[1;32m   1115\u001b[0m         \u001b[0;32mtry\u001b[0m\u001b[0;34m:\u001b[0m\u001b[0;34m\u001b[0m\u001b[0;34m\u001b[0m\u001b[0m\n\u001b[0;32m-> 1116\u001b[0;31m             \u001b[0;32mreturn\u001b[0m \u001b[0mfrequencies\u001b[0m\u001b[0;34m.\u001b[0m\u001b[0minfer_freq\u001b[0m\u001b[0;34m(\u001b[0m\u001b[0mself\u001b[0m\u001b[0;34m)\u001b[0m\u001b[0;34m\u001b[0m\u001b[0;34m\u001b[0m\u001b[0m\n\u001b[0m\u001b[1;32m   1117\u001b[0m         \u001b[0;32mexcept\u001b[0m \u001b[0mValueError\u001b[0m\u001b[0;34m:\u001b[0m\u001b[0;34m\u001b[0m\u001b[0;34m\u001b[0m\u001b[0m\n\u001b[1;32m   1118\u001b[0m             \u001b[0;32mreturn\u001b[0m \u001b[0;32mNone\u001b[0m\u001b[0;34m\u001b[0m\u001b[0;34m\u001b[0m\u001b[0m\n",
            "\u001b[0;32m/usr/local/lib/python3.6/dist-packages/pandas/tseries/frequencies.py\u001b[0m in \u001b[0;36minfer_freq\u001b[0;34m(index, warn)\u001b[0m\n\u001b[1;32m    178\u001b[0m \u001b[0;34m\u001b[0m\u001b[0m\n\u001b[1;32m    179\u001b[0m     \u001b[0;32mif\u001b[0m \u001b[0;32mnot\u001b[0m \u001b[0misinstance\u001b[0m\u001b[0;34m(\u001b[0m\u001b[0mindex\u001b[0m\u001b[0;34m,\u001b[0m \u001b[0mpd\u001b[0m\u001b[0;34m.\u001b[0m\u001b[0mDatetimeIndex\u001b[0m\u001b[0;34m)\u001b[0m\u001b[0;34m:\u001b[0m\u001b[0;34m\u001b[0m\u001b[0;34m\u001b[0m\u001b[0m\n\u001b[0;32m--> 180\u001b[0;31m         \u001b[0mindex\u001b[0m \u001b[0;34m=\u001b[0m \u001b[0mpd\u001b[0m\u001b[0;34m.\u001b[0m\u001b[0mDatetimeIndex\u001b[0m\u001b[0;34m(\u001b[0m\u001b[0mindex\u001b[0m\u001b[0;34m)\u001b[0m\u001b[0;34m\u001b[0m\u001b[0;34m\u001b[0m\u001b[0m\n\u001b[0m\u001b[1;32m    181\u001b[0m \u001b[0;34m\u001b[0m\u001b[0m\n\u001b[1;32m    182\u001b[0m     \u001b[0minferer\u001b[0m \u001b[0;34m=\u001b[0m \u001b[0m_FrequencyInferer\u001b[0m\u001b[0;34m(\u001b[0m\u001b[0mindex\u001b[0m\u001b[0;34m,\u001b[0m \u001b[0mwarn\u001b[0m\u001b[0;34m=\u001b[0m\u001b[0mwarn\u001b[0m\u001b[0;34m)\u001b[0m\u001b[0;34m\u001b[0m\u001b[0;34m\u001b[0m\u001b[0m\n",
            "\u001b[0;32m/usr/local/lib/python3.6/dist-packages/pandas/core/indexes/datetimes.py\u001b[0m in \u001b[0;36m__new__\u001b[0;34m(cls, data, freq, tz, normalize, closed, ambiguous, dayfirst, yearfirst, dtype, copy, name)\u001b[0m\n\u001b[1;32m    277\u001b[0m             \u001b[0mdayfirst\u001b[0m\u001b[0;34m=\u001b[0m\u001b[0mdayfirst\u001b[0m\u001b[0;34m,\u001b[0m\u001b[0;34m\u001b[0m\u001b[0;34m\u001b[0m\u001b[0m\n\u001b[1;32m    278\u001b[0m             \u001b[0myearfirst\u001b[0m\u001b[0;34m=\u001b[0m\u001b[0myearfirst\u001b[0m\u001b[0;34m,\u001b[0m\u001b[0;34m\u001b[0m\u001b[0;34m\u001b[0m\u001b[0m\n\u001b[0;32m--> 279\u001b[0;31m             \u001b[0mambiguous\u001b[0m\u001b[0;34m=\u001b[0m\u001b[0mambiguous\u001b[0m\u001b[0;34m,\u001b[0m\u001b[0;34m\u001b[0m\u001b[0;34m\u001b[0m\u001b[0m\n\u001b[0m\u001b[1;32m    280\u001b[0m         )\n\u001b[1;32m    281\u001b[0m \u001b[0;34m\u001b[0m\u001b[0m\n",
            "\u001b[0;32m/usr/local/lib/python3.6/dist-packages/pandas/core/arrays/datetimes.py\u001b[0m in \u001b[0;36m_from_sequence\u001b[0;34m(cls, data, dtype, copy, tz, freq, dayfirst, yearfirst, ambiguous)\u001b[0m\n\u001b[1;32m    322\u001b[0m             \u001b[0mdayfirst\u001b[0m\u001b[0;34m=\u001b[0m\u001b[0mdayfirst\u001b[0m\u001b[0;34m,\u001b[0m\u001b[0;34m\u001b[0m\u001b[0;34m\u001b[0m\u001b[0m\n\u001b[1;32m    323\u001b[0m             \u001b[0myearfirst\u001b[0m\u001b[0;34m=\u001b[0m\u001b[0myearfirst\u001b[0m\u001b[0;34m,\u001b[0m\u001b[0;34m\u001b[0m\u001b[0;34m\u001b[0m\u001b[0m\n\u001b[0;32m--> 324\u001b[0;31m             \u001b[0mambiguous\u001b[0m\u001b[0;34m=\u001b[0m\u001b[0mambiguous\u001b[0m\u001b[0;34m,\u001b[0m\u001b[0;34m\u001b[0m\u001b[0;34m\u001b[0m\u001b[0m\n\u001b[0m\u001b[1;32m    325\u001b[0m         )\n\u001b[1;32m    326\u001b[0m \u001b[0;34m\u001b[0m\u001b[0m\n",
            "\u001b[0;32m/usr/local/lib/python3.6/dist-packages/pandas/core/arrays/datetimes.py\u001b[0m in \u001b[0;36msequence_to_dt64ns\u001b[0;34m(data, dtype, copy, tz, dayfirst, yearfirst, ambiguous)\u001b[0m\n\u001b[1;32m   1942\u001b[0m         \u001b[0mis_object_dtype\u001b[0m\u001b[0;34m(\u001b[0m\u001b[0mdata_dtype\u001b[0m\u001b[0;34m)\u001b[0m\u001b[0;34m\u001b[0m\u001b[0;34m\u001b[0m\u001b[0m\n\u001b[1;32m   1943\u001b[0m         \u001b[0;32mor\u001b[0m \u001b[0mis_string_dtype\u001b[0m\u001b[0;34m(\u001b[0m\u001b[0mdata_dtype\u001b[0m\u001b[0;34m)\u001b[0m\u001b[0;34m\u001b[0m\u001b[0;34m\u001b[0m\u001b[0m\n\u001b[0;32m-> 1944\u001b[0;31m         \u001b[0;32mor\u001b[0m \u001b[0mis_sparse\u001b[0m\u001b[0;34m(\u001b[0m\u001b[0mdata_dtype\u001b[0m\u001b[0;34m)\u001b[0m\u001b[0;34m\u001b[0m\u001b[0;34m\u001b[0m\u001b[0m\n\u001b[0m\u001b[1;32m   1945\u001b[0m     ):\n\u001b[1;32m   1946\u001b[0m         \u001b[0;31m# TODO: We do not have tests specific to string-dtypes,\u001b[0m\u001b[0;34m\u001b[0m\u001b[0;34m\u001b[0m\u001b[0;34m\u001b[0m\u001b[0m\n",
            "\u001b[0;32m/usr/local/lib/python3.6/dist-packages/pandas/core/dtypes/common.py\u001b[0m in \u001b[0;36mis_sparse\u001b[0;34m(arr)\u001b[0m\n\u001b[1;32m    267\u001b[0m \u001b[0;34m\u001b[0m\u001b[0m\n\u001b[1;32m    268\u001b[0m     \u001b[0mdtype\u001b[0m \u001b[0;34m=\u001b[0m \u001b[0mgetattr\u001b[0m\u001b[0;34m(\u001b[0m\u001b[0marr\u001b[0m\u001b[0;34m,\u001b[0m \u001b[0;34m\"dtype\"\u001b[0m\u001b[0;34m,\u001b[0m \u001b[0marr\u001b[0m\u001b[0;34m)\u001b[0m\u001b[0;34m\u001b[0m\u001b[0;34m\u001b[0m\u001b[0m\n\u001b[0;32m--> 269\u001b[0;31m     \u001b[0;32mreturn\u001b[0m \u001b[0misinstance\u001b[0m\u001b[0;34m(\u001b[0m\u001b[0mdtype\u001b[0m\u001b[0;34m,\u001b[0m \u001b[0mSparseDtype\u001b[0m\u001b[0;34m)\u001b[0m\u001b[0;34m\u001b[0m\u001b[0;34m\u001b[0m\u001b[0m\n\u001b[0m\u001b[1;32m    270\u001b[0m \u001b[0;34m\u001b[0m\u001b[0m\n\u001b[1;32m    271\u001b[0m \u001b[0;34m\u001b[0m\u001b[0m\n",
            "\u001b[0;31mKeyboardInterrupt\u001b[0m: "
          ]
        }
      ]
    },
    {
      "cell_type": "code",
      "metadata": {
        "colab": {
          "base_uri": "https://localhost:8080/",
          "height": 441
        },
        "id": "Jtjw6SrulHX8",
        "outputId": "a3def067-b0c4-4442-ad67-240b3cc9271f"
      },
      "source": [
        "for col in columns:\r\n",
        "  clean_df[col] = df[col].fillna(df.groupby('UUID','Application Category')[col].transform('median'))"
      ],
      "execution_count": 37,
      "outputs": [
        {
          "output_type": "error",
          "ename": "ValueError",
          "evalue": "ignored",
          "traceback": [
            "\u001b[0;31m---------------------------------------------------------------------------\u001b[0m",
            "\u001b[0;31mKeyError\u001b[0m                                  Traceback (most recent call last)",
            "\u001b[0;32m/usr/local/lib/python3.6/dist-packages/pandas/core/generic.py\u001b[0m in \u001b[0;36m_get_axis_number\u001b[0;34m(cls, axis)\u001b[0m\n\u001b[1;32m    367\u001b[0m         \u001b[0;32mtry\u001b[0m\u001b[0;34m:\u001b[0m\u001b[0;34m\u001b[0m\u001b[0;34m\u001b[0m\u001b[0m\n\u001b[0;32m--> 368\u001b[0;31m             \u001b[0;32mreturn\u001b[0m \u001b[0mcls\u001b[0m\u001b[0;34m.\u001b[0m\u001b[0m_AXIS_TO_AXIS_NUMBER\u001b[0m\u001b[0;34m[\u001b[0m\u001b[0maxis\u001b[0m\u001b[0;34m]\u001b[0m\u001b[0;34m\u001b[0m\u001b[0;34m\u001b[0m\u001b[0m\n\u001b[0m\u001b[1;32m    369\u001b[0m         \u001b[0;32mexcept\u001b[0m \u001b[0mKeyError\u001b[0m\u001b[0;34m:\u001b[0m\u001b[0;34m\u001b[0m\u001b[0;34m\u001b[0m\u001b[0m\n",
            "\u001b[0;31mKeyError\u001b[0m: 'Application Category'",
            "\nDuring handling of the above exception, another exception occurred:\n",
            "\u001b[0;31mValueError\u001b[0m                                Traceback (most recent call last)",
            "\u001b[0;32m<ipython-input-37-3989c8287a88>\u001b[0m in \u001b[0;36m<module>\u001b[0;34m()\u001b[0m\n\u001b[1;32m      1\u001b[0m \u001b[0;32mfor\u001b[0m \u001b[0mcol\u001b[0m \u001b[0;32min\u001b[0m \u001b[0mcolumns\u001b[0m\u001b[0;34m:\u001b[0m\u001b[0;34m\u001b[0m\u001b[0;34m\u001b[0m\u001b[0m\n\u001b[0;32m----> 2\u001b[0;31m   \u001b[0mclean_df\u001b[0m\u001b[0;34m[\u001b[0m\u001b[0mcol\u001b[0m\u001b[0;34m]\u001b[0m \u001b[0;34m=\u001b[0m \u001b[0mdf\u001b[0m\u001b[0;34m[\u001b[0m\u001b[0mcol\u001b[0m\u001b[0;34m]\u001b[0m\u001b[0;34m.\u001b[0m\u001b[0mfillna\u001b[0m\u001b[0;34m(\u001b[0m\u001b[0mdf\u001b[0m\u001b[0;34m.\u001b[0m\u001b[0mgroupby\u001b[0m\u001b[0;34m(\u001b[0m\u001b[0;34m'UUID'\u001b[0m\u001b[0;34m,\u001b[0m\u001b[0;34m'Application Category'\u001b[0m\u001b[0;34m)\u001b[0m\u001b[0;34m[\u001b[0m\u001b[0mcol\u001b[0m\u001b[0;34m]\u001b[0m\u001b[0;34m.\u001b[0m\u001b[0mtransform\u001b[0m\u001b[0;34m(\u001b[0m\u001b[0;34m'median'\u001b[0m\u001b[0;34m)\u001b[0m\u001b[0;34m)\u001b[0m\u001b[0;34m\u001b[0m\u001b[0;34m\u001b[0m\u001b[0m\n\u001b[0m",
            "\u001b[0;32m/usr/local/lib/python3.6/dist-packages/pandas/core/frame.py\u001b[0m in \u001b[0;36mgroupby\u001b[0;34m(self, by, axis, level, as_index, sort, group_keys, squeeze, observed, dropna)\u001b[0m\n\u001b[1;32m   6511\u001b[0m         \u001b[0;32mif\u001b[0m \u001b[0mlevel\u001b[0m \u001b[0;32mis\u001b[0m \u001b[0;32mNone\u001b[0m \u001b[0;32mand\u001b[0m \u001b[0mby\u001b[0m \u001b[0;32mis\u001b[0m \u001b[0;32mNone\u001b[0m\u001b[0;34m:\u001b[0m\u001b[0;34m\u001b[0m\u001b[0;34m\u001b[0m\u001b[0m\n\u001b[1;32m   6512\u001b[0m             \u001b[0;32mraise\u001b[0m \u001b[0mTypeError\u001b[0m\u001b[0;34m(\u001b[0m\u001b[0;34m\"You have to supply one of 'by' and 'level'\"\u001b[0m\u001b[0;34m)\u001b[0m\u001b[0;34m\u001b[0m\u001b[0;34m\u001b[0m\u001b[0m\n\u001b[0;32m-> 6513\u001b[0;31m         \u001b[0maxis\u001b[0m \u001b[0;34m=\u001b[0m \u001b[0mself\u001b[0m\u001b[0;34m.\u001b[0m\u001b[0m_get_axis_number\u001b[0m\u001b[0;34m(\u001b[0m\u001b[0maxis\u001b[0m\u001b[0;34m)\u001b[0m\u001b[0;34m\u001b[0m\u001b[0;34m\u001b[0m\u001b[0m\n\u001b[0m\u001b[1;32m   6514\u001b[0m \u001b[0;34m\u001b[0m\u001b[0m\n\u001b[1;32m   6515\u001b[0m         return DataFrameGroupBy(\n",
            "\u001b[0;32m/usr/local/lib/python3.6/dist-packages/pandas/core/generic.py\u001b[0m in \u001b[0;36m_get_axis_number\u001b[0;34m(cls, axis)\u001b[0m\n\u001b[1;32m    368\u001b[0m             \u001b[0;32mreturn\u001b[0m \u001b[0mcls\u001b[0m\u001b[0;34m.\u001b[0m\u001b[0m_AXIS_TO_AXIS_NUMBER\u001b[0m\u001b[0;34m[\u001b[0m\u001b[0maxis\u001b[0m\u001b[0;34m]\u001b[0m\u001b[0;34m\u001b[0m\u001b[0;34m\u001b[0m\u001b[0m\n\u001b[1;32m    369\u001b[0m         \u001b[0;32mexcept\u001b[0m \u001b[0mKeyError\u001b[0m\u001b[0;34m:\u001b[0m\u001b[0;34m\u001b[0m\u001b[0;34m\u001b[0m\u001b[0m\n\u001b[0;32m--> 370\u001b[0;31m             \u001b[0;32mraise\u001b[0m \u001b[0mValueError\u001b[0m\u001b[0;34m(\u001b[0m\u001b[0;34mf\"No axis named {axis} for object type {cls.__name__}\"\u001b[0m\u001b[0;34m)\u001b[0m\u001b[0;34m\u001b[0m\u001b[0;34m\u001b[0m\u001b[0m\n\u001b[0m\u001b[1;32m    371\u001b[0m \u001b[0;34m\u001b[0m\u001b[0m\n\u001b[1;32m    372\u001b[0m     \u001b[0;34m@\u001b[0m\u001b[0mclassmethod\u001b[0m\u001b[0;34m\u001b[0m\u001b[0;34m\u001b[0m\u001b[0m\n",
            "\u001b[0;31mValueError\u001b[0m: No axis named Application Category for object type DataFrame"
          ]
        }
      ]
    },
    {
      "cell_type": "code",
      "metadata": {
        "id": "ilbSyRu4OFdm"
      },
      "source": [
        "clean_df.drop(['Business Models', 'City', 'Company Stage', 'Feed Name','Founded Year','Latest Funded Date', 'Practice Areas', 'Total Funding (USD)', 'Overview'], axis = 1, inplace = True)"
      ],
      "execution_count": 76,
      "outputs": []
    },
    {
      "cell_type": "code",
      "metadata": {
        "colab": {
          "base_uri": "https://localhost:8080/",
          "height": 317
        },
        "id": "TrHcQGhoOVsF",
        "outputId": "f45c59b7-dced-4428-bf43-35ba2a27728b"
      },
      "source": [
        "clean_df.head()"
      ],
      "execution_count": 77,
      "outputs": [
        {
          "output_type": "execute_result",
          "data": {
            "text/html": [
              "<div>\n",
              "<style scoped>\n",
              "    .dataframe tbody tr th:only-of-type {\n",
              "        vertical-align: middle;\n",
              "    }\n",
              "\n",
              "    .dataframe tbody tr th {\n",
              "        vertical-align: top;\n",
              "    }\n",
              "\n",
              "    .dataframe thead th {\n",
              "        text-align: right;\n",
              "    }\n",
              "</style>\n",
              "<table border=\"1\" class=\"dataframe\">\n",
              "  <thead>\n",
              "    <tr style=\"text-align: right;\">\n",
              "      <th></th>\n",
              "      <th>UUID</th>\n",
              "      <th>Application Category</th>\n",
              "      <th>Avg_Session_Time</th>\n",
              "      <th>MAU</th>\n",
              "      <th>Open_Rate</th>\n",
              "      <th>Reach</th>\n",
              "      <th>Total_Session_Time</th>\n",
              "      <th>Uninstall_Rate</th>\n",
              "      <th>funding_ind</th>\n",
              "      <th>Month</th>\n",
              "      <th>Month1</th>\n",
              "      <th>user_created_at_year_month</th>\n",
              "    </tr>\n",
              "  </thead>\n",
              "  <tbody>\n",
              "    <tr>\n",
              "      <th>0</th>\n",
              "      <td>c1ad38e2d357610c129657d870ede902e8abfcb9</td>\n",
              "      <td>Books &amp; Reference</td>\n",
              "      <td>1.001348</td>\n",
              "      <td>0.349206</td>\n",
              "      <td>2.000000</td>\n",
              "      <td>0.042963</td>\n",
              "      <td>2.312478</td>\n",
              "      <td>0.024443</td>\n",
              "      <td>0</td>\n",
              "      <td>8</td>\n",
              "      <td>2018-08-01</td>\n",
              "      <td>2018-08</td>\n",
              "    </tr>\n",
              "    <tr>\n",
              "      <th>1</th>\n",
              "      <td>d841e670d9191f896a0cbc75961920887b375756</td>\n",
              "      <td>Books &amp; Reference</td>\n",
              "      <td>1.001348</td>\n",
              "      <td>0.349206</td>\n",
              "      <td>2.000000</td>\n",
              "      <td>0.003244</td>\n",
              "      <td>2.312478</td>\n",
              "      <td>0.009828</td>\n",
              "      <td>0</td>\n",
              "      <td>8</td>\n",
              "      <td>2018-08-01</td>\n",
              "      <td>2018-08</td>\n",
              "    </tr>\n",
              "    <tr>\n",
              "      <th>2</th>\n",
              "      <td>0a59d138b3eaccd22b665eae70c756fef83ddb63</td>\n",
              "      <td>Finance</td>\n",
              "      <td>0.781996</td>\n",
              "      <td>0.430599</td>\n",
              "      <td>2.821918</td>\n",
              "      <td>0.000161</td>\n",
              "      <td>2.318500</td>\n",
              "      <td>0.235294</td>\n",
              "      <td>0</td>\n",
              "      <td>8</td>\n",
              "      <td>2018-08-01</td>\n",
              "      <td>2018-08</td>\n",
              "    </tr>\n",
              "    <tr>\n",
              "      <th>3</th>\n",
              "      <td>0a59d138b3eaccd22b665eae70c756fef83ddb63</td>\n",
              "      <td>Books &amp; Reference</td>\n",
              "      <td>1.001348</td>\n",
              "      <td>0.349206</td>\n",
              "      <td>2.000000</td>\n",
              "      <td>0.000077</td>\n",
              "      <td>2.312478</td>\n",
              "      <td>0.350000</td>\n",
              "      <td>0</td>\n",
              "      <td>8</td>\n",
              "      <td>2018-08-01</td>\n",
              "      <td>2018-08</td>\n",
              "    </tr>\n",
              "    <tr>\n",
              "      <th>4</th>\n",
              "      <td>df5fb9891f77df24a91d039f1817c6c4e79244ef</td>\n",
              "      <td>Productivity</td>\n",
              "      <td>0.601099</td>\n",
              "      <td>0.347826</td>\n",
              "      <td>2.875000</td>\n",
              "      <td>0.000939</td>\n",
              "      <td>1.830983</td>\n",
              "      <td>0.312500</td>\n",
              "      <td>0</td>\n",
              "      <td>8</td>\n",
              "      <td>2018-08-01</td>\n",
              "      <td>2018-08</td>\n",
              "    </tr>\n",
              "  </tbody>\n",
              "</table>\n",
              "</div>"
            ],
            "text/plain": [
              "                                       UUID  ... user_created_at_year_month\n",
              "0  c1ad38e2d357610c129657d870ede902e8abfcb9  ...                    2018-08\n",
              "1  d841e670d9191f896a0cbc75961920887b375756  ...                    2018-08\n",
              "2  0a59d138b3eaccd22b665eae70c756fef83ddb63  ...                    2018-08\n",
              "3  0a59d138b3eaccd22b665eae70c756fef83ddb63  ...                    2018-08\n",
              "4  df5fb9891f77df24a91d039f1817c6c4e79244ef  ...                    2018-08\n",
              "\n",
              "[5 rows x 12 columns]"
            ]
          },
          "metadata": {
            "tags": []
          },
          "execution_count": 77
        }
      ]
    },
    {
      "cell_type": "code",
      "metadata": {
        "colab": {
          "base_uri": "https://localhost:8080/"
        },
        "id": "poDi6MFBPWxl",
        "outputId": "05067b89-b75e-45cd-e789-6b15440d5744"
      },
      "source": [
        "clean_df.isnull().sum()"
      ],
      "execution_count": 78,
      "outputs": [
        {
          "output_type": "execute_result",
          "data": {
            "text/plain": [
              "UUID                          969\n",
              "Application Category            0\n",
              "Avg_Session_Time                0\n",
              "MAU                             0\n",
              "Open_Rate                       0\n",
              "Reach                           0\n",
              "Total_Session_Time              0\n",
              "Uninstall_Rate                  0\n",
              "funding_ind                     0\n",
              "Month                           0\n",
              "Month1                          0\n",
              "user_created_at_year_month      0\n",
              "dtype: int64"
            ]
          },
          "metadata": {
            "tags": []
          },
          "execution_count": 78
        }
      ]
    },
    {
      "cell_type": "code",
      "metadata": {
        "id": "_34hDbUvPmIo"
      },
      "source": [
        "clean_df.dropna(inplace = True)"
      ],
      "execution_count": 79,
      "outputs": []
    },
    {
      "cell_type": "code",
      "metadata": {
        "colab": {
          "base_uri": "https://localhost:8080/"
        },
        "id": "Iec0mHHIPxF2",
        "outputId": "a3453622-ec55-4c7d-c8bf-5085fa48258c"
      },
      "source": [
        "clean_df.isnull().sum()"
      ],
      "execution_count": 80,
      "outputs": [
        {
          "output_type": "execute_result",
          "data": {
            "text/plain": [
              "UUID                          0\n",
              "Application Category          0\n",
              "Avg_Session_Time              0\n",
              "MAU                           0\n",
              "Open_Rate                     0\n",
              "Reach                         0\n",
              "Total_Session_Time            0\n",
              "Uninstall_Rate                0\n",
              "funding_ind                   0\n",
              "Month                         0\n",
              "Month1                        0\n",
              "user_created_at_year_month    0\n",
              "dtype: int64"
            ]
          },
          "metadata": {
            "tags": []
          },
          "execution_count": 80
        }
      ]
    },
    {
      "cell_type": "code",
      "metadata": {
        "id": "QwrqP67VgBfA"
      },
      "source": [
        "clean_df = clean_df.sort_values('Month1')"
      ],
      "execution_count": 81,
      "outputs": []
    },
    {
      "cell_type": "code",
      "metadata": {
        "id": "DXqrJvaRP86e"
      },
      "source": [
        "startup_clean_df = clean_df.groupby('UUID', as_index = False).agg(list)"
      ],
      "execution_count": 82,
      "outputs": []
    },
    {
      "cell_type": "markdown",
      "metadata": {
        "id": "gtyz71VdqtD-"
      },
      "source": [
        "# Feature Engineering"
      ]
    },
    {
      "cell_type": "code",
      "metadata": {
        "colab": {
          "base_uri": "https://localhost:8080/",
          "height": 601
        },
        "id": "cFzy93xJlpdC",
        "outputId": "e3beb9cb-af89-4993-c3db-a875c9a46196"
      },
      "source": [
        "startup_clean_df.head()"
      ],
      "execution_count": 83,
      "outputs": [
        {
          "output_type": "execute_result",
          "data": {
            "text/html": [
              "<div>\n",
              "<style scoped>\n",
              "    .dataframe tbody tr th:only-of-type {\n",
              "        vertical-align: middle;\n",
              "    }\n",
              "\n",
              "    .dataframe tbody tr th {\n",
              "        vertical-align: top;\n",
              "    }\n",
              "\n",
              "    .dataframe thead th {\n",
              "        text-align: right;\n",
              "    }\n",
              "</style>\n",
              "<table border=\"1\" class=\"dataframe\">\n",
              "  <thead>\n",
              "    <tr style=\"text-align: right;\">\n",
              "      <th></th>\n",
              "      <th>UUID</th>\n",
              "      <th>Application Category</th>\n",
              "      <th>Avg_Session_Time</th>\n",
              "      <th>MAU</th>\n",
              "      <th>Open_Rate</th>\n",
              "      <th>Reach</th>\n",
              "      <th>Total_Session_Time</th>\n",
              "      <th>Uninstall_Rate</th>\n",
              "      <th>funding_ind</th>\n",
              "      <th>Month</th>\n",
              "      <th>Month1</th>\n",
              "      <th>user_created_at_year_month</th>\n",
              "    </tr>\n",
              "  </thead>\n",
              "  <tbody>\n",
              "    <tr>\n",
              "      <th>0</th>\n",
              "      <td>000066f130e3b972364c505c805e2cddee68816d</td>\n",
              "      <td>[Business, Business, Business]</td>\n",
              "      <td>[0.7250462962962962, 0.7250462962962962, 0.725...</td>\n",
              "      <td>[0.3961330095273679, 0.3961330095273679, 0.396...</td>\n",
              "      <td>[3.0, 3.0, 3.0]</td>\n",
              "      <td>[1.9720882462160069e-07, 3.022202611485277e-07...</td>\n",
              "      <td>[2.471595454545455, 2.471595454545455, 2.47159...</td>\n",
              "      <td>[0.07066381156316914, 0.07066381156316914, 0.0...</td>\n",
              "      <td>[0, 0, 0]</td>\n",
              "      <td>[3, 4, 6]</td>\n",
              "      <td>[2020-03-01 00:00:00, 2020-04-01 00:00:00, 202...</td>\n",
              "      <td>[2020-03, 2020-04, 2020-06]</td>\n",
              "    </tr>\n",
              "    <tr>\n",
              "      <th>1</th>\n",
              "      <td>0000c4128bc8bb7dbfbc68f2afec85f485dbcc6b</td>\n",
              "      <td>[Finance]</td>\n",
              "      <td>[0.7819963142226509]</td>\n",
              "      <td>[0.4305993690851735]</td>\n",
              "      <td>[2.8219178082191783]</td>\n",
              "      <td>[3.022202611485277e-07]</td>\n",
              "      <td>[2.3184996445497634]</td>\n",
              "      <td>[0.0714285714285714]</td>\n",
              "      <td>[0]</td>\n",
              "      <td>[4]</td>\n",
              "      <td>[2020-04-01 00:00:00]</td>\n",
              "      <td>[2020-04]</td>\n",
              "    </tr>\n",
              "    <tr>\n",
              "      <th>2</th>\n",
              "      <td>0000d19d56df9df1f266fc1fd245a37ff27fb1f3</td>\n",
              "      <td>[Social, Social, Social, Social, Social]</td>\n",
              "      <td>[1.4710444444444446, 0.7947097835988761, 0.794...</td>\n",
              "      <td>[0.4239401496259352, 0.4239401496259352, 0.423...</td>\n",
              "      <td>[3.0, 3.0260686928589076, 3.0260686928589076, ...</td>\n",
              "      <td>[1.0214713272998427e-05, 2.3665058954592075e-0...</td>\n",
              "      <td>[4.413133333333334, 2.513916666666667, 2.51391...</td>\n",
              "      <td>[0.1206896551724138, 0.1206896551724138, 0.120...</td>\n",
              "      <td>[0, 0, 0, 0, 0]</td>\n",
              "      <td>[2, 3, 4, 5, 6]</td>\n",
              "      <td>[2020-02-01 00:00:00, 2020-03-01 00:00:00, 202...</td>\n",
              "      <td>[2020-02, 2020-03, 2020-04, 2020-05, 2020-06]</td>\n",
              "    </tr>\n",
              "    <tr>\n",
              "      <th>3</th>\n",
              "      <td>000127cbe70aeeab81734b68f409176bd1f1fde8</td>\n",
              "      <td>[Personalization, Personalization, Personaliza...</td>\n",
              "      <td>[0.1902, 0.3298509803921568, 0.3642166666666667]</td>\n",
              "      <td>[0.3548387096774194, 0.3548387096774194, 0.354...</td>\n",
              "      <td>[2.0, 3.0, 1.0]</td>\n",
              "      <td>[1.9720882462160069e-07, 3.022202611485277e-07...</td>\n",
              "      <td>[0.3804, 1.1086215277777778, 0.3642166666666667]</td>\n",
              "      <td>[0.12658227848101267, 0.12658227848101267, 0.1...</td>\n",
              "      <td>[0, 0, 0]</td>\n",
              "      <td>[3, 4, 5]</td>\n",
              "      <td>[2020-03-01 00:00:00, 2020-04-01 00:00:00, 202...</td>\n",
              "      <td>[2020-03, 2020-04, 2020-05]</td>\n",
              "    </tr>\n",
              "    <tr>\n",
              "      <th>4</th>\n",
              "      <td>00017d2a013dc43f0e34de1be4beca443713ec80</td>\n",
              "      <td>[Shopping]</td>\n",
              "      <td>[1.0211179365618586]</td>\n",
              "      <td>[0.3333333333333333]</td>\n",
              "      <td>[2.414634146341464]</td>\n",
              "      <td>[1.9720882462160069e-07]</td>\n",
              "      <td>[2.6724536324786325]</td>\n",
              "      <td>[0.11764705882352945]</td>\n",
              "      <td>[0]</td>\n",
              "      <td>[3]</td>\n",
              "      <td>[2020-03-01 00:00:00]</td>\n",
              "      <td>[2020-03]</td>\n",
              "    </tr>\n",
              "  </tbody>\n",
              "</table>\n",
              "</div>"
            ],
            "text/plain": [
              "                                       UUID  ...                     user_created_at_year_month\n",
              "0  000066f130e3b972364c505c805e2cddee68816d  ...                    [2020-03, 2020-04, 2020-06]\n",
              "1  0000c4128bc8bb7dbfbc68f2afec85f485dbcc6b  ...                                      [2020-04]\n",
              "2  0000d19d56df9df1f266fc1fd245a37ff27fb1f3  ...  [2020-02, 2020-03, 2020-04, 2020-05, 2020-06]\n",
              "3  000127cbe70aeeab81734b68f409176bd1f1fde8  ...                    [2020-03, 2020-04, 2020-05]\n",
              "4  00017d2a013dc43f0e34de1be4beca443713ec80  ...                                      [2020-03]\n",
              "\n",
              "[5 rows x 12 columns]"
            ]
          },
          "metadata": {
            "tags": []
          },
          "execution_count": 83
        }
      ]
    },
    {
      "cell_type": "code",
      "metadata": {
        "id": "7l7QIyxTQQ3G"
      },
      "source": [
        "def rolling_mean(row):\r\n",
        "  window_month = 3\r\n",
        "  numbers_series = pd.Series(row)\r\n",
        "  windows = numbers_series.rolling(window_month)\r\n",
        "  moving_averages = windows.mean()\r\n",
        "\r\n",
        "  moving_averages_list = moving_averages.tolist()\r\n",
        "  without_nans = moving_averages_list[window_month - 1:]\r\n",
        "  return without_nans"
      ],
      "execution_count": 84,
      "outputs": []
    },
    {
      "cell_type": "code",
      "metadata": {
        "colab": {
          "base_uri": "https://localhost:8080/"
        },
        "id": "xE0bm8HSsdAn",
        "outputId": "808ac08b-11b8-4ed5-86a6-7d041c193508"
      },
      "source": [
        "columns"
      ],
      "execution_count": 85,
      "outputs": [
        {
          "output_type": "execute_result",
          "data": {
            "text/plain": [
              "['Avg_Session_Time',\n",
              " 'Total_Session_Time',\n",
              " 'MAU',\n",
              " 'Open_Rate',\n",
              " 'Uninstall_Rate',\n",
              " 'Reach']"
            ]
          },
          "metadata": {
            "tags": []
          },
          "execution_count": 85
        }
      ]
    },
    {
      "cell_type": "code",
      "metadata": {
        "id": "IjABh9Ahr0cJ"
      },
      "source": [
        "startup_with_moving_mean = pd.DataFrame()"
      ],
      "execution_count": 86,
      "outputs": []
    },
    {
      "cell_type": "code",
      "metadata": {
        "colab": {
          "base_uri": "https://localhost:8080/",
          "height": 601
        },
        "id": "mJUOlA_rtl5V",
        "outputId": "2c365c13-d90f-4811-8d6e-5b6269f8562b"
      },
      "source": [
        "startup_clean_df.head()"
      ],
      "execution_count": 87,
      "outputs": [
        {
          "output_type": "execute_result",
          "data": {
            "text/html": [
              "<div>\n",
              "<style scoped>\n",
              "    .dataframe tbody tr th:only-of-type {\n",
              "        vertical-align: middle;\n",
              "    }\n",
              "\n",
              "    .dataframe tbody tr th {\n",
              "        vertical-align: top;\n",
              "    }\n",
              "\n",
              "    .dataframe thead th {\n",
              "        text-align: right;\n",
              "    }\n",
              "</style>\n",
              "<table border=\"1\" class=\"dataframe\">\n",
              "  <thead>\n",
              "    <tr style=\"text-align: right;\">\n",
              "      <th></th>\n",
              "      <th>UUID</th>\n",
              "      <th>Application Category</th>\n",
              "      <th>Avg_Session_Time</th>\n",
              "      <th>MAU</th>\n",
              "      <th>Open_Rate</th>\n",
              "      <th>Reach</th>\n",
              "      <th>Total_Session_Time</th>\n",
              "      <th>Uninstall_Rate</th>\n",
              "      <th>funding_ind</th>\n",
              "      <th>Month</th>\n",
              "      <th>Month1</th>\n",
              "      <th>user_created_at_year_month</th>\n",
              "    </tr>\n",
              "  </thead>\n",
              "  <tbody>\n",
              "    <tr>\n",
              "      <th>0</th>\n",
              "      <td>000066f130e3b972364c505c805e2cddee68816d</td>\n",
              "      <td>[Business, Business, Business]</td>\n",
              "      <td>[0.7250462962962962, 0.7250462962962962, 0.725...</td>\n",
              "      <td>[0.3961330095273679, 0.3961330095273679, 0.396...</td>\n",
              "      <td>[3.0, 3.0, 3.0]</td>\n",
              "      <td>[1.9720882462160069e-07, 3.022202611485277e-07...</td>\n",
              "      <td>[2.471595454545455, 2.471595454545455, 2.47159...</td>\n",
              "      <td>[0.07066381156316914, 0.07066381156316914, 0.0...</td>\n",
              "      <td>[0, 0, 0]</td>\n",
              "      <td>[3, 4, 6]</td>\n",
              "      <td>[2020-03-01 00:00:00, 2020-04-01 00:00:00, 202...</td>\n",
              "      <td>[2020-03, 2020-04, 2020-06]</td>\n",
              "    </tr>\n",
              "    <tr>\n",
              "      <th>1</th>\n",
              "      <td>0000c4128bc8bb7dbfbc68f2afec85f485dbcc6b</td>\n",
              "      <td>[Finance]</td>\n",
              "      <td>[0.7819963142226509]</td>\n",
              "      <td>[0.4305993690851735]</td>\n",
              "      <td>[2.8219178082191783]</td>\n",
              "      <td>[3.022202611485277e-07]</td>\n",
              "      <td>[2.3184996445497634]</td>\n",
              "      <td>[0.0714285714285714]</td>\n",
              "      <td>[0]</td>\n",
              "      <td>[4]</td>\n",
              "      <td>[2020-04-01 00:00:00]</td>\n",
              "      <td>[2020-04]</td>\n",
              "    </tr>\n",
              "    <tr>\n",
              "      <th>2</th>\n",
              "      <td>0000d19d56df9df1f266fc1fd245a37ff27fb1f3</td>\n",
              "      <td>[Social, Social, Social, Social, Social]</td>\n",
              "      <td>[1.4710444444444446, 0.7947097835988761, 0.794...</td>\n",
              "      <td>[0.4239401496259352, 0.4239401496259352, 0.423...</td>\n",
              "      <td>[3.0, 3.0260686928589076, 3.0260686928589076, ...</td>\n",
              "      <td>[1.0214713272998427e-05, 2.3665058954592075e-0...</td>\n",
              "      <td>[4.413133333333334, 2.513916666666667, 2.51391...</td>\n",
              "      <td>[0.1206896551724138, 0.1206896551724138, 0.120...</td>\n",
              "      <td>[0, 0, 0, 0, 0]</td>\n",
              "      <td>[2, 3, 4, 5, 6]</td>\n",
              "      <td>[2020-02-01 00:00:00, 2020-03-01 00:00:00, 202...</td>\n",
              "      <td>[2020-02, 2020-03, 2020-04, 2020-05, 2020-06]</td>\n",
              "    </tr>\n",
              "    <tr>\n",
              "      <th>3</th>\n",
              "      <td>000127cbe70aeeab81734b68f409176bd1f1fde8</td>\n",
              "      <td>[Personalization, Personalization, Personaliza...</td>\n",
              "      <td>[0.1902, 0.3298509803921568, 0.3642166666666667]</td>\n",
              "      <td>[0.3548387096774194, 0.3548387096774194, 0.354...</td>\n",
              "      <td>[2.0, 3.0, 1.0]</td>\n",
              "      <td>[1.9720882462160069e-07, 3.022202611485277e-07...</td>\n",
              "      <td>[0.3804, 1.1086215277777778, 0.3642166666666667]</td>\n",
              "      <td>[0.12658227848101267, 0.12658227848101267, 0.1...</td>\n",
              "      <td>[0, 0, 0]</td>\n",
              "      <td>[3, 4, 5]</td>\n",
              "      <td>[2020-03-01 00:00:00, 2020-04-01 00:00:00, 202...</td>\n",
              "      <td>[2020-03, 2020-04, 2020-05]</td>\n",
              "    </tr>\n",
              "    <tr>\n",
              "      <th>4</th>\n",
              "      <td>00017d2a013dc43f0e34de1be4beca443713ec80</td>\n",
              "      <td>[Shopping]</td>\n",
              "      <td>[1.0211179365618586]</td>\n",
              "      <td>[0.3333333333333333]</td>\n",
              "      <td>[2.414634146341464]</td>\n",
              "      <td>[1.9720882462160069e-07]</td>\n",
              "      <td>[2.6724536324786325]</td>\n",
              "      <td>[0.11764705882352945]</td>\n",
              "      <td>[0]</td>\n",
              "      <td>[3]</td>\n",
              "      <td>[2020-03-01 00:00:00]</td>\n",
              "      <td>[2020-03]</td>\n",
              "    </tr>\n",
              "  </tbody>\n",
              "</table>\n",
              "</div>"
            ],
            "text/plain": [
              "                                       UUID  ...                     user_created_at_year_month\n",
              "0  000066f130e3b972364c505c805e2cddee68816d  ...                    [2020-03, 2020-04, 2020-06]\n",
              "1  0000c4128bc8bb7dbfbc68f2afec85f485dbcc6b  ...                                      [2020-04]\n",
              "2  0000d19d56df9df1f266fc1fd245a37ff27fb1f3  ...  [2020-02, 2020-03, 2020-04, 2020-05, 2020-06]\n",
              "3  000127cbe70aeeab81734b68f409176bd1f1fde8  ...                    [2020-03, 2020-04, 2020-05]\n",
              "4  00017d2a013dc43f0e34de1be4beca443713ec80  ...                                      [2020-03]\n",
              "\n",
              "[5 rows x 12 columns]"
            ]
          },
          "metadata": {
            "tags": []
          },
          "execution_count": 87
        }
      ]
    },
    {
      "cell_type": "code",
      "metadata": {
        "id": "1G2F5iLRicpZ"
      },
      "source": [
        "startup_with_moving_mean['UUID'] = startup_clean_df['UUID']\r\n",
        "startup_with_moving_mean['moving_Avg_Session_Time'] = startup_clean_df['Avg_Session_Time'].apply(lambda x : rolling_mean(x))\r\n",
        "startup_with_moving_mean['moving_Total_Session_Time'] = startup_clean_df['Total_Session_Time'].apply(lambda x : rolling_mean(x))\r\n",
        "startup_with_moving_mean['moving_MAU'] = startup_clean_df['MAU'].apply(lambda x : rolling_mean(x))\r\n",
        "startup_with_moving_mean['moving_Open_Rate'] = startup_clean_df['Open_Rate'].apply(lambda x : rolling_mean(x))\r\n",
        "startup_with_moving_mean['moving_Uninstall_Rate'] = startup_clean_df['Uninstall_Rate'].apply(lambda x : rolling_mean(x))\r\n",
        "startup_with_moving_mean['moving_Reach'] = startup_clean_df['Reach'].apply(lambda x : rolling_mean(x))"
      ],
      "execution_count": 89,
      "outputs": []
    },
    {
      "cell_type": "code",
      "metadata": {
        "id": "cp0lYr3d036R"
      },
      "source": [
        "startup_with_moving_mean['Application Category'] = startup_clean_df['Application Category']"
      ],
      "execution_count": 90,
      "outputs": []
    },
    {
      "cell_type": "code",
      "metadata": {
        "id": "vWBrWC003ptS"
      },
      "source": [
        "startup_with_moving_mean['funding_ind'] = startup_clean_df['funding_ind']"
      ],
      "execution_count": 92,
      "outputs": []
    },
    {
      "cell_type": "code",
      "metadata": {
        "colab": {
          "base_uri": "https://localhost:8080/",
          "height": 351
        },
        "id": "aQGO1TiKv-8I",
        "outputId": "f281c52d-d55d-45df-a259-d3f61160c690"
      },
      "source": [
        "startup_with_moving_mean.head()"
      ],
      "execution_count": 93,
      "outputs": [
        {
          "output_type": "execute_result",
          "data": {
            "text/html": [
              "<div>\n",
              "<style scoped>\n",
              "    .dataframe tbody tr th:only-of-type {\n",
              "        vertical-align: middle;\n",
              "    }\n",
              "\n",
              "    .dataframe tbody tr th {\n",
              "        vertical-align: top;\n",
              "    }\n",
              "\n",
              "    .dataframe thead th {\n",
              "        text-align: right;\n",
              "    }\n",
              "</style>\n",
              "<table border=\"1\" class=\"dataframe\">\n",
              "  <thead>\n",
              "    <tr style=\"text-align: right;\">\n",
              "      <th></th>\n",
              "      <th>UUID</th>\n",
              "      <th>moving_Avg_Session_Time</th>\n",
              "      <th>moving_Total_Session_Time</th>\n",
              "      <th>moving_MAU</th>\n",
              "      <th>moving_Open_Rate</th>\n",
              "      <th>moving_Uninstall_Rate</th>\n",
              "      <th>moving_Reach</th>\n",
              "      <th>Application Category</th>\n",
              "      <th>funding_ind</th>\n",
              "    </tr>\n",
              "  </thead>\n",
              "  <tbody>\n",
              "    <tr>\n",
              "      <th>0</th>\n",
              "      <td>000066f130e3b972364c505c805e2cddee68816d</td>\n",
              "      <td>[0.7250462962962962]</td>\n",
              "      <td>[2.471595454545455]</td>\n",
              "      <td>[0.3961330095273679]</td>\n",
              "      <td>[3.0]</td>\n",
              "      <td>[0.07066381156316914]</td>\n",
              "      <td>[1.796268970813895e-06]</td>\n",
              "      <td>[Business, Business, Business]</td>\n",
              "      <td>[0, 0, 0]</td>\n",
              "    </tr>\n",
              "    <tr>\n",
              "      <th>1</th>\n",
              "      <td>0000c4128bc8bb7dbfbc68f2afec85f485dbcc6b</td>\n",
              "      <td>[]</td>\n",
              "      <td>[]</td>\n",
              "      <td>[]</td>\n",
              "      <td>[]</td>\n",
              "      <td>[]</td>\n",
              "      <td>[]</td>\n",
              "      <td>[Finance]</td>\n",
              "      <td>[0]</td>\n",
              "    </tr>\n",
              "    <tr>\n",
              "      <th>2</th>\n",
              "      <td>0000d19d56df9df1f266fc1fd245a37ff27fb1f3</td>\n",
              "      <td>[1.020154670547399, 0.794709783598876, 0.69200...</td>\n",
              "      <td>[3.1469888888888895, 2.5139166666666672, 1.838...</td>\n",
              "      <td>[0.4239401496259352, 0.4239401496259352, 0.423...</td>\n",
              "      <td>[3.017379128572605, 3.026068692858908, 2.35071...</td>\n",
              "      <td>[0.1206896551724138, 0.1206896551724138, 0.120...</td>\n",
              "      <td>[4.4959599839677386e-06, 7.900864408300549e-06...</td>\n",
              "      <td>[Social, Social, Social, Social, Social]</td>\n",
              "      <td>[0, 0, 0, 0, 0]</td>\n",
              "    </tr>\n",
              "    <tr>\n",
              "      <th>3</th>\n",
              "      <td>000127cbe70aeeab81734b68f409176bd1f1fde8</td>\n",
              "      <td>[0.2947558823529412]</td>\n",
              "      <td>[0.6177460648148149]</td>\n",
              "      <td>[0.3548387096774193]</td>\n",
              "      <td>[2.0]</td>\n",
              "      <td>[0.12658227848101267]</td>\n",
              "      <td>[1.7783177547155237e-06]</td>\n",
              "      <td>[Personalization, Personalization, Personaliza...</td>\n",
              "      <td>[0, 0, 0]</td>\n",
              "    </tr>\n",
              "    <tr>\n",
              "      <th>4</th>\n",
              "      <td>00017d2a013dc43f0e34de1be4beca443713ec80</td>\n",
              "      <td>[]</td>\n",
              "      <td>[]</td>\n",
              "      <td>[]</td>\n",
              "      <td>[]</td>\n",
              "      <td>[]</td>\n",
              "      <td>[]</td>\n",
              "      <td>[Shopping]</td>\n",
              "      <td>[0]</td>\n",
              "    </tr>\n",
              "  </tbody>\n",
              "</table>\n",
              "</div>"
            ],
            "text/plain": [
              "                                       UUID  ...      funding_ind\n",
              "0  000066f130e3b972364c505c805e2cddee68816d  ...        [0, 0, 0]\n",
              "1  0000c4128bc8bb7dbfbc68f2afec85f485dbcc6b  ...              [0]\n",
              "2  0000d19d56df9df1f266fc1fd245a37ff27fb1f3  ...  [0, 0, 0, 0, 0]\n",
              "3  000127cbe70aeeab81734b68f409176bd1f1fde8  ...        [0, 0, 0]\n",
              "4  00017d2a013dc43f0e34de1be4beca443713ec80  ...              [0]\n",
              "\n",
              "[5 rows x 9 columns]"
            ]
          },
          "metadata": {
            "tags": []
          },
          "execution_count": 93
        }
      ]
    },
    {
      "cell_type": "code",
      "metadata": {
        "colab": {
          "base_uri": "https://localhost:8080/",
          "height": 860
        },
        "id": "-qNk0QS21iWw",
        "outputId": "2d15d268-002b-4fa2-a17c-b5ffbd1d8e5a"
      },
      "source": [
        "startup_with_moving_mean[startup_with_moving_mean.astype(str)['moving_Avg_Session_Time'] != '[]']"
      ],
      "execution_count": 94,
      "outputs": [
        {
          "output_type": "execute_result",
          "data": {
            "text/html": [
              "<div>\n",
              "<style scoped>\n",
              "    .dataframe tbody tr th:only-of-type {\n",
              "        vertical-align: middle;\n",
              "    }\n",
              "\n",
              "    .dataframe tbody tr th {\n",
              "        vertical-align: top;\n",
              "    }\n",
              "\n",
              "    .dataframe thead th {\n",
              "        text-align: right;\n",
              "    }\n",
              "</style>\n",
              "<table border=\"1\" class=\"dataframe\">\n",
              "  <thead>\n",
              "    <tr style=\"text-align: right;\">\n",
              "      <th></th>\n",
              "      <th>UUID</th>\n",
              "      <th>moving_Avg_Session_Time</th>\n",
              "      <th>moving_Total_Session_Time</th>\n",
              "      <th>moving_MAU</th>\n",
              "      <th>moving_Open_Rate</th>\n",
              "      <th>moving_Uninstall_Rate</th>\n",
              "      <th>moving_Reach</th>\n",
              "      <th>Application Category</th>\n",
              "      <th>funding_ind</th>\n",
              "    </tr>\n",
              "  </thead>\n",
              "  <tbody>\n",
              "    <tr>\n",
              "      <th>0</th>\n",
              "      <td>000066f130e3b972364c505c805e2cddee68816d</td>\n",
              "      <td>[0.7250462962962962]</td>\n",
              "      <td>[2.471595454545455]</td>\n",
              "      <td>[0.3961330095273679]</td>\n",
              "      <td>[3.0]</td>\n",
              "      <td>[0.07066381156316914]</td>\n",
              "      <td>[1.796268970813895e-06]</td>\n",
              "      <td>[Business, Business, Business]</td>\n",
              "      <td>[0, 0, 0]</td>\n",
              "    </tr>\n",
              "    <tr>\n",
              "      <th>2</th>\n",
              "      <td>0000d19d56df9df1f266fc1fd245a37ff27fb1f3</td>\n",
              "      <td>[1.020154670547399, 0.794709783598876, 0.69200...</td>\n",
              "      <td>[3.1469888888888895, 2.5139166666666672, 1.838...</td>\n",
              "      <td>[0.4239401496259352, 0.4239401496259352, 0.423...</td>\n",
              "      <td>[3.017379128572605, 3.026068692858908, 2.35071...</td>\n",
              "      <td>[0.1206896551724138, 0.1206896551724138, 0.120...</td>\n",
              "      <td>[4.4959599839677386e-06, 7.900864408300549e-06...</td>\n",
              "      <td>[Social, Social, Social, Social, Social]</td>\n",
              "      <td>[0, 0, 0, 0, 0]</td>\n",
              "    </tr>\n",
              "    <tr>\n",
              "      <th>3</th>\n",
              "      <td>000127cbe70aeeab81734b68f409176bd1f1fde8</td>\n",
              "      <td>[0.2947558823529412]</td>\n",
              "      <td>[0.6177460648148149]</td>\n",
              "      <td>[0.3548387096774193]</td>\n",
              "      <td>[2.0]</td>\n",
              "      <td>[0.12658227848101267]</td>\n",
              "      <td>[1.7783177547155237e-06]</td>\n",
              "      <td>[Personalization, Personalization, Personaliza...</td>\n",
              "      <td>[0, 0, 0]</td>\n",
              "    </tr>\n",
              "    <tr>\n",
              "      <th>5</th>\n",
              "      <td>0001ef9403a3bb9d7d673d10b5d082a536acaa0a</td>\n",
              "      <td>[1.1337130446623092, 1.344176466136668, 1.2748...</td>\n",
              "      <td>[2.949131209150327, 8.363247875816993, 7.25582...</td>\n",
              "      <td>[0.31932773109243695, 0.31932773109243695, 0.3...</td>\n",
              "      <td>[2.4901960784313726, 4.990196078431373, 3.9901...</td>\n",
              "      <td>[0.07482993197278909, 0.07482993197278909, 0.0...</td>\n",
              "      <td>[4.7057832650061085e-06, 4.083391526610682e-06...</td>\n",
              "      <td>[Medical, Medical, Medical, Medical, Medical, ...</td>\n",
              "      <td>[0, 0, 0, 0, 0, 0]</td>\n",
              "    </tr>\n",
              "    <tr>\n",
              "      <th>8</th>\n",
              "      <td>00033006be474a18f422eb285da9b761023b09e1</td>\n",
              "      <td>[1.1406728822384091, 1.0800636178300973, 1.036...</td>\n",
              "      <td>[5.000045474214775, 4.8864717438285155, 4.4960...</td>\n",
              "      <td>[0.375, 0.375, 0.375, 0.375, 0.375, 0.375]</td>\n",
              "      <td>[4.558587912602551, 4.676807237078234, 4.41274...</td>\n",
              "      <td>[0.14698339523300435, 0.14698339523300435, 0.1...</td>\n",
              "      <td>[4.8893778266715565e-06, 4.8893778266715565e-0...</td>\n",
              "      <td>[Entertainment, Entertainment, Entertainment, ...</td>\n",
              "      <td>[0, 0, 0, 0, 0, 0, 0, 0]</td>\n",
              "    </tr>\n",
              "    <tr>\n",
              "      <th>...</th>\n",
              "      <td>...</td>\n",
              "      <td>...</td>\n",
              "      <td>...</td>\n",
              "      <td>...</td>\n",
              "      <td>...</td>\n",
              "      <td>...</td>\n",
              "      <td>...</td>\n",
              "      <td>...</td>\n",
              "      <td>...</td>\n",
              "    </tr>\n",
              "    <tr>\n",
              "      <th>147735</th>\n",
              "      <td>fffe61bbf17e9a2d8e5bd43b1b964edcb7b66e3f</td>\n",
              "      <td>[0.7703912736153082, 0.7703912736153082, 0.770...</td>\n",
              "      <td>[2.1600549081563867, 2.1600549081563867, 2.160...</td>\n",
              "      <td>[0.2919285521578943, 0.2919285521578943, 0.291...</td>\n",
              "      <td>[2.51739898989899, 2.51739898989899, 2.5173989...</td>\n",
              "      <td>[0.09327356659773035, 0.09327356659773035, 0.0...</td>\n",
              "      <td>[3.2868137436933443e-07, 3.636851865449768e-07...</td>\n",
              "      <td>[Food &amp; Drink, Travel &amp; Local, Productivity, F...</td>\n",
              "      <td>[0, 0, 0, 0, 0, 0, 0]</td>\n",
              "    </tr>\n",
              "    <tr>\n",
              "      <th>147736</th>\n",
              "      <td>fffe942f59aaf6d4a4119f1538cda1e4e69e9d8d</td>\n",
              "      <td>[0.5762562288260079, 0.640931228826008, 0.55995]</td>\n",
              "      <td>[1.36442781419571, 1.3098333697512656, 0.84598...</td>\n",
              "      <td>[0.37288135593220345, 0.37288135593220345, 0.3...</td>\n",
              "      <td>[2.3333333333333335, 2.0, 1.3333333333333333]</td>\n",
              "      <td>[0.08597285067873306, 0.08597285067873306, 0.0...</td>\n",
              "      <td>[5.388806912441684e-06, 5.388806912441684e-06,...</td>\n",
              "      <td>[Tools, Tools, Tools, Tools, Tools]</td>\n",
              "      <td>[0, 0, 0, 0, 0]</td>\n",
              "    </tr>\n",
              "    <tr>\n",
              "      <th>147737</th>\n",
              "      <td>ffff383fa0831aa6d2c5d9257194d0d89841422d</td>\n",
              "      <td>[6.04413715800478, 7.501343176523297, 7.999252...</td>\n",
              "      <td>[17.44379126344086, 25.04258015232975, 26.1050...</td>\n",
              "      <td>[0.6245300751879699, 0.6245300751879699, 0.624...</td>\n",
              "      <td>[3.038978494623656, 3.3723118279569895, 3.2560...</td>\n",
              "      <td>[0.12440532825880113, 0.12440532825880113, 0.1...</td>\n",
              "      <td>[2.0429426545996854e-05, 2.0429426545996854e-0...</td>\n",
              "      <td>[Card, Card, Card, Card, Card, Card, Card, Car...</td>\n",
              "      <td>[0, 0, 0, 0, 0, 0, 0, 0, 0, 0, 0, 0, 0, 0, 0, ...</td>\n",
              "    </tr>\n",
              "    <tr>\n",
              "      <th>147738</th>\n",
              "      <td>ffff67b9dfc65a5f1f146d681497a933998c2256</td>\n",
              "      <td>[1.0013476100915255, 1.0013476100915255, 1.001...</td>\n",
              "      <td>[2.3124778180354246, 2.3124778180354246, 2.312...</td>\n",
              "      <td>[0.34920634920634913, 0.34920634920634913, 0.3...</td>\n",
              "      <td>[2.0, 2.0, 2.0, 2.0, 2.0, 2.0, 2.0, 2.0, 2.0, ...</td>\n",
              "      <td>[0.042526455026433325, 0.03141534391533333, 0....</td>\n",
              "      <td>[0.0001822638919220848, 0.0002064289878552202,...</td>\n",
              "      <td>[Books &amp; Reference, Books &amp; Reference, Books &amp;...</td>\n",
              "      <td>[0, 0, 0, 0, 0, 0, 0, 0, 0, 0, 0, 0, 0, 0, 0, ...</td>\n",
              "    </tr>\n",
              "    <tr>\n",
              "      <th>147740</th>\n",
              "      <td>ffff99e9bacd6d34b2823a0bac8b3e137d3b35ac</td>\n",
              "      <td>[1.792447477689788]</td>\n",
              "      <td>[5.919394830246913]</td>\n",
              "      <td>[0.6]</td>\n",
              "      <td>[2.6666666666666665]</td>\n",
              "      <td>[0.3121963692150345]</td>\n",
              "      <td>[3.426061579704414e-06]</td>\n",
              "      <td>[Casual, Casual, Casual]</td>\n",
              "      <td>[0, 0, 0]</td>\n",
              "    </tr>\n",
              "  </tbody>\n",
              "</table>\n",
              "<p>91919 rows × 9 columns</p>\n",
              "</div>"
            ],
            "text/plain": [
              "                                            UUID  ...                                        funding_ind\n",
              "0       000066f130e3b972364c505c805e2cddee68816d  ...                                          [0, 0, 0]\n",
              "2       0000d19d56df9df1f266fc1fd245a37ff27fb1f3  ...                                    [0, 0, 0, 0, 0]\n",
              "3       000127cbe70aeeab81734b68f409176bd1f1fde8  ...                                          [0, 0, 0]\n",
              "5       0001ef9403a3bb9d7d673d10b5d082a536acaa0a  ...                                 [0, 0, 0, 0, 0, 0]\n",
              "8       00033006be474a18f422eb285da9b761023b09e1  ...                           [0, 0, 0, 0, 0, 0, 0, 0]\n",
              "...                                          ...  ...                                                ...\n",
              "147735  fffe61bbf17e9a2d8e5bd43b1b964edcb7b66e3f  ...                              [0, 0, 0, 0, 0, 0, 0]\n",
              "147736  fffe942f59aaf6d4a4119f1538cda1e4e69e9d8d  ...                                    [0, 0, 0, 0, 0]\n",
              "147737  ffff383fa0831aa6d2c5d9257194d0d89841422d  ...  [0, 0, 0, 0, 0, 0, 0, 0, 0, 0, 0, 0, 0, 0, 0, ...\n",
              "147738  ffff67b9dfc65a5f1f146d681497a933998c2256  ...  [0, 0, 0, 0, 0, 0, 0, 0, 0, 0, 0, 0, 0, 0, 0, ...\n",
              "147740  ffff99e9bacd6d34b2823a0bac8b3e137d3b35ac  ...                                          [0, 0, 0]\n",
              "\n",
              "[91919 rows x 9 columns]"
            ]
          },
          "metadata": {
            "tags": []
          },
          "execution_count": 94
        }
      ]
    },
    {
      "cell_type": "code",
      "metadata": {
        "id": "IX4YJY96xgaj"
      },
      "source": [
        "startup_with_moving_mean['moving_Avg_Session_Time'].apply(pd.Series)"
      ],
      "execution_count": null,
      "outputs": []
    },
    {
      "cell_type": "code",
      "metadata": {
        "colab": {
          "base_uri": "https://localhost:8080/"
        },
        "id": "uayZf0GcpyGy",
        "outputId": "86ce2b96-1963-457b-b569-c12b69dfed5a"
      },
      "source": [
        "moving_avg_session"
      ],
      "execution_count": 149,
      "outputs": [
        {
          "output_type": "execute_result",
          "data": {
            "text/plain": [
              "0                                      [0.7250462962962962]\n",
              "1                                                        []\n",
              "2         [1.020154670547399, 0.794709783598876, 0.69200...\n",
              "3                                      [0.2947558823529412]\n",
              "4                                                        []\n",
              "                                ...                        \n",
              "147736     [0.5762562288260079, 0.640931228826008, 0.55995]\n",
              "147737    [6.04413715800478, 7.501343176523297, 7.999252...\n",
              "147738    [1.0013476100915255, 1.0013476100915255, 1.001...\n",
              "147739                                                   []\n",
              "147740                                  [1.792447477689788]\n",
              "Name: Avg_Session_Time, Length: 147741, dtype: object"
            ]
          },
          "metadata": {
            "tags": []
          },
          "execution_count": 149
        }
      ]
    },
    {
      "cell_type": "code",
      "metadata": {
        "colab": {
          "base_uri": "https://localhost:8080/"
        },
        "id": "o23xexPzmXCN",
        "outputId": "98e9b3c0-938c-44bd-9787-f5cd331d262f"
      },
      "source": [
        "window_month = 3\r\n",
        "numbers_series = pd.Series(startup_clean_df.loc[2,'Avg_Session_Time'])\r\n",
        "windows = numbers_series.rolling(window_month)\r\n",
        "moving_averages = windows.mean()\r\n",
        "\r\n",
        "moving_averages_list = moving_averages.tolist()\r\n",
        "without_nans = moving_averages_list[window_month - 1:]\r\n",
        "print(without_nans)"
      ],
      "execution_count": 141,
      "outputs": [
        {
          "output_type": "stream",
          "text": [
            "[1.020154670547399, 0.794709783598876, 0.6920065223992506]\n"
          ],
          "name": "stdout"
        }
      ]
    },
    {
      "cell_type": "code",
      "metadata": {
        "colab": {
          "base_uri": "https://localhost:8080/"
        },
        "id": "UgHHrCZBmNdl",
        "outputId": "ecd4c501-9510-4b95-90a3-21b34c3838ac"
      },
      "source": [
        "startup_clean_df.loc[3,'Avg_Session_Time']"
      ],
      "execution_count": 135,
      "outputs": [
        {
          "output_type": "execute_result",
          "data": {
            "text/plain": [
              "[0.1902, 0.3298509803921568, 0.3642166666666667]"
            ]
          },
          "metadata": {
            "tags": []
          },
          "execution_count": 135
        }
      ]
    },
    {
      "cell_type": "code",
      "metadata": {
        "colab": {
          "base_uri": "https://localhost:8080/",
          "height": 197
        },
        "id": "8WlRG6gSisWu",
        "outputId": "f33481a8-cd8c-426b-d4c9-1681cedc310d"
      },
      "source": [
        "moving_mean_df.tail()"
      ],
      "execution_count": 134,
      "outputs": [
        {
          "output_type": "execute_result",
          "data": {
            "text/html": [
              "<div>\n",
              "<style scoped>\n",
              "    .dataframe tbody tr th:only-of-type {\n",
              "        vertical-align: middle;\n",
              "    }\n",
              "\n",
              "    .dataframe tbody tr th {\n",
              "        vertical-align: top;\n",
              "    }\n",
              "\n",
              "    .dataframe thead th {\n",
              "        text-align: right;\n",
              "    }\n",
              "</style>\n",
              "<table border=\"1\" class=\"dataframe\">\n",
              "  <thead>\n",
              "    <tr style=\"text-align: right;\">\n",
              "      <th></th>\n",
              "      <th>Avg_Session_Time</th>\n",
              "      <th>MAU</th>\n",
              "      <th>Open_Rate</th>\n",
              "      <th>Reach</th>\n",
              "      <th>Total_Session_Time</th>\n",
              "      <th>Uninstall_Rate</th>\n",
              "    </tr>\n",
              "  </thead>\n",
              "  <tbody>\n",
              "    <tr>\n",
              "      <th>1411787</th>\n",
              "      <td>2.516407</td>\n",
              "      <td>0.526071</td>\n",
              "      <td>2.216667</td>\n",
              "      <td>0.000015</td>\n",
              "      <td>3.627134</td>\n",
              "      <td>0.286679</td>\n",
              "    </tr>\n",
              "    <tr>\n",
              "      <th>1411788</th>\n",
              "      <td>2.083096</td>\n",
              "      <td>0.447291</td>\n",
              "      <td>2.216667</td>\n",
              "      <td>0.000008</td>\n",
              "      <td>2.760512</td>\n",
              "      <td>0.210673</td>\n",
              "    </tr>\n",
              "    <tr>\n",
              "      <th>1411789</th>\n",
              "      <td>3.365095</td>\n",
              "      <td>0.442460</td>\n",
              "      <td>1.933333</td>\n",
              "      <td>0.000005</td>\n",
              "      <td>4.087097</td>\n",
              "      <td>0.262723</td>\n",
              "    </tr>\n",
              "    <tr>\n",
              "      <th>1411790</th>\n",
              "      <td>1.853486</td>\n",
              "      <td>0.360405</td>\n",
              "      <td>1.633333</td>\n",
              "      <td>0.000008</td>\n",
              "      <td>2.241403</td>\n",
              "      <td>0.152737</td>\n",
              "    </tr>\n",
              "    <tr>\n",
              "      <th>1411791</th>\n",
              "      <td>2.623304</td>\n",
              "      <td>0.423172</td>\n",
              "      <td>1.740252</td>\n",
              "      <td>0.000028</td>\n",
              "      <td>4.056568</td>\n",
              "      <td>0.201386</td>\n",
              "    </tr>\n",
              "  </tbody>\n",
              "</table>\n",
              "</div>"
            ],
            "text/plain": [
              "         Avg_Session_Time       MAU  ...  Total_Session_Time  Uninstall_Rate\n",
              "1411787          2.516407  0.526071  ...            3.627134        0.286679\n",
              "1411788          2.083096  0.447291  ...            2.760512        0.210673\n",
              "1411789          3.365095  0.442460  ...            4.087097        0.262723\n",
              "1411790          1.853486  0.360405  ...            2.241403        0.152737\n",
              "1411791          2.623304  0.423172  ...            4.056568        0.201386\n",
              "\n",
              "[5 rows x 6 columns]"
            ]
          },
          "metadata": {
            "tags": []
          },
          "execution_count": 134
        }
      ]
    },
    {
      "cell_type": "code",
      "metadata": {
        "id": "lNd8qWU4mIlO"
      },
      "source": [
        ""
      ],
      "execution_count": null,
      "outputs": []
    }
  ]
}