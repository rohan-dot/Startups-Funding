{
  "nbformat": 4,
  "nbformat_minor": 0,
  "metadata": {
    "colab": {
      "name": "Rohan Datta Purkayastha - Team 4 - Startup Funding Prediction - Capstone Project.ipynb",
      "provenance": [],
      "collapsed_sections": [],
      "include_colab_link": true
    },
    "kernelspec": {
      "display_name": "Python 3",
      "language": "python",
      "name": "python3"
    },
    "language_info": {
      "codemirror_mode": {
        "name": "ipython",
        "version": 3
      },
      "file_extension": ".py",
      "mimetype": "text/x-python",
      "name": "python",
      "nbconvert_exporter": "python",
      "pygments_lexer": "ipython3",
      "version": "3.6.6"
    }
  },
  "cells": [
    {
      "cell_type": "markdown",
      "metadata": {
        "id": "view-in-github",
        "colab_type": "text"
      },
      "source": [
        "<a href=\"https://colab.research.google.com/github/rohan-dot/Startups-Funding/blob/main/Rohan_Datta_Purkayastha_Team_4_Startup_Funding_Prediction_Capstone_Project.ipynb\" target=\"_parent\"><img src=\"https://colab.research.google.com/assets/colab-badge.svg\" alt=\"Open In Colab\"/></a>"
      ]
    },
    {
      "cell_type": "markdown",
      "metadata": {
        "id": "tOGC-qoyhJeX"
      },
      "source": [
        "# <b><u> Project Title : Predict whether a startup will get funded in the next three months. </u></b>"
      ]
    },
    {
      "cell_type": "markdown",
      "metadata": {
        "id": "Y06xIdG26kRF"
      },
      "source": [
        "## <b> Problem Description </b>\n",
        "\n",
        "### There has been a staggering growth in investments in young age startups in the last 5 years. A lot of big VC firms are increasingly getting interested in the startup funding space. You are given a task to predict whether a startup will get a funding in the next three months using app traction data and startup details. \n",
        "\n",
        "### This funding can be either seed funding, Series A, Series B, so on and so forth. \n"
      ]
    },
    {
      "cell_type": "markdown",
      "metadata": {
        "id": "AlLxAtlziMbP"
      },
      "source": [
        "## <b> Data Description </b>\r\n",
        "\r\n",
        "### In the file, you have monthly data for the startup entities which contains information about various app traction performance.\r\n",
        "\r\n",
        "### <b> In the given data, you have the following variables:\r\n",
        "* ### UUID - Unique Identifier for a single startup entity\r\n",
        "* ### Month - Month for which the app data is available\r\n",
        "* ### Application category - The category to which an application belongs to\r\n",
        "* ### Avg Session Time - Average time of the session in app during the month\r\n",
        "* ### Total Session Time - Avg session time / user x Open rate = Total session time\r\n",
        "* ### Open_rate - No of times app has been opened by a user\r\n",
        "* ### Reach - % of devices having the app installed\r\n",
        "* ### Funding_ind - Indicator for a funded startup\r\n",
        "\r\n",
        "## <b>Following variables are only available for funded startups:</b>\r\n",
        "* ### Business models -  The business model of the startup                            \r\n",
        "* ### City - the city where the startup is based out of\r\n",
        "* ### Company Stage - the stage of the company\r\n",
        "* ### Feed name - \r\n",
        "* ### Founded year - The year in which the startup was founded\r\n",
        "* ### Latest funded date - The latest date in which the startup was funded\r\n",
        "* ### MAU - % of reach which opened the app in the given month( Monthly Active Users)\r\n",
        "* ### Overview - Overview of the startup\r\n",
        "* ### Practice Areas - \r\n",
        "* ### Region - Region where the startup operates\r\n",
        "* ### Total Funding - Total amount of funding till the month\r\n",
        "* ### Uninstall Rate - Rate of uninstall of applications.\r\n",
        "\r\n"
      ]
    },
    {
      "cell_type": "code",
      "metadata": {
        "colab": {
          "base_uri": "https://localhost:8080/"
        },
        "id": "PzO6J1ejf3Bi",
        "outputId": "f56319e9-0910-454a-e928-f255fafcf42b"
      },
      "source": [
        "from google.colab import drive\n",
        "drive.mount('/content/drive')"
      ],
      "execution_count": null,
      "outputs": [
        {
          "output_type": "stream",
          "text": [
            "Go to this URL in a browser: https://accounts.google.com/o/oauth2/auth?client_id=947318989803-6bn6qk8qdgf4n4g3pfee6491hc0brc4i.apps.googleusercontent.com&redirect_uri=urn%3aietf%3awg%3aoauth%3a2.0%3aoob&scope=email%20https%3a%2f%2fwww.googleapis.com%2fauth%2fdocs.test%20https%3a%2f%2fwww.googleapis.com%2fauth%2fdrive%20https%3a%2f%2fwww.googleapis.com%2fauth%2fdrive.photos.readonly%20https%3a%2f%2fwww.googleapis.com%2fauth%2fpeopleapi.readonly%20https%3a%2f%2fwww.googleapis.com%2fauth%2fdrive.activity.readonly&response_type=code\n",
            "\n",
            "Enter your authorization code:\n",
            "4/1AY0e-g5RpLmCxlc2FIziGkzKwfZToxTCiD_9LRBBcSE7AKcuk8b5eo5cN-8\n",
            "Mounted at /content/drive\n"
          ],
          "name": "stdout"
        }
      ]
    },
    {
      "cell_type": "code",
      "metadata": {
        "id": "9UsEVDJvgQFK"
      },
      "source": [
        "import pandas as pd\r\n",
        "import numpy as np\r\n",
        "import matplotlib.pyplot as plt\r\n",
        "import seaborn as sns"
      ],
      "execution_count": null,
      "outputs": []
    },
    {
      "cell_type": "code",
      "metadata": {
        "id": "s8X1K_AGf3zq"
      },
      "source": [
        "df = pd.read_csv('/content/drive/MyDrive/Alma Submission/AlmaBetter/Cohort Aravali/Module 5/Week 1/Day 1/data_driven_investment_1.csv')"
      ],
      "execution_count": null,
      "outputs": []
    },
    {
      "cell_type": "code",
      "metadata": {
        "colab": {
          "base_uri": "https://localhost:8080/",
          "height": 301
        },
        "id": "V3TZWkOfgfw7",
        "outputId": "4fc4dd9c-ef03-4b24-a957-8544932aa009"
      },
      "source": [
        "df.head()"
      ],
      "execution_count": null,
      "outputs": [
        {
          "output_type": "execute_result",
          "data": {
            "text/html": [
              "<div>\n",
              "<style scoped>\n",
              "    .dataframe tbody tr th:only-of-type {\n",
              "        vertical-align: middle;\n",
              "    }\n",
              "\n",
              "    .dataframe tbody tr th {\n",
              "        vertical-align: top;\n",
              "    }\n",
              "\n",
              "    .dataframe thead th {\n",
              "        text-align: right;\n",
              "    }\n",
              "</style>\n",
              "<table border=\"1\" class=\"dataframe\">\n",
              "  <thead>\n",
              "    <tr style=\"text-align: right;\">\n",
              "      <th></th>\n",
              "      <th>UUID</th>\n",
              "      <th>month</th>\n",
              "      <th>Application Category</th>\n",
              "      <th>Avg_Session_Time</th>\n",
              "      <th>Business Models</th>\n",
              "      <th>City</th>\n",
              "      <th>Company Stage</th>\n",
              "      <th>Feed Name</th>\n",
              "      <th>Founded Year</th>\n",
              "      <th>Latest Funded Date</th>\n",
              "      <th>MAU</th>\n",
              "      <th>Open_Rate</th>\n",
              "      <th>Overview</th>\n",
              "      <th>Practice Areas</th>\n",
              "      <th>Reach</th>\n",
              "      <th>Region</th>\n",
              "      <th>Total Funding (USD)</th>\n",
              "      <th>Total_Session_Time</th>\n",
              "      <th>Uninstall_Rate</th>\n",
              "      <th>funding_ind</th>\n",
              "    </tr>\n",
              "  </thead>\n",
              "  <tbody>\n",
              "    <tr>\n",
              "      <th>0</th>\n",
              "      <td>c1ad38e2d357610c129657d870ede902e8abfcb9</td>\n",
              "      <td>20180801</td>\n",
              "      <td>Books &amp; Reference</td>\n",
              "      <td>NaN</td>\n",
              "      <td>NaN</td>\n",
              "      <td>NaN</td>\n",
              "      <td>NaN</td>\n",
              "      <td>NaN</td>\n",
              "      <td>NaN</td>\n",
              "      <td>NaN</td>\n",
              "      <td>NaN</td>\n",
              "      <td>NaN</td>\n",
              "      <td>NaN</td>\n",
              "      <td>NaN</td>\n",
              "      <td>0.042963</td>\n",
              "      <td>National</td>\n",
              "      <td>NaN</td>\n",
              "      <td>NaN</td>\n",
              "      <td>0.024443</td>\n",
              "      <td>0</td>\n",
              "    </tr>\n",
              "    <tr>\n",
              "      <th>1</th>\n",
              "      <td>d841e670d9191f896a0cbc75961920887b375756</td>\n",
              "      <td>20180801</td>\n",
              "      <td>Books &amp; Reference</td>\n",
              "      <td>NaN</td>\n",
              "      <td>NaN</td>\n",
              "      <td>NaN</td>\n",
              "      <td>NaN</td>\n",
              "      <td>NaN</td>\n",
              "      <td>NaN</td>\n",
              "      <td>NaN</td>\n",
              "      <td>NaN</td>\n",
              "      <td>NaN</td>\n",
              "      <td>NaN</td>\n",
              "      <td>NaN</td>\n",
              "      <td>0.003244</td>\n",
              "      <td>National</td>\n",
              "      <td>NaN</td>\n",
              "      <td>NaN</td>\n",
              "      <td>0.009828</td>\n",
              "      <td>0</td>\n",
              "    </tr>\n",
              "    <tr>\n",
              "      <th>2</th>\n",
              "      <td>0a59d138b3eaccd22b665eae70c756fef83ddb63</td>\n",
              "      <td>20180801</td>\n",
              "      <td>Finance</td>\n",
              "      <td>NaN</td>\n",
              "      <td>NaN</td>\n",
              "      <td>NaN</td>\n",
              "      <td>NaN</td>\n",
              "      <td>NaN</td>\n",
              "      <td>NaN</td>\n",
              "      <td>NaN</td>\n",
              "      <td>NaN</td>\n",
              "      <td>NaN</td>\n",
              "      <td>NaN</td>\n",
              "      <td>NaN</td>\n",
              "      <td>0.000161</td>\n",
              "      <td>National</td>\n",
              "      <td>NaN</td>\n",
              "      <td>NaN</td>\n",
              "      <td>0.235294</td>\n",
              "      <td>0</td>\n",
              "    </tr>\n",
              "    <tr>\n",
              "      <th>3</th>\n",
              "      <td>0a59d138b3eaccd22b665eae70c756fef83ddb63</td>\n",
              "      <td>20180801</td>\n",
              "      <td>Books &amp; Reference</td>\n",
              "      <td>NaN</td>\n",
              "      <td>NaN</td>\n",
              "      <td>NaN</td>\n",
              "      <td>NaN</td>\n",
              "      <td>NaN</td>\n",
              "      <td>NaN</td>\n",
              "      <td>NaN</td>\n",
              "      <td>NaN</td>\n",
              "      <td>NaN</td>\n",
              "      <td>NaN</td>\n",
              "      <td>NaN</td>\n",
              "      <td>0.000077</td>\n",
              "      <td>National</td>\n",
              "      <td>NaN</td>\n",
              "      <td>NaN</td>\n",
              "      <td>0.350000</td>\n",
              "      <td>0</td>\n",
              "    </tr>\n",
              "    <tr>\n",
              "      <th>4</th>\n",
              "      <td>df5fb9891f77df24a91d039f1817c6c4e79244ef</td>\n",
              "      <td>20180801</td>\n",
              "      <td>Productivity</td>\n",
              "      <td>NaN</td>\n",
              "      <td>NaN</td>\n",
              "      <td>NaN</td>\n",
              "      <td>NaN</td>\n",
              "      <td>NaN</td>\n",
              "      <td>NaN</td>\n",
              "      <td>NaN</td>\n",
              "      <td>NaN</td>\n",
              "      <td>NaN</td>\n",
              "      <td>NaN</td>\n",
              "      <td>NaN</td>\n",
              "      <td>0.000939</td>\n",
              "      <td>National</td>\n",
              "      <td>NaN</td>\n",
              "      <td>NaN</td>\n",
              "      <td>0.312500</td>\n",
              "      <td>0</td>\n",
              "    </tr>\n",
              "  </tbody>\n",
              "</table>\n",
              "</div>"
            ],
            "text/plain": [
              "                                       UUID  ...  funding_ind\n",
              "0  c1ad38e2d357610c129657d870ede902e8abfcb9  ...            0\n",
              "1  d841e670d9191f896a0cbc75961920887b375756  ...            0\n",
              "2  0a59d138b3eaccd22b665eae70c756fef83ddb63  ...            0\n",
              "3  0a59d138b3eaccd22b665eae70c756fef83ddb63  ...            0\n",
              "4  df5fb9891f77df24a91d039f1817c6c4e79244ef  ...            0\n",
              "\n",
              "[5 rows x 20 columns]"
            ]
          },
          "metadata": {
            "tags": []
          },
          "execution_count": 52
        }
      ]
    },
    {
      "cell_type": "code",
      "metadata": {
        "colab": {
          "base_uri": "https://localhost:8080/",
          "height": 682
        },
        "id": "a5g966x6giiz",
        "outputId": "8f49cd8b-b61a-4330-91fa-5a4ab23d22cc"
      },
      "source": [
        "import missingno as msno\r\n",
        "msno.matrix(df)"
      ],
      "execution_count": null,
      "outputs": [
        {
          "output_type": "execute_result",
          "data": {
            "text/plain": [
              "<matplotlib.axes._subplots.AxesSubplot at 0x7f61a0ce0e10>"
            ]
          },
          "metadata": {
            "tags": []
          },
          "execution_count": 5
        },
        {
          "output_type": "display_data",
          "data": {
            "image/png": "[encoded data removed]",
            "text/plain": [
              "<Figure size 1800x720 with 2 Axes>"
            ]
          },
          "metadata": {
            "tags": []
          }
        }
      ]
    },
    {
      "cell_type": "code",
      "metadata": {
        "id": "nsSdLN9HnFaT"
      },
      "source": [
        "df.isnull().sum()"
      ],
      "execution_count": null,
      "outputs": []
    },
    {
      "cell_type": "markdown",
      "metadata": {
        "id": "Pismw2nekSjL"
      },
      "source": [
        "# We see a lot of missing values"
      ]
    },
    {
      "cell_type": "code",
      "metadata": {
        "id": "lc5_ZX2OkM8Z"
      },
      "source": [
        "df['Business Models'].value_counts()"
      ],
      "execution_count": null,
      "outputs": []
    },
    {
      "cell_type": "code",
      "metadata": {
        "colab": {
          "base_uri": "https://localhost:8080/"
        },
        "id": "h6sBz3mAmRGU",
        "outputId": "889d7a06-9a6e-49d3-9dc6-4cdaa55fa49e"
      },
      "source": [
        "df[~df['Business Models'].isna()]['City'].isnull().sum()"
      ],
      "execution_count": null,
      "outputs": [
        {
          "output_type": "execute_result",
          "data": {
            "text/plain": [
              "7"
            ]
          },
          "metadata": {
            "tags": []
          },
          "execution_count": 53
        }
      ]
    },
    {
      "cell_type": "code",
      "metadata": {
        "colab": {
          "base_uri": "https://localhost:8080/",
          "height": 364
        },
        "id": "w150KP5zoIMQ",
        "outputId": "51021d67-35fc-4020-eaa5-a3bae9528e4e"
      },
      "source": [
        "sns.countplot(df['funding_ind'])"
      ],
      "execution_count": null,
      "outputs": [
        {
          "output_type": "stream",
          "text": [
            "/usr/local/lib/python3.6/dist-packages/seaborn/_decorators.py:43: FutureWarning: Pass the following variable as a keyword arg: x. From version 0.12, the only valid positional argument will be `data`, and passing other arguments without an explicit keyword will result in an error or misinterpretation.\n",
            "  FutureWarning\n"
          ],
          "name": "stderr"
        },
        {
          "output_type": "execute_result",
          "data": {
            "text/plain": [
              "<matplotlib.axes._subplots.AxesSubplot at 0x7f618f7be240>"
            ]
          },
          "metadata": {
            "tags": []
          },
          "execution_count": 54
        },
        {
          "output_type": "display_data",
          "data": {
            "image/png": "[encoded data removed]",
            "text/plain": [
              "<Figure size 432x288 with 1 Axes>"
            ]
          },
          "metadata": {
            "tags": []
          }
        }
      ]
    },
    {
      "cell_type": "code",
      "metadata": {
        "colab": {
          "base_uri": "https://localhost:8080/"
        },
        "id": "XeCuioFfrYDK",
        "outputId": "a76d17d3-28e8-4564-d8c2-44158bec96e1"
      },
      "source": [
        "df['funding_ind'].value_counts()"
      ],
      "execution_count": null,
      "outputs": [
        {
          "output_type": "execute_result",
          "data": {
            "text/plain": [
              "0    1499761\n",
              "1       2414\n",
              "Name: funding_ind, dtype: int64"
            ]
          },
          "metadata": {
            "tags": []
          },
          "execution_count": 55
        }
      ]
    },
    {
      "cell_type": "code",
      "metadata": {
        "id": "lUt-cVcPsW5C"
      },
      "source": [
        "df['Region'].value_counts()"
      ],
      "execution_count": null,
      "outputs": []
    },
    {
      "cell_type": "code",
      "metadata": {
        "colab": {
          "base_uri": "https://localhost:8080/",
          "height": 363
        },
        "id": "BkP-Uputrhz4",
        "outputId": "ef8c48eb-59e1-4891-f45c-d058640432f1"
      },
      "source": [
        "sns.countplot(df['Region'])"
      ],
      "execution_count": null,
      "outputs": [
        {
          "output_type": "stream",
          "text": [
            "/usr/local/lib/python3.6/dist-packages/seaborn/_decorators.py:43: FutureWarning: Pass the following variable as a keyword arg: x. From version 0.12, the only valid positional argument will be `data`, and passing other arguments without an explicit keyword will result in an error or misinterpretation.\n",
            "  FutureWarning\n"
          ],
          "name": "stderr"
        },
        {
          "output_type": "execute_result",
          "data": {
            "text/plain": [
              "<matplotlib.axes._subplots.AxesSubplot at 0x7f61904115f8>"
            ]
          },
          "metadata": {
            "tags": []
          },
          "execution_count": 56
        },
        {
          "output_type": "display_data",
          "data": {
            "image/png": "[encoded data removed]",
            "text/plain": [
              "<Figure size 432x288 with 1 Axes>"
            ]
          },
          "metadata": {
            "tags": []
          }
        }
      ]
    },
    {
      "cell_type": "markdown",
      "metadata": {
        "id": "Rnx4nj6cshwL"
      },
      "source": [
        "# So, Region column contains only a single value i.e National"
      ]
    },
    {
      "cell_type": "code",
      "metadata": {
        "id": "UPR-JEIfsUfa"
      },
      "source": [
        "df.drop('Region', axis = 1, inplace = True)"
      ],
      "execution_count": null,
      "outputs": []
    },
    {
      "cell_type": "code",
      "metadata": {
        "colab": {
          "base_uri": "https://localhost:8080/"
        },
        "id": "3kL7mFnv9K5t",
        "outputId": "daa3571c-f362-4702-f854-df894483051d"
      },
      "source": [
        "df['month'].value_counts()"
      ],
      "execution_count": null,
      "outputs": [
        {
          "output_type": "execute_result",
          "data": {
            "text/plain": [
              "20200301    291864\n",
              "20200401    269271\n",
              "20200601    163918\n",
              "20200501    153682\n",
              "20200201    104186\n",
              "20200101    102074\n",
              "20191201     96524\n",
              "20191101     82189\n",
              "20191001     16080\n",
              "20190901     16080\n",
              "20190801     16080\n",
              "20190701     16080\n",
              "20190601     15954\n",
              "20190501     15803\n",
              "20190401     15556\n",
              "20190301     15266\n",
              "20190201     14970\n",
              "20190101     14719\n",
              "20181201     14402\n",
              "20181101     14142\n",
              "20181001     13810\n",
              "20180901     13539\n",
              "20180801     13226\n",
              "20180701     12760\n",
              "Name: month, dtype: int64"
            ]
          },
          "metadata": {
            "tags": []
          },
          "execution_count": 14
        }
      ]
    },
    {
      "cell_type": "code",
      "metadata": {
        "colab": {
          "base_uri": "https://localhost:8080/",
          "height": 301
        },
        "id": "-60XlpSqHTIH",
        "outputId": "648b9cec-5413-421f-a1eb-9cc47dc56fb9"
      },
      "source": [
        "df.head()"
      ],
      "execution_count": null,
      "outputs": [
        {
          "output_type": "execute_result",
          "data": {
            "text/html": [
              "<div>\n",
              "<style scoped>\n",
              "    .dataframe tbody tr th:only-of-type {\n",
              "        vertical-align: middle;\n",
              "    }\n",
              "\n",
              "    .dataframe tbody tr th {\n",
              "        vertical-align: top;\n",
              "    }\n",
              "\n",
              "    .dataframe thead th {\n",
              "        text-align: right;\n",
              "    }\n",
              "</style>\n",
              "<table border=\"1\" class=\"dataframe\">\n",
              "  <thead>\n",
              "    <tr style=\"text-align: right;\">\n",
              "      <th></th>\n",
              "      <th>UUID</th>\n",
              "      <th>month</th>\n",
              "      <th>Application Category</th>\n",
              "      <th>Avg_Session_Time</th>\n",
              "      <th>Business Models</th>\n",
              "      <th>City</th>\n",
              "      <th>Company Stage</th>\n",
              "      <th>Feed Name</th>\n",
              "      <th>Founded Year</th>\n",
              "      <th>Latest Funded Date</th>\n",
              "      <th>MAU</th>\n",
              "      <th>Open_Rate</th>\n",
              "      <th>Overview</th>\n",
              "      <th>Practice Areas</th>\n",
              "      <th>Reach</th>\n",
              "      <th>Total Funding (USD)</th>\n",
              "      <th>Total_Session_Time</th>\n",
              "      <th>Uninstall_Rate</th>\n",
              "      <th>funding_ind</th>\n",
              "    </tr>\n",
              "  </thead>\n",
              "  <tbody>\n",
              "    <tr>\n",
              "      <th>0</th>\n",
              "      <td>c1ad38e2d357610c129657d870ede902e8abfcb9</td>\n",
              "      <td>20180801</td>\n",
              "      <td>Books &amp; Reference</td>\n",
              "      <td>NaN</td>\n",
              "      <td>NaN</td>\n",
              "      <td>NaN</td>\n",
              "      <td>NaN</td>\n",
              "      <td>NaN</td>\n",
              "      <td>NaN</td>\n",
              "      <td>NaN</td>\n",
              "      <td>NaN</td>\n",
              "      <td>NaN</td>\n",
              "      <td>NaN</td>\n",
              "      <td>NaN</td>\n",
              "      <td>0.042963</td>\n",
              "      <td>NaN</td>\n",
              "      <td>NaN</td>\n",
              "      <td>0.024443</td>\n",
              "      <td>0</td>\n",
              "    </tr>\n",
              "    <tr>\n",
              "      <th>1</th>\n",
              "      <td>d841e670d9191f896a0cbc75961920887b375756</td>\n",
              "      <td>20180801</td>\n",
              "      <td>Books &amp; Reference</td>\n",
              "      <td>NaN</td>\n",
              "      <td>NaN</td>\n",
              "      <td>NaN</td>\n",
              "      <td>NaN</td>\n",
              "      <td>NaN</td>\n",
              "      <td>NaN</td>\n",
              "      <td>NaN</td>\n",
              "      <td>NaN</td>\n",
              "      <td>NaN</td>\n",
              "      <td>NaN</td>\n",
              "      <td>NaN</td>\n",
              "      <td>0.003244</td>\n",
              "      <td>NaN</td>\n",
              "      <td>NaN</td>\n",
              "      <td>0.009828</td>\n",
              "      <td>0</td>\n",
              "    </tr>\n",
              "    <tr>\n",
              "      <th>2</th>\n",
              "      <td>0a59d138b3eaccd22b665eae70c756fef83ddb63</td>\n",
              "      <td>20180801</td>\n",
              "      <td>Finance</td>\n",
              "      <td>NaN</td>\n",
              "      <td>NaN</td>\n",
              "      <td>NaN</td>\n",
              "      <td>NaN</td>\n",
              "      <td>NaN</td>\n",
              "      <td>NaN</td>\n",
              "      <td>NaN</td>\n",
              "      <td>NaN</td>\n",
              "      <td>NaN</td>\n",
              "      <td>NaN</td>\n",
              "      <td>NaN</td>\n",
              "      <td>0.000161</td>\n",
              "      <td>NaN</td>\n",
              "      <td>NaN</td>\n",
              "      <td>0.235294</td>\n",
              "      <td>0</td>\n",
              "    </tr>\n",
              "    <tr>\n",
              "      <th>3</th>\n",
              "      <td>0a59d138b3eaccd22b665eae70c756fef83ddb63</td>\n",
              "      <td>20180801</td>\n",
              "      <td>Books &amp; Reference</td>\n",
              "      <td>NaN</td>\n",
              "      <td>NaN</td>\n",
              "      <td>NaN</td>\n",
              "      <td>NaN</td>\n",
              "      <td>NaN</td>\n",
              "      <td>NaN</td>\n",
              "      <td>NaN</td>\n",
              "      <td>NaN</td>\n",
              "      <td>NaN</td>\n",
              "      <td>NaN</td>\n",
              "      <td>NaN</td>\n",
              "      <td>0.000077</td>\n",
              "      <td>NaN</td>\n",
              "      <td>NaN</td>\n",
              "      <td>0.350000</td>\n",
              "      <td>0</td>\n",
              "    </tr>\n",
              "    <tr>\n",
              "      <th>4</th>\n",
              "      <td>df5fb9891f77df24a91d039f1817c6c4e79244ef</td>\n",
              "      <td>20180801</td>\n",
              "      <td>Productivity</td>\n",
              "      <td>NaN</td>\n",
              "      <td>NaN</td>\n",
              "      <td>NaN</td>\n",
              "      <td>NaN</td>\n",
              "      <td>NaN</td>\n",
              "      <td>NaN</td>\n",
              "      <td>NaN</td>\n",
              "      <td>NaN</td>\n",
              "      <td>NaN</td>\n",
              "      <td>NaN</td>\n",
              "      <td>NaN</td>\n",
              "      <td>0.000939</td>\n",
              "      <td>NaN</td>\n",
              "      <td>NaN</td>\n",
              "      <td>0.312500</td>\n",
              "      <td>0</td>\n",
              "    </tr>\n",
              "  </tbody>\n",
              "</table>\n",
              "</div>"
            ],
            "text/plain": [
              "                                       UUID  ...  funding_ind\n",
              "0  c1ad38e2d357610c129657d870ede902e8abfcb9  ...            0\n",
              "1  d841e670d9191f896a0cbc75961920887b375756  ...            0\n",
              "2  0a59d138b3eaccd22b665eae70c756fef83ddb63  ...            0\n",
              "3  0a59d138b3eaccd22b665eae70c756fef83ddb63  ...            0\n",
              "4  df5fb9891f77df24a91d039f1817c6c4e79244ef  ...            0\n",
              "\n",
              "[5 rows x 19 columns]"
            ]
          },
          "metadata": {
            "tags": []
          },
          "execution_count": 15
        }
      ]
    },
    {
      "cell_type": "code",
      "metadata": {
        "colab": {
          "base_uri": "https://localhost:8080/",
          "height": 301
        },
        "id": "UtVYXv82HpaG",
        "outputId": "ed2888f2-1e5c-4b9e-87f9-d52903ccece3"
      },
      "source": [
        "df.head()"
      ],
      "execution_count": null,
      "outputs": [
        {
          "output_type": "execute_result",
          "data": {
            "text/html": [
              "<div>\n",
              "<style scoped>\n",
              "    .dataframe tbody tr th:only-of-type {\n",
              "        vertical-align: middle;\n",
              "    }\n",
              "\n",
              "    .dataframe tbody tr th {\n",
              "        vertical-align: top;\n",
              "    }\n",
              "\n",
              "    .dataframe thead th {\n",
              "        text-align: right;\n",
              "    }\n",
              "</style>\n",
              "<table border=\"1\" class=\"dataframe\">\n",
              "  <thead>\n",
              "    <tr style=\"text-align: right;\">\n",
              "      <th></th>\n",
              "      <th>UUID</th>\n",
              "      <th>month</th>\n",
              "      <th>Application Category</th>\n",
              "      <th>Avg_Session_Time</th>\n",
              "      <th>Business Models</th>\n",
              "      <th>City</th>\n",
              "      <th>Company Stage</th>\n",
              "      <th>Feed Name</th>\n",
              "      <th>Founded Year</th>\n",
              "      <th>Latest Funded Date</th>\n",
              "      <th>MAU</th>\n",
              "      <th>Open_Rate</th>\n",
              "      <th>Overview</th>\n",
              "      <th>Practice Areas</th>\n",
              "      <th>Reach</th>\n",
              "      <th>Total Funding (USD)</th>\n",
              "      <th>Total_Session_Time</th>\n",
              "      <th>Uninstall_Rate</th>\n",
              "      <th>funding_ind</th>\n",
              "    </tr>\n",
              "  </thead>\n",
              "  <tbody>\n",
              "    <tr>\n",
              "      <th>0</th>\n",
              "      <td>c1ad38e2d357610c129657d870ede902e8abfcb9</td>\n",
              "      <td>20180801</td>\n",
              "      <td>Books &amp; Reference</td>\n",
              "      <td>NaN</td>\n",
              "      <td>NaN</td>\n",
              "      <td>NaN</td>\n",
              "      <td>NaN</td>\n",
              "      <td>NaN</td>\n",
              "      <td>NaN</td>\n",
              "      <td>NaN</td>\n",
              "      <td>NaN</td>\n",
              "      <td>NaN</td>\n",
              "      <td>NaN</td>\n",
              "      <td>NaN</td>\n",
              "      <td>0.042963</td>\n",
              "      <td>NaN</td>\n",
              "      <td>NaN</td>\n",
              "      <td>0.024443</td>\n",
              "      <td>0</td>\n",
              "    </tr>\n",
              "    <tr>\n",
              "      <th>1</th>\n",
              "      <td>d841e670d9191f896a0cbc75961920887b375756</td>\n",
              "      <td>20180801</td>\n",
              "      <td>Books &amp; Reference</td>\n",
              "      <td>NaN</td>\n",
              "      <td>NaN</td>\n",
              "      <td>NaN</td>\n",
              "      <td>NaN</td>\n",
              "      <td>NaN</td>\n",
              "      <td>NaN</td>\n",
              "      <td>NaN</td>\n",
              "      <td>NaN</td>\n",
              "      <td>NaN</td>\n",
              "      <td>NaN</td>\n",
              "      <td>NaN</td>\n",
              "      <td>0.003244</td>\n",
              "      <td>NaN</td>\n",
              "      <td>NaN</td>\n",
              "      <td>0.009828</td>\n",
              "      <td>0</td>\n",
              "    </tr>\n",
              "    <tr>\n",
              "      <th>2</th>\n",
              "      <td>0a59d138b3eaccd22b665eae70c756fef83ddb63</td>\n",
              "      <td>20180801</td>\n",
              "      <td>Finance</td>\n",
              "      <td>NaN</td>\n",
              "      <td>NaN</td>\n",
              "      <td>NaN</td>\n",
              "      <td>NaN</td>\n",
              "      <td>NaN</td>\n",
              "      <td>NaN</td>\n",
              "      <td>NaN</td>\n",
              "      <td>NaN</td>\n",
              "      <td>NaN</td>\n",
              "      <td>NaN</td>\n",
              "      <td>NaN</td>\n",
              "      <td>0.000161</td>\n",
              "      <td>NaN</td>\n",
              "      <td>NaN</td>\n",
              "      <td>0.235294</td>\n",
              "      <td>0</td>\n",
              "    </tr>\n",
              "    <tr>\n",
              "      <th>3</th>\n",
              "      <td>0a59d138b3eaccd22b665eae70c756fef83ddb63</td>\n",
              "      <td>20180801</td>\n",
              "      <td>Books &amp; Reference</td>\n",
              "      <td>NaN</td>\n",
              "      <td>NaN</td>\n",
              "      <td>NaN</td>\n",
              "      <td>NaN</td>\n",
              "      <td>NaN</td>\n",
              "      <td>NaN</td>\n",
              "      <td>NaN</td>\n",
              "      <td>NaN</td>\n",
              "      <td>NaN</td>\n",
              "      <td>NaN</td>\n",
              "      <td>NaN</td>\n",
              "      <td>0.000077</td>\n",
              "      <td>NaN</td>\n",
              "      <td>NaN</td>\n",
              "      <td>0.350000</td>\n",
              "      <td>0</td>\n",
              "    </tr>\n",
              "    <tr>\n",
              "      <th>4</th>\n",
              "      <td>df5fb9891f77df24a91d039f1817c6c4e79244ef</td>\n",
              "      <td>20180801</td>\n",
              "      <td>Productivity</td>\n",
              "      <td>NaN</td>\n",
              "      <td>NaN</td>\n",
              "      <td>NaN</td>\n",
              "      <td>NaN</td>\n",
              "      <td>NaN</td>\n",
              "      <td>NaN</td>\n",
              "      <td>NaN</td>\n",
              "      <td>NaN</td>\n",
              "      <td>NaN</td>\n",
              "      <td>NaN</td>\n",
              "      <td>NaN</td>\n",
              "      <td>0.000939</td>\n",
              "      <td>NaN</td>\n",
              "      <td>NaN</td>\n",
              "      <td>0.312500</td>\n",
              "      <td>0</td>\n",
              "    </tr>\n",
              "  </tbody>\n",
              "</table>\n",
              "</div>"
            ],
            "text/plain": [
              "                                       UUID  ...  funding_ind\n",
              "0  c1ad38e2d357610c129657d870ede902e8abfcb9  ...            0\n",
              "1  d841e670d9191f896a0cbc75961920887b375756  ...            0\n",
              "2  0a59d138b3eaccd22b665eae70c756fef83ddb63  ...            0\n",
              "3  0a59d138b3eaccd22b665eae70c756fef83ddb63  ...            0\n",
              "4  df5fb9891f77df24a91d039f1817c6c4e79244ef  ...            0\n",
              "\n",
              "[5 rows x 19 columns]"
            ]
          },
          "metadata": {
            "tags": []
          },
          "execution_count": 16
        }
      ]
    },
    {
      "cell_type": "code",
      "metadata": {
        "colab": {
          "base_uri": "https://localhost:8080/"
        },
        "id": "LK98GCt_H5fT",
        "outputId": "cfdfe1d5-6e41-4856-fa07-10ed88b62c0f"
      },
      "source": [
        "df.dtypes"
      ],
      "execution_count": null,
      "outputs": [
        {
          "output_type": "execute_result",
          "data": {
            "text/plain": [
              "UUID                     object\n",
              "month                     int64\n",
              "Application Category     object\n",
              "Avg_Session_Time        float64\n",
              "Business Models          object\n",
              "City                     object\n",
              "Company Stage            object\n",
              "Feed Name                object\n",
              "Founded Year            float64\n",
              "Latest Funded Date       object\n",
              "MAU                     float64\n",
              "Open_Rate               float64\n",
              "Overview                 object\n",
              "Practice Areas           object\n",
              "Reach                   float64\n",
              "Total Funding (USD)     float64\n",
              "Total_Session_Time      float64\n",
              "Uninstall_Rate          float64\n",
              "funding_ind               int64\n",
              "dtype: object"
            ]
          },
          "metadata": {
            "tags": []
          },
          "execution_count": 17
        }
      ]
    },
    {
      "cell_type": "code",
      "metadata": {
        "id": "V38e1Xmy9RAr"
      },
      "source": [
        "# Assign Date column to Date(Year-Month) instead of (Year-Month-Day)\r\n",
        "# this column will be useful in analysis and visualization\r\n",
        "df['Month'] = df['month'].astype('string').apply(lambda x: (str(x)[4:6]))"
      ],
      "execution_count": null,
      "outputs": []
    },
    {
      "cell_type": "code",
      "metadata": {
        "id": "rJMWMbq6HnW1"
      },
      "source": [
        "df['Month'] = df['Month'].astype('int')"
      ],
      "execution_count": null,
      "outputs": []
    },
    {
      "cell_type": "code",
      "metadata": {
        "id": "qeO0rdZwQR3M"
      },
      "source": [
        "import datetime"
      ],
      "execution_count": null,
      "outputs": []
    },
    {
      "cell_type": "code",
      "metadata": {
        "id": "e7V-TW_eQGZC"
      },
      "source": [
        "df['Month_Name'] = df['Month'].apply(lambda x: datetime.date(1900, x, 1).strftime('%b'))"
      ],
      "execution_count": null,
      "outputs": []
    },
    {
      "cell_type": "code",
      "metadata": {
        "colab": {
          "base_uri": "https://localhost:8080/"
        },
        "id": "8EBmev2IQP4t",
        "outputId": "9c1eac6d-db2e-4ee1-b3ed-f9e95ffae0ea"
      },
      "source": [
        "df['Month_Name']"
      ],
      "execution_count": null,
      "outputs": [
        {
          "output_type": "execute_result",
          "data": {
            "text/plain": [
              "0          Aug\n",
              "1          Aug\n",
              "2          Aug\n",
              "3          Aug\n",
              "4          Aug\n",
              "          ... \n",
              "1502170    Jan\n",
              "1502171    Jan\n",
              "1502172    Jan\n",
              "1502173    Jan\n",
              "1502174    Jan\n",
              "Name: Month_Name, Length: 1502175, dtype: object"
            ]
          },
          "metadata": {
            "tags": []
          },
          "execution_count": 22
        }
      ]
    },
    {
      "cell_type": "code",
      "metadata": {
        "colab": {
          "base_uri": "https://localhost:8080/",
          "height": 407
        },
        "id": "ZVMhAZSjQjEi",
        "outputId": "3476710e-dd4f-43cc-dbf0-a02239f0fb37"
      },
      "source": [
        "plt.figure(figsize=(10,5))\r\n",
        "sns.countplot(df['Month_Name'])"
      ],
      "execution_count": null,
      "outputs": [
        {
          "output_type": "stream",
          "text": [
            "/usr/local/lib/python3.6/dist-packages/seaborn/_decorators.py:43: FutureWarning: Pass the following variable as a keyword arg: x. From version 0.12, the only valid positional argument will be `data`, and passing other arguments without an explicit keyword will result in an error or misinterpretation.\n",
            "  FutureWarning\n"
          ],
          "name": "stderr"
        },
        {
          "output_type": "execute_result",
          "data": {
            "text/plain": [
              "<matplotlib.axes._subplots.AxesSubplot at 0x7f61b532c588>"
            ]
          },
          "metadata": {
            "tags": []
          },
          "execution_count": 23
        },
        {
          "output_type": "display_data",
          "data": {
            "image/png": "[encoded data removed]",
            "text/plain": [
              "<Figure size 720x360 with 1 Axes>"
            ]
          },
          "metadata": {
            "tags": []
          }
        }
      ]
    },
    {
      "cell_type": "markdown",
      "metadata": {
        "id": "mSBD7NPZQ_Xd"
      },
      "source": [
        "# We have app datas mostly from March month"
      ]
    },
    {
      "cell_type": "code",
      "metadata": {
        "id": "fFi10rfPQoF0"
      },
      "source": [
        "plt.figure(figsize=(30,5))\r\n",
        "sns.countplot(df['Application Category'])"
      ],
      "execution_count": null,
      "outputs": []
    },
    {
      "cell_type": "code",
      "metadata": {
        "colab": {
          "base_uri": "https://localhost:8080/"
        },
        "id": "AAgS97WHSwlk",
        "outputId": "c5cd7642-f220-4e64-b21d-cc64ee5195e7"
      },
      "source": [
        "df[~df['Avg_Session_Time'].isna()]['Avg_Session_Time']"
      ],
      "execution_count": null,
      "outputs": [
        {
          "output_type": "execute_result",
          "data": {
            "text/plain": [
              "29180      0.948620\n",
              "29181      1.285343\n",
              "29182      2.742948\n",
              "29183      1.040757\n",
              "29184      0.531213\n",
              "             ...   \n",
              "1487446    0.522869\n",
              "1487447    0.374176\n",
              "1487448    0.940800\n",
              "1487449    0.361347\n",
              "1487450    1.346300\n",
              "Name: Avg_Session_Time, Length: 877732, dtype: float64"
            ]
          },
          "metadata": {
            "tags": []
          },
          "execution_count": 25
        }
      ]
    },
    {
      "cell_type": "code",
      "metadata": {
        "id": "t5XUyIK4RzRN"
      },
      "source": [
        "plt.figure(figsize=(10,5))\r\n",
        "sns.kdeplot(df['Avg_Session_Time'].dropna())"
      ],
      "execution_count": null,
      "outputs": []
    },
    {
      "cell_type": "code",
      "metadata": {
        "id": "DtLE5KDfSnoa"
      },
      "source": [
        "df['Company Stage'].unique()"
      ],
      "execution_count": null,
      "outputs": []
    },
    {
      "cell_type": "code",
      "metadata": {
        "colab": {
          "base_uri": "https://localhost:8080/",
          "height": 407
        },
        "id": "ukq8NQjWey1C",
        "outputId": "1fc81d6f-ed82-4273-b88d-b3bf58180f2d"
      },
      "source": [
        "plt.figure(figsize=(10,5))\r\n",
        "sns.countplot(df['Company Stage'].dropna())"
      ],
      "execution_count": null,
      "outputs": [
        {
          "output_type": "stream",
          "text": [
            "/usr/local/lib/python3.6/dist-packages/seaborn/_decorators.py:43: FutureWarning: Pass the following variable as a keyword arg: x. From version 0.12, the only valid positional argument will be `data`, and passing other arguments without an explicit keyword will result in an error or misinterpretation.\n",
            "  FutureWarning\n"
          ],
          "name": "stderr"
        },
        {
          "output_type": "execute_result",
          "data": {
            "text/plain": [
              "<matplotlib.axes._subplots.AxesSubplot at 0x7f61912d0ef0>"
            ]
          },
          "metadata": {
            "tags": []
          },
          "execution_count": 28
        },
        {
          "output_type": "display_data",
          "data": {
            "image/png": "[encoded data removed]",
            "text/plain": [
              "<Figure size 720x360 with 1 Axes>"
            ]
          },
          "metadata": {
            "tags": []
          }
        }
      ]
    },
    {
      "cell_type": "code",
      "metadata": {
        "id": "fUBNMFZomXIV"
      },
      "source": [
        "plt.figure(figsize=(30,10))\r\n",
        "sns.countplot(df['City'].dropna())"
      ],
      "execution_count": null,
      "outputs": []
    },
    {
      "cell_type": "code",
      "metadata": {
        "id": "EQeFQo1-mzVq"
      },
      "source": [
        "df['Feed Name'].unique()"
      ],
      "execution_count": null,
      "outputs": []
    },
    {
      "cell_type": "code",
      "metadata": {
        "id": "HIU_cSjqn3WR"
      },
      "source": [
        "df['Business Models'].unique()"
      ],
      "execution_count": null,
      "outputs": []
    },
    {
      "cell_type": "markdown",
      "metadata": {
        "id": "stWptpTwogdV"
      },
      "source": [
        "# Business models and feed name are similar feature which are explaining the type of business."
      ]
    },
    {
      "cell_type": "code",
      "metadata": {
        "id": "EQcMRXhAoIMB"
      },
      "source": [
        "df['Founded Year'].unique()"
      ],
      "execution_count": null,
      "outputs": []
    },
    {
      "cell_type": "code",
      "metadata": {
        "colab": {
          "base_uri": "https://localhost:8080/"
        },
        "id": "XrxcVhEarvdv",
        "outputId": "f70f147d-4a26-4a45-aa7b-12a6e19627f2"
      },
      "source": [
        "df['Founded Year'].dtype"
      ],
      "execution_count": null,
      "outputs": [
        {
          "output_type": "execute_result",
          "data": {
            "text/plain": [
              "dtype('float64')"
            ]
          },
          "metadata": {
            "tags": []
          },
          "execution_count": 33
        }
      ]
    },
    {
      "cell_type": "code",
      "metadata": {
        "id": "IiMBR-FVr1Bp"
      },
      "source": [
        "plt.figure(figsize=(30,10))\r\n",
        "sns.countplot(df['Founded Year'].dropna())"
      ],
      "execution_count": null,
      "outputs": []
    },
    {
      "cell_type": "code",
      "metadata": {
        "id": "2sU-qCmjr_5O"
      },
      "source": [
        "funded_df = df[df['funding_ind']==1]\r\n",
        "not_funded_df = df[df['funding_ind']==0]"
      ],
      "execution_count": null,
      "outputs": []
    },
    {
      "cell_type": "code",
      "metadata": {
        "id": "FOVqlh3istRS"
      },
      "source": [
        "import missingno as msno\r\n",
        "msno.matrix(funded_df)"
      ],
      "execution_count": null,
      "outputs": []
    },
    {
      "cell_type": "code",
      "metadata": {
        "colab": {
          "base_uri": "https://localhost:8080/",
          "height": 682
        },
        "id": "pSceuSThzpXa",
        "outputId": "4a5524d1-1790-4281-978e-9b5ded6de073"
      },
      "source": [
        "import missingno as msno\r\n",
        "msno.matrix(not_funded_df)"
      ],
      "execution_count": null,
      "outputs": [
        {
          "output_type": "execute_result",
          "data": {
            "text/plain": [
              "<matplotlib.axes._subplots.AxesSubplot at 0x7f61904f0470>"
            ]
          },
          "metadata": {
            "tags": []
          },
          "execution_count": 37
        },
        {
          "output_type": "display_data",
          "data": {
            "image/png": "[encoded data removed]",
            "text/plain": [
              "<Figure size 1800x720 with 2 Axes>"
            ]
          },
          "metadata": {
            "tags": []
          }
        }
      ]
    },
    {
      "cell_type": "code",
      "metadata": {
        "id": "BF_0MleUs1UY"
      },
      "source": [
        "not_funded_df[~not_funded_df['Uninstall_Rate'].isna()]"
      ],
      "execution_count": null,
      "outputs": []
    },
    {
      "cell_type": "code",
      "metadata": {
        "id": "K5amYr5r2MXy"
      },
      "source": [
        "len(not_funded_df)"
      ],
      "execution_count": null,
      "outputs": []
    },
    {
      "cell_type": "code",
      "metadata": {
        "id": "oLq1N1p31xsj"
      },
      "source": [
        "not_funded_df.isnull().sum()"
      ],
      "execution_count": null,
      "outputs": []
    },
    {
      "cell_type": "code",
      "metadata": {
        "id": "WVhKgiiwyES6"
      },
      "source": [
        "not_funded_df.drop(['Business Models',\r\n",
        "'City',\r\n",
        "'Company Stage','Feed Name',\r\n",
        "'Founded Year',\r\n",
        "'Latest Funded Date',\r\n",
        "'MAU',\r\n",
        "'Overview',\r\n",
        "'Practice Areas','Total Funding (USD)'\r\n",
        "], axis = 1, inplace = True)"
      ],
      "execution_count": null,
      "outputs": []
    },
    {
      "cell_type": "code",
      "metadata": {
        "id": "rvvpkKPq3xQ9"
      },
      "source": [
        "import missingno as msno\r\n",
        "msno.matrix(not_funded_df)"
      ],
      "execution_count": null,
      "outputs": []
    },
    {
      "cell_type": "code",
      "metadata": {
        "colab": {
          "background_save": true
        },
        "id": "Y9LiGP7sjTV_",
        "outputId": "5dc37622-32a8-4cb5-f809-cf427f86d1ef"
      },
      "source": [
        "df.head()"
      ],
      "execution_count": null,
      "outputs": [
        {
          "output_type": "execute_result",
          "data": {
            "text/html": [
              "<div>\n",
              "<style scoped>\n",
              "    .dataframe tbody tr th:only-of-type {\n",
              "        vertical-align: middle;\n",
              "    }\n",
              "\n",
              "    .dataframe tbody tr th {\n",
              "        vertical-align: top;\n",
              "    }\n",
              "\n",
              "    .dataframe thead th {\n",
              "        text-align: right;\n",
              "    }\n",
              "</style>\n",
              "<table border=\"1\" class=\"dataframe\">\n",
              "  <thead>\n",
              "    <tr style=\"text-align: right;\">\n",
              "      <th></th>\n",
              "      <th>UUID</th>\n",
              "      <th>month</th>\n",
              "      <th>Application Category</th>\n",
              "      <th>Avg_Session_Time</th>\n",
              "      <th>Business Models</th>\n",
              "      <th>City</th>\n",
              "      <th>Company Stage</th>\n",
              "      <th>Feed Name</th>\n",
              "      <th>Founded Year</th>\n",
              "      <th>Latest Funded Date</th>\n",
              "      <th>MAU</th>\n",
              "      <th>Open_Rate</th>\n",
              "      <th>Overview</th>\n",
              "      <th>Practice Areas</th>\n",
              "      <th>Reach</th>\n",
              "      <th>Total Funding (USD)</th>\n",
              "      <th>Total_Session_Time</th>\n",
              "      <th>Uninstall_Rate</th>\n",
              "      <th>funding_ind</th>\n",
              "      <th>Month</th>\n",
              "      <th>Month_Name</th>\n",
              "    </tr>\n",
              "  </thead>\n",
              "  <tbody>\n",
              "    <tr>\n",
              "      <th>0</th>\n",
              "      <td>c1ad38e2d357610c129657d870ede902e8abfcb9</td>\n",
              "      <td>20180801</td>\n",
              "      <td>Books &amp; Reference</td>\n",
              "      <td>NaN</td>\n",
              "      <td>NaN</td>\n",
              "      <td>NaN</td>\n",
              "      <td>NaN</td>\n",
              "      <td>NaN</td>\n",
              "      <td>NaN</td>\n",
              "      <td>NaN</td>\n",
              "      <td>NaN</td>\n",
              "      <td>NaN</td>\n",
              "      <td>NaN</td>\n",
              "      <td>NaN</td>\n",
              "      <td>0.042963</td>\n",
              "      <td>NaN</td>\n",
              "      <td>NaN</td>\n",
              "      <td>0.024443</td>\n",
              "      <td>0</td>\n",
              "      <td>8</td>\n",
              "      <td>Aug</td>\n",
              "    </tr>\n",
              "    <tr>\n",
              "      <th>1</th>\n",
              "      <td>d841e670d9191f896a0cbc75961920887b375756</td>\n",
              "      <td>20180801</td>\n",
              "      <td>Books &amp; Reference</td>\n",
              "      <td>NaN</td>\n",
              "      <td>NaN</td>\n",
              "      <td>NaN</td>\n",
              "      <td>NaN</td>\n",
              "      <td>NaN</td>\n",
              "      <td>NaN</td>\n",
              "      <td>NaN</td>\n",
              "      <td>NaN</td>\n",
              "      <td>NaN</td>\n",
              "      <td>NaN</td>\n",
              "      <td>NaN</td>\n",
              "      <td>0.003244</td>\n",
              "      <td>NaN</td>\n",
              "      <td>NaN</td>\n",
              "      <td>0.009828</td>\n",
              "      <td>0</td>\n",
              "      <td>8</td>\n",
              "      <td>Aug</td>\n",
              "    </tr>\n",
              "    <tr>\n",
              "      <th>2</th>\n",
              "      <td>0a59d138b3eaccd22b665eae70c756fef83ddb63</td>\n",
              "      <td>20180801</td>\n",
              "      <td>Finance</td>\n",
              "      <td>NaN</td>\n",
              "      <td>NaN</td>\n",
              "      <td>NaN</td>\n",
              "      <td>NaN</td>\n",
              "      <td>NaN</td>\n",
              "      <td>NaN</td>\n",
              "      <td>NaN</td>\n",
              "      <td>NaN</td>\n",
              "      <td>NaN</td>\n",
              "      <td>NaN</td>\n",
              "      <td>NaN</td>\n",
              "      <td>0.000161</td>\n",
              "      <td>NaN</td>\n",
              "      <td>NaN</td>\n",
              "      <td>0.235294</td>\n",
              "      <td>0</td>\n",
              "      <td>8</td>\n",
              "      <td>Aug</td>\n",
              "    </tr>\n",
              "    <tr>\n",
              "      <th>3</th>\n",
              "      <td>0a59d138b3eaccd22b665eae70c756fef83ddb63</td>\n",
              "      <td>20180801</td>\n",
              "      <td>Books &amp; Reference</td>\n",
              "      <td>NaN</td>\n",
              "      <td>NaN</td>\n",
              "      <td>NaN</td>\n",
              "      <td>NaN</td>\n",
              "      <td>NaN</td>\n",
              "      <td>NaN</td>\n",
              "      <td>NaN</td>\n",
              "      <td>NaN</td>\n",
              "      <td>NaN</td>\n",
              "      <td>NaN</td>\n",
              "      <td>NaN</td>\n",
              "      <td>0.000077</td>\n",
              "      <td>NaN</td>\n",
              "      <td>NaN</td>\n",
              "      <td>0.350000</td>\n",
              "      <td>0</td>\n",
              "      <td>8</td>\n",
              "      <td>Aug</td>\n",
              "    </tr>\n",
              "    <tr>\n",
              "      <th>4</th>\n",
              "      <td>df5fb9891f77df24a91d039f1817c6c4e79244ef</td>\n",
              "      <td>20180801</td>\n",
              "      <td>Productivity</td>\n",
              "      <td>NaN</td>\n",
              "      <td>NaN</td>\n",
              "      <td>NaN</td>\n",
              "      <td>NaN</td>\n",
              "      <td>NaN</td>\n",
              "      <td>NaN</td>\n",
              "      <td>NaN</td>\n",
              "      <td>NaN</td>\n",
              "      <td>NaN</td>\n",
              "      <td>NaN</td>\n",
              "      <td>NaN</td>\n",
              "      <td>0.000939</td>\n",
              "      <td>NaN</td>\n",
              "      <td>NaN</td>\n",
              "      <td>0.312500</td>\n",
              "      <td>0</td>\n",
              "      <td>8</td>\n",
              "      <td>Aug</td>\n",
              "    </tr>\n",
              "  </tbody>\n",
              "</table>\n",
              "</div>"
            ],
            "text/plain": [
              "                                       UUID     month  ... Month  Month_Name\n",
              "0  c1ad38e2d357610c129657d870ede902e8abfcb9  20180801  ...     8         Aug\n",
              "1  d841e670d9191f896a0cbc75961920887b375756  20180801  ...     8         Aug\n",
              "2  0a59d138b3eaccd22b665eae70c756fef83ddb63  20180801  ...     8         Aug\n",
              "3  0a59d138b3eaccd22b665eae70c756fef83ddb63  20180801  ...     8         Aug\n",
              "4  df5fb9891f77df24a91d039f1817c6c4e79244ef  20180801  ...     8         Aug\n",
              "\n",
              "[5 rows x 21 columns]"
            ]
          },
          "metadata": {
            "tags": []
          },
          "execution_count": 0
        }
      ]
    },
    {
      "cell_type": "markdown",
      "metadata": {
        "id": "NHaepTSrkWMj"
      },
      "source": [
        "# Lets analyse for a single startup"
      ]
    },
    {
      "cell_type": "code",
      "metadata": {
        "colab": {
          "background_save": true
        },
        "id": "bBL52OYkkkFx",
        "outputId": "ed181553-f9a7-4ee4-c89c-24ce19add304"
      },
      "source": [
        "funded_df.head()"
      ],
      "execution_count": null,
      "outputs": [
        {
          "output_type": "execute_result",
          "data": {
            "text/html": [
              "<div>\n",
              "<style scoped>\n",
              "    .dataframe tbody tr th:only-of-type {\n",
              "        vertical-align: middle;\n",
              "    }\n",
              "\n",
              "    .dataframe tbody tr th {\n",
              "        vertical-align: top;\n",
              "    }\n",
              "\n",
              "    .dataframe thead th {\n",
              "        text-align: right;\n",
              "    }\n",
              "</style>\n",
              "<table border=\"1\" class=\"dataframe\">\n",
              "  <thead>\n",
              "    <tr style=\"text-align: right;\">\n",
              "      <th></th>\n",
              "      <th>UUID</th>\n",
              "      <th>month</th>\n",
              "      <th>Application Category</th>\n",
              "      <th>Avg_Session_Time</th>\n",
              "      <th>Business Models</th>\n",
              "      <th>City</th>\n",
              "      <th>Company Stage</th>\n",
              "      <th>Feed Name</th>\n",
              "      <th>Founded Year</th>\n",
              "      <th>Latest Funded Date</th>\n",
              "      <th>MAU</th>\n",
              "      <th>Open_Rate</th>\n",
              "      <th>Overview</th>\n",
              "      <th>Practice Areas</th>\n",
              "      <th>Reach</th>\n",
              "      <th>Total Funding (USD)</th>\n",
              "      <th>Total_Session_Time</th>\n",
              "      <th>Uninstall_Rate</th>\n",
              "      <th>funding_ind</th>\n",
              "      <th>Month</th>\n",
              "      <th>Month_Name</th>\n",
              "    </tr>\n",
              "  </thead>\n",
              "  <tbody>\n",
              "    <tr>\n",
              "      <th>147</th>\n",
              "      <td>0de5c3fb8362718a71754d77061259c809266dd1</td>\n",
              "      <td>20180801</td>\n",
              "      <td>Parenting</td>\n",
              "      <td>NaN</td>\n",
              "      <td>Mom &amp; Baby Care &gt; Parenting &gt; Community</td>\n",
              "      <td>Mumbai</td>\n",
              "      <td>Series A</td>\n",
              "      <td>Mom &amp; Baby Care</td>\n",
              "      <td>2017.0</td>\n",
              "      <td>2018-09-10</td>\n",
              "      <td>NaN</td>\n",
              "      <td>NaN</td>\n",
              "      <td>Online parenting platform for pregnancy and ch...</td>\n",
              "      <td>Retail</td>\n",
              "      <td>0.000192</td>\n",
              "      <td>4087427.0</td>\n",
              "      <td>NaN</td>\n",
              "      <td>0.250000</td>\n",
              "      <td>1</td>\n",
              "      <td>8</td>\n",
              "      <td>Aug</td>\n",
              "    </tr>\n",
              "    <tr>\n",
              "      <th>212</th>\n",
              "      <td>1579dd1ed49a18f4f7520a91721c6e435f7c588e</td>\n",
              "      <td>20180801</td>\n",
              "      <td>Social</td>\n",
              "      <td>NaN</td>\n",
              "      <td>Social Platforms &gt; Women</td>\n",
              "      <td>Delhi</td>\n",
              "      <td>Series A</td>\n",
              "      <td>Social Platforms</td>\n",
              "      <td>2013.0</td>\n",
              "      <td>2018-09-19</td>\n",
              "      <td>NaN</td>\n",
              "      <td>NaN</td>\n",
              "      <td>Web and mobile app based community for women</td>\n",
              "      <td>Consumer\\nMedia &amp; Entertainment</td>\n",
              "      <td>0.000703</td>\n",
              "      <td>4473029.0</td>\n",
              "      <td>NaN</td>\n",
              "      <td>0.274336</td>\n",
              "      <td>1</td>\n",
              "      <td>8</td>\n",
              "      <td>Aug</td>\n",
              "    </tr>\n",
              "    <tr>\n",
              "      <th>2324</th>\n",
              "      <td>cae68bf26bf59549fac77ec044954f939ab28c28</td>\n",
              "      <td>20180801</td>\n",
              "      <td>Finance</td>\n",
              "      <td>NaN</td>\n",
              "      <td>Investment Tech &gt; Online Trading Platforms &gt; P...</td>\n",
              "      <td>Mumbai</td>\n",
              "      <td>Seed</td>\n",
              "      <td>Investment Tech</td>\n",
              "      <td>2016.0</td>\n",
              "      <td>2018-11-19</td>\n",
              "      <td>NaN</td>\n",
              "      <td>NaN</td>\n",
              "      <td>Online platform focused on mutual fund investm...</td>\n",
              "      <td>FinTech</td>\n",
              "      <td>0.000155</td>\n",
              "      <td>1220353.0</td>\n",
              "      <td>NaN</td>\n",
              "      <td>0.333333</td>\n",
              "      <td>1</td>\n",
              "      <td>8</td>\n",
              "      <td>Aug</td>\n",
              "    </tr>\n",
              "    <tr>\n",
              "      <th>2624</th>\n",
              "      <td>9d17e60de4c6bb504d258872b6cc0bffd09de171</td>\n",
              "      <td>20180801</td>\n",
              "      <td>Travel &amp; Local</td>\n",
              "      <td>NaN</td>\n",
              "      <td>Online Travel &gt; Transportation &gt; Train &gt; Onlin...</td>\n",
              "      <td>Bangalore</td>\n",
              "      <td>Seed</td>\n",
              "      <td>Online Travel</td>\n",
              "      <td>2014.0</td>\n",
              "      <td>2018-11-01</td>\n",
              "      <td>NaN</td>\n",
              "      <td>NaN</td>\n",
              "      <td>Online platform to book train tickets in India</td>\n",
              "      <td>Consumer\\nTravel and Hospitality Tech</td>\n",
              "      <td>0.995227</td>\n",
              "      <td>1156045.0</td>\n",
              "      <td>NaN</td>\n",
              "      <td>NaN</td>\n",
              "      <td>1</td>\n",
              "      <td>8</td>\n",
              "      <td>Aug</td>\n",
              "    </tr>\n",
              "    <tr>\n",
              "      <th>3374</th>\n",
              "      <td>7c3e0d6bec30478fb1e04249ac2e13016cf9c8db</td>\n",
              "      <td>20180801</td>\n",
              "      <td>Business</td>\n",
              "      <td>NaN</td>\n",
              "      <td>HRTech &gt; HRMS &gt; Suite &gt; Enterprise\\nCross Bord...</td>\n",
              "      <td>Gurgaon</td>\n",
              "      <td>Seed</td>\n",
              "      <td>HRTech\\nCross Border - India</td>\n",
              "      <td>1995.0</td>\n",
              "      <td>2018-10-01</td>\n",
              "      <td>NaN</td>\n",
              "      <td>NaN</td>\n",
              "      <td>SaaS based Human Resource Management</td>\n",
              "      <td>Enterprise Applications\\nGeo - India Tech</td>\n",
              "      <td>0.000161</td>\n",
              "      <td>34444.0</td>\n",
              "      <td>NaN</td>\n",
              "      <td>0.100000</td>\n",
              "      <td>1</td>\n",
              "      <td>8</td>\n",
              "      <td>Aug</td>\n",
              "    </tr>\n",
              "  </tbody>\n",
              "</table>\n",
              "</div>"
            ],
            "text/plain": [
              "                                          UUID     month  ... Month  Month_Name\n",
              "147   0de5c3fb8362718a71754d77061259c809266dd1  20180801  ...     8         Aug\n",
              "212   1579dd1ed49a18f4f7520a91721c6e435f7c588e  20180801  ...     8         Aug\n",
              "2324  cae68bf26bf59549fac77ec044954f939ab28c28  20180801  ...     8         Aug\n",
              "2624  9d17e60de4c6bb504d258872b6cc0bffd09de171  20180801  ...     8         Aug\n",
              "3374  7c3e0d6bec30478fb1e04249ac2e13016cf9c8db  20180801  ...     8         Aug\n",
              "\n",
              "[5 rows x 21 columns]"
            ]
          },
          "metadata": {
            "tags": []
          },
          "execution_count": 0
        }
      ]
    },
    {
      "cell_type": "code",
      "metadata": {
        "colab": {
          "background_save": true
        },
        "id": "lEMfm9thlPOE",
        "outputId": "c4cbf830-6520-4efc-f66d-b5d25a8b5869"
      },
      "source": [
        "df[df['UUID']=='0de5c3fb8362718a71754d77061259c809266dd1'].sort_values('month')"
      ],
      "execution_count": null,
      "outputs": [
        {
          "output_type": "execute_result",
          "data": {
            "text/html": [
              "<div>\n",
              "<style scoped>\n",
              "    .dataframe tbody tr th:only-of-type {\n",
              "        vertical-align: middle;\n",
              "    }\n",
              "\n",
              "    .dataframe tbody tr th {\n",
              "        vertical-align: top;\n",
              "    }\n",
              "\n",
              "    .dataframe thead th {\n",
              "        text-align: right;\n",
              "    }\n",
              "</style>\n",
              "<table border=\"1\" class=\"dataframe\">\n",
              "  <thead>\n",
              "    <tr style=\"text-align: right;\">\n",
              "      <th></th>\n",
              "      <th>UUID</th>\n",
              "      <th>month</th>\n",
              "      <th>Application Category</th>\n",
              "      <th>Avg_Session_Time</th>\n",
              "      <th>Business Models</th>\n",
              "      <th>City</th>\n",
              "      <th>Company Stage</th>\n",
              "      <th>Feed Name</th>\n",
              "      <th>Founded Year</th>\n",
              "      <th>Latest Funded Date</th>\n",
              "      <th>MAU</th>\n",
              "      <th>Open_Rate</th>\n",
              "      <th>Overview</th>\n",
              "      <th>Practice Areas</th>\n",
              "      <th>Reach</th>\n",
              "      <th>Total Funding (USD)</th>\n",
              "      <th>Total_Session_Time</th>\n",
              "      <th>Uninstall_Rate</th>\n",
              "      <th>funding_ind</th>\n",
              "      <th>Month</th>\n",
              "      <th>Month_Name</th>\n",
              "    </tr>\n",
              "  </thead>\n",
              "  <tbody>\n",
              "    <tr>\n",
              "      <th>792227</th>\n",
              "      <td>0de5c3fb8362718a71754d77061259c809266dd1</td>\n",
              "      <td>20180701</td>\n",
              "      <td>Parenting</td>\n",
              "      <td>NaN</td>\n",
              "      <td>Mom &amp; Baby Care &gt; Parenting &gt; Community</td>\n",
              "      <td>Mumbai</td>\n",
              "      <td>Series A</td>\n",
              "      <td>Mom &amp; Baby Care</td>\n",
              "      <td>2017.0</td>\n",
              "      <td>2018-09-10</td>\n",
              "      <td>NaN</td>\n",
              "      <td>NaN</td>\n",
              "      <td>Online parenting platform for pregnancy and ch...</td>\n",
              "      <td>Retail</td>\n",
              "      <td>0.000224</td>\n",
              "      <td>4087427.0</td>\n",
              "      <td>NaN</td>\n",
              "      <td>0.078947</td>\n",
              "      <td>1</td>\n",
              "      <td>7</td>\n",
              "      <td>Jul</td>\n",
              "    </tr>\n",
              "    <tr>\n",
              "      <th>147</th>\n",
              "      <td>0de5c3fb8362718a71754d77061259c809266dd1</td>\n",
              "      <td>20180801</td>\n",
              "      <td>Parenting</td>\n",
              "      <td>NaN</td>\n",
              "      <td>Mom &amp; Baby Care &gt; Parenting &gt; Community</td>\n",
              "      <td>Mumbai</td>\n",
              "      <td>Series A</td>\n",
              "      <td>Mom &amp; Baby Care</td>\n",
              "      <td>2017.0</td>\n",
              "      <td>2018-09-10</td>\n",
              "      <td>NaN</td>\n",
              "      <td>NaN</td>\n",
              "      <td>Online parenting platform for pregnancy and ch...</td>\n",
              "      <td>Retail</td>\n",
              "      <td>0.000192</td>\n",
              "      <td>4087427.0</td>\n",
              "      <td>NaN</td>\n",
              "      <td>0.250000</td>\n",
              "      <td>1</td>\n",
              "      <td>8</td>\n",
              "      <td>Aug</td>\n",
              "    </tr>\n",
              "    <tr>\n",
              "      <th>716058</th>\n",
              "      <td>0de5c3fb8362718a71754d77061259c809266dd1</td>\n",
              "      <td>20180901</td>\n",
              "      <td>Parenting</td>\n",
              "      <td>NaN</td>\n",
              "      <td>NaN</td>\n",
              "      <td>NaN</td>\n",
              "      <td>NaN</td>\n",
              "      <td>NaN</td>\n",
              "      <td>NaN</td>\n",
              "      <td>NaN</td>\n",
              "      <td>NaN</td>\n",
              "      <td>NaN</td>\n",
              "      <td>NaN</td>\n",
              "      <td>NaN</td>\n",
              "      <td>0.000278</td>\n",
              "      <td>NaN</td>\n",
              "      <td>NaN</td>\n",
              "      <td>0.158730</td>\n",
              "      <td>0</td>\n",
              "      <td>9</td>\n",
              "      <td>Sep</td>\n",
              "    </tr>\n",
              "    <tr>\n",
              "      <th>805002</th>\n",
              "      <td>0de5c3fb8362718a71754d77061259c809266dd1</td>\n",
              "      <td>20181001</td>\n",
              "      <td>Parenting</td>\n",
              "      <td>NaN</td>\n",
              "      <td>NaN</td>\n",
              "      <td>NaN</td>\n",
              "      <td>NaN</td>\n",
              "      <td>NaN</td>\n",
              "      <td>NaN</td>\n",
              "      <td>NaN</td>\n",
              "      <td>NaN</td>\n",
              "      <td>NaN</td>\n",
              "      <td>NaN</td>\n",
              "      <td>NaN</td>\n",
              "      <td>0.000864</td>\n",
              "      <td>NaN</td>\n",
              "      <td>NaN</td>\n",
              "      <td>0.127451</td>\n",
              "      <td>0</td>\n",
              "      <td>10</td>\n",
              "      <td>Oct</td>\n",
              "    </tr>\n",
              "    <tr>\n",
              "      <th>818813</th>\n",
              "      <td>0de5c3fb8362718a71754d77061259c809266dd1</td>\n",
              "      <td>20181101</td>\n",
              "      <td>Parenting</td>\n",
              "      <td>NaN</td>\n",
              "      <td>NaN</td>\n",
              "      <td>NaN</td>\n",
              "      <td>NaN</td>\n",
              "      <td>NaN</td>\n",
              "      <td>NaN</td>\n",
              "      <td>NaN</td>\n",
              "      <td>NaN</td>\n",
              "      <td>NaN</td>\n",
              "      <td>NaN</td>\n",
              "      <td>NaN</td>\n",
              "      <td>0.001118</td>\n",
              "      <td>NaN</td>\n",
              "      <td>NaN</td>\n",
              "      <td>0.389899</td>\n",
              "      <td>0</td>\n",
              "      <td>11</td>\n",
              "      <td>Nov</td>\n",
              "    </tr>\n",
              "    <tr>\n",
              "      <th>745678</th>\n",
              "      <td>0de5c3fb8362718a71754d77061259c809266dd1</td>\n",
              "      <td>20181201</td>\n",
              "      <td>Parenting</td>\n",
              "      <td>NaN</td>\n",
              "      <td>NaN</td>\n",
              "      <td>NaN</td>\n",
              "      <td>NaN</td>\n",
              "      <td>NaN</td>\n",
              "      <td>NaN</td>\n",
              "      <td>NaN</td>\n",
              "      <td>NaN</td>\n",
              "      <td>NaN</td>\n",
              "      <td>NaN</td>\n",
              "      <td>NaN</td>\n",
              "      <td>0.001189</td>\n",
              "      <td>NaN</td>\n",
              "      <td>NaN</td>\n",
              "      <td>0.426136</td>\n",
              "      <td>0</td>\n",
              "      <td>12</td>\n",
              "      <td>Dec</td>\n",
              "    </tr>\n",
              "    <tr>\n",
              "      <th>1487611</th>\n",
              "      <td>0de5c3fb8362718a71754d77061259c809266dd1</td>\n",
              "      <td>20190101</td>\n",
              "      <td>Parenting</td>\n",
              "      <td>NaN</td>\n",
              "      <td>NaN</td>\n",
              "      <td>NaN</td>\n",
              "      <td>NaN</td>\n",
              "      <td>NaN</td>\n",
              "      <td>NaN</td>\n",
              "      <td>NaN</td>\n",
              "      <td>NaN</td>\n",
              "      <td>NaN</td>\n",
              "      <td>NaN</td>\n",
              "      <td>NaN</td>\n",
              "      <td>0.001187</td>\n",
              "      <td>NaN</td>\n",
              "      <td>NaN</td>\n",
              "      <td>0.203057</td>\n",
              "      <td>0</td>\n",
              "      <td>1</td>\n",
              "      <td>Jan</td>\n",
              "    </tr>\n",
              "    <tr>\n",
              "      <th>417724</th>\n",
              "      <td>0de5c3fb8362718a71754d77061259c809266dd1</td>\n",
              "      <td>20190201</td>\n",
              "      <td>Parenting</td>\n",
              "      <td>NaN</td>\n",
              "      <td>NaN</td>\n",
              "      <td>NaN</td>\n",
              "      <td>NaN</td>\n",
              "      <td>NaN</td>\n",
              "      <td>NaN</td>\n",
              "      <td>NaN</td>\n",
              "      <td>NaN</td>\n",
              "      <td>NaN</td>\n",
              "      <td>NaN</td>\n",
              "      <td>NaN</td>\n",
              "      <td>0.001225</td>\n",
              "      <td>NaN</td>\n",
              "      <td>NaN</td>\n",
              "      <td>0.289246</td>\n",
              "      <td>0</td>\n",
              "      <td>2</td>\n",
              "      <td>Feb</td>\n",
              "    </tr>\n",
              "    <tr>\n",
              "      <th>536884</th>\n",
              "      <td>0de5c3fb8362718a71754d77061259c809266dd1</td>\n",
              "      <td>20190301</td>\n",
              "      <td>Parenting</td>\n",
              "      <td>NaN</td>\n",
              "      <td>NaN</td>\n",
              "      <td>NaN</td>\n",
              "      <td>NaN</td>\n",
              "      <td>NaN</td>\n",
              "      <td>NaN</td>\n",
              "      <td>NaN</td>\n",
              "      <td>NaN</td>\n",
              "      <td>NaN</td>\n",
              "      <td>NaN</td>\n",
              "      <td>NaN</td>\n",
              "      <td>0.001013</td>\n",
              "      <td>NaN</td>\n",
              "      <td>NaN</td>\n",
              "      <td>0.234491</td>\n",
              "      <td>0</td>\n",
              "      <td>3</td>\n",
              "      <td>Mar</td>\n",
              "    </tr>\n",
              "    <tr>\n",
              "      <th>1104799</th>\n",
              "      <td>0de5c3fb8362718a71754d77061259c809266dd1</td>\n",
              "      <td>20190401</td>\n",
              "      <td>Parenting</td>\n",
              "      <td>NaN</td>\n",
              "      <td>NaN</td>\n",
              "      <td>NaN</td>\n",
              "      <td>NaN</td>\n",
              "      <td>NaN</td>\n",
              "      <td>NaN</td>\n",
              "      <td>NaN</td>\n",
              "      <td>NaN</td>\n",
              "      <td>NaN</td>\n",
              "      <td>NaN</td>\n",
              "      <td>NaN</td>\n",
              "      <td>0.000965</td>\n",
              "      <td>NaN</td>\n",
              "      <td>NaN</td>\n",
              "      <td>0.212963</td>\n",
              "      <td>0</td>\n",
              "      <td>4</td>\n",
              "      <td>Apr</td>\n",
              "    </tr>\n",
              "    <tr>\n",
              "      <th>1389629</th>\n",
              "      <td>0de5c3fb8362718a71754d77061259c809266dd1</td>\n",
              "      <td>20190501</td>\n",
              "      <td>Parenting</td>\n",
              "      <td>NaN</td>\n",
              "      <td>NaN</td>\n",
              "      <td>NaN</td>\n",
              "      <td>NaN</td>\n",
              "      <td>NaN</td>\n",
              "      <td>NaN</td>\n",
              "      <td>NaN</td>\n",
              "      <td>NaN</td>\n",
              "      <td>NaN</td>\n",
              "      <td>NaN</td>\n",
              "      <td>NaN</td>\n",
              "      <td>0.000943</td>\n",
              "      <td>NaN</td>\n",
              "      <td>NaN</td>\n",
              "      <td>0.222841</td>\n",
              "      <td>0</td>\n",
              "      <td>5</td>\n",
              "      <td>May</td>\n",
              "    </tr>\n",
              "    <tr>\n",
              "      <th>13390</th>\n",
              "      <td>0de5c3fb8362718a71754d77061259c809266dd1</td>\n",
              "      <td>20190601</td>\n",
              "      <td>Parenting</td>\n",
              "      <td>NaN</td>\n",
              "      <td>NaN</td>\n",
              "      <td>NaN</td>\n",
              "      <td>NaN</td>\n",
              "      <td>NaN</td>\n",
              "      <td>NaN</td>\n",
              "      <td>NaN</td>\n",
              "      <td>NaN</td>\n",
              "      <td>NaN</td>\n",
              "      <td>NaN</td>\n",
              "      <td>NaN</td>\n",
              "      <td>0.000899</td>\n",
              "      <td>NaN</td>\n",
              "      <td>NaN</td>\n",
              "      <td>0.207989</td>\n",
              "      <td>0</td>\n",
              "      <td>6</td>\n",
              "      <td>Jun</td>\n",
              "    </tr>\n",
              "    <tr>\n",
              "      <th>729616</th>\n",
              "      <td>0de5c3fb8362718a71754d77061259c809266dd1</td>\n",
              "      <td>20190701</td>\n",
              "      <td>Parenting</td>\n",
              "      <td>NaN</td>\n",
              "      <td>NaN</td>\n",
              "      <td>NaN</td>\n",
              "      <td>NaN</td>\n",
              "      <td>NaN</td>\n",
              "      <td>NaN</td>\n",
              "      <td>NaN</td>\n",
              "      <td>NaN</td>\n",
              "      <td>NaN</td>\n",
              "      <td>NaN</td>\n",
              "      <td>NaN</td>\n",
              "      <td>0.000879</td>\n",
              "      <td>NaN</td>\n",
              "      <td>NaN</td>\n",
              "      <td>0.236111</td>\n",
              "      <td>0</td>\n",
              "      <td>7</td>\n",
              "      <td>Jul</td>\n",
              "    </tr>\n",
              "    <tr>\n",
              "      <th>760098</th>\n",
              "      <td>0de5c3fb8362718a71754d77061259c809266dd1</td>\n",
              "      <td>20190801</td>\n",
              "      <td>Parenting</td>\n",
              "      <td>NaN</td>\n",
              "      <td>NaN</td>\n",
              "      <td>NaN</td>\n",
              "      <td>NaN</td>\n",
              "      <td>NaN</td>\n",
              "      <td>NaN</td>\n",
              "      <td>NaN</td>\n",
              "      <td>NaN</td>\n",
              "      <td>NaN</td>\n",
              "      <td>NaN</td>\n",
              "      <td>NaN</td>\n",
              "      <td>0.000820</td>\n",
              "      <td>NaN</td>\n",
              "      <td>NaN</td>\n",
              "      <td>0.229974</td>\n",
              "      <td>0</td>\n",
              "      <td>8</td>\n",
              "      <td>Aug</td>\n",
              "    </tr>\n",
              "    <tr>\n",
              "      <th>776178</th>\n",
              "      <td>0de5c3fb8362718a71754d77061259c809266dd1</td>\n",
              "      <td>20190901</td>\n",
              "      <td>Parenting</td>\n",
              "      <td>NaN</td>\n",
              "      <td>NaN</td>\n",
              "      <td>NaN</td>\n",
              "      <td>NaN</td>\n",
              "      <td>NaN</td>\n",
              "      <td>NaN</td>\n",
              "      <td>NaN</td>\n",
              "      <td>NaN</td>\n",
              "      <td>NaN</td>\n",
              "      <td>NaN</td>\n",
              "      <td>NaN</td>\n",
              "      <td>0.000751</td>\n",
              "      <td>NaN</td>\n",
              "      <td>NaN</td>\n",
              "      <td>0.188953</td>\n",
              "      <td>0</td>\n",
              "      <td>9</td>\n",
              "      <td>Sep</td>\n",
              "    </tr>\n",
              "    <tr>\n",
              "      <th>832970</th>\n",
              "      <td>0de5c3fb8362718a71754d77061259c809266dd1</td>\n",
              "      <td>20191001</td>\n",
              "      <td>Parenting</td>\n",
              "      <td>NaN</td>\n",
              "      <td>NaN</td>\n",
              "      <td>NaN</td>\n",
              "      <td>NaN</td>\n",
              "      <td>NaN</td>\n",
              "      <td>NaN</td>\n",
              "      <td>NaN</td>\n",
              "      <td>NaN</td>\n",
              "      <td>NaN</td>\n",
              "      <td>NaN</td>\n",
              "      <td>NaN</td>\n",
              "      <td>0.000714</td>\n",
              "      <td>NaN</td>\n",
              "      <td>NaN</td>\n",
              "      <td>0.198847</td>\n",
              "      <td>0</td>\n",
              "      <td>10</td>\n",
              "      <td>Oct</td>\n",
              "    </tr>\n",
              "    <tr>\n",
              "      <th>1405436</th>\n",
              "      <td>0de5c3fb8362718a71754d77061259c809266dd1</td>\n",
              "      <td>20191101</td>\n",
              "      <td>Parenting</td>\n",
              "      <td>1.526148</td>\n",
              "      <td>NaN</td>\n",
              "      <td>NaN</td>\n",
              "      <td>NaN</td>\n",
              "      <td>NaN</td>\n",
              "      <td>NaN</td>\n",
              "      <td>NaN</td>\n",
              "      <td>0.567976</td>\n",
              "      <td>2.709864</td>\n",
              "      <td>NaN</td>\n",
              "      <td>NaN</td>\n",
              "      <td>0.000739</td>\n",
              "      <td>NaN</td>\n",
              "      <td>4.180550</td>\n",
              "      <td>0.169051</td>\n",
              "      <td>0</td>\n",
              "      <td>11</td>\n",
              "      <td>Nov</td>\n",
              "    </tr>\n",
              "    <tr>\n",
              "      <th>29349</th>\n",
              "      <td>0de5c3fb8362718a71754d77061259c809266dd1</td>\n",
              "      <td>20191201</td>\n",
              "      <td>Parenting</td>\n",
              "      <td>1.542494</td>\n",
              "      <td>NaN</td>\n",
              "      <td>NaN</td>\n",
              "      <td>NaN</td>\n",
              "      <td>NaN</td>\n",
              "      <td>NaN</td>\n",
              "      <td>NaN</td>\n",
              "      <td>0.558333</td>\n",
              "      <td>3.819501</td>\n",
              "      <td>NaN</td>\n",
              "      <td>NaN</td>\n",
              "      <td>0.000576</td>\n",
              "      <td>NaN</td>\n",
              "      <td>6.197355</td>\n",
              "      <td>0.162416</td>\n",
              "      <td>0</td>\n",
              "      <td>12</td>\n",
              "      <td>Dec</td>\n",
              "    </tr>\n",
              "    <tr>\n",
              "      <th>849050</th>\n",
              "      <td>0de5c3fb8362718a71754d77061259c809266dd1</td>\n",
              "      <td>20200101</td>\n",
              "      <td>Parenting</td>\n",
              "      <td>1.468243</td>\n",
              "      <td>NaN</td>\n",
              "      <td>NaN</td>\n",
              "      <td>NaN</td>\n",
              "      <td>NaN</td>\n",
              "      <td>NaN</td>\n",
              "      <td>NaN</td>\n",
              "      <td>0.497835</td>\n",
              "      <td>2.476687</td>\n",
              "      <td>NaN</td>\n",
              "      <td>NaN</td>\n",
              "      <td>0.000493</td>\n",
              "      <td>NaN</td>\n",
              "      <td>3.628003</td>\n",
              "      <td>0.124304</td>\n",
              "      <td>0</td>\n",
              "      <td>1</td>\n",
              "      <td>Jan</td>\n",
              "    </tr>\n",
              "    <tr>\n",
              "      <th>432707</th>\n",
              "      <td>0de5c3fb8362718a71754d77061259c809266dd1</td>\n",
              "      <td>20200201</td>\n",
              "      <td>Parenting</td>\n",
              "      <td>1.313062</td>\n",
              "      <td>NaN</td>\n",
              "      <td>NaN</td>\n",
              "      <td>NaN</td>\n",
              "      <td>NaN</td>\n",
              "      <td>NaN</td>\n",
              "      <td>NaN</td>\n",
              "      <td>0.451923</td>\n",
              "      <td>2.757973</td>\n",
              "      <td>NaN</td>\n",
              "      <td>NaN</td>\n",
              "      <td>0.000416</td>\n",
              "      <td>NaN</td>\n",
              "      <td>3.657806</td>\n",
              "      <td>0.092213</td>\n",
              "      <td>0</td>\n",
              "      <td>2</td>\n",
              "      <td>Feb</td>\n",
              "    </tr>\n",
              "    <tr>\n",
              "      <th>129562</th>\n",
              "      <td>0de5c3fb8362718a71754d77061259c809266dd1</td>\n",
              "      <td>20200301</td>\n",
              "      <td>Parenting</td>\n",
              "      <td>1.306324</td>\n",
              "      <td>NaN</td>\n",
              "      <td>NaN</td>\n",
              "      <td>NaN</td>\n",
              "      <td>NaN</td>\n",
              "      <td>NaN</td>\n",
              "      <td>NaN</td>\n",
              "      <td>0.266667</td>\n",
              "      <td>2.202426</td>\n",
              "      <td>NaN</td>\n",
              "      <td>NaN</td>\n",
              "      <td>0.000317</td>\n",
              "      <td>NaN</td>\n",
              "      <td>2.850983</td>\n",
              "      <td>0.113333</td>\n",
              "      <td>0</td>\n",
              "      <td>3</td>\n",
              "      <td>Mar</td>\n",
              "    </tr>\n",
              "    <tr>\n",
              "      <th>1123700</th>\n",
              "      <td>0de5c3fb8362718a71754d77061259c809266dd1</td>\n",
              "      <td>20200401</td>\n",
              "      <td>Parenting</td>\n",
              "      <td>1.184179</td>\n",
              "      <td>NaN</td>\n",
              "      <td>NaN</td>\n",
              "      <td>NaN</td>\n",
              "      <td>NaN</td>\n",
              "      <td>NaN</td>\n",
              "      <td>NaN</td>\n",
              "      <td>0.469697</td>\n",
              "      <td>2.557143</td>\n",
              "      <td>NaN</td>\n",
              "      <td>NaN</td>\n",
              "      <td>0.000186</td>\n",
              "      <td>NaN</td>\n",
              "      <td>3.093547</td>\n",
              "      <td>0.097473</td>\n",
              "      <td>0</td>\n",
              "      <td>4</td>\n",
              "      <td>Apr</td>\n",
              "    </tr>\n",
              "    <tr>\n",
              "      <th>952047</th>\n",
              "      <td>0de5c3fb8362718a71754d77061259c809266dd1</td>\n",
              "      <td>20200501</td>\n",
              "      <td>Parenting</td>\n",
              "      <td>1.204655</td>\n",
              "      <td>NaN</td>\n",
              "      <td>NaN</td>\n",
              "      <td>NaN</td>\n",
              "      <td>NaN</td>\n",
              "      <td>NaN</td>\n",
              "      <td>NaN</td>\n",
              "      <td>0.471429</td>\n",
              "      <td>3.291601</td>\n",
              "      <td>NaN</td>\n",
              "      <td>NaN</td>\n",
              "      <td>0.000317</td>\n",
              "      <td>NaN</td>\n",
              "      <td>4.089295</td>\n",
              "      <td>0.103604</td>\n",
              "      <td>0</td>\n",
              "      <td>5</td>\n",
              "      <td>May</td>\n",
              "    </tr>\n",
              "    <tr>\n",
              "      <th>553328</th>\n",
              "      <td>0de5c3fb8362718a71754d77061259c809266dd1</td>\n",
              "      <td>20200601</td>\n",
              "      <td>Parenting</td>\n",
              "      <td>1.339234</td>\n",
              "      <td>NaN</td>\n",
              "      <td>NaN</td>\n",
              "      <td>NaN</td>\n",
              "      <td>NaN</td>\n",
              "      <td>NaN</td>\n",
              "      <td>NaN</td>\n",
              "      <td>0.492147</td>\n",
              "      <td>2.772866</td>\n",
              "      <td>NaN</td>\n",
              "      <td>NaN</td>\n",
              "      <td>0.000313</td>\n",
              "      <td>NaN</td>\n",
              "      <td>3.717699</td>\n",
              "      <td>0.070000</td>\n",
              "      <td>0</td>\n",
              "      <td>6</td>\n",
              "      <td>Jun</td>\n",
              "    </tr>\n",
              "  </tbody>\n",
              "</table>\n",
              "</div>"
            ],
            "text/plain": [
              "                                             UUID     month  ... Month  Month_Name\n",
              "792227   0de5c3fb8362718a71754d77061259c809266dd1  20180701  ...     7         Jul\n",
              "147      0de5c3fb8362718a71754d77061259c809266dd1  20180801  ...     8         Aug\n",
              "716058   0de5c3fb8362718a71754d77061259c809266dd1  20180901  ...     9         Sep\n",
              "805002   0de5c3fb8362718a71754d77061259c809266dd1  20181001  ...    10         Oct\n",
              "818813   0de5c3fb8362718a71754d77061259c809266dd1  20181101  ...    11         Nov\n",
              "745678   0de5c3fb8362718a71754d77061259c809266dd1  20181201  ...    12         Dec\n",
              "1487611  0de5c3fb8362718a71754d77061259c809266dd1  20190101  ...     1         Jan\n",
              "417724   0de5c3fb8362718a71754d77061259c809266dd1  20190201  ...     2         Feb\n",
              "536884   0de5c3fb8362718a71754d77061259c809266dd1  20190301  ...     3         Mar\n",
              "1104799  0de5c3fb8362718a71754d77061259c809266dd1  20190401  ...     4         Apr\n",
              "1389629  0de5c3fb8362718a71754d77061259c809266dd1  20190501  ...     5         May\n",
              "13390    0de5c3fb8362718a71754d77061259c809266dd1  20190601  ...     6         Jun\n",
              "729616   0de5c3fb8362718a71754d77061259c809266dd1  20190701  ...     7         Jul\n",
              "760098   0de5c3fb8362718a71754d77061259c809266dd1  20190801  ...     8         Aug\n",
              "776178   0de5c3fb8362718a71754d77061259c809266dd1  20190901  ...     9         Sep\n",
              "832970   0de5c3fb8362718a71754d77061259c809266dd1  20191001  ...    10         Oct\n",
              "1405436  0de5c3fb8362718a71754d77061259c809266dd1  20191101  ...    11         Nov\n",
              "29349    0de5c3fb8362718a71754d77061259c809266dd1  20191201  ...    12         Dec\n",
              "849050   0de5c3fb8362718a71754d77061259c809266dd1  20200101  ...     1         Jan\n",
              "432707   0de5c3fb8362718a71754d77061259c809266dd1  20200201  ...     2         Feb\n",
              "129562   0de5c3fb8362718a71754d77061259c809266dd1  20200301  ...     3         Mar\n",
              "1123700  0de5c3fb8362718a71754d77061259c809266dd1  20200401  ...     4         Apr\n",
              "952047   0de5c3fb8362718a71754d77061259c809266dd1  20200501  ...     5         May\n",
              "553328   0de5c3fb8362718a71754d77061259c809266dd1  20200601  ...     6         Jun\n",
              "\n",
              "[24 rows x 21 columns]"
            ]
          },
          "metadata": {
            "tags": []
          },
          "execution_count": 0
        }
      ]
    },
    {
      "cell_type": "code",
      "metadata": {
        "colab": {
          "base_uri": "https://localhost:8080/"
        },
        "id": "CRSz5scmmRVE",
        "outputId": "c9063baf-6fa4-4e3f-fa56-c865ec80fe36"
      },
      "source": [
        "len(df[df['UUID']=='0de5c3fb8362718a71754d77061259c809266dd1'].sort_values('month'))"
      ],
      "execution_count": null,
      "outputs": [
        {
          "output_type": "execute_result",
          "data": {
            "text/plain": [
              "24"
            ]
          },
          "metadata": {
            "tags": []
          },
          "execution_count": 46
        }
      ]
    },
    {
      "cell_type": "code",
      "metadata": {
        "colab": {
          "background_save": true
        },
        "id": "zmkFS4yMnDQW",
        "outputId": "1e4e0148-8cdc-4f8c-d511-ceddebb7d7fe"
      },
      "source": [
        "startup_info_df = df.groupby('UUID')['funding_ind','Reach','Uninstall_Rate'].sum().reset_index().rename(columns = {'funding_ind':'total_funding_ind','Reach':'total_Reach','uninstall_Rate':'total_Uninstall_Rate'})"
      ],
      "execution_count": null,
      "outputs": [
        {
          "output_type": "stream",
          "text": [
            "/usr/local/lib/python3.6/dist-packages/ipykernel_launcher.py:1: FutureWarning: Indexing with multiple keys (implicitly converted to a tuple of keys) will be deprecated, use a list instead.\n",
            "  \"\"\"Entry point for launching an IPython kernel.\n"
          ],
          "name": "stderr"
        }
      ]
    },
    {
      "cell_type": "code",
      "metadata": {
        "colab": {
          "base_uri": "https://localhost:8080/",
          "height": 406
        },
        "id": "Q8CJtWdpZsH_",
        "outputId": "8c3fa499-6d90-466e-f7fc-bf44a5a5c882"
      },
      "source": [
        "startup_info_df[startup_info_df['total_funding_ind']==0]"
      ],
      "execution_count": 60,
      "outputs": [
        {
          "output_type": "execute_result",
          "data": {
            "text/html": [
              "<div>\n",
              "<style scoped>\n",
              "    .dataframe tbody tr th:only-of-type {\n",
              "        vertical-align: middle;\n",
              "    }\n",
              "\n",
              "    .dataframe tbody tr th {\n",
              "        vertical-align: top;\n",
              "    }\n",
              "\n",
              "    .dataframe thead th {\n",
              "        text-align: right;\n",
              "    }\n",
              "</style>\n",
              "<table border=\"1\" class=\"dataframe\">\n",
              "  <thead>\n",
              "    <tr style=\"text-align: right;\">\n",
              "      <th></th>\n",
              "      <th>UUID</th>\n",
              "      <th>total_funding_ind</th>\n",
              "      <th>total_Reach</th>\n",
              "      <th>Uninstall_Rate</th>\n",
              "    </tr>\n",
              "  </thead>\n",
              "  <tbody>\n",
              "    <tr>\n",
              "      <th>0</th>\n",
              "      <td>000066f130e3b972364c505c805e2cddee68816d</td>\n",
              "      <td>0</td>\n",
              "      <td>5.586016e-06</td>\n",
              "      <td>0.00000</td>\n",
              "    </tr>\n",
              "    <tr>\n",
              "      <th>1</th>\n",
              "      <td>0000c4128bc8bb7dbfbc68f2afec85f485dbcc6b</td>\n",
              "      <td>0</td>\n",
              "      <td>3.022203e-07</td>\n",
              "      <td>0.00000</td>\n",
              "    </tr>\n",
              "    <tr>\n",
              "      <th>2</th>\n",
              "      <td>0000d19d56df9df1f266fc1fd245a37ff27fb1f3</td>\n",
              "      <td>0</td>\n",
              "      <td>2.859197e-05</td>\n",
              "      <td>0.00000</td>\n",
              "    </tr>\n",
              "    <tr>\n",
              "      <th>3</th>\n",
              "      <td>000127cbe70aeeab81734b68f409176bd1f1fde8</td>\n",
              "      <td>0</td>\n",
              "      <td>4.994291e-07</td>\n",
              "      <td>0.00000</td>\n",
              "    </tr>\n",
              "    <tr>\n",
              "      <th>4</th>\n",
              "      <td>00017d2a013dc43f0e34de1be4beca443713ec80</td>\n",
              "      <td>0</td>\n",
              "      <td>1.972088e-07</td>\n",
              "      <td>0.00000</td>\n",
              "    </tr>\n",
              "    <tr>\n",
              "      <th>...</th>\n",
              "      <td>...</td>\n",
              "      <td>...</td>\n",
              "      <td>...</td>\n",
              "      <td>...</td>\n",
              "    </tr>\n",
              "    <tr>\n",
              "      <th>147736</th>\n",
              "      <td>fffe942f59aaf6d4a4119f1538cda1e4e69e9d8d</td>\n",
              "      <td>0</td>\n",
              "      <td>6.387665e-06</td>\n",
              "      <td>0.00000</td>\n",
              "    </tr>\n",
              "    <tr>\n",
              "      <th>147737</th>\n",
              "      <td>ffff383fa0831aa6d2c5d9257194d0d89841422d</td>\n",
              "      <td>0</td>\n",
              "      <td>3.428290e-05</td>\n",
              "      <td>0.00000</td>\n",
              "    </tr>\n",
              "    <tr>\n",
              "      <th>147738</th>\n",
              "      <td>ffff67b9dfc65a5f1f146d681497a933998c2256</td>\n",
              "      <td>0</td>\n",
              "      <td>5.251331e-03</td>\n",
              "      <td>0.89541</td>\n",
              "    </tr>\n",
              "    <tr>\n",
              "      <th>147739</th>\n",
              "      <td>ffff74dbc24df592b6355be32f5a71adeefb3b48</td>\n",
              "      <td>0</td>\n",
              "      <td>1.208881e-06</td>\n",
              "      <td>0.00000</td>\n",
              "    </tr>\n",
              "    <tr>\n",
              "      <th>147740</th>\n",
              "      <td>ffff99e9bacd6d34b2823a0bac8b3e137d3b35ac</td>\n",
              "      <td>0</td>\n",
              "      <td>4.994291e-07</td>\n",
              "      <td>0.00000</td>\n",
              "    </tr>\n",
              "  </tbody>\n",
              "</table>\n",
              "<p>147215 rows × 4 columns</p>\n",
              "</div>"
            ],
            "text/plain": [
              "                                            UUID  ...  Uninstall_Rate\n",
              "0       000066f130e3b972364c505c805e2cddee68816d  ...         0.00000\n",
              "1       0000c4128bc8bb7dbfbc68f2afec85f485dbcc6b  ...         0.00000\n",
              "2       0000d19d56df9df1f266fc1fd245a37ff27fb1f3  ...         0.00000\n",
              "3       000127cbe70aeeab81734b68f409176bd1f1fde8  ...         0.00000\n",
              "4       00017d2a013dc43f0e34de1be4beca443713ec80  ...         0.00000\n",
              "...                                          ...  ...             ...\n",
              "147736  fffe942f59aaf6d4a4119f1538cda1e4e69e9d8d  ...         0.00000\n",
              "147737  ffff383fa0831aa6d2c5d9257194d0d89841422d  ...         0.00000\n",
              "147738  ffff67b9dfc65a5f1f146d681497a933998c2256  ...         0.89541\n",
              "147739  ffff74dbc24df592b6355be32f5a71adeefb3b48  ...         0.00000\n",
              "147740  ffff99e9bacd6d34b2823a0bac8b3e137d3b35ac  ...         0.00000\n",
              "\n",
              "[147215 rows x 4 columns]"
            ]
          },
          "metadata": {
            "tags": []
          },
          "execution_count": 60
        }
      ]
    },
    {
      "cell_type": "code",
      "metadata": {
        "colab": {
          "base_uri": "https://localhost:8080/",
          "height": 406
        },
        "id": "GG9RKYutpbKh",
        "outputId": "bcdaeb23-3cb1-42c7-ffa5-2db371e9ab4f"
      },
      "source": [
        "startup_info_df[startup_info_df['total_funding_ind']!=0].sort_values('total_funding_ind')"
      ],
      "execution_count": 58,
      "outputs": [
        {
          "output_type": "execute_result",
          "data": {
            "text/html": [
              "<div>\n",
              "<style scoped>\n",
              "    .dataframe tbody tr th:only-of-type {\n",
              "        vertical-align: middle;\n",
              "    }\n",
              "\n",
              "    .dataframe tbody tr th {\n",
              "        vertical-align: top;\n",
              "    }\n",
              "\n",
              "    .dataframe thead th {\n",
              "        text-align: right;\n",
              "    }\n",
              "</style>\n",
              "<table border=\"1\" class=\"dataframe\">\n",
              "  <thead>\n",
              "    <tr style=\"text-align: right;\">\n",
              "      <th></th>\n",
              "      <th>UUID</th>\n",
              "      <th>total_funding_ind</th>\n",
              "      <th>total_Reach</th>\n",
              "      <th>Uninstall_Rate</th>\n",
              "    </tr>\n",
              "  </thead>\n",
              "  <tbody>\n",
              "    <tr>\n",
              "      <th>147197</th>\n",
              "      <td>ff0e12c5ef5043e6dc8af2da006c45a918db9e79</td>\n",
              "      <td>1</td>\n",
              "      <td>3.215744e-03</td>\n",
              "      <td>5.005545</td>\n",
              "    </tr>\n",
              "    <tr>\n",
              "      <th>46497</th>\n",
              "      <td>50cdf7305b42ba4ffe94c7b482c7cbdd40963d69</td>\n",
              "      <td>1</td>\n",
              "      <td>9.975964e-06</td>\n",
              "      <td>0.000000</td>\n",
              "    </tr>\n",
              "    <tr>\n",
              "      <th>112161</th>\n",
              "      <td>c29793f678c58a15b41e2da3f390a26f4788bebb</td>\n",
              "      <td>1</td>\n",
              "      <td>4.672413e-01</td>\n",
              "      <td>1.041910</td>\n",
              "    </tr>\n",
              "    <tr>\n",
              "      <th>47785</th>\n",
              "      <td>52ee00cc6372077bcd4908da66fb2685cf22ed59</td>\n",
              "      <td>1</td>\n",
              "      <td>1.461693e-02</td>\n",
              "      <td>2.070117</td>\n",
              "    </tr>\n",
              "    <tr>\n",
              "      <th>49326</th>\n",
              "      <td>5597229475ccce5a3910ddfd4e392358aa5a6ee2</td>\n",
              "      <td>1</td>\n",
              "      <td>1.972088e-07</td>\n",
              "      <td>0.000000</td>\n",
              "    </tr>\n",
              "    <tr>\n",
              "      <th>...</th>\n",
              "      <td>...</td>\n",
              "      <td>...</td>\n",
              "      <td>...</td>\n",
              "      <td>...</td>\n",
              "    </tr>\n",
              "    <tr>\n",
              "      <th>99762</th>\n",
              "      <td>ad2d8839fe42dbe607420f282eeaa37443357064</td>\n",
              "      <td>58</td>\n",
              "      <td>6.549367e-04</td>\n",
              "      <td>0.000000</td>\n",
              "    </tr>\n",
              "    <tr>\n",
              "      <th>30390</th>\n",
              "      <td>34fb5fdd67d01b62867cd3496b1a73f0b8ae82a0</td>\n",
              "      <td>63</td>\n",
              "      <td>3.358232e-03</td>\n",
              "      <td>11.835856</td>\n",
              "    </tr>\n",
              "    <tr>\n",
              "      <th>30781</th>\n",
              "      <td>35aa937d2864c20166ec729fec962a1babc03994</td>\n",
              "      <td>67</td>\n",
              "      <td>3.344096e-03</td>\n",
              "      <td>0.000000</td>\n",
              "    </tr>\n",
              "    <tr>\n",
              "      <th>135684</th>\n",
              "      <td>eb4744e148c3ff8682cf6b1cc804cde4e6129de0</td>\n",
              "      <td>99</td>\n",
              "      <td>1.483486e-03</td>\n",
              "      <td>0.000000</td>\n",
              "    </tr>\n",
              "    <tr>\n",
              "      <th>130192</th>\n",
              "      <td>e1e00691667ef2640f2aa7bcc867cda73cd31f15</td>\n",
              "      <td>117</td>\n",
              "      <td>3.505149e-02</td>\n",
              "      <td>45.085884</td>\n",
              "    </tr>\n",
              "  </tbody>\n",
              "</table>\n",
              "<p>526 rows × 4 columns</p>\n",
              "</div>"
            ],
            "text/plain": [
              "                                            UUID  ...  Uninstall_Rate\n",
              "147197  ff0e12c5ef5043e6dc8af2da006c45a918db9e79  ...        5.005545\n",
              "46497   50cdf7305b42ba4ffe94c7b482c7cbdd40963d69  ...        0.000000\n",
              "112161  c29793f678c58a15b41e2da3f390a26f4788bebb  ...        1.041910\n",
              "47785   52ee00cc6372077bcd4908da66fb2685cf22ed59  ...        2.070117\n",
              "49326   5597229475ccce5a3910ddfd4e392358aa5a6ee2  ...        0.000000\n",
              "...                                          ...  ...             ...\n",
              "99762   ad2d8839fe42dbe607420f282eeaa37443357064  ...        0.000000\n",
              "30390   34fb5fdd67d01b62867cd3496b1a73f0b8ae82a0  ...       11.835856\n",
              "30781   35aa937d2864c20166ec729fec962a1babc03994  ...        0.000000\n",
              "135684  eb4744e148c3ff8682cf6b1cc804cde4e6129de0  ...        0.000000\n",
              "130192  e1e00691667ef2640f2aa7bcc867cda73cd31f15  ...       45.085884\n",
              "\n",
              "[526 rows x 4 columns]"
            ]
          },
          "metadata": {
            "tags": []
          },
          "execution_count": 58
        }
      ]
    },
    {
      "cell_type": "code",
      "metadata": {
        "id": "7xulFQdVkGQc"
      },
      "source": [
        "# Startup which never got funded\r\n",
        "never_funded_startup = '000066f130e3b972364c505c805e2cddee68816d'\r\n",
        "# Startup which got funded for only one time\r\n",
        "funded_startup_1 = 'ff0e12c5ef5043e6dc8af2da006c45a918db9e79'\r\n",
        "# Startup which got funded for 63 times\r\n",
        "funded_startup_63 = '34fb5fdd67d01b62867cd3496b1a73f0b8ae82a0'\r\n"
      ],
      "execution_count": 61,
      "outputs": []
    },
    {
      "cell_type": "code",
      "metadata": {
        "id": "GZ4rOF7ba1JR"
      },
      "source": [
        "never_funded_startup_df = df[df['UUID']==never_funded_startup]\r\n",
        "funded_startup_1_df = df[df['UUID']==funded_startup_1]\r\n",
        "funded_startup_63_df = df[df['UUID']==funded_startup_63]"
      ],
      "execution_count": 62,
      "outputs": []
    },
    {
      "cell_type": "code",
      "metadata": {
        "colab": {
          "base_uri": "https://localhost:8080/",
          "height": 352
        },
        "id": "2IHuuewWbQug",
        "outputId": "72bd4f6f-a750-4857-8e94-9323ec38401e"
      },
      "source": [
        "sns.lineplot(funded_startup_1_df['month'], funded_startup_1_df['funding_ind'])"
      ],
      "execution_count": 64,
      "outputs": [
        {
          "output_type": "stream",
          "text": [
            "/usr/local/lib/python3.6/dist-packages/seaborn/_decorators.py:43: FutureWarning: Pass the following variables as keyword args: x, y. From version 0.12, the only valid positional argument will be `data`, and passing other arguments without an explicit keyword will result in an error or misinterpretation.\n",
            "  FutureWarning\n"
          ],
          "name": "stderr"
        },
        {
          "output_type": "execute_result",
          "data": {
            "text/plain": [
              "<matplotlib.axes._subplots.AxesSubplot at 0x7f618355f080>"
            ]
          },
          "metadata": {
            "tags": []
          },
          "execution_count": 64
        },
        {
          "output_type": "display_data",
          "data": {
            "image/png": "[encoded data removed]",
            "text/plain": [
              "<Figure size 432x288 with 1 Axes>"
            ]
          },
          "metadata": {
            "tags": [],
            "needs_background": "light"
          }
        }
      ]
    },
    {
      "cell_type": "code",
      "metadata": {
        "colab": {
          "base_uri": "https://localhost:8080/",
          "height": 352
        },
        "id": "Ze-ccCjtbucP",
        "outputId": "1da2bfdd-6779-469b-9094-f191ab14315f"
      },
      "source": [
        "sns.lineplot(funded_startup_1_df['month'], funded_startup_1_df['Reach'])"
      ],
      "execution_count": 67,
      "outputs": [
        {
          "output_type": "stream",
          "text": [
            "/usr/local/lib/python3.6/dist-packages/seaborn/_decorators.py:43: FutureWarning: Pass the following variables as keyword args: x, y. From version 0.12, the only valid positional argument will be `data`, and passing other arguments without an explicit keyword will result in an error or misinterpretation.\n",
            "  FutureWarning\n"
          ],
          "name": "stderr"
        },
        {
          "output_type": "execute_result",
          "data": {
            "text/plain": [
              "<matplotlib.axes._subplots.AxesSubplot at 0x7f6183535e10>"
            ]
          },
          "metadata": {
            "tags": []
          },
          "execution_count": 67
        },
        {
          "output_type": "display_data",
          "data": {
            "image/png": "[encoded data removed]",
            "text/plain": [
              "<Figure size 432x288 with 1 Axes>"
            ]
          },
          "metadata": {
            "tags": [],
            "needs_background": "light"
          }
        }
      ]
    },
    {
      "cell_type": "code",
      "metadata": {
        "colab": {
          "base_uri": "https://localhost:8080/",
          "height": 352
        },
        "id": "N2yRf4UBb5yJ",
        "outputId": "fbe17cda-e90c-4d4e-f649-3294513193fb"
      },
      "source": [
        "sns.lineplot(funded_startup_1_df['month'], funded_startup_1_df['Uninstall_Rate'])"
      ],
      "execution_count": 69,
      "outputs": [
        {
          "output_type": "stream",
          "text": [
            "/usr/local/lib/python3.6/dist-packages/seaborn/_decorators.py:43: FutureWarning: Pass the following variables as keyword args: x, y. From version 0.12, the only valid positional argument will be `data`, and passing other arguments without an explicit keyword will result in an error or misinterpretation.\n",
            "  FutureWarning\n"
          ],
          "name": "stderr"
        },
        {
          "output_type": "execute_result",
          "data": {
            "text/plain": [
              "<matplotlib.axes._subplots.AxesSubplot at 0x7f618342e710>"
            ]
          },
          "metadata": {
            "tags": []
          },
          "execution_count": 69
        },
        {
          "output_type": "display_data",
          "data": {
            "image/png": "[encoded data removed]",
            "text/plain": [
              "<Figure size 432x288 with 1 Axes>"
            ]
          },
          "metadata": {
            "tags": [],
            "needs_background": "light"
          }
        }
      ]
    },
    {
      "cell_type": "code",
      "metadata": {
        "id": "U9afnNQsckUn"
      },
      "source": [
        ""
      ],
      "execution_count": null,
      "outputs": []
    }
  ]
}